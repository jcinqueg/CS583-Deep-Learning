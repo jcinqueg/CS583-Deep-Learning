{
 "cells": [
  {
   "cell_type": "markdown",
   "metadata": {},
   "source": [
    "# HM2: Numerical Optimization for Logistic Regression.\n",
    "\n",
    "### Name: John Cinquegrana\n"
   ]
  },
  {
   "cell_type": "markdown",
   "metadata": {},
   "source": [
    "## 0. You will do the following:\n",
    "\n",
    "1. Read the lecture note: [click here](https://github.com/wangshusen/DeepLearning/blob/master/LectureNotes/Logistic/paper/logistic.pdf)\n",
    "\n",
    "2. Read, complete, and run my code.\n",
    "\n",
    "3. **Implement mini-batch SGD** and evaluate the performance.\n",
    "\n",
    "4. Convert the .IPYNB file to .HTML file.\n",
    "\n",
    "    * The HTML file must contain **the code** and **the output after execution**.\n",
    "    \n",
    "    * Missing **the output after execution** will not be graded.\n",
    "    \n",
    "5. Upload this .HTML file to your Google Drive, Dropbox, or your Github repo.  (If you submit the file to Google Drive or Dropbox, you must make the file \"open-access\". The delay caused by \"deny of access\" may result in late penalty.)\n",
    "\n",
    "6. Submit the link to this .HTML file to Canvas.\n",
    "\n",
    "    * Example: https://github.com/wangshusen/CS583-2020S/blob/master/homework/HM2/HM2.html\n",
    "\n",
    "\n",
    "## Grading criteria:\n",
    "\n",
    "1. When computing the ```gradient``` and ```objective function value``` using a batch of samples, use **matrix-vector multiplication** rather than a FOR LOOP of **vector-vector multiplications**.\n",
    "\n",
    "2. Plot ```objective function value``` against ```epochs```. In the plot, compare GD, SGD, and MB-SGD (with $b=8$ and $b=64$). The plot must look reasonable."
   ]
  },
  {
   "cell_type": "markdown",
   "metadata": {},
   "source": [
    "# 1. Data processing\n",
    "\n",
    "- Download the Diabete dataset from https://www.csie.ntu.edu.tw/~cjlin/libsvmtools/datasets/binary/diabetes\n",
    "- Load the data using sklearn.\n",
    "- Preprocess the data."
   ]
  },
  {
   "cell_type": "markdown",
   "metadata": {},
   "source": [
    "## 1.1. Load the data"
   ]
  },
  {
   "cell_type": "code",
   "execution_count": 1,
   "metadata": {},
   "outputs": [
    {
     "output_type": "stream",
     "name": "stdout",
     "text": [
      "Shape of x: (768, 8)\nShape of y: (768,)\n"
     ]
    }
   ],
   "source": [
    "from sklearn import datasets\n",
    "import numpy\n",
    "\n",
    "x_sparse, y = datasets.load_svmlight_file('diabetes')\n",
    "x = x_sparse.todense()\n",
    "\n",
    "print('Shape of x: ' + str(x.shape))\n",
    "print('Shape of y: ' + str(y.shape))"
   ]
  },
  {
   "cell_type": "markdown",
   "metadata": {},
   "source": [
    "## 1.2. Partition to training and test sets"
   ]
  },
  {
   "cell_type": "code",
   "execution_count": 2,
   "metadata": {},
   "outputs": [
    {
     "output_type": "stream",
     "name": "stdout",
     "text": [
      "Shape of x_train: (640, 8)\nShape of x_test: (128, 8)\nShape of y_train: (640, 1)\nShape of y_test: (128, 1)\n"
     ]
    }
   ],
   "source": [
    "# partition the data to training and test sets\n",
    "n = x.shape[0]\n",
    "n_train = 640\n",
    "n_test = n - n_train\n",
    "\n",
    "rand_indices = numpy.random.permutation(n)\n",
    "train_indices = rand_indices[0:n_train]\n",
    "test_indices = rand_indices[n_train:n]\n",
    "\n",
    "x_train = x[train_indices, :]\n",
    "x_test = x[test_indices, :]\n",
    "y_train = y[train_indices].reshape(n_train, 1)\n",
    "y_test = y[test_indices].reshape(n_test, 1)\n",
    "\n",
    "print('Shape of x_train: ' + str(x_train.shape))\n",
    "print('Shape of x_test: ' + str(x_test.shape))\n",
    "print('Shape of y_train: ' + str(y_train.shape))\n",
    "print('Shape of y_test: ' + str(y_test.shape))"
   ]
  },
  {
   "cell_type": "markdown",
   "metadata": {},
   "source": [
    "## 1.3. Feature scaling"
   ]
  },
  {
   "cell_type": "markdown",
   "metadata": {},
   "source": [
    "Use the standardization to transform both training and test features"
   ]
  },
  {
   "cell_type": "code",
   "execution_count": 3,
   "metadata": {},
   "outputs": [
    {
     "output_type": "stream",
     "name": "stdout",
     "text": [
      "test mean = \n[[ 0.00789764 -0.02743155  0.0476124   0.02339278  0.04079976 -0.04346047\n  -0.16511135 -0.07954297]]\ntest std = \n[[1.00715441 0.99917241 0.85498449 0.91411887 1.04135151 0.96194243\n  0.89934171 0.92868495]]\n"
     ]
    }
   ],
   "source": [
    "# Standardization\n",
    "import numpy\n",
    "\n",
    "# calculate mu and sig using the training set\n",
    "d = x_train.shape[1]\n",
    "mu = numpy.mean(x_train, axis=0).reshape(1, d)\n",
    "sig = numpy.std(x_train, axis=0).reshape(1, d)\n",
    "\n",
    "# transform the training features\n",
    "x_train = (x_train - mu) / (sig + 1E-6)\n",
    "\n",
    "# transform the test features\n",
    "x_test = (x_test - mu) / (sig + 1E-6)\n",
    "\n",
    "print('test mean = ')\n",
    "print(numpy.mean(x_test, axis=0))\n",
    "\n",
    "print('test std = ')\n",
    "print(numpy.std(x_test, axis=0))"
   ]
  },
  {
   "cell_type": "markdown",
   "metadata": {},
   "source": [
    "## 1.4. Add a dimension of all ones"
   ]
  },
  {
   "cell_type": "code",
   "execution_count": 4,
   "metadata": {},
   "outputs": [
    {
     "output_type": "stream",
     "name": "stdout",
     "text": [
      "Shape of x_train: (640, 9)\nShape of x_test: (128, 9)\n"
     ]
    }
   ],
   "source": [
    "n_train, d = x_train.shape\n",
    "x_train = numpy.concatenate((x_train, numpy.ones((n_train, 1))), axis=1)\n",
    "\n",
    "n_test, d = x_test.shape\n",
    "x_test = numpy.concatenate((x_test, numpy.ones((n_test, 1))), axis=1)\n",
    "\n",
    "print('Shape of x_train: ' + str(x_train.shape))\n",
    "print('Shape of x_test: ' + str(x_test.shape))"
   ]
  },
  {
   "cell_type": "markdown",
   "metadata": {},
   "source": [
    "# 2. Logistic regression model\n",
    "\n",
    "The objective function is $Q (w; X, y) = \\frac{1}{n} \\sum_{i=1}^n \\log \\Big( 1 + \\exp \\big( - y_i x_i^T w \\big) \\Big) + \\frac{\\lambda}{2} \\| w \\|_2^2 $."
   ]
  },
  {
   "cell_type": "code",
   "execution_count": 5,
   "metadata": {},
   "outputs": [],
   "source": [
    "# Calculate the objective function value\n",
    "# Inputs:\n",
    "#     w: d-by-1 matrix\n",
    "#     x: n-by-d matrix\n",
    "#     y: n-by-1 matrix\n",
    "#     lam: scalar, the regularization parameter\n",
    "# Return:\n",
    "#     objective function value (scalar)\n",
    "def objective(w, x, y, lam):\n",
    "    n, d = x.shape\n",
    "    yx = numpy.multiply(y, x) # n-by-d matrix\n",
    "    yxw = numpy.dot(yx, w) # n-by-1 matrix\n",
    "    vec1 = numpy.exp(-yxw) # n-by-1 matrix\n",
    "    vec2 = numpy.log(1 + vec1) # n-by-1 matrix\n",
    "    loss = numpy.mean(vec2) # scalar\n",
    "    reg = lam / 2 * numpy.sum(w * w) # scalar\n",
    "    return loss + reg\n",
    "    "
   ]
  },
  {
   "cell_type": "code",
   "execution_count": 6,
   "metadata": {},
   "outputs": [
    {
     "output_type": "stream",
     "name": "stdout",
     "text": [
      "Initial objective function value = 0.6931471805599453\n"
     ]
    }
   ],
   "source": [
    "# initialize w\n",
    "d = x_train.shape[1]\n",
    "w = numpy.zeros((d, 1))\n",
    "\n",
    "# evaluate the objective function value at w\n",
    "lam = 1E-6\n",
    "objval0 = objective(w, x_train, y_train, lam)\n",
    "print('Initial objective function value = ' + str(objval0))"
   ]
  },
  {
   "cell_type": "markdown",
   "metadata": {},
   "source": [
    "# 3. Numerical optimization"
   ]
  },
  {
   "cell_type": "markdown",
   "metadata": {},
   "source": [
    "## 3.1. Gradient descent\n"
   ]
  },
  {
   "cell_type": "markdown",
   "metadata": {},
   "source": [
    "The gradient at $w$ is $g = - \\frac{1}{n} \\sum_{i=1}^n \\frac{y_i x_i }{1 + \\exp ( y_i x_i^T w)} + \\lambda w$"
   ]
  },
  {
   "cell_type": "code",
   "execution_count": 7,
   "metadata": {},
   "outputs": [],
   "source": [
    "# Calculate the gradient\n",
    "# Inputs:\n",
    "#     w: d-by-1 matrix\n",
    "#     x: n-by-d matrix\n",
    "#     y: n-by-1 matrix\n",
    "#     lam: scalar, the regularization parameter\n",
    "# Return:\n",
    "#     g: g: d-by-1 matrix, full gradient\n",
    "def gradient(w, x, y, lam):\n",
    "    n, d = x.shape\n",
    "    yx = numpy.multiply(y, x) # n-by-d matrix\n",
    "    yxw = numpy.dot(yx, w) # n-by-1 matrix\n",
    "    vec1 = numpy.exp(yxw) # n-by-1 matrix\n",
    "    vec2 = numpy.divide(yx, 1+vec1) # n-by-d matrix\n",
    "    vec3 = -numpy.mean(vec2, axis=0).reshape(d, 1) # d-by-1 matrix\n",
    "    g = vec3 + lam * w\n",
    "    return g"
   ]
  },
  {
   "cell_type": "code",
   "execution_count": 8,
   "metadata": {},
   "outputs": [],
   "source": [
    "# Gradient descent for solving logistic regression\n",
    "# Inputs:\n",
    "#     x: n-by-d matrix\n",
    "#     y: n-by-1 matrix\n",
    "#     lam: scalar, the regularization parameter\n",
    "#     stepsize: scalar\n",
    "#     max_iter: integer, the maximal iterations\n",
    "#     w: d-by-1 matrix, initialization of w\n",
    "# Return:\n",
    "#     w: d-by-1 matrix, the solution\n",
    "#     objvals: a record of each iteration's objective value\n",
    "def grad_descent(x, y, lam, stepsize, max_iter=100, w=None):\n",
    "    n, d = x.shape\n",
    "    objvals = numpy.zeros(max_iter) # store the objective values\n",
    "    if w is None:\n",
    "        w = numpy.zeros((d, 1)) # zero initialization\n",
    "    \n",
    "    for t in range(max_iter):\n",
    "        objval = objective(w, x, y, lam)\n",
    "        objvals[t] = objval\n",
    "        print('Objective value at t=' + str(t) + ' is ' + str(objval))\n",
    "        g = gradient(w, x, y, lam)\n",
    "        w -= stepsize * g\n",
    "    \n",
    "    return w, objvals"
   ]
  },
  {
   "cell_type": "markdown",
   "metadata": {},
   "source": [
    "Run gradient descent."
   ]
  },
  {
   "cell_type": "code",
   "execution_count": 9,
   "metadata": {},
   "outputs": [
    {
     "output_type": "stream",
     "name": "stdout",
     "text": [
      "Objective value at t=0 is 0.6931471805599453\nObjective value at t=1 is 0.5930097798050188\nObjective value at t=2 is 0.5530520920589544\nObjective value at t=3 is 0.5318239067099902\nObjective value at t=4 is 0.518695001126434\nObjective value at t=5 is 0.5098686932936543\nObjective value at t=6 is 0.5036241104963773\nObjective value at t=7 is 0.4990521499470712\nObjective value at t=8 is 0.4956209245567831\nObjective value at t=9 is 0.49299657706227157\nObjective value at t=10 is 0.49095877641133273\nObjective value at t=11 is 0.48935660375118284\nObjective value at t=12 is 0.4880836705331186\nObjective value at t=13 is 0.4870632290785674\nObjective value at t=14 is 0.48623884619820296\nObjective value at t=15 is 0.48556834750578676\nObjective value at t=16 is 0.48501976967506594\nObjective value at t=17 is 0.4845685889975334\nObjective value at t=18 is 0.4841957846137624\nObjective value at t=19 is 0.4838864607827211\nObjective value at t=20 is 0.4836288513159236\nObjective value at t=21 is 0.483413589984009\nObjective value at t=22 is 0.48323316900439156\nObjective value at t=23 is 0.4830815324554996\nObjective value at t=24 is 0.4829537677611691\nObjective value at t=25 is 0.48284586931760426\nObjective value at t=26 is 0.48275455578053433\nObjective value at t=27 is 0.4826771276756203\nObjective value at t=28 is 0.48261135559849794\nObjective value at t=29 is 0.4825553918253007\nObjective value at t=30 is 0.48250769998619536\nObjective value at t=31 is 0.48246699878196353\nObjective value at t=32 is 0.4824322166954695\nObjective value at t=33 is 0.48240245536799425\nObjective value at t=34 is 0.48237695984585616\nObjective value at t=35 is 0.4823550943053048\nObjective value at t=36 is 0.48233632216874905\nObjective value at t=37 is 0.48232018975830204\nObjective value at t=38 is 0.48230631281171593\nObjective value at t=39 is 0.48229436532439535\nObjective value at t=40 is 0.48228407028914255\nObjective value at t=41 is 0.4822751919898786\nObjective value at t=42 is 0.48226752957222874\nObjective value at t=43 is 0.48226091166664214\nObjective value at t=44 is 0.482255191881738\nObjective value at t=45 is 0.48225024501915553\nObjective value at t=46 is 0.482245963888184\nObjective value at t=47 is 0.4822422566202031\nObjective value at t=48 is 0.48223904440059423\nObjective value at t=49 is 0.48223625955010346\nObjective value at t=50 is 0.48223384389931406\nObjective value at t=51 is 0.48223174740944547\nObjective value at t=52 is 0.4822299270005378\nObjective value at t=53 is 0.48222834555453514\nObjective value at t=54 is 0.48222697106610796\nObjective value at t=55 is 0.4822257759184664\nObjective value at t=56 is 0.48222473626506984\nObjective value at t=57 is 0.48222383150118153\nObjective value at t=58 is 0.48222304381174774\nObjective value at t=59 is 0.48222235778419864\nObjective value at t=60 is 0.4822217600765364\nObjective value at t=61 is 0.4822212391325597\nObjective value at t=62 is 0.4822207849373196\nObjective value at t=63 is 0.48222038880694723\nObjective value at t=64 is 0.48222004320788014\nObjective value at t=65 is 0.4822197416012531\nObjective value at t=66 is 0.4822194783088523\nObjective value at t=67 is 0.482219248397563\nObjective value at t=68 is 0.48221904757968936\nObjective value at t=69 is 0.4822188721269095\nObjective value at t=70 is 0.48221871879595335\nObjective value at t=71 is 0.4822185847643672\nObjective value at t=72 is 0.48221846757495973\nObjective value at t=73 is 0.48221836508773214\nObjective value at t=74 is 0.48221827543825896\nObjective value at t=75 is 0.4822181970016336\nObjective value at t=76 is 0.48221812836122036\nObjective value at t=77 is 0.4822180682815562\nObjective value at t=78 is 0.48221801568484196\nObjective value at t=79 is 0.48221796963053515\nObjective value at t=80 is 0.48221792929762974\nObjective value at t=81 is 0.48221789396925985\nObjective value at t=82 is 0.48221786301931896\nObjective value at t=83 is 0.48221783590082373\nObjective value at t=84 is 0.48221781213579334\nObjective value at t=85 is 0.4822177913064414\nObjective value at t=86 is 0.48221777304750774\nObjective value at t=87 is 0.4822177570395818\nObjective value at t=88 is 0.48221774300328457\nObjective value at t=89 is 0.48221773069419943\nObjective value at t=90 is 0.48221771989845247\nObjective value at t=91 is 0.48221771042885814\nObjective value at t=92 is 0.4822177021215574\nObjective value at t=93 is 0.48221769483308474\nObjective value at t=94 is 0.48221768843780677\nObjective value at t=95 is 0.48221768282568656\nObjective value at t=96 is 0.4822176779003325\nObjective value at t=97 is 0.48221767357729095\nObjective value at t=98 is 0.482217669782558\nObjective value at t=99 is 0.4822176664512749\n"
     ]
    }
   ],
   "source": [
    "lam = 1E-6\n",
    "stepsize = 1.0\n",
    "w, objvals_gd = grad_descent(x_train, y_train, lam, stepsize)"
   ]
  },
  {
   "cell_type": "markdown",
   "metadata": {},
   "source": [
    "## 3.2. Stochastic gradient descent (SGD)\n",
    "\n",
    "Define $Q_i (w) = \\log \\Big( 1 + \\exp \\big( - y_i x_i^T w \\big) \\Big) + \\frac{\\lambda}{2} \\| w \\|_2^2 $.\n",
    "\n",
    "The stochastic gradient at $w$ is $g_i = \\frac{\\partial Q_i }{ \\partial w} = -\\frac{y_i x_i }{1 + \\exp ( y_i x_i^T w)} + \\lambda w$."
   ]
  },
  {
   "cell_type": "code",
   "execution_count": 10,
   "metadata": {},
   "outputs": [],
   "source": [
    "# Calculate the objective Q_i and the gradient of Q_i\n",
    "# Inputs:\n",
    "#     w: d-by-1 matrix\n",
    "#     xi: 1-by-d matrix\n",
    "#     yi: scalar\n",
    "#     lam: scalar, the regularization parameter\n",
    "# Return:\n",
    "#     obj: scalar, the objective Q_i\n",
    "#     g: d-by-1 matrix, gradient of Q_i\n",
    "def stochastic_objective_gradient(w, xi, yi, lam):\n",
    "    d = xi.shape[0]\n",
    "    yx = yi * xi # 1-by-d matrix\n",
    "    yxw = float(numpy.dot(yx, w)) # scalar\n",
    "    \n",
    "    # calculate objective function Q_i\n",
    "    loss = numpy.log(1 + numpy.exp(-yxw)) # scalar\n",
    "    reg = lam / 2 * numpy.sum(w * w) # scalar\n",
    "    obj = loss + reg\n",
    "    \n",
    "    # calculate stochastic gradient\n",
    "    g_loss = -yx.T / (1 + numpy.exp(yxw)) # d-by-1 matrix\n",
    "    g = g_loss + lam * w # d-by-1 matrix\n",
    "    \n",
    "    return obj, g"
   ]
  },
  {
   "cell_type": "code",
   "execution_count": 11,
   "metadata": {},
   "outputs": [],
   "source": [
    "# SGD for solving logistic regression\n",
    "# Inputs:\n",
    "#     x: n-by-d matrix\n",
    "#     y: n-by-1 matrix\n",
    "#     lam: scalar, the regularization parameter\n",
    "#     stepsize: scalar\n",
    "#     max_epoch: integer, the maximal epochs\n",
    "#     w: d-by-1 matrix, initialization of w\n",
    "# Return:\n",
    "#     w: the solution\n",
    "#     objvals: record of each iteration's objective value\n",
    "def sgd(x, y, lam, stepsize, max_epoch=100, w=None):\n",
    "    n, d = x.shape\n",
    "    objvals = numpy.zeros(max_epoch) # store the objective values\n",
    "    if w is None:\n",
    "        w = numpy.zeros((d, 1)) # zero initialization\n",
    "    \n",
    "    for t in range(max_epoch):\n",
    "        # randomly shuffle the samples\n",
    "        rand_indices = numpy.random.permutation(n)\n",
    "        x_rand = x[rand_indices, :]\n",
    "        y_rand = y[rand_indices, :]\n",
    "        \n",
    "        objval = 0 # accumulate the objective values\n",
    "        for i in range(n):\n",
    "            xi = x_rand[i, :] # 1-by-d matrix\n",
    "            yi = float(y_rand[i, :]) # scalar\n",
    "            obj, g = stochastic_objective_gradient(w, xi, yi, lam)\n",
    "            objval += obj\n",
    "            w -= stepsize * g\n",
    "        \n",
    "        stepsize *= 0.9 # decrease step size\n",
    "        objval /= n\n",
    "        objvals[t] = objval\n",
    "        print('Objective value at epoch t=' + str(t) + ' is ' + str(objval))\n",
    "    \n",
    "    return w, objvals"
   ]
  },
  {
   "cell_type": "markdown",
   "metadata": {},
   "source": [
    "Run SGD."
   ]
  },
  {
   "cell_type": "code",
   "execution_count": 12,
   "metadata": {},
   "outputs": [
    {
     "output_type": "stream",
     "name": "stdout",
     "text": [
      "Objective value at epoch t=0 is 0.5423106991651925\n",
      "Objective value at epoch t=1 is 0.526462274265052\n",
      "Objective value at epoch t=2 is 0.5308403071205385\n",
      "Objective value at epoch t=3 is 0.513463460862132\n",
      "Objective value at epoch t=4 is 0.5226682451672453\n",
      "Objective value at epoch t=5 is 0.5123439785864311\n",
      "Objective value at epoch t=6 is 0.5108509376375873\n",
      "Objective value at epoch t=7 is 0.511206745221293\n",
      "Objective value at epoch t=8 is 0.506184413905287\n",
      "Objective value at epoch t=9 is 0.5049333248633785\n",
      "Objective value at epoch t=10 is 0.49485108129296973\n",
      "Objective value at epoch t=11 is 0.5036682508688735\n",
      "Objective value at epoch t=12 is 0.49911279639401646\n",
      "Objective value at epoch t=13 is 0.4982813526560455\n",
      "Objective value at epoch t=14 is 0.4924898892554398\n",
      "Objective value at epoch t=15 is 0.49517964100473516\n",
      "Objective value at epoch t=16 is 0.4952224429333051\n",
      "Objective value at epoch t=17 is 0.49119534472335014\n",
      "Objective value at epoch t=18 is 0.4906665223884916\n",
      "Objective value at epoch t=19 is 0.49210173063805207\n",
      "Objective value at epoch t=20 is 0.48986647933221594\n",
      "Objective value at epoch t=21 is 0.4882810153552759\n",
      "Objective value at epoch t=22 is 0.48972215114367634\n",
      "Objective value at epoch t=23 is 0.4877280533207332\n",
      "Objective value at epoch t=24 is 0.48728002513267754\n",
      "Objective value at epoch t=25 is 0.48730808339679277\n",
      "Objective value at epoch t=26 is 0.486220014733472\n",
      "Objective value at epoch t=27 is 0.48638323219937096\n",
      "Objective value at epoch t=28 is 0.4858713754799714\n",
      "Objective value at epoch t=29 is 0.4857511931470021\n",
      "Objective value at epoch t=30 is 0.48534828197287094\n",
      "Objective value at epoch t=31 is 0.4850647622701973\n",
      "Objective value at epoch t=32 is 0.48475663173587175\n",
      "Objective value at epoch t=33 is 0.48448999328288356\n",
      "Objective value at epoch t=34 is 0.4843026435551711\n",
      "Objective value at epoch t=35 is 0.4841381630765789\n",
      "Objective value at epoch t=36 is 0.48392475622788655\n",
      "Objective value at epoch t=37 is 0.4837501141410353\n",
      "Objective value at epoch t=38 is 0.48358668932918486\n",
      "Objective value at epoch t=39 is 0.4834559812487004\n",
      "Objective value at epoch t=40 is 0.4833144058498755\n",
      "Objective value at epoch t=41 is 0.48323865004500793\n",
      "Objective value at epoch t=42 is 0.48312768920911064\n",
      "Objective value at epoch t=43 is 0.48305050433936997\n",
      "Objective value at epoch t=44 is 0.4829490640098381\n",
      "Objective value at epoch t=45 is 0.4828892995473832\n",
      "Objective value at epoch t=46 is 0.48282333888478074\n",
      "Objective value at epoch t=47 is 0.48276104933191205\n",
      "Objective value at epoch t=48 is 0.48270602475094043\n",
      "Objective value at epoch t=49 is 0.4826552308836308\n",
      "Objective value at epoch t=50 is 0.4826151045042598\n",
      "Objective value at epoch t=51 is 0.48257421167926057\n",
      "Objective value at epoch t=52 is 0.48253992332027507\n",
      "Objective value at epoch t=53 is 0.48250840503363124\n",
      "Objective value at epoch t=54 is 0.4824793699262404\n",
      "Objective value at epoch t=55 is 0.48245298503903644\n",
      "Objective value at epoch t=56 is 0.4824301136623494\n",
      "Objective value at epoch t=57 is 0.4824077848725733\n",
      "Objective value at epoch t=58 is 0.48238897472489917\n",
      "Objective value at epoch t=59 is 0.48237262780790163\n",
      "Objective value at epoch t=60 is 0.482356901842316\n",
      "Objective value at epoch t=61 is 0.48234328051984326\n",
      "Objective value at epoch t=62 is 0.482330825803709\n",
      "Objective value at epoch t=63 is 0.4823193742358908\n",
      "Objective value at epoch t=64 is 0.4823092932533461\n",
      "Objective value at epoch t=65 is 0.48230025591762804\n",
      "Objective value at epoch t=66 is 0.48229192013312694\n",
      "Objective value at epoch t=67 is 0.48228460857485145\n",
      "Objective value at epoch t=68 is 0.482277872893234\n",
      "Objective value at epoch t=69 is 0.48227192385058154\n",
      "Objective value at epoch t=70 is 0.4822664825881097\n",
      "Objective value at epoch t=71 is 0.48226163350213236\n",
      "Objective value at epoch t=72 is 0.4822572476821813\n",
      "Objective value at epoch t=73 is 0.4822533046009102\n",
      "Objective value at epoch t=74 is 0.4822497867011396\n",
      "Objective value at epoch t=75 is 0.4822465988747734\n",
      "Objective value at epoch t=76 is 0.4822437159702517\n",
      "Objective value at epoch t=77 is 0.4822411320815421\n",
      "Objective value at epoch t=78 is 0.48223879816084736\n",
      "Objective value at epoch t=79 is 0.48223671195189616\n",
      "Objective value at epoch t=80 is 0.4822348278794014\n",
      "Objective value at epoch t=81 is 0.4822331271496794\n",
      "Objective value at epoch t=82 is 0.4822316036302343\n",
      "Objective value at epoch t=83 is 0.4822302258205622\n",
      "Objective value at epoch t=84 is 0.48222898945694237\n",
      "Objective value at epoch t=85 is 0.48222787658729754\n",
      "Objective value at epoch t=86 is 0.48222687496470595\n",
      "Objective value at epoch t=87 is 0.48222597066117096\n",
      "Objective value at epoch t=88 is 0.48222515945175415\n",
      "Objective value at epoch t=89 is 0.48222442959858947\n",
      "Objective value at epoch t=90 is 0.4822237715682814\n",
      "Objective value at epoch t=91 is 0.48222318004931247\n",
      "Objective value at epoch t=92 is 0.4822226474417735\n",
      "Objective value at epoch t=93 is 0.48222216794891315\n",
      "Objective value at epoch t=94 is 0.48222173641487254\n",
      "Objective value at epoch t=95 is 0.4822213481371474\n",
      "Objective value at epoch t=96 is 0.4822209980539835\n",
      "Objective value at epoch t=97 is 0.4822206839444073\n",
      "Objective value at epoch t=98 is 0.4822204008607859\n",
      "Objective value at epoch t=99 is 0.4822201460044223\n"
     ]
    }
   ],
   "source": [
    "lam = 1E-6\n",
    "stepsize = 0.1\n",
    "w, objvals_sgd = sgd(x_train, y_train, lam, stepsize)"
   ]
  },
  {
   "cell_type": "markdown",
   "metadata": {},
   "source": [
    "# 4. Compare GD with SGD\n",
    "\n",
    "Plot objective function values against epochs."
   ]
  },
  {
   "cell_type": "code",
   "execution_count": 13,
   "metadata": {},
   "outputs": [
    {
     "output_type": "stream",
     "name": "stderr",
     "text": [
      "<ipython-input-13-9b8d8f4cdfb5>:9: MatplotlibDeprecationWarning: Case-insensitive properties were deprecated in 3.3 and support will be removed two minor releases later\n  line0, = plt.plot(epochs_gd, objvals_gd, '--b', LineWidth=4)\n<ipython-input-13-9b8d8f4cdfb5>:10: MatplotlibDeprecationWarning: Case-insensitive properties were deprecated in 3.3 and support will be removed two minor releases later\n  line1, = plt.plot(epochs_sgd, objvals_sgd, '-r', LineWidth=2)\n<ipython-input-13-9b8d8f4cdfb5>:11: MatplotlibDeprecationWarning: Case-insensitive properties were deprecated in 3.3 and support will be removed two minor releases later\n  plt.xlabel('Epochs', FontSize=20)\n<ipython-input-13-9b8d8f4cdfb5>:12: MatplotlibDeprecationWarning: Case-insensitive properties were deprecated in 3.3 and support will be removed two minor releases later\n  plt.ylabel('Objective Value', FontSize=20)\n<ipython-input-13-9b8d8f4cdfb5>:13: MatplotlibDeprecationWarning: Case-insensitive properties were deprecated in 3.3 and support will be removed two minor releases later\n  plt.xticks(FontSize=16)\n<ipython-input-13-9b8d8f4cdfb5>:14: MatplotlibDeprecationWarning: Case-insensitive properties were deprecated in 3.3 and support will be removed two minor releases later\n  plt.yticks(FontSize=16)\n"
     ]
    },
    {
     "output_type": "display_data",
     "data": {
      "text/plain": "<Figure size 432x288 with 1 Axes>",
      "image/svg+xml": "<?xml version=\"1.0\" encoding=\"utf-8\" standalone=\"no\"?>\n<!DOCTYPE svg PUBLIC \"-//W3C//DTD SVG 1.1//EN\"\n  \"http://www.w3.org/Graphics/SVG/1.1/DTD/svg11.dtd\">\n<!-- Created with matplotlib (https://matplotlib.org/) -->\n<svg height=\"281.69737pt\" version=\"1.1\" viewBox=\"0 0 425.047572 281.69737\" width=\"425.047572pt\" xmlns=\"http://www.w3.org/2000/svg\" xmlns:xlink=\"http://www.w3.org/1999/xlink\">\n <metadata>\n  <rdf:RDF xmlns:cc=\"http://creativecommons.org/ns#\" xmlns:dc=\"http://purl.org/dc/elements/1.1/\" xmlns:rdf=\"http://www.w3.org/1999/02/22-rdf-syntax-ns#\">\n   <cc:Work>\n    <dc:type rdf:resource=\"http://purl.org/dc/dcmitype/StillImage\"/>\n    <dc:date>2021-03-07T09:01:28.230682</dc:date>\n    <dc:format>image/svg+xml</dc:format>\n    <dc:creator>\n     <cc:Agent>\n      <dc:title>Matplotlib v3.3.4, https://matplotlib.org/</dc:title>\n     </cc:Agent>\n    </dc:creator>\n   </cc:Work>\n  </rdf:RDF>\n </metadata>\n <defs>\n  <style type=\"text/css\">*{stroke-linecap:butt;stroke-linejoin:round;}</style>\n </defs>\n <g id=\"figure_1\">\n  <g id=\"patch_1\">\n   <path d=\"M 0 281.69737 \nL 425.047572 281.69737 \nL 425.047572 0 \nL 0 0 \nz\n\" style=\"fill:none;\"/>\n  </g>\n  <g id=\"axes_1\">\n   <g id=\"patch_2\">\n    <path d=\"M 73.18125 228.65612 \nL 414.975052 228.65612 \nL 414.975052 9.794608 \nL 73.18125 9.794608 \nz\n\" style=\"fill:#ffffff;\"/>\n   </g>\n   <g id=\"matplotlib.axis_1\">\n    <g id=\"xtick_1\">\n     <g id=\"line2d_1\">\n      <defs>\n       <path d=\"M 0 0 \nL 0 3.5 \n\" id=\"me9e71b6c7b\" style=\"stroke:#000000;stroke-width:0.8;\"/>\n      </defs>\n      <g>\n       <use style=\"stroke:#000000;stroke-width:0.8;\" x=\"88.717332\" xlink:href=\"#me9e71b6c7b\" y=\"228.65612\"/>\n      </g>\n     </g>\n     <g id=\"text_1\">\n      <!-- 0 -->\n      <g transform=\"translate(83.627332 247.81362)scale(0.16 -0.16)\">\n       <defs>\n        <path d=\"M 31.78125 66.40625 \nQ 24.171875 66.40625 20.328125 58.90625 \nQ 16.5 51.421875 16.5 36.375 \nQ 16.5 21.390625 20.328125 13.890625 \nQ 24.171875 6.390625 31.78125 6.390625 \nQ 39.453125 6.390625 43.28125 13.890625 \nQ 47.125 21.390625 47.125 36.375 \nQ 47.125 51.421875 43.28125 58.90625 \nQ 39.453125 66.40625 31.78125 66.40625 \nz\nM 31.78125 74.21875 \nQ 44.046875 74.21875 50.515625 64.515625 \nQ 56.984375 54.828125 56.984375 36.375 \nQ 56.984375 17.96875 50.515625 8.265625 \nQ 44.046875 -1.421875 31.78125 -1.421875 \nQ 19.53125 -1.421875 13.0625 8.265625 \nQ 6.59375 17.96875 6.59375 36.375 \nQ 6.59375 54.828125 13.0625 64.515625 \nQ 19.53125 74.21875 31.78125 74.21875 \nz\n\" id=\"DejaVuSans-48\"/>\n       </defs>\n       <use xlink:href=\"#DejaVuSans-48\"/>\n      </g>\n     </g>\n    </g>\n    <g id=\"xtick_2\">\n     <g id=\"line2d_2\">\n      <g>\n       <use style=\"stroke:#000000;stroke-width:0.8;\" x=\"151.48938\" xlink:href=\"#me9e71b6c7b\" y=\"228.65612\"/>\n      </g>\n     </g>\n     <g id=\"text_2\">\n      <!-- 20 -->\n      <g transform=\"translate(141.30938 247.81362)scale(0.16 -0.16)\">\n       <defs>\n        <path d=\"M 19.1875 8.296875 \nL 53.609375 8.296875 \nL 53.609375 0 \nL 7.328125 0 \nL 7.328125 8.296875 \nQ 12.9375 14.109375 22.625 23.890625 \nQ 32.328125 33.6875 34.8125 36.53125 \nQ 39.546875 41.84375 41.421875 45.53125 \nQ 43.3125 49.21875 43.3125 52.78125 \nQ 43.3125 58.59375 39.234375 62.25 \nQ 35.15625 65.921875 28.609375 65.921875 \nQ 23.96875 65.921875 18.8125 64.3125 \nQ 13.671875 62.703125 7.8125 59.421875 \nL 7.8125 69.390625 \nQ 13.765625 71.78125 18.9375 73 \nQ 24.125 74.21875 28.421875 74.21875 \nQ 39.75 74.21875 46.484375 68.546875 \nQ 53.21875 62.890625 53.21875 53.421875 \nQ 53.21875 48.921875 51.53125 44.890625 \nQ 49.859375 40.875 45.40625 35.40625 \nQ 44.1875 33.984375 37.640625 27.21875 \nQ 31.109375 20.453125 19.1875 8.296875 \nz\n\" id=\"DejaVuSans-50\"/>\n       </defs>\n       <use xlink:href=\"#DejaVuSans-50\"/>\n       <use x=\"63.623047\" xlink:href=\"#DejaVuSans-48\"/>\n      </g>\n     </g>\n    </g>\n    <g id=\"xtick_3\">\n     <g id=\"line2d_3\">\n      <g>\n       <use style=\"stroke:#000000;stroke-width:0.8;\" x=\"214.261428\" xlink:href=\"#me9e71b6c7b\" y=\"228.65612\"/>\n      </g>\n     </g>\n     <g id=\"text_3\">\n      <!-- 40 -->\n      <g transform=\"translate(204.081428 247.81362)scale(0.16 -0.16)\">\n       <defs>\n        <path d=\"M 37.796875 64.3125 \nL 12.890625 25.390625 \nL 37.796875 25.390625 \nz\nM 35.203125 72.90625 \nL 47.609375 72.90625 \nL 47.609375 25.390625 \nL 58.015625 25.390625 \nL 58.015625 17.1875 \nL 47.609375 17.1875 \nL 47.609375 0 \nL 37.796875 0 \nL 37.796875 17.1875 \nL 4.890625 17.1875 \nL 4.890625 26.703125 \nz\n\" id=\"DejaVuSans-52\"/>\n       </defs>\n       <use xlink:href=\"#DejaVuSans-52\"/>\n       <use x=\"63.623047\" xlink:href=\"#DejaVuSans-48\"/>\n      </g>\n     </g>\n    </g>\n    <g id=\"xtick_4\">\n     <g id=\"line2d_4\">\n      <g>\n       <use style=\"stroke:#000000;stroke-width:0.8;\" x=\"277.033476\" xlink:href=\"#me9e71b6c7b\" y=\"228.65612\"/>\n      </g>\n     </g>\n     <g id=\"text_4\">\n      <!-- 60 -->\n      <g transform=\"translate(266.853476 247.81362)scale(0.16 -0.16)\">\n       <defs>\n        <path d=\"M 33.015625 40.375 \nQ 26.375 40.375 22.484375 35.828125 \nQ 18.609375 31.296875 18.609375 23.390625 \nQ 18.609375 15.53125 22.484375 10.953125 \nQ 26.375 6.390625 33.015625 6.390625 \nQ 39.65625 6.390625 43.53125 10.953125 \nQ 47.40625 15.53125 47.40625 23.390625 \nQ 47.40625 31.296875 43.53125 35.828125 \nQ 39.65625 40.375 33.015625 40.375 \nz\nM 52.59375 71.296875 \nL 52.59375 62.3125 \nQ 48.875 64.0625 45.09375 64.984375 \nQ 41.3125 65.921875 37.59375 65.921875 \nQ 27.828125 65.921875 22.671875 59.328125 \nQ 17.53125 52.734375 16.796875 39.40625 \nQ 19.671875 43.65625 24.015625 45.921875 \nQ 28.375 48.1875 33.59375 48.1875 \nQ 44.578125 48.1875 50.953125 41.515625 \nQ 57.328125 34.859375 57.328125 23.390625 \nQ 57.328125 12.15625 50.6875 5.359375 \nQ 44.046875 -1.421875 33.015625 -1.421875 \nQ 20.359375 -1.421875 13.671875 8.265625 \nQ 6.984375 17.96875 6.984375 36.375 \nQ 6.984375 53.65625 15.1875 63.9375 \nQ 23.390625 74.21875 37.203125 74.21875 \nQ 40.921875 74.21875 44.703125 73.484375 \nQ 48.484375 72.75 52.59375 71.296875 \nz\n\" id=\"DejaVuSans-54\"/>\n       </defs>\n       <use xlink:href=\"#DejaVuSans-54\"/>\n       <use x=\"63.623047\" xlink:href=\"#DejaVuSans-48\"/>\n      </g>\n     </g>\n    </g>\n    <g id=\"xtick_5\">\n     <g id=\"line2d_5\">\n      <g>\n       <use style=\"stroke:#000000;stroke-width:0.8;\" x=\"339.805524\" xlink:href=\"#me9e71b6c7b\" y=\"228.65612\"/>\n      </g>\n     </g>\n     <g id=\"text_5\">\n      <!-- 80 -->\n      <g transform=\"translate(329.625524 247.81362)scale(0.16 -0.16)\">\n       <defs>\n        <path d=\"M 31.78125 34.625 \nQ 24.75 34.625 20.71875 30.859375 \nQ 16.703125 27.09375 16.703125 20.515625 \nQ 16.703125 13.921875 20.71875 10.15625 \nQ 24.75 6.390625 31.78125 6.390625 \nQ 38.8125 6.390625 42.859375 10.171875 \nQ 46.921875 13.96875 46.921875 20.515625 \nQ 46.921875 27.09375 42.890625 30.859375 \nQ 38.875 34.625 31.78125 34.625 \nz\nM 21.921875 38.8125 \nQ 15.578125 40.375 12.03125 44.71875 \nQ 8.5 49.078125 8.5 55.328125 \nQ 8.5 64.0625 14.71875 69.140625 \nQ 20.953125 74.21875 31.78125 74.21875 \nQ 42.671875 74.21875 48.875 69.140625 \nQ 55.078125 64.0625 55.078125 55.328125 \nQ 55.078125 49.078125 51.53125 44.71875 \nQ 48 40.375 41.703125 38.8125 \nQ 48.828125 37.15625 52.796875 32.3125 \nQ 56.78125 27.484375 56.78125 20.515625 \nQ 56.78125 9.90625 50.3125 4.234375 \nQ 43.84375 -1.421875 31.78125 -1.421875 \nQ 19.734375 -1.421875 13.25 4.234375 \nQ 6.78125 9.90625 6.78125 20.515625 \nQ 6.78125 27.484375 10.78125 32.3125 \nQ 14.796875 37.15625 21.921875 38.8125 \nz\nM 18.3125 54.390625 \nQ 18.3125 48.734375 21.84375 45.5625 \nQ 25.390625 42.390625 31.78125 42.390625 \nQ 38.140625 42.390625 41.71875 45.5625 \nQ 45.3125 48.734375 45.3125 54.390625 \nQ 45.3125 60.0625 41.71875 63.234375 \nQ 38.140625 66.40625 31.78125 66.40625 \nQ 25.390625 66.40625 21.84375 63.234375 \nQ 18.3125 60.0625 18.3125 54.390625 \nz\n\" id=\"DejaVuSans-56\"/>\n       </defs>\n       <use xlink:href=\"#DejaVuSans-56\"/>\n       <use x=\"63.623047\" xlink:href=\"#DejaVuSans-48\"/>\n      </g>\n     </g>\n    </g>\n    <g id=\"xtick_6\">\n     <g id=\"line2d_6\">\n      <g>\n       <use style=\"stroke:#000000;stroke-width:0.8;\" x=\"402.577572\" xlink:href=\"#me9e71b6c7b\" y=\"228.65612\"/>\n      </g>\n     </g>\n     <g id=\"text_6\">\n      <!-- 100 -->\n      <g transform=\"translate(387.307572 247.81362)scale(0.16 -0.16)\">\n       <defs>\n        <path d=\"M 12.40625 8.296875 \nL 28.515625 8.296875 \nL 28.515625 63.921875 \nL 10.984375 60.40625 \nL 10.984375 69.390625 \nL 28.421875 72.90625 \nL 38.28125 72.90625 \nL 38.28125 8.296875 \nL 54.390625 8.296875 \nL 54.390625 0 \nL 12.40625 0 \nz\n\" id=\"DejaVuSans-49\"/>\n       </defs>\n       <use xlink:href=\"#DejaVuSans-49\"/>\n       <use x=\"63.623047\" xlink:href=\"#DejaVuSans-48\"/>\n       <use x=\"127.246094\" xlink:href=\"#DejaVuSans-48\"/>\n      </g>\n     </g>\n    </g>\n    <g id=\"text_7\">\n     <!-- Epochs -->\n     <g transform=\"translate(208.246901 270.337995)scale(0.2 -0.2)\">\n      <defs>\n       <path d=\"M 9.8125 72.90625 \nL 55.90625 72.90625 \nL 55.90625 64.59375 \nL 19.671875 64.59375 \nL 19.671875 43.015625 \nL 54.390625 43.015625 \nL 54.390625 34.71875 \nL 19.671875 34.71875 \nL 19.671875 8.296875 \nL 56.78125 8.296875 \nL 56.78125 0 \nL 9.8125 0 \nz\n\" id=\"DejaVuSans-69\"/>\n       <path d=\"M 18.109375 8.203125 \nL 18.109375 -20.796875 \nL 9.078125 -20.796875 \nL 9.078125 54.6875 \nL 18.109375 54.6875 \nL 18.109375 46.390625 \nQ 20.953125 51.265625 25.265625 53.625 \nQ 29.59375 56 35.59375 56 \nQ 45.5625 56 51.78125 48.09375 \nQ 58.015625 40.1875 58.015625 27.296875 \nQ 58.015625 14.40625 51.78125 6.484375 \nQ 45.5625 -1.421875 35.59375 -1.421875 \nQ 29.59375 -1.421875 25.265625 0.953125 \nQ 20.953125 3.328125 18.109375 8.203125 \nz\nM 48.6875 27.296875 \nQ 48.6875 37.203125 44.609375 42.84375 \nQ 40.53125 48.484375 33.40625 48.484375 \nQ 26.265625 48.484375 22.1875 42.84375 \nQ 18.109375 37.203125 18.109375 27.296875 \nQ 18.109375 17.390625 22.1875 11.75 \nQ 26.265625 6.109375 33.40625 6.109375 \nQ 40.53125 6.109375 44.609375 11.75 \nQ 48.6875 17.390625 48.6875 27.296875 \nz\n\" id=\"DejaVuSans-112\"/>\n       <path d=\"M 30.609375 48.390625 \nQ 23.390625 48.390625 19.1875 42.75 \nQ 14.984375 37.109375 14.984375 27.296875 \nQ 14.984375 17.484375 19.15625 11.84375 \nQ 23.34375 6.203125 30.609375 6.203125 \nQ 37.796875 6.203125 41.984375 11.859375 \nQ 46.1875 17.53125 46.1875 27.296875 \nQ 46.1875 37.015625 41.984375 42.703125 \nQ 37.796875 48.390625 30.609375 48.390625 \nz\nM 30.609375 56 \nQ 42.328125 56 49.015625 48.375 \nQ 55.71875 40.765625 55.71875 27.296875 \nQ 55.71875 13.875 49.015625 6.21875 \nQ 42.328125 -1.421875 30.609375 -1.421875 \nQ 18.84375 -1.421875 12.171875 6.21875 \nQ 5.515625 13.875 5.515625 27.296875 \nQ 5.515625 40.765625 12.171875 48.375 \nQ 18.84375 56 30.609375 56 \nz\n\" id=\"DejaVuSans-111\"/>\n       <path d=\"M 48.78125 52.59375 \nL 48.78125 44.1875 \nQ 44.96875 46.296875 41.140625 47.34375 \nQ 37.3125 48.390625 33.40625 48.390625 \nQ 24.65625 48.390625 19.8125 42.84375 \nQ 14.984375 37.3125 14.984375 27.296875 \nQ 14.984375 17.28125 19.8125 11.734375 \nQ 24.65625 6.203125 33.40625 6.203125 \nQ 37.3125 6.203125 41.140625 7.25 \nQ 44.96875 8.296875 48.78125 10.40625 \nL 48.78125 2.09375 \nQ 45.015625 0.34375 40.984375 -0.53125 \nQ 36.96875 -1.421875 32.421875 -1.421875 \nQ 20.0625 -1.421875 12.78125 6.34375 \nQ 5.515625 14.109375 5.515625 27.296875 \nQ 5.515625 40.671875 12.859375 48.328125 \nQ 20.21875 56 33.015625 56 \nQ 37.15625 56 41.109375 55.140625 \nQ 45.0625 54.296875 48.78125 52.59375 \nz\n\" id=\"DejaVuSans-99\"/>\n       <path d=\"M 54.890625 33.015625 \nL 54.890625 0 \nL 45.90625 0 \nL 45.90625 32.71875 \nQ 45.90625 40.484375 42.875 44.328125 \nQ 39.84375 48.1875 33.796875 48.1875 \nQ 26.515625 48.1875 22.3125 43.546875 \nQ 18.109375 38.921875 18.109375 30.90625 \nL 18.109375 0 \nL 9.078125 0 \nL 9.078125 75.984375 \nL 18.109375 75.984375 \nL 18.109375 46.1875 \nQ 21.34375 51.125 25.703125 53.5625 \nQ 30.078125 56 35.796875 56 \nQ 45.21875 56 50.046875 50.171875 \nQ 54.890625 44.34375 54.890625 33.015625 \nz\n\" id=\"DejaVuSans-104\"/>\n       <path d=\"M 44.28125 53.078125 \nL 44.28125 44.578125 \nQ 40.484375 46.53125 36.375 47.5 \nQ 32.28125 48.484375 27.875 48.484375 \nQ 21.1875 48.484375 17.84375 46.4375 \nQ 14.5 44.390625 14.5 40.28125 \nQ 14.5 37.15625 16.890625 35.375 \nQ 19.28125 33.59375 26.515625 31.984375 \nL 29.59375 31.296875 \nQ 39.15625 29.25 43.1875 25.515625 \nQ 47.21875 21.78125 47.21875 15.09375 \nQ 47.21875 7.46875 41.1875 3.015625 \nQ 35.15625 -1.421875 24.609375 -1.421875 \nQ 20.21875 -1.421875 15.453125 -0.5625 \nQ 10.6875 0.296875 5.421875 2 \nL 5.421875 11.28125 \nQ 10.40625 8.6875 15.234375 7.390625 \nQ 20.0625 6.109375 24.8125 6.109375 \nQ 31.15625 6.109375 34.5625 8.28125 \nQ 37.984375 10.453125 37.984375 14.40625 \nQ 37.984375 18.0625 35.515625 20.015625 \nQ 33.0625 21.96875 24.703125 23.78125 \nL 21.578125 24.515625 \nQ 13.234375 26.265625 9.515625 29.90625 \nQ 5.8125 33.546875 5.8125 39.890625 \nQ 5.8125 47.609375 11.28125 51.796875 \nQ 16.75 56 26.8125 56 \nQ 31.78125 56 36.171875 55.265625 \nQ 40.578125 54.546875 44.28125 53.078125 \nz\n\" id=\"DejaVuSans-115\"/>\n      </defs>\n      <use xlink:href=\"#DejaVuSans-69\"/>\n      <use x=\"63.183594\" xlink:href=\"#DejaVuSans-112\"/>\n      <use x=\"126.660156\" xlink:href=\"#DejaVuSans-111\"/>\n      <use x=\"187.841797\" xlink:href=\"#DejaVuSans-99\"/>\n      <use x=\"242.822266\" xlink:href=\"#DejaVuSans-104\"/>\n      <use x=\"306.201172\" xlink:href=\"#DejaVuSans-115\"/>\n     </g>\n    </g>\n   </g>\n   <g id=\"matplotlib.axis_2\">\n    <g id=\"ytick_1\">\n     <g id=\"line2d_7\">\n      <defs>\n       <path d=\"M 0 0 \nL -3.5 0 \n\" id=\"m781a5a6779\" style=\"stroke:#000000;stroke-width:0.8;\"/>\n      </defs>\n      <g>\n       <use style=\"stroke:#000000;stroke-width:0.8;\" x=\"73.18125\" xlink:href=\"#m781a5a6779\" y=\"201.934199\"/>\n      </g>\n     </g>\n     <g id=\"text_8\">\n      <!-- 0.50 -->\n      <g transform=\"translate(30.55625 208.012949)scale(0.16 -0.16)\">\n       <defs>\n        <path d=\"M 10.6875 12.40625 \nL 21 12.40625 \nL 21 0 \nL 10.6875 0 \nz\n\" id=\"DejaVuSans-46\"/>\n        <path d=\"M 10.796875 72.90625 \nL 49.515625 72.90625 \nL 49.515625 64.59375 \nL 19.828125 64.59375 \nL 19.828125 46.734375 \nQ 21.96875 47.46875 24.109375 47.828125 \nQ 26.265625 48.1875 28.421875 48.1875 \nQ 40.625 48.1875 47.75 41.5 \nQ 54.890625 34.8125 54.890625 23.390625 \nQ 54.890625 11.625 47.5625 5.09375 \nQ 40.234375 -1.421875 26.90625 -1.421875 \nQ 22.3125 -1.421875 17.546875 -0.640625 \nQ 12.796875 0.140625 7.71875 1.703125 \nL 7.71875 11.625 \nQ 12.109375 9.234375 16.796875 8.0625 \nQ 21.484375 6.890625 26.703125 6.890625 \nQ 35.15625 6.890625 40.078125 11.328125 \nQ 45.015625 15.765625 45.015625 23.390625 \nQ 45.015625 31 40.078125 35.4375 \nQ 35.15625 39.890625 26.703125 39.890625 \nQ 22.75 39.890625 18.8125 39.015625 \nQ 14.890625 38.140625 10.796875 36.28125 \nz\n\" id=\"DejaVuSans-53\"/>\n       </defs>\n       <use xlink:href=\"#DejaVuSans-48\"/>\n       <use x=\"63.623047\" xlink:href=\"#DejaVuSans-46\"/>\n       <use x=\"95.410156\" xlink:href=\"#DejaVuSans-53\"/>\n       <use x=\"159.033203\" xlink:href=\"#DejaVuSans-48\"/>\n      </g>\n     </g>\n    </g>\n    <g id=\"ytick_2\">\n     <g id=\"line2d_8\">\n      <g>\n       <use style=\"stroke:#000000;stroke-width:0.8;\" x=\"73.18125\" xlink:href=\"#m781a5a6779\" y=\"154.770337\"/>\n      </g>\n     </g>\n     <g id=\"text_9\">\n      <!-- 0.55 -->\n      <g transform=\"translate(30.55625 160.849087)scale(0.16 -0.16)\">\n       <use xlink:href=\"#DejaVuSans-48\"/>\n       <use x=\"63.623047\" xlink:href=\"#DejaVuSans-46\"/>\n       <use x=\"95.410156\" xlink:href=\"#DejaVuSans-53\"/>\n       <use x=\"159.033203\" xlink:href=\"#DejaVuSans-53\"/>\n      </g>\n     </g>\n    </g>\n    <g id=\"ytick_3\">\n     <g id=\"line2d_9\">\n      <g>\n       <use style=\"stroke:#000000;stroke-width:0.8;\" x=\"73.18125\" xlink:href=\"#m781a5a6779\" y=\"107.606475\"/>\n      </g>\n     </g>\n     <g id=\"text_10\">\n      <!-- 0.60 -->\n      <g transform=\"translate(30.55625 113.685225)scale(0.16 -0.16)\">\n       <use xlink:href=\"#DejaVuSans-48\"/>\n       <use x=\"63.623047\" xlink:href=\"#DejaVuSans-46\"/>\n       <use x=\"95.410156\" xlink:href=\"#DejaVuSans-54\"/>\n       <use x=\"159.033203\" xlink:href=\"#DejaVuSans-48\"/>\n      </g>\n     </g>\n    </g>\n    <g id=\"ytick_4\">\n     <g id=\"line2d_10\">\n      <g>\n       <use style=\"stroke:#000000;stroke-width:0.8;\" x=\"73.18125\" xlink:href=\"#m781a5a6779\" y=\"60.442612\"/>\n      </g>\n     </g>\n     <g id=\"text_11\">\n      <!-- 0.65 -->\n      <g transform=\"translate(30.55625 66.521362)scale(0.16 -0.16)\">\n       <use xlink:href=\"#DejaVuSans-48\"/>\n       <use x=\"63.623047\" xlink:href=\"#DejaVuSans-46\"/>\n       <use x=\"95.410156\" xlink:href=\"#DejaVuSans-54\"/>\n       <use x=\"159.033203\" xlink:href=\"#DejaVuSans-53\"/>\n      </g>\n     </g>\n    </g>\n    <g id=\"ytick_5\">\n     <g id=\"line2d_11\">\n      <g>\n       <use style=\"stroke:#000000;stroke-width:0.8;\" x=\"73.18125\" xlink:href=\"#m781a5a6779\" y=\"13.27875\"/>\n      </g>\n     </g>\n     <g id=\"text_12\">\n      <!-- 0.70 -->\n      <g transform=\"translate(30.55625 19.3575)scale(0.16 -0.16)\">\n       <defs>\n        <path d=\"M 8.203125 72.90625 \nL 55.078125 72.90625 \nL 55.078125 68.703125 \nL 28.609375 0 \nL 18.3125 0 \nL 43.21875 64.59375 \nL 8.203125 64.59375 \nz\n\" id=\"DejaVuSans-55\"/>\n       </defs>\n       <use xlink:href=\"#DejaVuSans-48\"/>\n       <use x=\"63.623047\" xlink:href=\"#DejaVuSans-46\"/>\n       <use x=\"95.410156\" xlink:href=\"#DejaVuSans-55\"/>\n       <use x=\"159.033203\" xlink:href=\"#DejaVuSans-48\"/>\n      </g>\n     </g>\n    </g>\n    <g id=\"text_13\">\n     <!-- Objective Value -->\n     <g transform=\"translate(22.396875 197.286302)rotate(-90)scale(0.2 -0.2)\">\n      <defs>\n       <path d=\"M 39.40625 66.21875 \nQ 28.65625 66.21875 22.328125 58.203125 \nQ 16.015625 50.203125 16.015625 36.375 \nQ 16.015625 22.609375 22.328125 14.59375 \nQ 28.65625 6.59375 39.40625 6.59375 \nQ 50.140625 6.59375 56.421875 14.59375 \nQ 62.703125 22.609375 62.703125 36.375 \nQ 62.703125 50.203125 56.421875 58.203125 \nQ 50.140625 66.21875 39.40625 66.21875 \nz\nM 39.40625 74.21875 \nQ 54.734375 74.21875 63.90625 63.9375 \nQ 73.09375 53.65625 73.09375 36.375 \nQ 73.09375 19.140625 63.90625 8.859375 \nQ 54.734375 -1.421875 39.40625 -1.421875 \nQ 24.03125 -1.421875 14.8125 8.828125 \nQ 5.609375 19.09375 5.609375 36.375 \nQ 5.609375 53.65625 14.8125 63.9375 \nQ 24.03125 74.21875 39.40625 74.21875 \nz\n\" id=\"DejaVuSans-79\"/>\n       <path d=\"M 48.6875 27.296875 \nQ 48.6875 37.203125 44.609375 42.84375 \nQ 40.53125 48.484375 33.40625 48.484375 \nQ 26.265625 48.484375 22.1875 42.84375 \nQ 18.109375 37.203125 18.109375 27.296875 \nQ 18.109375 17.390625 22.1875 11.75 \nQ 26.265625 6.109375 33.40625 6.109375 \nQ 40.53125 6.109375 44.609375 11.75 \nQ 48.6875 17.390625 48.6875 27.296875 \nz\nM 18.109375 46.390625 \nQ 20.953125 51.265625 25.265625 53.625 \nQ 29.59375 56 35.59375 56 \nQ 45.5625 56 51.78125 48.09375 \nQ 58.015625 40.1875 58.015625 27.296875 \nQ 58.015625 14.40625 51.78125 6.484375 \nQ 45.5625 -1.421875 35.59375 -1.421875 \nQ 29.59375 -1.421875 25.265625 0.953125 \nQ 20.953125 3.328125 18.109375 8.203125 \nL 18.109375 0 \nL 9.078125 0 \nL 9.078125 75.984375 \nL 18.109375 75.984375 \nz\n\" id=\"DejaVuSans-98\"/>\n       <path d=\"M 9.421875 54.6875 \nL 18.40625 54.6875 \nL 18.40625 -0.984375 \nQ 18.40625 -11.421875 14.421875 -16.109375 \nQ 10.453125 -20.796875 1.609375 -20.796875 \nL -1.8125 -20.796875 \nL -1.8125 -13.1875 \nL 0.59375 -13.1875 \nQ 5.71875 -13.1875 7.5625 -10.8125 \nQ 9.421875 -8.453125 9.421875 -0.984375 \nz\nM 9.421875 75.984375 \nL 18.40625 75.984375 \nL 18.40625 64.59375 \nL 9.421875 64.59375 \nz\n\" id=\"DejaVuSans-106\"/>\n       <path d=\"M 56.203125 29.59375 \nL 56.203125 25.203125 \nL 14.890625 25.203125 \nQ 15.484375 15.921875 20.484375 11.0625 \nQ 25.484375 6.203125 34.421875 6.203125 \nQ 39.59375 6.203125 44.453125 7.46875 \nQ 49.3125 8.734375 54.109375 11.28125 \nL 54.109375 2.78125 \nQ 49.265625 0.734375 44.1875 -0.34375 \nQ 39.109375 -1.421875 33.890625 -1.421875 \nQ 20.796875 -1.421875 13.15625 6.1875 \nQ 5.515625 13.8125 5.515625 26.8125 \nQ 5.515625 40.234375 12.765625 48.109375 \nQ 20.015625 56 32.328125 56 \nQ 43.359375 56 49.78125 48.890625 \nQ 56.203125 41.796875 56.203125 29.59375 \nz\nM 47.21875 32.234375 \nQ 47.125 39.59375 43.09375 43.984375 \nQ 39.0625 48.390625 32.421875 48.390625 \nQ 24.90625 48.390625 20.390625 44.140625 \nQ 15.875 39.890625 15.1875 32.171875 \nz\n\" id=\"DejaVuSans-101\"/>\n       <path d=\"M 18.3125 70.21875 \nL 18.3125 54.6875 \nL 36.8125 54.6875 \nL 36.8125 47.703125 \nL 18.3125 47.703125 \nL 18.3125 18.015625 \nQ 18.3125 11.328125 20.140625 9.421875 \nQ 21.96875 7.515625 27.59375 7.515625 \nL 36.8125 7.515625 \nL 36.8125 0 \nL 27.59375 0 \nQ 17.1875 0 13.234375 3.875 \nQ 9.28125 7.765625 9.28125 18.015625 \nL 9.28125 47.703125 \nL 2.6875 47.703125 \nL 2.6875 54.6875 \nL 9.28125 54.6875 \nL 9.28125 70.21875 \nz\n\" id=\"DejaVuSans-116\"/>\n       <path d=\"M 9.421875 54.6875 \nL 18.40625 54.6875 \nL 18.40625 0 \nL 9.421875 0 \nz\nM 9.421875 75.984375 \nL 18.40625 75.984375 \nL 18.40625 64.59375 \nL 9.421875 64.59375 \nz\n\" id=\"DejaVuSans-105\"/>\n       <path d=\"M 2.984375 54.6875 \nL 12.5 54.6875 \nL 29.59375 8.796875 \nL 46.6875 54.6875 \nL 56.203125 54.6875 \nL 35.6875 0 \nL 23.484375 0 \nz\n\" id=\"DejaVuSans-118\"/>\n       <path id=\"DejaVuSans-32\"/>\n       <path d=\"M 28.609375 0 \nL 0.78125 72.90625 \nL 11.078125 72.90625 \nL 34.1875 11.53125 \nL 57.328125 72.90625 \nL 67.578125 72.90625 \nL 39.796875 0 \nz\n\" id=\"DejaVuSans-86\"/>\n       <path d=\"M 34.28125 27.484375 \nQ 23.390625 27.484375 19.1875 25 \nQ 14.984375 22.515625 14.984375 16.5 \nQ 14.984375 11.71875 18.140625 8.90625 \nQ 21.296875 6.109375 26.703125 6.109375 \nQ 34.1875 6.109375 38.703125 11.40625 \nQ 43.21875 16.703125 43.21875 25.484375 \nL 43.21875 27.484375 \nz\nM 52.203125 31.203125 \nL 52.203125 0 \nL 43.21875 0 \nL 43.21875 8.296875 \nQ 40.140625 3.328125 35.546875 0.953125 \nQ 30.953125 -1.421875 24.3125 -1.421875 \nQ 15.921875 -1.421875 10.953125 3.296875 \nQ 6 8.015625 6 15.921875 \nQ 6 25.140625 12.171875 29.828125 \nQ 18.359375 34.515625 30.609375 34.515625 \nL 43.21875 34.515625 \nL 43.21875 35.40625 \nQ 43.21875 41.609375 39.140625 45 \nQ 35.0625 48.390625 27.6875 48.390625 \nQ 23 48.390625 18.546875 47.265625 \nQ 14.109375 46.140625 10.015625 43.890625 \nL 10.015625 52.203125 \nQ 14.9375 54.109375 19.578125 55.046875 \nQ 24.21875 56 28.609375 56 \nQ 40.484375 56 46.34375 49.84375 \nQ 52.203125 43.703125 52.203125 31.203125 \nz\n\" id=\"DejaVuSans-97\"/>\n       <path d=\"M 9.421875 75.984375 \nL 18.40625 75.984375 \nL 18.40625 0 \nL 9.421875 0 \nz\n\" id=\"DejaVuSans-108\"/>\n       <path d=\"M 8.5 21.578125 \nL 8.5 54.6875 \nL 17.484375 54.6875 \nL 17.484375 21.921875 \nQ 17.484375 14.15625 20.5 10.265625 \nQ 23.53125 6.390625 29.59375 6.390625 \nQ 36.859375 6.390625 41.078125 11.03125 \nQ 45.3125 15.671875 45.3125 23.6875 \nL 45.3125 54.6875 \nL 54.296875 54.6875 \nL 54.296875 0 \nL 45.3125 0 \nL 45.3125 8.40625 \nQ 42.046875 3.421875 37.71875 1 \nQ 33.40625 -1.421875 27.6875 -1.421875 \nQ 18.265625 -1.421875 13.375 4.4375 \nQ 8.5 10.296875 8.5 21.578125 \nz\nM 31.109375 56 \nz\n\" id=\"DejaVuSans-117\"/>\n      </defs>\n      <use xlink:href=\"#DejaVuSans-79\"/>\n      <use x=\"78.710938\" xlink:href=\"#DejaVuSans-98\"/>\n      <use x=\"142.1875\" xlink:href=\"#DejaVuSans-106\"/>\n      <use x=\"169.970703\" xlink:href=\"#DejaVuSans-101\"/>\n      <use x=\"231.494141\" xlink:href=\"#DejaVuSans-99\"/>\n      <use x=\"286.474609\" xlink:href=\"#DejaVuSans-116\"/>\n      <use x=\"325.683594\" xlink:href=\"#DejaVuSans-105\"/>\n      <use x=\"353.466797\" xlink:href=\"#DejaVuSans-118\"/>\n      <use x=\"412.646484\" xlink:href=\"#DejaVuSans-101\"/>\n      <use x=\"474.169922\" xlink:href=\"#DejaVuSans-32\"/>\n      <use x=\"505.957031\" xlink:href=\"#DejaVuSans-86\"/>\n      <use x=\"566.615234\" xlink:href=\"#DejaVuSans-97\"/>\n      <use x=\"627.894531\" xlink:href=\"#DejaVuSans-108\"/>\n      <use x=\"655.677734\" xlink:href=\"#DejaVuSans-117\"/>\n      <use x=\"719.056641\" xlink:href=\"#DejaVuSans-101\"/>\n     </g>\n    </g>\n   </g>\n   <g id=\"line2d_12\">\n    <path clip-path=\"url(#p58c5e1a26e)\" d=\"M 88.717332 19.742859 \nL 91.855934 114.20019 \nL 94.994537 151.891368 \nL 98.133139 171.915432 \nL 101.271742 184.29963 \nL 104.410344 192.625285 \nL 107.548946 198.515658 \nL 110.687549 202.828285 \nL 113.826151 206.064881 \nL 116.964754 208.540369 \nL 120.103356 210.46258 \nL 123.241958 211.973873 \nL 126.380561 213.174602 \nL 129.519163 214.137161 \nL 132.657766 214.914782 \nL 135.796368 215.547249 \nL 138.93497 216.06471 \nL 142.073573 216.490298 \nL 145.212175 216.841956 \nL 148.350778 217.133734 \nL 151.48938 217.376731 \nL 154.627982 217.579782 \nL 157.766585 217.749969 \nL 160.905187 217.893005 \nL 164.04379 218.013522 \nL 167.182392 218.1153 \nL 170.320994 218.201434 \nL 173.459597 218.274471 \nL 176.598199 218.336512 \nL 179.736802 218.389301 \nL 182.875404 218.434288 \nL 186.014006 218.47268 \nL 189.152609 218.505489 \nL 192.291211 218.533563 \nL 195.429814 218.557612 \nL 198.568416 218.578237 \nL 201.707018 218.595945 \nL 204.845621 218.611162 \nL 207.984223 218.624252 \nL 211.122826 218.635522 \nL 214.261428 218.645233 \nL 217.40003 218.653607 \nL 220.538633 218.660835 \nL 223.677235 218.667078 \nL 226.815838 218.672473 \nL 229.95444 218.677139 \nL 233.093042 218.681178 \nL 236.231645 218.684674 \nL 239.370247 218.687704 \nL 242.50885 218.690331 \nL 245.647452 218.69261 \nL 248.786054 218.694588 \nL 251.924657 218.696305 \nL 255.063259 218.697796 \nL 258.201862 218.699093 \nL 261.340464 218.70022 \nL 264.479066 218.701201 \nL 267.617669 218.702054 \nL 270.756271 218.702797 \nL 273.894874 218.703445 \nL 277.033476 218.704008 \nL 280.172078 218.7045 \nL 283.310681 218.704928 \nL 286.449283 218.705302 \nL 289.587886 218.705628 \nL 292.726488 218.705912 \nL 295.86509 218.706161 \nL 299.003693 218.706378 \nL 302.142295 218.706567 \nL 305.280898 218.706733 \nL 308.4195 218.706877 \nL 311.558102 218.707004 \nL 314.696705 218.707114 \nL 317.835307 218.707211 \nL 320.97391 218.707295 \nL 324.112512 218.707369 \nL 327.251114 218.707434 \nL 330.389717 218.707491 \nL 333.528319 218.70754 \nL 336.666922 218.707584 \nL 339.805524 218.707622 \nL 342.944127 218.707655 \nL 346.082729 218.707684 \nL 349.221331 218.70771 \nL 352.359934 218.707732 \nL 355.498536 218.707752 \nL 358.637139 218.707769 \nL 361.775741 218.707784 \nL 364.914343 218.707798 \nL 368.052946 218.707809 \nL 371.191548 218.707819 \nL 374.330151 218.707828 \nL 377.468753 218.707836 \nL 380.607355 218.707843 \nL 383.745958 218.707849 \nL 386.88456 218.707854 \nL 390.023163 218.707859 \nL 393.161765 218.707863 \nL 396.300367 218.707867 \nL 399.43897 218.70787 \n\" style=\"fill:none;stroke:#0000ff;stroke-dasharray:14.8,6.4;stroke-dashoffset:0;stroke-width:4;\"/>\n   </g>\n   <g id=\"line2d_13\">\n    <path clip-path=\"url(#p58c5e1a26e)\" d=\"M 88.717332 162.023479 \nL 91.855934 176.972938 \nL 94.994537 172.843239 \nL 98.133139 189.234423 \nL 101.271742 180.551759 \nL 104.410344 190.290405 \nL 107.548946 191.698757 \nL 110.687549 191.363131 \nL 113.826151 196.100582 \nL 116.964754 197.280706 \nL 120.103356 206.791057 \nL 123.241958 198.474022 \nL 126.380561 202.771078 \nL 129.519163 203.55536 \nL 132.657766 209.018316 \nL 135.796368 206.481134 \nL 138.93497 206.44076 \nL 142.073573 210.23943 \nL 145.212175 210.738256 \nL 148.350778 209.384457 \nL 151.48938 211.492919 \nL 154.627982 212.988451 \nL 157.766585 211.62906 \nL 160.905187 213.510047 \nL 164.04379 213.932662 \nL 167.182392 213.906195 \nL 170.320994 214.932546 \nL 173.459597 214.778586 \nL 176.598199 215.261409 \nL 179.736802 215.374775 \nL 182.875404 215.754831 \nL 186.014006 216.022269 \nL 189.152609 216.312922 \nL 192.291211 216.564436 \nL 195.429814 216.741158 \nL 198.568416 216.896309 \nL 201.707018 217.097611 \nL 204.845621 217.262347 \nL 207.984223 217.416502 \nL 211.122826 217.539796 \nL 214.261428 217.673341 \nL 217.40003 217.744799 \nL 220.538633 217.849466 \nL 223.677235 217.922273 \nL 226.815838 218.017959 \nL 229.95444 218.074334 \nL 233.093042 218.136553 \nL 236.231645 218.195309 \nL 239.370247 218.247213 \nL 242.50885 218.295125 \nL 245.647452 218.332976 \nL 248.786054 218.371549 \nL 251.924657 218.403892 \nL 255.063259 218.433623 \nL 258.201862 218.461011 \nL 261.340464 218.485899 \nL 264.479066 218.507473 \nL 267.617669 218.528535 \nL 270.756271 218.546279 \nL 273.894874 218.561698 \nL 277.033476 218.576532 \nL 280.172078 218.589381 \nL 283.310681 218.601129 \nL 286.449283 218.611931 \nL 289.587886 218.62144 \nL 292.726488 218.629965 \nL 295.86509 218.637828 \nL 299.003693 218.644725 \nL 302.142295 218.651078 \nL 305.280898 218.65669 \nL 308.4195 218.661823 \nL 311.558102 218.666397 \nL 314.696705 218.670534 \nL 317.835307 218.674253 \nL 320.97391 218.677572 \nL 324.112512 218.680579 \nL 327.251114 218.683298 \nL 330.389717 218.685735 \nL 333.528319 218.687937 \nL 336.666922 218.689905 \nL 339.805524 218.691682 \nL 342.944127 218.693286 \nL 346.082729 218.694723 \nL 349.221331 218.696023 \nL 352.359934 218.697189 \nL 355.498536 218.698239 \nL 358.637139 218.699184 \nL 361.775741 218.700037 \nL 364.914343 218.700802 \nL 368.052946 218.70149 \nL 371.191548 218.702111 \nL 374.330151 218.702669 \nL 377.468753 218.703171 \nL 380.607355 218.703624 \nL 383.745958 218.704031 \nL 386.88456 218.704397 \nL 390.023163 218.704727 \nL 393.161765 218.705023 \nL 396.300367 218.705291 \nL 399.43897 218.705531 \n\" style=\"fill:none;stroke:#ff0000;stroke-linecap:square;stroke-width:2;\"/>\n   </g>\n   <g id=\"patch_3\">\n    <path d=\"M 73.18125 228.65612 \nL 73.18125 9.794608 \n\" style=\"fill:none;stroke:#000000;stroke-linecap:square;stroke-linejoin:miter;stroke-width:0.8;\"/>\n   </g>\n   <g id=\"patch_4\">\n    <path d=\"M 414.975052 228.65612 \nL 414.975052 9.794608 \n\" style=\"fill:none;stroke:#000000;stroke-linecap:square;stroke-linejoin:miter;stroke-width:0.8;\"/>\n   </g>\n   <g id=\"patch_5\">\n    <path d=\"M 73.18125 228.65612 \nL 414.975052 228.65612 \n\" style=\"fill:none;stroke:#000000;stroke-linecap:square;stroke-linejoin:miter;stroke-width:0.8;\"/>\n   </g>\n   <g id=\"patch_6\">\n    <path d=\"M 73.18125 9.794608 \nL 414.975052 9.794608 \n\" style=\"fill:none;stroke:#000000;stroke-linecap:square;stroke-linejoin:miter;stroke-width:0.8;\"/>\n   </g>\n   <g id=\"legend_1\">\n    <g id=\"patch_7\">\n     <path d=\"M 293.381302 84.507108 \nL 400.975052 84.507108 \nQ 404.975052 84.507108 404.975052 80.507108 \nL 404.975052 23.794608 \nQ 404.975052 19.794608 400.975052 19.794608 \nL 293.381302 19.794608 \nQ 289.381302 19.794608 289.381302 23.794608 \nL 289.381302 80.507108 \nQ 289.381302 84.507108 293.381302 84.507108 \nz\n\" style=\"fill:#ffffff;opacity:0.8;stroke:#cccccc;stroke-linejoin:miter;\"/>\n    </g>\n    <g id=\"line2d_14\">\n     <path d=\"M 297.381302 35.991483 \nL 337.381302 35.991483 \n\" style=\"fill:none;stroke:#0000ff;stroke-dasharray:14.8,6.4;stroke-dashoffset:0;stroke-width:4;\"/>\n    </g>\n    <g id=\"line2d_15\"/>\n    <g id=\"text_14\">\n     <!-- GD -->\n     <g transform=\"translate(353.381302 42.991483)scale(0.2 -0.2)\">\n      <defs>\n       <path d=\"M 59.515625 10.40625 \nL 59.515625 29.984375 \nL 43.40625 29.984375 \nL 43.40625 38.09375 \nL 69.28125 38.09375 \nL 69.28125 6.78125 \nQ 63.578125 2.734375 56.6875 0.65625 \nQ 49.8125 -1.421875 42 -1.421875 \nQ 24.90625 -1.421875 15.25 8.5625 \nQ 5.609375 18.5625 5.609375 36.375 \nQ 5.609375 54.25 15.25 64.234375 \nQ 24.90625 74.21875 42 74.21875 \nQ 49.125 74.21875 55.546875 72.453125 \nQ 61.96875 70.703125 67.390625 67.28125 \nL 67.390625 56.78125 \nQ 61.921875 61.421875 55.765625 63.765625 \nQ 49.609375 66.109375 42.828125 66.109375 \nQ 29.4375 66.109375 22.71875 58.640625 \nQ 16.015625 51.171875 16.015625 36.375 \nQ 16.015625 21.625 22.71875 14.15625 \nQ 29.4375 6.6875 42.828125 6.6875 \nQ 48.046875 6.6875 52.140625 7.59375 \nQ 56.25 8.5 59.515625 10.40625 \nz\n\" id=\"DejaVuSans-71\"/>\n       <path d=\"M 19.671875 64.796875 \nL 19.671875 8.109375 \nL 31.59375 8.109375 \nQ 46.6875 8.109375 53.6875 14.9375 \nQ 60.6875 21.78125 60.6875 36.53125 \nQ 60.6875 51.171875 53.6875 57.984375 \nQ 46.6875 64.796875 31.59375 64.796875 \nz\nM 9.8125 72.90625 \nL 30.078125 72.90625 \nQ 51.265625 72.90625 61.171875 64.09375 \nQ 71.09375 55.28125 71.09375 36.53125 \nQ 71.09375 17.671875 61.125 8.828125 \nQ 51.171875 0 30.078125 0 \nL 9.8125 0 \nz\n\" id=\"DejaVuSans-68\"/>\n      </defs>\n      <use xlink:href=\"#DejaVuSans-71\"/>\n      <use x=\"77.490234\" xlink:href=\"#DejaVuSans-68\"/>\n     </g>\n    </g>\n    <g id=\"line2d_16\">\n     <path d=\"M 297.381302 65.347733 \nL 337.381302 65.347733 \n\" style=\"fill:none;stroke:#ff0000;stroke-linecap:square;stroke-width:2;\"/>\n    </g>\n    <g id=\"line2d_17\"/>\n    <g id=\"text_15\">\n     <!-- SGD -->\n     <g transform=\"translate(353.381302 72.347733)scale(0.2 -0.2)\">\n      <defs>\n       <path d=\"M 53.515625 70.515625 \nL 53.515625 60.890625 \nQ 47.90625 63.578125 42.921875 64.890625 \nQ 37.9375 66.21875 33.296875 66.21875 \nQ 25.25 66.21875 20.875 63.09375 \nQ 16.5 59.96875 16.5 54.203125 \nQ 16.5 49.359375 19.40625 46.890625 \nQ 22.3125 44.4375 30.421875 42.921875 \nL 36.375 41.703125 \nQ 47.40625 39.59375 52.65625 34.296875 \nQ 57.90625 29 57.90625 20.125 \nQ 57.90625 9.515625 50.796875 4.046875 \nQ 43.703125 -1.421875 29.984375 -1.421875 \nQ 24.8125 -1.421875 18.96875 -0.25 \nQ 13.140625 0.921875 6.890625 3.21875 \nL 6.890625 13.375 \nQ 12.890625 10.015625 18.65625 8.296875 \nQ 24.421875 6.59375 29.984375 6.59375 \nQ 38.421875 6.59375 43.015625 9.90625 \nQ 47.609375 13.234375 47.609375 19.390625 \nQ 47.609375 24.75 44.3125 27.78125 \nQ 41.015625 30.8125 33.5 32.328125 \nL 27.484375 33.5 \nQ 16.453125 35.6875 11.515625 40.375 \nQ 6.59375 45.0625 6.59375 53.421875 \nQ 6.59375 63.09375 13.40625 68.65625 \nQ 20.21875 74.21875 32.171875 74.21875 \nQ 37.3125 74.21875 42.625 73.28125 \nQ 47.953125 72.359375 53.515625 70.515625 \nz\n\" id=\"DejaVuSans-83\"/>\n      </defs>\n      <use xlink:href=\"#DejaVuSans-83\"/>\n      <use x=\"63.476562\" xlink:href=\"#DejaVuSans-71\"/>\n      <use x=\"140.966797\" xlink:href=\"#DejaVuSans-68\"/>\n     </g>\n    </g>\n   </g>\n  </g>\n </g>\n <defs>\n  <clipPath id=\"p58c5e1a26e\">\n   <rect height=\"218.861512\" width=\"341.793802\" x=\"73.18125\" y=\"9.794608\"/>\n  </clipPath>\n </defs>\n</svg>\n",
      "image/png": "[encoded data removed]"
     },
     "metadata": {
      "needs_background": "light"
     }
    }
   ],
   "source": [
    "import matplotlib.pyplot as plt\n",
    "%matplotlib inline\n",
    "\n",
    "fig = plt.figure(figsize=(6, 4))\n",
    "\n",
    "epochs_gd = range(len(objvals_gd))\n",
    "epochs_sgd = range(len(objvals_sgd))\n",
    "\n",
    "line0, = plt.plot(epochs_gd, objvals_gd, '--b', LineWidth=4)\n",
    "line1, = plt.plot(epochs_sgd, objvals_sgd, '-r', LineWidth=2)\n",
    "plt.xlabel('Epochs', FontSize=20)\n",
    "plt.ylabel('Objective Value', FontSize=20)\n",
    "plt.xticks(FontSize=16)\n",
    "plt.yticks(FontSize=16)\n",
    "plt.legend([line0, line1], ['GD', 'SGD'], fontsize=20)\n",
    "plt.tight_layout()\n",
    "plt.show()\n",
    "fig.savefig('compare_gd_sgd.pdf', format='pdf', dpi=1200)"
   ]
  },
  {
   "cell_type": "markdown",
   "metadata": {},
   "source": [
    "# 5. Prediction"
   ]
  },
  {
   "cell_type": "code",
   "execution_count": 14,
   "metadata": {},
   "outputs": [],
   "source": [
    "# Predict class label\n",
    "# Inputs:\n",
    "#     w: d-by-1 matrix\n",
    "#     X: m-by-d matrix\n",
    "# Return:\n",
    "#     f: m-by-1 matrix, the predictions\n",
    "def predict(w, X):\n",
    "    xw = numpy.dot(X, w)\n",
    "    f = numpy.sign(xw)\n",
    "    return f"
   ]
  },
  {
   "cell_type": "code",
   "execution_count": 15,
   "metadata": {},
   "outputs": [
    {
     "output_type": "stream",
     "name": "stdout",
     "text": [
      "Training classification error is 0.228125\n"
     ]
    }
   ],
   "source": [
    "# evaluate training error\n",
    "f_train = predict(w, x_train)\n",
    "diff = numpy.abs(f_train - y_train) / 2\n",
    "error_train = numpy.mean(diff)\n",
    "print('Training classification error is ' + str(error_train))"
   ]
  },
  {
   "cell_type": "code",
   "execution_count": 16,
   "metadata": {},
   "outputs": [
    {
     "output_type": "stream",
     "name": "stdout",
     "text": [
      "Test classification error is 0.1875\n"
     ]
    }
   ],
   "source": [
    "# evaluate test error\n",
    "f_test = predict(w, x_test)\n",
    "diff = numpy.abs(f_test - y_test) / 2\n",
    "error_test = numpy.mean(diff)\n",
    "print('Test classification error is ' + str(error_test))"
   ]
  },
  {
   "cell_type": "markdown",
   "metadata": {},
   "source": [
    "# 6. Mini-batch SGD (fill the code)\n",
    "\n"
   ]
  },
  {
   "cell_type": "markdown",
   "metadata": {},
   "source": [
    "## 6.1. Compute the objective $Q_I$ and its gradient using a batch of samples\n",
    "\n",
    "Define $Q_I (w) = \\frac{1}{b} \\sum_{i \\in I} \\log \\Big( 1 + \\exp \\big( - y_i x_i^T w \\big) \\Big) + \\frac{\\lambda}{2} \\| w \\|_2^2 $, where $I$ is a set containing $b$ indices randomly drawn from $\\{ 1, \\cdots , n \\}$ without replacement.\n",
    "\n",
    "The stochastic gradient at $w$ is $g_I = \\frac{\\partial Q_I }{ \\partial w} = \\frac{1}{b} \\sum_{i \\in I} \\frac{- y_i x_i }{1 + \\exp ( y_i x_i^T w)} + \\lambda w$."
   ]
  },
  {
   "cell_type": "code",
   "execution_count": 17,
   "metadata": {},
   "outputs": [],
   "source": [
    "# Calculate the objective Q_I and the gradient of Q_I\n",
    "# Inputs:\n",
    "#     w: d-by-1 matrix\n",
    "#     xi: b-by-d matrix\n",
    "#     yi: b-by-1 matrix\n",
    "#     lam: scalar, the regularization parameter\n",
    "#     b: integer, the batch size\n",
    "# Return:\n",
    "#     obj: scalar, the objective Q_i\n",
    "#     g: d-by-1 matrix, gradient of Q_i\n",
    "def mb_stochastic_objective_gradient(w, xi, yi, lam, b):\n",
    "    # Fill the function\n",
    "    # Follow the implementation of stochastic_objective_gradient\n",
    "    # Use matrix-vector multiplication; do not use FOR LOOP of vector-vector multiplications\n",
    "    yx = numpy.multiply(yi, xi)    # b-by-d matrix\n",
    "    yxw = numpy.dot(yx, w) # b-by-1 matrix\n",
    "    vec1 = numpy.exp(-yxw) # b-by-1 matrix\n",
    "    vec2 = numpy.log(1 + vec1) # b-by-1 matrix\n",
    "    loss = numpy.mean(vec2) # scalar\n",
    "\n",
    "    # Compute the objective function\n",
    "    reg = lam / 2 * numpy.sum(w * w) # scalar\n",
    "    obj = loss + reg # scalar\n",
    "\n",
    "    # Compute the gradient\n",
    "    g_vec1 = numpy.exp(yxw) # b-by-1 matrix\n",
    "    g_vec2 = numpy.divide(-yx, 1+g_vec1) # b-by-d matrix\n",
    "    g_vec3 = numpy.mean(g_vec2, axis=0).T # d-by-1 matrix\n",
    "    g = g_vec3 + lam*w # d-by-1 matrix\n",
    "\n",
    "    # Return\n",
    "    return obj, g"
   ]
  },
  {
   "cell_type": "markdown",
   "metadata": {},
   "source": [
    "## 6.2. Implement mini-batch SGD\n",
    "\n",
    "Hints:\n",
    "1. In every epoch, randomly permute the $n$ samples (just like SGD).\n",
    "2. Each epoch has $\\frac{n}{b}$ iterations. In every iteration, use $b$ samples, and compute the gradient and objective using the ``mb_stochastic_objective_gradient`` function. In the next iteration, use the next $b$ samples, and so on.\n"
   ]
  },
  {
   "cell_type": "code",
   "execution_count": 18,
   "metadata": {},
   "outputs": [],
   "source": [
    "# Mini-Batch SGD for solving logistic regression\n",
    "# Inputs:\n",
    "#     x: n-by-d matrix\n",
    "#     y: n-by-1 matrix\n",
    "#     lam: scalar, the regularization parameter\n",
    "#     b: integer, the batch size\n",
    "#     stepsize: scalar\n",
    "#     max_epoch: integer, the maximal epochs\n",
    "#     w: d-by-1 matrix, initialization of w\n",
    "# Return:\n",
    "#     w: the solution\n",
    "#     objvals: record of each iteration's objective value\n",
    "def mb_sgd(x, y, lam, b, stepsize, max_epoch=100, w=None):\n",
    "    # Fill the function\n",
    "    # Follow the implementation of sgd\n",
    "    # Record one objective value per epoch (not per iteration!)\n",
    "    n, d = x.shape\n",
    "    print( \"Shape of our data is {}\".format( x.shape ) )\n",
    "    objvals = numpy.zeros(max_epoch) # store the objective values\n",
    "    if w is None:\n",
    "        w = numpy.zeros((d, 1)) # zero initialization\n",
    "    \n",
    "    for t in range(max_epoch):\n",
    "        # randomly shuffle the samples\n",
    "        rand_indices = numpy.random.permutation(n)\n",
    "        x_rand = x[rand_indices, :]\n",
    "        y_rand = y[rand_indices, :]\n",
    "\n",
    "        objval = 0\n",
    "        start_index = 0\n",
    "        end_index = b\n",
    "        for i in range( (n//b) ):\n",
    "            xi = x_rand[ (b*i):(b*(i+1)), : ]\n",
    "            yi = y_rand[ (b*i):(b*(i+1)), : ]\n",
    "            obj, g = mb_stochastic_objective_gradient(w, xi, yi, lam, b)\n",
    "            objval += obj\n",
    "            w -= stepsize * g\n",
    "            \n",
    "        stepsize *= 0.9\n",
    "        objval /= (n//b)\n",
    "        objvals[t] = objval\n",
    "        print( \"Objective value at epoch t={} is {}.\".format(t, objval))\n",
    "\n",
    "        \n",
    "\n",
    "    return w, objvals"
   ]
  },
  {
   "cell_type": "markdown",
   "metadata": {},
   "source": [
    "## 6.3. Run MB-SGD"
   ]
  },
  {
   "cell_type": "code",
   "execution_count": 19,
   "metadata": {
    "tags": []
   },
   "outputs": [
    {
     "output_type": "stream",
     "name": "stdout",
     "text": [
      "Shape of our data is (640, 9)\n",
      "Objective value at epoch t=0 is 0.593533943512673.\n",
      "Objective value at epoch t=1 is 0.5214463068172538.\n",
      "Objective value at epoch t=2 is 0.5036518696887253.\n",
      "Objective value at epoch t=3 is 0.4955921376106233.\n",
      "Objective value at epoch t=4 is 0.4914027421331914.\n",
      "Objective value at epoch t=5 is 0.48886096219061903.\n",
      "Objective value at epoch t=6 is 0.48740266178634084.\n",
      "Objective value at epoch t=7 is 0.4866051273145449.\n",
      "Objective value at epoch t=8 is 0.48562023227351253.\n",
      "Objective value at epoch t=9 is 0.4850957266919404.\n",
      "Objective value at epoch t=10 is 0.4848395474961148.\n",
      "Objective value at epoch t=11 is 0.48450618969840153.\n",
      "Objective value at epoch t=12 is 0.48413378381869776.\n",
      "Objective value at epoch t=13 is 0.48395173301259764.\n",
      "Objective value at epoch t=14 is 0.4837827841756514.\n",
      "Objective value at epoch t=15 is 0.48362782916965197.\n",
      "Objective value at epoch t=16 is 0.48351346185195476.\n",
      "Objective value at epoch t=17 is 0.48332360818303155.\n",
      "Objective value at epoch t=18 is 0.48329106344344386.\n",
      "Objective value at epoch t=19 is 0.4832551002622538.\n",
      "Objective value at epoch t=20 is 0.4830995740557086.\n",
      "Objective value at epoch t=21 is 0.48303099118408344.\n",
      "Objective value at epoch t=22 is 0.48296436603813325.\n",
      "Objective value at epoch t=23 is 0.4829380835048183.\n",
      "Objective value at epoch t=24 is 0.48289360809036885.\n",
      "Objective value at epoch t=25 is 0.4828496304332197.\n",
      "Objective value at epoch t=26 is 0.48282028558864065.\n",
      "Objective value at epoch t=27 is 0.4827564876606819.\n",
      "Objective value at epoch t=28 is 0.4827526594390804.\n",
      "Objective value at epoch t=29 is 0.48273530655476593.\n",
      "Objective value at epoch t=30 is 0.48267886765242196.\n",
      "Objective value at epoch t=31 is 0.48265380001292923.\n",
      "Objective value at epoch t=32 is 0.48266386064820554.\n",
      "Objective value at epoch t=33 is 0.482631215818898.\n",
      "Objective value at epoch t=34 is 0.48261434966485284.\n",
      "Objective value at epoch t=35 is 0.4825987185688804.\n",
      "Objective value at epoch t=36 is 0.48258561148816614.\n",
      "Objective value at epoch t=37 is 0.4825720554423998.\n",
      "Objective value at epoch t=38 is 0.482561123520199.\n",
      "Objective value at epoch t=39 is 0.4825532855177876.\n",
      "Objective value at epoch t=40 is 0.48254845253316503.\n",
      "Objective value at epoch t=41 is 0.48253724259214065.\n",
      "Objective value at epoch t=42 is 0.4825326440152623.\n",
      "Objective value at epoch t=43 is 0.4825315912764836.\n",
      "Objective value at epoch t=44 is 0.48252137450442606.\n",
      "Objective value at epoch t=45 is 0.4825192433630348.\n",
      "Objective value at epoch t=46 is 0.48251157128053823.\n",
      "Objective value at epoch t=47 is 0.48250762825365384.\n",
      "Objective value at epoch t=48 is 0.4825057823398525.\n",
      "Objective value at epoch t=49 is 0.482501769832521.\n",
      "Objective value at epoch t=50 is 0.4824988041105824.\n",
      "Objective value at epoch t=51 is 0.4824956929885532.\n",
      "Objective value at epoch t=52 is 0.4824943705076882.\n",
      "Objective value at epoch t=53 is 0.4824921619631768.\n",
      "Objective value at epoch t=54 is 0.4824900283419312.\n",
      "Objective value at epoch t=55 is 0.4824885135407701.\n",
      "Objective value at epoch t=56 is 0.4824870133124778.\n",
      "Objective value at epoch t=57 is 0.48248620696986455.\n",
      "Objective value at epoch t=58 is 0.4824839509163533.\n",
      "Objective value at epoch t=59 is 0.48248353614779854.\n",
      "Objective value at epoch t=60 is 0.482482660681682.\n",
      "Objective value at epoch t=61 is 0.4824816652348625.\n",
      "Objective value at epoch t=62 is 0.48248118554702374.\n",
      "Objective value at epoch t=63 is 0.48248037658269605.\n",
      "Objective value at epoch t=64 is 0.4824792639999009.\n",
      "Objective value at epoch t=65 is 0.48247896564439036.\n",
      "Objective value at epoch t=66 is 0.4824784411323123.\n",
      "Objective value at epoch t=67 is 0.48247783252294374.\n",
      "Objective value at epoch t=68 is 0.4824772534767977.\n",
      "Objective value at epoch t=69 is 0.48247695651032185.\n",
      "Objective value at epoch t=70 is 0.4824768969574557.\n",
      "Objective value at epoch t=71 is 0.4824762033760067.\n",
      "Objective value at epoch t=72 is 0.4824760988462559.\n",
      "Objective value at epoch t=73 is 0.48247568724126727.\n",
      "Objective value at epoch t=74 is 0.48247559924570976.\n",
      "Objective value at epoch t=75 is 0.48247532916934394.\n",
      "Objective value at epoch t=76 is 0.4824752368526367.\n",
      "Objective value at epoch t=77 is 0.48247495237288324.\n",
      "Objective value at epoch t=78 is 0.48247488459354637.\n",
      "Objective value at epoch t=79 is 0.48247470526097214.\n",
      "Objective value at epoch t=80 is 0.48247459477667387.\n",
      "Objective value at epoch t=81 is 0.4824745065896644.\n",
      "Objective value at epoch t=82 is 0.48247443633529424.\n",
      "Objective value at epoch t=83 is 0.48247429997122043.\n",
      "Objective value at epoch t=84 is 0.48247429163530564.\n",
      "Objective value at epoch t=85 is 0.48247418326886243.\n",
      "Objective value at epoch t=86 is 0.4824740714992391.\n",
      "Objective value at epoch t=87 is 0.4824740276403582.\n",
      "Objective value at epoch t=88 is 0.4824740153977958.\n",
      "Objective value at epoch t=89 is 0.4824739678415468.\n",
      "Objective value at epoch t=90 is 0.48247389612869584.\n",
      "Objective value at epoch t=91 is 0.48247389994246365.\n",
      "Objective value at epoch t=92 is 0.4824738368282836.\n",
      "Objective value at epoch t=93 is 0.48247381716672655.\n",
      "Objective value at epoch t=94 is 0.48247377504774375.\n",
      "Objective value at epoch t=95 is 0.48247374189389935.\n",
      "Objective value at epoch t=96 is 0.4824737227415114.\n",
      "Objective value at epoch t=97 is 0.482473716289092.\n",
      "Objective value at epoch t=98 is 0.4824736876176156.\n",
      "Objective value at epoch t=99 is 0.48247366075344694.\n"
     ]
    }
   ],
   "source": [
    "# MB-SGD with batch size b=8\n",
    "lam = 1E-6 # do not change\n",
    "b = 8 # do not change\n",
    "stepsize = 0.04 # you must tune this parameter\n",
    "\n",
    "w, objvals_mbsgd8 = mb_sgd(x_train, y_train, lam, b, stepsize)"
   ]
  },
  {
   "cell_type": "code",
   "execution_count": 20,
   "metadata": {
    "tags": []
   },
   "outputs": [
    {
     "output_type": "stream",
     "name": "stdout",
     "text": [
      "Shape of our data is (640, 9)\n",
      "Objective value at epoch t=0 is 0.6118001988229488.\n",
      "Objective value at epoch t=1 is 0.5344721955161715.\n",
      "Objective value at epoch t=2 is 0.5115151398588969.\n",
      "Objective value at epoch t=3 is 0.5010848012291278.\n",
      "Objective value at epoch t=4 is 0.49495989297029797.\n",
      "Objective value at epoch t=5 is 0.4922612675186199.\n",
      "Objective value at epoch t=6 is 0.4897828002203187.\n",
      "Objective value at epoch t=7 is 0.4881471604575062.\n",
      "Objective value at epoch t=8 is 0.4877060846984495.\n",
      "Objective value at epoch t=9 is 0.4865711969831071.\n",
      "Objective value at epoch t=10 is 0.48590361907957674.\n",
      "Objective value at epoch t=11 is 0.4856486412892248.\n",
      "Objective value at epoch t=12 is 0.48530780350332137.\n",
      "Objective value at epoch t=13 is 0.48490039586786676.\n",
      "Objective value at epoch t=14 is 0.48461502233730125.\n",
      "Objective value at epoch t=15 is 0.48440291041665995.\n",
      "Objective value at epoch t=16 is 0.48432392461806595.\n",
      "Objective value at epoch t=17 is 0.4841473534840418.\n",
      "Objective value at epoch t=18 is 0.4840781796935499.\n",
      "Objective value at epoch t=19 is 0.48389928423511064.\n",
      "Objective value at epoch t=20 is 0.4837861673833223.\n",
      "Objective value at epoch t=21 is 0.48371154690368784.\n",
      "Objective value at epoch t=22 is 0.4836492989513933.\n",
      "Objective value at epoch t=23 is 0.4834990229635694.\n",
      "Objective value at epoch t=24 is 0.48345893600025114.\n",
      "Objective value at epoch t=25 is 0.483417611070586.\n",
      "Objective value at epoch t=26 is 0.48333836096567345.\n",
      "Objective value at epoch t=27 is 0.48335986833324124.\n",
      "Objective value at epoch t=28 is 0.48326117086912773.\n",
      "Objective value at epoch t=29 is 0.483262537325314.\n",
      "Objective value at epoch t=30 is 0.48322039368286757.\n",
      "Objective value at epoch t=31 is 0.4831828447973806.\n",
      "Objective value at epoch t=32 is 0.48317097312273516.\n",
      "Objective value at epoch t=33 is 0.48314741655592686.\n",
      "Objective value at epoch t=34 is 0.4831563810262988.\n",
      "Objective value at epoch t=35 is 0.4831206202490147.\n",
      "Objective value at epoch t=36 is 0.4830915816739618.\n",
      "Objective value at epoch t=37 is 0.48309865039134864.\n",
      "Objective value at epoch t=38 is 0.48307070004259456.\n",
      "Objective value at epoch t=39 is 0.48308653317002515.\n",
      "Objective value at epoch t=40 is 0.4830712450611216.\n",
      "Objective value at epoch t=41 is 0.4830570432577416.\n",
      "Objective value at epoch t=42 is 0.48305009624618156.\n",
      "Objective value at epoch t=43 is 0.48304496182093865.\n",
      "Objective value at epoch t=44 is 0.4830368214268231.\n",
      "Objective value at epoch t=45 is 0.4830327996922321.\n",
      "Objective value at epoch t=46 is 0.4830289531194663.\n",
      "Objective value at epoch t=47 is 0.4830181517866099.\n",
      "Objective value at epoch t=48 is 0.48301287800949516.\n",
      "Objective value at epoch t=49 is 0.48301036009450754.\n",
      "Objective value at epoch t=50 is 0.4830088193278891.\n",
      "Objective value at epoch t=51 is 0.4830062814364976.\n",
      "Objective value at epoch t=52 is 0.4830052422497203.\n",
      "Objective value at epoch t=53 is 0.48300135171900027.\n",
      "Objective value at epoch t=54 is 0.48299577273586936.\n",
      "Objective value at epoch t=55 is 0.48299764227697173.\n",
      "Objective value at epoch t=56 is 0.48299434536433655.\n",
      "Objective value at epoch t=57 is 0.4829938957111356.\n",
      "Objective value at epoch t=58 is 0.48299236577239446.\n",
      "Objective value at epoch t=59 is 0.4829907847249243.\n",
      "Objective value at epoch t=60 is 0.4829900292351608.\n",
      "Objective value at epoch t=61 is 0.4829891175396616.\n",
      "Objective value at epoch t=62 is 0.4829875501099946.\n",
      "Objective value at epoch t=63 is 0.48298645790302697.\n",
      "Objective value at epoch t=64 is 0.48298739526762924.\n",
      "Objective value at epoch t=65 is 0.48298569976153305.\n",
      "Objective value at epoch t=66 is 0.48298493897415595.\n",
      "Objective value at epoch t=67 is 0.48298455198903467.\n",
      "Objective value at epoch t=68 is 0.4829847164006143.\n",
      "Objective value at epoch t=69 is 0.48298407958915124.\n",
      "Objective value at epoch t=70 is 0.48298304594713415.\n",
      "Objective value at epoch t=71 is 0.48298317409526625.\n",
      "Objective value at epoch t=72 is 0.4829828066824094.\n",
      "Objective value at epoch t=73 is 0.48298267276501783.\n",
      "Objective value at epoch t=74 is 0.48298229242967905.\n",
      "Objective value at epoch t=75 is 0.48298202639267673.\n",
      "Objective value at epoch t=76 is 0.4829821415039365.\n",
      "Objective value at epoch t=77 is 0.4829818456575823.\n",
      "Objective value at epoch t=78 is 0.482981725563482.\n",
      "Objective value at epoch t=79 is 0.48298147445701944.\n",
      "Objective value at epoch t=80 is 0.48298112960424555.\n",
      "Objective value at epoch t=81 is 0.482981082316682.\n",
      "Objective value at epoch t=82 is 0.48298120102770953.\n",
      "Objective value at epoch t=83 is 0.48298109931959576.\n",
      "Objective value at epoch t=84 is 0.48298092768311507.\n",
      "Objective value at epoch t=85 is 0.4829808450240245.\n",
      "Objective value at epoch t=86 is 0.48298080856561326.\n",
      "Objective value at epoch t=87 is 0.48298073465083274.\n",
      "Objective value at epoch t=88 is 0.4829806429030398.\n",
      "Objective value at epoch t=89 is 0.48298063904092575.\n",
      "Objective value at epoch t=90 is 0.4829806062988438.\n",
      "Objective value at epoch t=91 is 0.48298053092793064.\n",
      "Objective value at epoch t=92 is 0.48298054430439635.\n",
      "Objective value at epoch t=93 is 0.48298050292537786.\n",
      "Objective value at epoch t=94 is 0.48298043006315705.\n",
      "Objective value at epoch t=95 is 0.4829804039045483.\n",
      "Objective value at epoch t=96 is 0.48298041448831813.\n",
      "Objective value at epoch t=97 is 0.4829803948336446.\n",
      "Objective value at epoch t=98 is 0.4829803644881103.\n",
      "Objective value at epoch t=99 is 0.4829803061374923.\n"
     ]
    }
   ],
   "source": [
    "# MB-SGD with batch size b=64\n",
    "lam = 1E-6 # do not change\n",
    "b = 64 # do not change\n",
    "stepsize = 0.25 # you must tune this parameter\n",
    "\n",
    "w, objvals_mbsgd64 = mb_sgd(x_train, y_train, lam, b, stepsize)"
   ]
  },
  {
   "cell_type": "markdown",
   "metadata": {},
   "source": [
    "# 7. Plot and compare GD, SGD, and MB-SGD"
   ]
  },
  {
   "cell_type": "markdown",
   "metadata": {},
   "source": [
    "You are required to compare the following algorithms:\n",
    "\n",
    "- Gradient descent (GD)\n",
    "\n",
    "- SGD\n",
    "\n",
    "- MB-SGD with b=8\n",
    "\n",
    "- MB-SGD with b=64\n",
    "\n",
    "Follow the code in Section 4 to plot ```objective function value``` against ```epochs```. There should be four curves in the plot; each curve corresponds to one algorithm."
   ]
  },
  {
   "cell_type": "markdown",
   "metadata": {},
   "source": [
    "Hint: Logistic regression with $\\ell_2$-norm regularization is a strongly convex optimization problem. All the algorithms will converge to the same solution. **In the end, the ``objective function value`` of the 4 algorithms will be the same. If not the same, your implementation must be wrong. Do NOT submit wrong code and wrong result!**"
   ]
  },
  {
   "cell_type": "code",
   "execution_count": 21,
   "metadata": {},
   "outputs": [
    {
     "output_type": "display_data",
     "data": {
      "text/plain": "<Figure size 432x288 with 1 Axes>",
      "image/svg+xml": "<?xml version=\"1.0\" encoding=\"utf-8\" standalone=\"no\"?>\n<!DOCTYPE svg PUBLIC \"-//W3C//DTD SVG 1.1//EN\"\n  \"http://www.w3.org/Graphics/SVG/1.1/DTD/svg11.dtd\">\n<!-- Created with matplotlib (https://matplotlib.org/) -->\n<svg height=\"281.69737pt\" version=\"1.1\" viewBox=\"0 0 425.047572 281.69737\" width=\"425.047572pt\" xmlns=\"http://www.w3.org/2000/svg\" xmlns:xlink=\"http://www.w3.org/1999/xlink\">\n <metadata>\n  <rdf:RDF xmlns:cc=\"http://creativecommons.org/ns#\" xmlns:dc=\"http://purl.org/dc/elements/1.1/\" xmlns:rdf=\"http://www.w3.org/1999/02/22-rdf-syntax-ns#\">\n   <cc:Work>\n    <dc:type rdf:resource=\"http://purl.org/dc/dcmitype/StillImage\"/>\n    <dc:date>2021-03-07T09:01:29.086935</dc:date>\n    <dc:format>image/svg+xml</dc:format>\n    <dc:creator>\n     <cc:Agent>\n      <dc:title>Matplotlib v3.3.4, https://matplotlib.org/</dc:title>\n     </cc:Agent>\n    </dc:creator>\n   </cc:Work>\n  </rdf:RDF>\n </metadata>\n <defs>\n  <style type=\"text/css\">*{stroke-linecap:butt;stroke-linejoin:round;}</style>\n </defs>\n <g id=\"figure_1\">\n  <g id=\"patch_1\">\n   <path d=\"M 0 281.69737 \nL 425.047572 281.69737 \nL 425.047572 0 \nL 0 0 \nz\n\" style=\"fill:none;\"/>\n  </g>\n  <g id=\"axes_1\">\n   <g id=\"patch_2\">\n    <path d=\"M 73.18125 228.65612 \nL 414.975052 228.65612 \nL 414.975052 9.794608 \nL 73.18125 9.794608 \nz\n\" style=\"fill:#ffffff;\"/>\n   </g>\n   <g id=\"matplotlib.axis_1\">\n    <g id=\"xtick_1\">\n     <g id=\"line2d_1\">\n      <defs>\n       <path d=\"M 0 0 \nL 0 3.5 \n\" id=\"m1bc56ef3c1\" style=\"stroke:#000000;stroke-width:0.8;\"/>\n      </defs>\n      <g>\n       <use style=\"stroke:#000000;stroke-width:0.8;\" x=\"88.717332\" xlink:href=\"#m1bc56ef3c1\" y=\"228.65612\"/>\n      </g>\n     </g>\n     <g id=\"text_1\">\n      <!-- 0 -->\n      <g transform=\"translate(83.627332 247.81362)scale(0.16 -0.16)\">\n       <defs>\n        <path d=\"M 31.78125 66.40625 \nQ 24.171875 66.40625 20.328125 58.90625 \nQ 16.5 51.421875 16.5 36.375 \nQ 16.5 21.390625 20.328125 13.890625 \nQ 24.171875 6.390625 31.78125 6.390625 \nQ 39.453125 6.390625 43.28125 13.890625 \nQ 47.125 21.390625 47.125 36.375 \nQ 47.125 51.421875 43.28125 58.90625 \nQ 39.453125 66.40625 31.78125 66.40625 \nz\nM 31.78125 74.21875 \nQ 44.046875 74.21875 50.515625 64.515625 \nQ 56.984375 54.828125 56.984375 36.375 \nQ 56.984375 17.96875 50.515625 8.265625 \nQ 44.046875 -1.421875 31.78125 -1.421875 \nQ 19.53125 -1.421875 13.0625 8.265625 \nQ 6.59375 17.96875 6.59375 36.375 \nQ 6.59375 54.828125 13.0625 64.515625 \nQ 19.53125 74.21875 31.78125 74.21875 \nz\n\" id=\"DejaVuSans-48\"/>\n       </defs>\n       <use xlink:href=\"#DejaVuSans-48\"/>\n      </g>\n     </g>\n    </g>\n    <g id=\"xtick_2\">\n     <g id=\"line2d_2\">\n      <g>\n       <use style=\"stroke:#000000;stroke-width:0.8;\" x=\"151.48938\" xlink:href=\"#m1bc56ef3c1\" y=\"228.65612\"/>\n      </g>\n     </g>\n     <g id=\"text_2\">\n      <!-- 20 -->\n      <g transform=\"translate(141.30938 247.81362)scale(0.16 -0.16)\">\n       <defs>\n        <path d=\"M 19.1875 8.296875 \nL 53.609375 8.296875 \nL 53.609375 0 \nL 7.328125 0 \nL 7.328125 8.296875 \nQ 12.9375 14.109375 22.625 23.890625 \nQ 32.328125 33.6875 34.8125 36.53125 \nQ 39.546875 41.84375 41.421875 45.53125 \nQ 43.3125 49.21875 43.3125 52.78125 \nQ 43.3125 58.59375 39.234375 62.25 \nQ 35.15625 65.921875 28.609375 65.921875 \nQ 23.96875 65.921875 18.8125 64.3125 \nQ 13.671875 62.703125 7.8125 59.421875 \nL 7.8125 69.390625 \nQ 13.765625 71.78125 18.9375 73 \nQ 24.125 74.21875 28.421875 74.21875 \nQ 39.75 74.21875 46.484375 68.546875 \nQ 53.21875 62.890625 53.21875 53.421875 \nQ 53.21875 48.921875 51.53125 44.890625 \nQ 49.859375 40.875 45.40625 35.40625 \nQ 44.1875 33.984375 37.640625 27.21875 \nQ 31.109375 20.453125 19.1875 8.296875 \nz\n\" id=\"DejaVuSans-50\"/>\n       </defs>\n       <use xlink:href=\"#DejaVuSans-50\"/>\n       <use x=\"63.623047\" xlink:href=\"#DejaVuSans-48\"/>\n      </g>\n     </g>\n    </g>\n    <g id=\"xtick_3\">\n     <g id=\"line2d_3\">\n      <g>\n       <use style=\"stroke:#000000;stroke-width:0.8;\" x=\"214.261428\" xlink:href=\"#m1bc56ef3c1\" y=\"228.65612\"/>\n      </g>\n     </g>\n     <g id=\"text_3\">\n      <!-- 40 -->\n      <g transform=\"translate(204.081428 247.81362)scale(0.16 -0.16)\">\n       <defs>\n        <path d=\"M 37.796875 64.3125 \nL 12.890625 25.390625 \nL 37.796875 25.390625 \nz\nM 35.203125 72.90625 \nL 47.609375 72.90625 \nL 47.609375 25.390625 \nL 58.015625 25.390625 \nL 58.015625 17.1875 \nL 47.609375 17.1875 \nL 47.609375 0 \nL 37.796875 0 \nL 37.796875 17.1875 \nL 4.890625 17.1875 \nL 4.890625 26.703125 \nz\n\" id=\"DejaVuSans-52\"/>\n       </defs>\n       <use xlink:href=\"#DejaVuSans-52\"/>\n       <use x=\"63.623047\" xlink:href=\"#DejaVuSans-48\"/>\n      </g>\n     </g>\n    </g>\n    <g id=\"xtick_4\">\n     <g id=\"line2d_4\">\n      <g>\n       <use style=\"stroke:#000000;stroke-width:0.8;\" x=\"277.033476\" xlink:href=\"#m1bc56ef3c1\" y=\"228.65612\"/>\n      </g>\n     </g>\n     <g id=\"text_4\">\n      <!-- 60 -->\n      <g transform=\"translate(266.853476 247.81362)scale(0.16 -0.16)\">\n       <defs>\n        <path d=\"M 33.015625 40.375 \nQ 26.375 40.375 22.484375 35.828125 \nQ 18.609375 31.296875 18.609375 23.390625 \nQ 18.609375 15.53125 22.484375 10.953125 \nQ 26.375 6.390625 33.015625 6.390625 \nQ 39.65625 6.390625 43.53125 10.953125 \nQ 47.40625 15.53125 47.40625 23.390625 \nQ 47.40625 31.296875 43.53125 35.828125 \nQ 39.65625 40.375 33.015625 40.375 \nz\nM 52.59375 71.296875 \nL 52.59375 62.3125 \nQ 48.875 64.0625 45.09375 64.984375 \nQ 41.3125 65.921875 37.59375 65.921875 \nQ 27.828125 65.921875 22.671875 59.328125 \nQ 17.53125 52.734375 16.796875 39.40625 \nQ 19.671875 43.65625 24.015625 45.921875 \nQ 28.375 48.1875 33.59375 48.1875 \nQ 44.578125 48.1875 50.953125 41.515625 \nQ 57.328125 34.859375 57.328125 23.390625 \nQ 57.328125 12.15625 50.6875 5.359375 \nQ 44.046875 -1.421875 33.015625 -1.421875 \nQ 20.359375 -1.421875 13.671875 8.265625 \nQ 6.984375 17.96875 6.984375 36.375 \nQ 6.984375 53.65625 15.1875 63.9375 \nQ 23.390625 74.21875 37.203125 74.21875 \nQ 40.921875 74.21875 44.703125 73.484375 \nQ 48.484375 72.75 52.59375 71.296875 \nz\n\" id=\"DejaVuSans-54\"/>\n       </defs>\n       <use xlink:href=\"#DejaVuSans-54\"/>\n       <use x=\"63.623047\" xlink:href=\"#DejaVuSans-48\"/>\n      </g>\n     </g>\n    </g>\n    <g id=\"xtick_5\">\n     <g id=\"line2d_5\">\n      <g>\n       <use style=\"stroke:#000000;stroke-width:0.8;\" x=\"339.805524\" xlink:href=\"#m1bc56ef3c1\" y=\"228.65612\"/>\n      </g>\n     </g>\n     <g id=\"text_5\">\n      <!-- 80 -->\n      <g transform=\"translate(329.625524 247.81362)scale(0.16 -0.16)\">\n       <defs>\n        <path d=\"M 31.78125 34.625 \nQ 24.75 34.625 20.71875 30.859375 \nQ 16.703125 27.09375 16.703125 20.515625 \nQ 16.703125 13.921875 20.71875 10.15625 \nQ 24.75 6.390625 31.78125 6.390625 \nQ 38.8125 6.390625 42.859375 10.171875 \nQ 46.921875 13.96875 46.921875 20.515625 \nQ 46.921875 27.09375 42.890625 30.859375 \nQ 38.875 34.625 31.78125 34.625 \nz\nM 21.921875 38.8125 \nQ 15.578125 40.375 12.03125 44.71875 \nQ 8.5 49.078125 8.5 55.328125 \nQ 8.5 64.0625 14.71875 69.140625 \nQ 20.953125 74.21875 31.78125 74.21875 \nQ 42.671875 74.21875 48.875 69.140625 \nQ 55.078125 64.0625 55.078125 55.328125 \nQ 55.078125 49.078125 51.53125 44.71875 \nQ 48 40.375 41.703125 38.8125 \nQ 48.828125 37.15625 52.796875 32.3125 \nQ 56.78125 27.484375 56.78125 20.515625 \nQ 56.78125 9.90625 50.3125 4.234375 \nQ 43.84375 -1.421875 31.78125 -1.421875 \nQ 19.734375 -1.421875 13.25 4.234375 \nQ 6.78125 9.90625 6.78125 20.515625 \nQ 6.78125 27.484375 10.78125 32.3125 \nQ 14.796875 37.15625 21.921875 38.8125 \nz\nM 18.3125 54.390625 \nQ 18.3125 48.734375 21.84375 45.5625 \nQ 25.390625 42.390625 31.78125 42.390625 \nQ 38.140625 42.390625 41.71875 45.5625 \nQ 45.3125 48.734375 45.3125 54.390625 \nQ 45.3125 60.0625 41.71875 63.234375 \nQ 38.140625 66.40625 31.78125 66.40625 \nQ 25.390625 66.40625 21.84375 63.234375 \nQ 18.3125 60.0625 18.3125 54.390625 \nz\n\" id=\"DejaVuSans-56\"/>\n       </defs>\n       <use xlink:href=\"#DejaVuSans-56\"/>\n       <use x=\"63.623047\" xlink:href=\"#DejaVuSans-48\"/>\n      </g>\n     </g>\n    </g>\n    <g id=\"xtick_6\">\n     <g id=\"line2d_6\">\n      <g>\n       <use style=\"stroke:#000000;stroke-width:0.8;\" x=\"402.577572\" xlink:href=\"#m1bc56ef3c1\" y=\"228.65612\"/>\n      </g>\n     </g>\n     <g id=\"text_6\">\n      <!-- 100 -->\n      <g transform=\"translate(387.307572 247.81362)scale(0.16 -0.16)\">\n       <defs>\n        <path d=\"M 12.40625 8.296875 \nL 28.515625 8.296875 \nL 28.515625 63.921875 \nL 10.984375 60.40625 \nL 10.984375 69.390625 \nL 28.421875 72.90625 \nL 38.28125 72.90625 \nL 38.28125 8.296875 \nL 54.390625 8.296875 \nL 54.390625 0 \nL 12.40625 0 \nz\n\" id=\"DejaVuSans-49\"/>\n       </defs>\n       <use xlink:href=\"#DejaVuSans-49\"/>\n       <use x=\"63.623047\" xlink:href=\"#DejaVuSans-48\"/>\n       <use x=\"127.246094\" xlink:href=\"#DejaVuSans-48\"/>\n      </g>\n     </g>\n    </g>\n    <g id=\"text_7\">\n     <!-- Epochs -->\n     <g transform=\"translate(208.246901 270.337995)scale(0.2 -0.2)\">\n      <defs>\n       <path d=\"M 9.8125 72.90625 \nL 55.90625 72.90625 \nL 55.90625 64.59375 \nL 19.671875 64.59375 \nL 19.671875 43.015625 \nL 54.390625 43.015625 \nL 54.390625 34.71875 \nL 19.671875 34.71875 \nL 19.671875 8.296875 \nL 56.78125 8.296875 \nL 56.78125 0 \nL 9.8125 0 \nz\n\" id=\"DejaVuSans-69\"/>\n       <path d=\"M 18.109375 8.203125 \nL 18.109375 -20.796875 \nL 9.078125 -20.796875 \nL 9.078125 54.6875 \nL 18.109375 54.6875 \nL 18.109375 46.390625 \nQ 20.953125 51.265625 25.265625 53.625 \nQ 29.59375 56 35.59375 56 \nQ 45.5625 56 51.78125 48.09375 \nQ 58.015625 40.1875 58.015625 27.296875 \nQ 58.015625 14.40625 51.78125 6.484375 \nQ 45.5625 -1.421875 35.59375 -1.421875 \nQ 29.59375 -1.421875 25.265625 0.953125 \nQ 20.953125 3.328125 18.109375 8.203125 \nz\nM 48.6875 27.296875 \nQ 48.6875 37.203125 44.609375 42.84375 \nQ 40.53125 48.484375 33.40625 48.484375 \nQ 26.265625 48.484375 22.1875 42.84375 \nQ 18.109375 37.203125 18.109375 27.296875 \nQ 18.109375 17.390625 22.1875 11.75 \nQ 26.265625 6.109375 33.40625 6.109375 \nQ 40.53125 6.109375 44.609375 11.75 \nQ 48.6875 17.390625 48.6875 27.296875 \nz\n\" id=\"DejaVuSans-112\"/>\n       <path d=\"M 30.609375 48.390625 \nQ 23.390625 48.390625 19.1875 42.75 \nQ 14.984375 37.109375 14.984375 27.296875 \nQ 14.984375 17.484375 19.15625 11.84375 \nQ 23.34375 6.203125 30.609375 6.203125 \nQ 37.796875 6.203125 41.984375 11.859375 \nQ 46.1875 17.53125 46.1875 27.296875 \nQ 46.1875 37.015625 41.984375 42.703125 \nQ 37.796875 48.390625 30.609375 48.390625 \nz\nM 30.609375 56 \nQ 42.328125 56 49.015625 48.375 \nQ 55.71875 40.765625 55.71875 27.296875 \nQ 55.71875 13.875 49.015625 6.21875 \nQ 42.328125 -1.421875 30.609375 -1.421875 \nQ 18.84375 -1.421875 12.171875 6.21875 \nQ 5.515625 13.875 5.515625 27.296875 \nQ 5.515625 40.765625 12.171875 48.375 \nQ 18.84375 56 30.609375 56 \nz\n\" id=\"DejaVuSans-111\"/>\n       <path d=\"M 48.78125 52.59375 \nL 48.78125 44.1875 \nQ 44.96875 46.296875 41.140625 47.34375 \nQ 37.3125 48.390625 33.40625 48.390625 \nQ 24.65625 48.390625 19.8125 42.84375 \nQ 14.984375 37.3125 14.984375 27.296875 \nQ 14.984375 17.28125 19.8125 11.734375 \nQ 24.65625 6.203125 33.40625 6.203125 \nQ 37.3125 6.203125 41.140625 7.25 \nQ 44.96875 8.296875 48.78125 10.40625 \nL 48.78125 2.09375 \nQ 45.015625 0.34375 40.984375 -0.53125 \nQ 36.96875 -1.421875 32.421875 -1.421875 \nQ 20.0625 -1.421875 12.78125 6.34375 \nQ 5.515625 14.109375 5.515625 27.296875 \nQ 5.515625 40.671875 12.859375 48.328125 \nQ 20.21875 56 33.015625 56 \nQ 37.15625 56 41.109375 55.140625 \nQ 45.0625 54.296875 48.78125 52.59375 \nz\n\" id=\"DejaVuSans-99\"/>\n       <path d=\"M 54.890625 33.015625 \nL 54.890625 0 \nL 45.90625 0 \nL 45.90625 32.71875 \nQ 45.90625 40.484375 42.875 44.328125 \nQ 39.84375 48.1875 33.796875 48.1875 \nQ 26.515625 48.1875 22.3125 43.546875 \nQ 18.109375 38.921875 18.109375 30.90625 \nL 18.109375 0 \nL 9.078125 0 \nL 9.078125 75.984375 \nL 18.109375 75.984375 \nL 18.109375 46.1875 \nQ 21.34375 51.125 25.703125 53.5625 \nQ 30.078125 56 35.796875 56 \nQ 45.21875 56 50.046875 50.171875 \nQ 54.890625 44.34375 54.890625 33.015625 \nz\n\" id=\"DejaVuSans-104\"/>\n       <path d=\"M 44.28125 53.078125 \nL 44.28125 44.578125 \nQ 40.484375 46.53125 36.375 47.5 \nQ 32.28125 48.484375 27.875 48.484375 \nQ 21.1875 48.484375 17.84375 46.4375 \nQ 14.5 44.390625 14.5 40.28125 \nQ 14.5 37.15625 16.890625 35.375 \nQ 19.28125 33.59375 26.515625 31.984375 \nL 29.59375 31.296875 \nQ 39.15625 29.25 43.1875 25.515625 \nQ 47.21875 21.78125 47.21875 15.09375 \nQ 47.21875 7.46875 41.1875 3.015625 \nQ 35.15625 -1.421875 24.609375 -1.421875 \nQ 20.21875 -1.421875 15.453125 -0.5625 \nQ 10.6875 0.296875 5.421875 2 \nL 5.421875 11.28125 \nQ 10.40625 8.6875 15.234375 7.390625 \nQ 20.0625 6.109375 24.8125 6.109375 \nQ 31.15625 6.109375 34.5625 8.28125 \nQ 37.984375 10.453125 37.984375 14.40625 \nQ 37.984375 18.0625 35.515625 20.015625 \nQ 33.0625 21.96875 24.703125 23.78125 \nL 21.578125 24.515625 \nQ 13.234375 26.265625 9.515625 29.90625 \nQ 5.8125 33.546875 5.8125 39.890625 \nQ 5.8125 47.609375 11.28125 51.796875 \nQ 16.75 56 26.8125 56 \nQ 31.78125 56 36.171875 55.265625 \nQ 40.578125 54.546875 44.28125 53.078125 \nz\n\" id=\"DejaVuSans-115\"/>\n      </defs>\n      <use xlink:href=\"#DejaVuSans-69\"/>\n      <use x=\"63.183594\" xlink:href=\"#DejaVuSans-112\"/>\n      <use x=\"126.660156\" xlink:href=\"#DejaVuSans-111\"/>\n      <use x=\"187.841797\" xlink:href=\"#DejaVuSans-99\"/>\n      <use x=\"242.822266\" xlink:href=\"#DejaVuSans-104\"/>\n      <use x=\"306.201172\" xlink:href=\"#DejaVuSans-115\"/>\n     </g>\n    </g>\n   </g>\n   <g id=\"matplotlib.axis_2\">\n    <g id=\"ytick_1\">\n     <g id=\"line2d_7\">\n      <defs>\n       <path d=\"M 0 0 \nL -3.5 0 \n\" id=\"m5a65a9a57c\" style=\"stroke:#000000;stroke-width:0.8;\"/>\n      </defs>\n      <g>\n       <use style=\"stroke:#000000;stroke-width:0.8;\" x=\"73.18125\" xlink:href=\"#m5a65a9a57c\" y=\"201.934199\"/>\n      </g>\n     </g>\n     <g id=\"text_8\">\n      <!-- 0.50 -->\n      <g transform=\"translate(30.55625 208.012949)scale(0.16 -0.16)\">\n       <defs>\n        <path d=\"M 10.6875 12.40625 \nL 21 12.40625 \nL 21 0 \nL 10.6875 0 \nz\n\" id=\"DejaVuSans-46\"/>\n        <path d=\"M 10.796875 72.90625 \nL 49.515625 72.90625 \nL 49.515625 64.59375 \nL 19.828125 64.59375 \nL 19.828125 46.734375 \nQ 21.96875 47.46875 24.109375 47.828125 \nQ 26.265625 48.1875 28.421875 48.1875 \nQ 40.625 48.1875 47.75 41.5 \nQ 54.890625 34.8125 54.890625 23.390625 \nQ 54.890625 11.625 47.5625 5.09375 \nQ 40.234375 -1.421875 26.90625 -1.421875 \nQ 22.3125 -1.421875 17.546875 -0.640625 \nQ 12.796875 0.140625 7.71875 1.703125 \nL 7.71875 11.625 \nQ 12.109375 9.234375 16.796875 8.0625 \nQ 21.484375 6.890625 26.703125 6.890625 \nQ 35.15625 6.890625 40.078125 11.328125 \nQ 45.015625 15.765625 45.015625 23.390625 \nQ 45.015625 31 40.078125 35.4375 \nQ 35.15625 39.890625 26.703125 39.890625 \nQ 22.75 39.890625 18.8125 39.015625 \nQ 14.890625 38.140625 10.796875 36.28125 \nz\n\" id=\"DejaVuSans-53\"/>\n       </defs>\n       <use xlink:href=\"#DejaVuSans-48\"/>\n       <use x=\"63.623047\" xlink:href=\"#DejaVuSans-46\"/>\n       <use x=\"95.410156\" xlink:href=\"#DejaVuSans-53\"/>\n       <use x=\"159.033203\" xlink:href=\"#DejaVuSans-48\"/>\n      </g>\n     </g>\n    </g>\n    <g id=\"ytick_2\">\n     <g id=\"line2d_8\">\n      <g>\n       <use style=\"stroke:#000000;stroke-width:0.8;\" x=\"73.18125\" xlink:href=\"#m5a65a9a57c\" y=\"154.770337\"/>\n      </g>\n     </g>\n     <g id=\"text_9\">\n      <!-- 0.55 -->\n      <g transform=\"translate(30.55625 160.849087)scale(0.16 -0.16)\">\n       <use xlink:href=\"#DejaVuSans-48\"/>\n       <use x=\"63.623047\" xlink:href=\"#DejaVuSans-46\"/>\n       <use x=\"95.410156\" xlink:href=\"#DejaVuSans-53\"/>\n       <use x=\"159.033203\" xlink:href=\"#DejaVuSans-53\"/>\n      </g>\n     </g>\n    </g>\n    <g id=\"ytick_3\">\n     <g id=\"line2d_9\">\n      <g>\n       <use style=\"stroke:#000000;stroke-width:0.8;\" x=\"73.18125\" xlink:href=\"#m5a65a9a57c\" y=\"107.606475\"/>\n      </g>\n     </g>\n     <g id=\"text_10\">\n      <!-- 0.60 -->\n      <g transform=\"translate(30.55625 113.685225)scale(0.16 -0.16)\">\n       <use xlink:href=\"#DejaVuSans-48\"/>\n       <use x=\"63.623047\" xlink:href=\"#DejaVuSans-46\"/>\n       <use x=\"95.410156\" xlink:href=\"#DejaVuSans-54\"/>\n       <use x=\"159.033203\" xlink:href=\"#DejaVuSans-48\"/>\n      </g>\n     </g>\n    </g>\n    <g id=\"ytick_4\">\n     <g id=\"line2d_10\">\n      <g>\n       <use style=\"stroke:#000000;stroke-width:0.8;\" x=\"73.18125\" xlink:href=\"#m5a65a9a57c\" y=\"60.442612\"/>\n      </g>\n     </g>\n     <g id=\"text_11\">\n      <!-- 0.65 -->\n      <g transform=\"translate(30.55625 66.521362)scale(0.16 -0.16)\">\n       <use xlink:href=\"#DejaVuSans-48\"/>\n       <use x=\"63.623047\" xlink:href=\"#DejaVuSans-46\"/>\n       <use x=\"95.410156\" xlink:href=\"#DejaVuSans-54\"/>\n       <use x=\"159.033203\" xlink:href=\"#DejaVuSans-53\"/>\n      </g>\n     </g>\n    </g>\n    <g id=\"ytick_5\">\n     <g id=\"line2d_11\">\n      <g>\n       <use style=\"stroke:#000000;stroke-width:0.8;\" x=\"73.18125\" xlink:href=\"#m5a65a9a57c\" y=\"13.27875\"/>\n      </g>\n     </g>\n     <g id=\"text_12\">\n      <!-- 0.70 -->\n      <g transform=\"translate(30.55625 19.3575)scale(0.16 -0.16)\">\n       <defs>\n        <path d=\"M 8.203125 72.90625 \nL 55.078125 72.90625 \nL 55.078125 68.703125 \nL 28.609375 0 \nL 18.3125 0 \nL 43.21875 64.59375 \nL 8.203125 64.59375 \nz\n\" id=\"DejaVuSans-55\"/>\n       </defs>\n       <use xlink:href=\"#DejaVuSans-48\"/>\n       <use x=\"63.623047\" xlink:href=\"#DejaVuSans-46\"/>\n       <use x=\"95.410156\" xlink:href=\"#DejaVuSans-55\"/>\n       <use x=\"159.033203\" xlink:href=\"#DejaVuSans-48\"/>\n      </g>\n     </g>\n    </g>\n    <g id=\"text_13\">\n     <!-- Objective Value -->\n     <g transform=\"translate(22.396875 197.286302)rotate(-90)scale(0.2 -0.2)\">\n      <defs>\n       <path d=\"M 39.40625 66.21875 \nQ 28.65625 66.21875 22.328125 58.203125 \nQ 16.015625 50.203125 16.015625 36.375 \nQ 16.015625 22.609375 22.328125 14.59375 \nQ 28.65625 6.59375 39.40625 6.59375 \nQ 50.140625 6.59375 56.421875 14.59375 \nQ 62.703125 22.609375 62.703125 36.375 \nQ 62.703125 50.203125 56.421875 58.203125 \nQ 50.140625 66.21875 39.40625 66.21875 \nz\nM 39.40625 74.21875 \nQ 54.734375 74.21875 63.90625 63.9375 \nQ 73.09375 53.65625 73.09375 36.375 \nQ 73.09375 19.140625 63.90625 8.859375 \nQ 54.734375 -1.421875 39.40625 -1.421875 \nQ 24.03125 -1.421875 14.8125 8.828125 \nQ 5.609375 19.09375 5.609375 36.375 \nQ 5.609375 53.65625 14.8125 63.9375 \nQ 24.03125 74.21875 39.40625 74.21875 \nz\n\" id=\"DejaVuSans-79\"/>\n       <path d=\"M 48.6875 27.296875 \nQ 48.6875 37.203125 44.609375 42.84375 \nQ 40.53125 48.484375 33.40625 48.484375 \nQ 26.265625 48.484375 22.1875 42.84375 \nQ 18.109375 37.203125 18.109375 27.296875 \nQ 18.109375 17.390625 22.1875 11.75 \nQ 26.265625 6.109375 33.40625 6.109375 \nQ 40.53125 6.109375 44.609375 11.75 \nQ 48.6875 17.390625 48.6875 27.296875 \nz\nM 18.109375 46.390625 \nQ 20.953125 51.265625 25.265625 53.625 \nQ 29.59375 56 35.59375 56 \nQ 45.5625 56 51.78125 48.09375 \nQ 58.015625 40.1875 58.015625 27.296875 \nQ 58.015625 14.40625 51.78125 6.484375 \nQ 45.5625 -1.421875 35.59375 -1.421875 \nQ 29.59375 -1.421875 25.265625 0.953125 \nQ 20.953125 3.328125 18.109375 8.203125 \nL 18.109375 0 \nL 9.078125 0 \nL 9.078125 75.984375 \nL 18.109375 75.984375 \nz\n\" id=\"DejaVuSans-98\"/>\n       <path d=\"M 9.421875 54.6875 \nL 18.40625 54.6875 \nL 18.40625 -0.984375 \nQ 18.40625 -11.421875 14.421875 -16.109375 \nQ 10.453125 -20.796875 1.609375 -20.796875 \nL -1.8125 -20.796875 \nL -1.8125 -13.1875 \nL 0.59375 -13.1875 \nQ 5.71875 -13.1875 7.5625 -10.8125 \nQ 9.421875 -8.453125 9.421875 -0.984375 \nz\nM 9.421875 75.984375 \nL 18.40625 75.984375 \nL 18.40625 64.59375 \nL 9.421875 64.59375 \nz\n\" id=\"DejaVuSans-106\"/>\n       <path d=\"M 56.203125 29.59375 \nL 56.203125 25.203125 \nL 14.890625 25.203125 \nQ 15.484375 15.921875 20.484375 11.0625 \nQ 25.484375 6.203125 34.421875 6.203125 \nQ 39.59375 6.203125 44.453125 7.46875 \nQ 49.3125 8.734375 54.109375 11.28125 \nL 54.109375 2.78125 \nQ 49.265625 0.734375 44.1875 -0.34375 \nQ 39.109375 -1.421875 33.890625 -1.421875 \nQ 20.796875 -1.421875 13.15625 6.1875 \nQ 5.515625 13.8125 5.515625 26.8125 \nQ 5.515625 40.234375 12.765625 48.109375 \nQ 20.015625 56 32.328125 56 \nQ 43.359375 56 49.78125 48.890625 \nQ 56.203125 41.796875 56.203125 29.59375 \nz\nM 47.21875 32.234375 \nQ 47.125 39.59375 43.09375 43.984375 \nQ 39.0625 48.390625 32.421875 48.390625 \nQ 24.90625 48.390625 20.390625 44.140625 \nQ 15.875 39.890625 15.1875 32.171875 \nz\n\" id=\"DejaVuSans-101\"/>\n       <path d=\"M 18.3125 70.21875 \nL 18.3125 54.6875 \nL 36.8125 54.6875 \nL 36.8125 47.703125 \nL 18.3125 47.703125 \nL 18.3125 18.015625 \nQ 18.3125 11.328125 20.140625 9.421875 \nQ 21.96875 7.515625 27.59375 7.515625 \nL 36.8125 7.515625 \nL 36.8125 0 \nL 27.59375 0 \nQ 17.1875 0 13.234375 3.875 \nQ 9.28125 7.765625 9.28125 18.015625 \nL 9.28125 47.703125 \nL 2.6875 47.703125 \nL 2.6875 54.6875 \nL 9.28125 54.6875 \nL 9.28125 70.21875 \nz\n\" id=\"DejaVuSans-116\"/>\n       <path d=\"M 9.421875 54.6875 \nL 18.40625 54.6875 \nL 18.40625 0 \nL 9.421875 0 \nz\nM 9.421875 75.984375 \nL 18.40625 75.984375 \nL 18.40625 64.59375 \nL 9.421875 64.59375 \nz\n\" id=\"DejaVuSans-105\"/>\n       <path d=\"M 2.984375 54.6875 \nL 12.5 54.6875 \nL 29.59375 8.796875 \nL 46.6875 54.6875 \nL 56.203125 54.6875 \nL 35.6875 0 \nL 23.484375 0 \nz\n\" id=\"DejaVuSans-118\"/>\n       <path id=\"DejaVuSans-32\"/>\n       <path d=\"M 28.609375 0 \nL 0.78125 72.90625 \nL 11.078125 72.90625 \nL 34.1875 11.53125 \nL 57.328125 72.90625 \nL 67.578125 72.90625 \nL 39.796875 0 \nz\n\" id=\"DejaVuSans-86\"/>\n       <path d=\"M 34.28125 27.484375 \nQ 23.390625 27.484375 19.1875 25 \nQ 14.984375 22.515625 14.984375 16.5 \nQ 14.984375 11.71875 18.140625 8.90625 \nQ 21.296875 6.109375 26.703125 6.109375 \nQ 34.1875 6.109375 38.703125 11.40625 \nQ 43.21875 16.703125 43.21875 25.484375 \nL 43.21875 27.484375 \nz\nM 52.203125 31.203125 \nL 52.203125 0 \nL 43.21875 0 \nL 43.21875 8.296875 \nQ 40.140625 3.328125 35.546875 0.953125 \nQ 30.953125 -1.421875 24.3125 -1.421875 \nQ 15.921875 -1.421875 10.953125 3.296875 \nQ 6 8.015625 6 15.921875 \nQ 6 25.140625 12.171875 29.828125 \nQ 18.359375 34.515625 30.609375 34.515625 \nL 43.21875 34.515625 \nL 43.21875 35.40625 \nQ 43.21875 41.609375 39.140625 45 \nQ 35.0625 48.390625 27.6875 48.390625 \nQ 23 48.390625 18.546875 47.265625 \nQ 14.109375 46.140625 10.015625 43.890625 \nL 10.015625 52.203125 \nQ 14.9375 54.109375 19.578125 55.046875 \nQ 24.21875 56 28.609375 56 \nQ 40.484375 56 46.34375 49.84375 \nQ 52.203125 43.703125 52.203125 31.203125 \nz\n\" id=\"DejaVuSans-97\"/>\n       <path d=\"M 9.421875 75.984375 \nL 18.40625 75.984375 \nL 18.40625 0 \nL 9.421875 0 \nz\n\" id=\"DejaVuSans-108\"/>\n       <path d=\"M 8.5 21.578125 \nL 8.5 54.6875 \nL 17.484375 54.6875 \nL 17.484375 21.921875 \nQ 17.484375 14.15625 20.5 10.265625 \nQ 23.53125 6.390625 29.59375 6.390625 \nQ 36.859375 6.390625 41.078125 11.03125 \nQ 45.3125 15.671875 45.3125 23.6875 \nL 45.3125 54.6875 \nL 54.296875 54.6875 \nL 54.296875 0 \nL 45.3125 0 \nL 45.3125 8.40625 \nQ 42.046875 3.421875 37.71875 1 \nQ 33.40625 -1.421875 27.6875 -1.421875 \nQ 18.265625 -1.421875 13.375 4.4375 \nQ 8.5 10.296875 8.5 21.578125 \nz\nM 31.109375 56 \nz\n\" id=\"DejaVuSans-117\"/>\n      </defs>\n      <use xlink:href=\"#DejaVuSans-79\"/>\n      <use x=\"78.710938\" xlink:href=\"#DejaVuSans-98\"/>\n      <use x=\"142.1875\" xlink:href=\"#DejaVuSans-106\"/>\n      <use x=\"169.970703\" xlink:href=\"#DejaVuSans-101\"/>\n      <use x=\"231.494141\" xlink:href=\"#DejaVuSans-99\"/>\n      <use x=\"286.474609\" xlink:href=\"#DejaVuSans-116\"/>\n      <use x=\"325.683594\" xlink:href=\"#DejaVuSans-105\"/>\n      <use x=\"353.466797\" xlink:href=\"#DejaVuSans-118\"/>\n      <use x=\"412.646484\" xlink:href=\"#DejaVuSans-101\"/>\n      <use x=\"474.169922\" xlink:href=\"#DejaVuSans-32\"/>\n      <use x=\"505.957031\" xlink:href=\"#DejaVuSans-86\"/>\n      <use x=\"566.615234\" xlink:href=\"#DejaVuSans-97\"/>\n      <use x=\"627.894531\" xlink:href=\"#DejaVuSans-108\"/>\n      <use x=\"655.677734\" xlink:href=\"#DejaVuSans-117\"/>\n      <use x=\"719.056641\" xlink:href=\"#DejaVuSans-101\"/>\n     </g>\n    </g>\n   </g>\n   <g id=\"line2d_12\">\n    <path clip-path=\"url(#p360b0cc128)\" d=\"M 88.717332 19.742859 \nL 91.855934 114.20019 \nL 94.994537 151.891368 \nL 98.133139 171.915432 \nL 101.271742 184.29963 \nL 104.410344 192.625285 \nL 107.548946 198.515658 \nL 110.687549 202.828285 \nL 113.826151 206.064881 \nL 116.964754 208.540369 \nL 120.103356 210.46258 \nL 123.241958 211.973873 \nL 126.380561 213.174602 \nL 129.519163 214.137161 \nL 132.657766 214.914782 \nL 135.796368 215.547249 \nL 138.93497 216.06471 \nL 142.073573 216.490298 \nL 145.212175 216.841956 \nL 148.350778 217.133734 \nL 151.48938 217.376731 \nL 154.627982 217.579782 \nL 157.766585 217.749969 \nL 160.905187 217.893005 \nL 164.04379 218.013522 \nL 167.182392 218.1153 \nL 170.320994 218.201434 \nL 173.459597 218.274471 \nL 176.598199 218.336512 \nL 179.736802 218.389301 \nL 182.875404 218.434288 \nL 186.014006 218.47268 \nL 189.152609 218.505489 \nL 192.291211 218.533563 \nL 195.429814 218.557612 \nL 198.568416 218.578237 \nL 201.707018 218.595945 \nL 204.845621 218.611162 \nL 207.984223 218.624252 \nL 211.122826 218.635522 \nL 214.261428 218.645233 \nL 217.40003 218.653607 \nL 220.538633 218.660835 \nL 223.677235 218.667078 \nL 226.815838 218.672473 \nL 229.95444 218.677139 \nL 233.093042 218.681178 \nL 236.231645 218.684674 \nL 239.370247 218.687704 \nL 242.50885 218.690331 \nL 245.647452 218.69261 \nL 248.786054 218.694588 \nL 251.924657 218.696305 \nL 255.063259 218.697796 \nL 258.201862 218.699093 \nL 261.340464 218.70022 \nL 264.479066 218.701201 \nL 267.617669 218.702054 \nL 270.756271 218.702797 \nL 273.894874 218.703445 \nL 277.033476 218.704008 \nL 280.172078 218.7045 \nL 283.310681 218.704928 \nL 286.449283 218.705302 \nL 289.587886 218.705628 \nL 292.726488 218.705912 \nL 295.86509 218.706161 \nL 299.003693 218.706378 \nL 302.142295 218.706567 \nL 305.280898 218.706733 \nL 308.4195 218.706877 \nL 311.558102 218.707004 \nL 314.696705 218.707114 \nL 317.835307 218.707211 \nL 320.97391 218.707295 \nL 324.112512 218.707369 \nL 327.251114 218.707434 \nL 330.389717 218.707491 \nL 333.528319 218.70754 \nL 336.666922 218.707584 \nL 339.805524 218.707622 \nL 342.944127 218.707655 \nL 346.082729 218.707684 \nL 349.221331 218.70771 \nL 352.359934 218.707732 \nL 355.498536 218.707752 \nL 358.637139 218.707769 \nL 361.775741 218.707784 \nL 364.914343 218.707798 \nL 368.052946 218.707809 \nL 371.191548 218.707819 \nL 374.330151 218.707828 \nL 377.468753 218.707836 \nL 380.607355 218.707843 \nL 383.745958 218.707849 \nL 386.88456 218.707854 \nL 390.023163 218.707859 \nL 393.161765 218.707863 \nL 396.300367 218.707867 \nL 399.43897 218.70787 \n\" style=\"fill:none;stroke:#0000ff;stroke-dasharray:11.1,4.8;stroke-dashoffset:0;stroke-width:3;\"/>\n   </g>\n   <g id=\"line2d_13\">\n    <path clip-path=\"url(#p360b0cc128)\" d=\"M 88.717332 162.023479 \nL 91.855934 176.972938 \nL 94.994537 172.843239 \nL 98.133139 189.234423 \nL 101.271742 180.551759 \nL 104.410344 190.290405 \nL 107.548946 191.698757 \nL 110.687549 191.363131 \nL 113.826151 196.100582 \nL 116.964754 197.280706 \nL 120.103356 206.791057 \nL 123.241958 198.474022 \nL 126.380561 202.771078 \nL 129.519163 203.55536 \nL 132.657766 209.018316 \nL 135.796368 206.481134 \nL 138.93497 206.44076 \nL 142.073573 210.23943 \nL 145.212175 210.738256 \nL 148.350778 209.384457 \nL 151.48938 211.492919 \nL 154.627982 212.988451 \nL 157.766585 211.62906 \nL 160.905187 213.510047 \nL 164.04379 213.932662 \nL 167.182392 213.906195 \nL 170.320994 214.932546 \nL 173.459597 214.778586 \nL 176.598199 215.261409 \nL 179.736802 215.374775 \nL 182.875404 215.754831 \nL 186.014006 216.022269 \nL 189.152609 216.312922 \nL 192.291211 216.564436 \nL 195.429814 216.741158 \nL 198.568416 216.896309 \nL 201.707018 217.097611 \nL 204.845621 217.262347 \nL 207.984223 217.416502 \nL 211.122826 217.539796 \nL 214.261428 217.673341 \nL 217.40003 217.744799 \nL 220.538633 217.849466 \nL 223.677235 217.922273 \nL 226.815838 218.017959 \nL 229.95444 218.074334 \nL 233.093042 218.136553 \nL 236.231645 218.195309 \nL 239.370247 218.247213 \nL 242.50885 218.295125 \nL 245.647452 218.332976 \nL 248.786054 218.371549 \nL 251.924657 218.403892 \nL 255.063259 218.433623 \nL 258.201862 218.461011 \nL 261.340464 218.485899 \nL 264.479066 218.507473 \nL 267.617669 218.528535 \nL 270.756271 218.546279 \nL 273.894874 218.561698 \nL 277.033476 218.576532 \nL 280.172078 218.589381 \nL 283.310681 218.601129 \nL 286.449283 218.611931 \nL 289.587886 218.62144 \nL 292.726488 218.629965 \nL 295.86509 218.637828 \nL 299.003693 218.644725 \nL 302.142295 218.651078 \nL 305.280898 218.65669 \nL 308.4195 218.661823 \nL 311.558102 218.666397 \nL 314.696705 218.670534 \nL 317.835307 218.674253 \nL 320.97391 218.677572 \nL 324.112512 218.680579 \nL 327.251114 218.683298 \nL 330.389717 218.685735 \nL 333.528319 218.687937 \nL 336.666922 218.689905 \nL 339.805524 218.691682 \nL 342.944127 218.693286 \nL 346.082729 218.694723 \nL 349.221331 218.696023 \nL 352.359934 218.697189 \nL 355.498536 218.698239 \nL 358.637139 218.699184 \nL 361.775741 218.700037 \nL 364.914343 218.700802 \nL 368.052946 218.70149 \nL 371.191548 218.702111 \nL 374.330151 218.702669 \nL 377.468753 218.703171 \nL 380.607355 218.703624 \nL 383.745958 218.704031 \nL 386.88456 218.704397 \nL 390.023163 218.704727 \nL 393.161765 218.705023 \nL 396.300367 218.705291 \nL 399.43897 218.705531 \n\" style=\"fill:none;stroke:#ff0000;stroke-linecap:square;stroke-width:2;\"/>\n   </g>\n   <g id=\"line2d_14\">\n    <path clip-path=\"url(#p360b0cc128)\" d=\"M 88.717332 113.705759 \nL 91.855934 181.704386 \nL 94.994537 198.489474 \nL 98.133139 206.092036 \nL 101.271742 210.043797 \nL 104.410344 212.4414 \nL 107.548946 213.816982 \nL 110.687549 214.569278 \nL 113.826151 215.498307 \nL 116.964754 215.993061 \nL 120.103356 216.234709 \nL 123.241958 216.549158 \nL 126.380561 216.90044 \nL 129.519163 217.072164 \nL 132.657766 217.23153 \nL 135.796368 217.377695 \nL 138.93497 217.485576 \nL 142.073573 217.66466 \nL 145.212175 217.695359 \nL 148.350778 217.729282 \nL 151.48938 217.875986 \nL 154.627982 217.940679 \nL 157.766585 218.003525 \nL 160.905187 218.028317 \nL 164.04379 218.070269 \nL 167.182392 218.111753 \nL 170.320994 218.139433 \nL 173.459597 218.199612 \nL 176.598199 218.203223 \nL 179.736802 218.219592 \nL 182.875404 218.272829 \nL 186.014006 218.296475 \nL 189.152609 218.286985 \nL 192.291211 218.317778 \nL 195.429814 218.333688 \nL 198.568416 218.348432 \nL 201.707018 218.360796 \nL 204.845621 218.373583 \nL 207.984223 218.383895 \nL 211.122826 218.391288 \nL 214.261428 218.395847 \nL 217.40003 218.406421 \nL 220.538633 218.410759 \nL 223.677235 218.411752 \nL 226.815838 218.421389 \nL 229.95444 218.423399 \nL 233.093042 218.430636 \nL 236.231645 218.434355 \nL 239.370247 218.436097 \nL 242.50885 218.439882 \nL 245.647452 218.442679 \nL 248.786054 218.445614 \nL 251.924657 218.446861 \nL 255.063259 218.448944 \nL 258.201862 218.450957 \nL 261.340464 218.452386 \nL 264.479066 218.453801 \nL 267.617669 218.454562 \nL 270.756271 218.45669 \nL 273.894874 218.457081 \nL 277.033476 218.457907 \nL 280.172078 218.458846 \nL 283.310681 218.459298 \nL 286.449283 218.460061 \nL 289.587886 218.461111 \nL 292.726488 218.461392 \nL 295.86509 218.461887 \nL 299.003693 218.462461 \nL 302.142295 218.463007 \nL 305.280898 218.463287 \nL 308.4195 218.463344 \nL 311.558102 218.463998 \nL 314.696705 218.464096 \nL 317.835307 218.464485 \nL 320.97391 218.464568 \nL 324.112512 218.464822 \nL 327.251114 218.46491 \nL 330.389717 218.465178 \nL 333.528319 218.465242 \nL 336.666922 218.465411 \nL 339.805524 218.465515 \nL 342.944127 218.465598 \nL 346.082729 218.465665 \nL 349.221331 218.465793 \nL 352.359934 218.465801 \nL 355.498536 218.465903 \nL 358.637139 218.466009 \nL 361.775741 218.46605 \nL 364.914343 218.466062 \nL 368.052946 218.466107 \nL 371.191548 218.466174 \nL 374.330151 218.466171 \nL 377.468753 218.46623 \nL 380.607355 218.466249 \nL 383.745958 218.466288 \nL 386.88456 218.46632 \nL 390.023163 218.466338 \nL 393.161765 218.466344 \nL 396.300367 218.466371 \nL 399.43897 218.466396 \n\" style=\"fill:none;stroke:#bfbf00;stroke-dasharray:4,6.6;stroke-dashoffset:0;stroke-width:4;\"/>\n   </g>\n   <g id=\"line2d_15\">\n    <path clip-path=\"url(#p360b0cc128)\" d=\"M 88.717332 96.475616 \nL 91.855934 169.417362 \nL 94.994537 191.07223 \nL 98.133139 200.910931 \nL 101.271742 206.688417 \nL 104.410344 209.233969 \nL 107.548946 211.571851 \nL 110.687549 213.114713 \nL 113.826151 213.53077 \nL 116.964754 214.601284 \nL 120.103356 215.230995 \nL 123.241958 215.471509 \nL 126.380561 215.793014 \nL 129.519163 216.177312 \nL 132.657766 216.446499 \nL 135.796368 216.646579 \nL 138.93497 216.721084 \nL 142.073573 216.88764 \nL 145.212175 216.95289 \nL 148.350778 217.121638 \nL 151.48938 217.228339 \nL 154.627982 217.298726 \nL 157.766585 217.357443 \nL 160.905187 217.499195 \nL 164.04379 217.537009 \nL 167.182392 217.575989 \nL 170.320994 217.650744 \nL 173.459597 217.630457 \nL 176.598199 217.723556 \nL 179.736802 217.722267 \nL 182.875404 217.76202 \nL 186.014006 217.797439 \nL 189.152609 217.808637 \nL 192.291211 217.830858 \nL 195.429814 217.822402 \nL 198.568416 217.856134 \nL 201.707018 217.883525 \nL 204.845621 217.876858 \nL 207.984223 217.903223 \nL 211.122826 217.888288 \nL 214.261428 217.902709 \nL 217.40003 217.916105 \nL 220.538633 217.922658 \nL 223.677235 217.927501 \nL 226.815838 217.93518 \nL 229.95444 217.938973 \nL 233.093042 217.942602 \nL 236.231645 217.95279 \nL 239.370247 217.957765 \nL 242.50885 217.96014 \nL 245.647452 217.961593 \nL 248.786054 217.963987 \nL 251.924657 217.964968 \nL 255.063259 217.968637 \nL 258.201862 217.9739 \nL 261.340464 217.972136 \nL 264.479066 217.975246 \nL 267.617669 217.97567 \nL 270.756271 217.977114 \nL 273.894874 217.978605 \nL 277.033476 217.979318 \nL 280.172078 217.980178 \nL 283.310681 217.981656 \nL 286.449283 217.982686 \nL 289.587886 217.981802 \nL 292.726488 217.983401 \nL 295.86509 217.984119 \nL 299.003693 217.984484 \nL 302.142295 217.984329 \nL 305.280898 217.98493 \nL 308.4195 217.985905 \nL 311.558102 217.985784 \nL 314.696705 217.98613 \nL 317.835307 217.986257 \nL 320.97391 217.986616 \nL 324.112512 217.986866 \nL 327.251114 217.986758 \nL 330.389717 217.987037 \nL 333.528319 217.98715 \nL 336.666922 217.987387 \nL 339.805524 217.987712 \nL 342.944127 217.987757 \nL 346.082729 217.987645 \nL 349.221331 217.987741 \nL 352.359934 217.987903 \nL 355.498536 217.987981 \nL 358.637139 217.988015 \nL 361.775741 217.988085 \nL 364.914343 217.988172 \nL 368.052946 217.988175 \nL 371.191548 217.988206 \nL 374.330151 217.988277 \nL 377.468753 217.988265 \nL 380.607355 217.988304 \nL 383.745958 217.988372 \nL 386.88456 217.988397 \nL 390.023163 217.988387 \nL 393.161765 217.988406 \nL 396.300367 217.988434 \nL 399.43897 217.988489 \n\" style=\"fill:none;stroke:#008000;stroke-dasharray:19.2,4.8,3,4.8;stroke-dashoffset:0;stroke-width:3;\"/>\n   </g>\n   <g id=\"patch_3\">\n    <path d=\"M 73.18125 228.65612 \nL 73.18125 9.794608 \n\" style=\"fill:none;stroke:#000000;stroke-linecap:square;stroke-linejoin:miter;stroke-width:0.8;\"/>\n   </g>\n   <g id=\"patch_4\">\n    <path d=\"M 414.975052 228.65612 \nL 414.975052 9.794608 \n\" style=\"fill:none;stroke:#000000;stroke-linecap:square;stroke-linejoin:miter;stroke-width:0.8;\"/>\n   </g>\n   <g id=\"patch_5\">\n    <path d=\"M 73.18125 228.65612 \nL 414.975052 228.65612 \n\" style=\"fill:none;stroke:#000000;stroke-linecap:square;stroke-linejoin:miter;stroke-width:0.8;\"/>\n   </g>\n   <g id=\"patch_6\">\n    <path d=\"M 73.18125 9.794608 \nL 414.975052 9.794608 \n\" style=\"fill:none;stroke:#000000;stroke-linecap:square;stroke-linejoin:miter;stroke-width:0.8;\"/>\n   </g>\n   <g id=\"legend_1\">\n    <g id=\"patch_7\">\n     <path d=\"M 237.303177 143.219608 \nL 400.975052 143.219608 \nQ 404.975052 143.219608 404.975052 139.219608 \nL 404.975052 23.794608 \nQ 404.975052 19.794608 400.975052 19.794608 \nL 237.303177 19.794608 \nQ 233.303177 19.794608 233.303177 23.794608 \nL 233.303177 139.219608 \nQ 233.303177 143.219608 237.303177 143.219608 \nz\n\" style=\"fill:#ffffff;opacity:0.8;stroke:#cccccc;stroke-linejoin:miter;\"/>\n    </g>\n    <g id=\"line2d_16\">\n     <path d=\"M 241.303177 35.991483 \nL 281.303177 35.991483 \n\" style=\"fill:none;stroke:#0000ff;stroke-dasharray:11.1,4.8;stroke-dashoffset:0;stroke-width:3;\"/>\n    </g>\n    <g id=\"line2d_17\"/>\n    <g id=\"text_14\">\n     <!-- GD -->\n     <g transform=\"translate(297.303177 42.991483)scale(0.2 -0.2)\">\n      <defs>\n       <path d=\"M 59.515625 10.40625 \nL 59.515625 29.984375 \nL 43.40625 29.984375 \nL 43.40625 38.09375 \nL 69.28125 38.09375 \nL 69.28125 6.78125 \nQ 63.578125 2.734375 56.6875 0.65625 \nQ 49.8125 -1.421875 42 -1.421875 \nQ 24.90625 -1.421875 15.25 8.5625 \nQ 5.609375 18.5625 5.609375 36.375 \nQ 5.609375 54.25 15.25 64.234375 \nQ 24.90625 74.21875 42 74.21875 \nQ 49.125 74.21875 55.546875 72.453125 \nQ 61.96875 70.703125 67.390625 67.28125 \nL 67.390625 56.78125 \nQ 61.921875 61.421875 55.765625 63.765625 \nQ 49.609375 66.109375 42.828125 66.109375 \nQ 29.4375 66.109375 22.71875 58.640625 \nQ 16.015625 51.171875 16.015625 36.375 \nQ 16.015625 21.625 22.71875 14.15625 \nQ 29.4375 6.6875 42.828125 6.6875 \nQ 48.046875 6.6875 52.140625 7.59375 \nQ 56.25 8.5 59.515625 10.40625 \nz\n\" id=\"DejaVuSans-71\"/>\n       <path d=\"M 19.671875 64.796875 \nL 19.671875 8.109375 \nL 31.59375 8.109375 \nQ 46.6875 8.109375 53.6875 14.9375 \nQ 60.6875 21.78125 60.6875 36.53125 \nQ 60.6875 51.171875 53.6875 57.984375 \nQ 46.6875 64.796875 31.59375 64.796875 \nz\nM 9.8125 72.90625 \nL 30.078125 72.90625 \nQ 51.265625 72.90625 61.171875 64.09375 \nQ 71.09375 55.28125 71.09375 36.53125 \nQ 71.09375 17.671875 61.125 8.828125 \nQ 51.171875 0 30.078125 0 \nL 9.8125 0 \nz\n\" id=\"DejaVuSans-68\"/>\n      </defs>\n      <use xlink:href=\"#DejaVuSans-71\"/>\n      <use x=\"77.490234\" xlink:href=\"#DejaVuSans-68\"/>\n     </g>\n    </g>\n    <g id=\"line2d_18\">\n     <path d=\"M 241.303177 65.347733 \nL 281.303177 65.347733 \n\" style=\"fill:none;stroke:#ff0000;stroke-linecap:square;stroke-width:2;\"/>\n    </g>\n    <g id=\"line2d_19\"/>\n    <g id=\"text_15\">\n     <!-- SGD -->\n     <g transform=\"translate(297.303177 72.347733)scale(0.2 -0.2)\">\n      <defs>\n       <path d=\"M 53.515625 70.515625 \nL 53.515625 60.890625 \nQ 47.90625 63.578125 42.921875 64.890625 \nQ 37.9375 66.21875 33.296875 66.21875 \nQ 25.25 66.21875 20.875 63.09375 \nQ 16.5 59.96875 16.5 54.203125 \nQ 16.5 49.359375 19.40625 46.890625 \nQ 22.3125 44.4375 30.421875 42.921875 \nL 36.375 41.703125 \nQ 47.40625 39.59375 52.65625 34.296875 \nQ 57.90625 29 57.90625 20.125 \nQ 57.90625 9.515625 50.796875 4.046875 \nQ 43.703125 -1.421875 29.984375 -1.421875 \nQ 24.8125 -1.421875 18.96875 -0.25 \nQ 13.140625 0.921875 6.890625 3.21875 \nL 6.890625 13.375 \nQ 12.890625 10.015625 18.65625 8.296875 \nQ 24.421875 6.59375 29.984375 6.59375 \nQ 38.421875 6.59375 43.015625 9.90625 \nQ 47.609375 13.234375 47.609375 19.390625 \nQ 47.609375 24.75 44.3125 27.78125 \nQ 41.015625 30.8125 33.5 32.328125 \nL 27.484375 33.5 \nQ 16.453125 35.6875 11.515625 40.375 \nQ 6.59375 45.0625 6.59375 53.421875 \nQ 6.59375 63.09375 13.40625 68.65625 \nQ 20.21875 74.21875 32.171875 74.21875 \nQ 37.3125 74.21875 42.625 73.28125 \nQ 47.953125 72.359375 53.515625 70.515625 \nz\n\" id=\"DejaVuSans-83\"/>\n      </defs>\n      <use xlink:href=\"#DejaVuSans-83\"/>\n      <use x=\"63.476562\" xlink:href=\"#DejaVuSans-71\"/>\n      <use x=\"140.966797\" xlink:href=\"#DejaVuSans-68\"/>\n     </g>\n    </g>\n    <g id=\"line2d_20\">\n     <path d=\"M 241.303177 94.703983 \nL 281.303177 94.703983 \n\" style=\"fill:none;stroke:#bfbf00;stroke-dasharray:4,6.6;stroke-dashoffset:0;stroke-width:4;\"/>\n    </g>\n    <g id=\"line2d_21\"/>\n    <g id=\"text_16\">\n     <!-- MBSGD8 -->\n     <g transform=\"translate(297.303177 101.703983)scale(0.2 -0.2)\">\n      <defs>\n       <path d=\"M 9.8125 72.90625 \nL 24.515625 72.90625 \nL 43.109375 23.296875 \nL 61.8125 72.90625 \nL 76.515625 72.90625 \nL 76.515625 0 \nL 66.890625 0 \nL 66.890625 64.015625 \nL 48.09375 14.015625 \nL 38.1875 14.015625 \nL 19.390625 64.015625 \nL 19.390625 0 \nL 9.8125 0 \nz\n\" id=\"DejaVuSans-77\"/>\n       <path d=\"M 19.671875 34.8125 \nL 19.671875 8.109375 \nL 35.5 8.109375 \nQ 43.453125 8.109375 47.28125 11.40625 \nQ 51.125 14.703125 51.125 21.484375 \nQ 51.125 28.328125 47.28125 31.5625 \nQ 43.453125 34.8125 35.5 34.8125 \nz\nM 19.671875 64.796875 \nL 19.671875 42.828125 \nL 34.28125 42.828125 \nQ 41.5 42.828125 45.03125 45.53125 \nQ 48.578125 48.25 48.578125 53.8125 \nQ 48.578125 59.328125 45.03125 62.0625 \nQ 41.5 64.796875 34.28125 64.796875 \nz\nM 9.8125 72.90625 \nL 35.015625 72.90625 \nQ 46.296875 72.90625 52.390625 68.21875 \nQ 58.5 63.53125 58.5 54.890625 \nQ 58.5 48.1875 55.375 44.234375 \nQ 52.25 40.28125 46.1875 39.3125 \nQ 53.46875 37.75 57.5 32.78125 \nQ 61.53125 27.828125 61.53125 20.40625 \nQ 61.53125 10.640625 54.890625 5.3125 \nQ 48.25 0 35.984375 0 \nL 9.8125 0 \nz\n\" id=\"DejaVuSans-66\"/>\n      </defs>\n      <use xlink:href=\"#DejaVuSans-77\"/>\n      <use x=\"86.279297\" xlink:href=\"#DejaVuSans-66\"/>\n      <use x=\"153.132812\" xlink:href=\"#DejaVuSans-83\"/>\n      <use x=\"216.609375\" xlink:href=\"#DejaVuSans-71\"/>\n      <use x=\"294.099609\" xlink:href=\"#DejaVuSans-68\"/>\n      <use x=\"371.101562\" xlink:href=\"#DejaVuSans-56\"/>\n     </g>\n    </g>\n    <g id=\"line2d_22\">\n     <path d=\"M 241.303177 124.060233 \nL 281.303177 124.060233 \n\" style=\"fill:none;stroke:#008000;stroke-dasharray:19.2,4.8,3,4.8;stroke-dashoffset:0;stroke-width:3;\"/>\n    </g>\n    <g id=\"line2d_23\"/>\n    <g id=\"text_17\">\n     <!-- MBSGD64 -->\n     <g transform=\"translate(297.303177 131.060233)scale(0.2 -0.2)\">\n      <use xlink:href=\"#DejaVuSans-77\"/>\n      <use x=\"86.279297\" xlink:href=\"#DejaVuSans-66\"/>\n      <use x=\"153.132812\" xlink:href=\"#DejaVuSans-83\"/>\n      <use x=\"216.609375\" xlink:href=\"#DejaVuSans-71\"/>\n      <use x=\"294.099609\" xlink:href=\"#DejaVuSans-68\"/>\n      <use x=\"371.101562\" xlink:href=\"#DejaVuSans-54\"/>\n      <use x=\"434.724609\" xlink:href=\"#DejaVuSans-52\"/>\n     </g>\n    </g>\n   </g>\n  </g>\n </g>\n <defs>\n  <clipPath id=\"p360b0cc128\">\n   <rect height=\"218.861512\" width=\"341.793802\" x=\"73.18125\" y=\"9.794608\"/>\n  </clipPath>\n </defs>\n</svg>\n",
      "image/png": "[encoded data removed]"
     },
     "metadata": {
      "needs_background": "light"
     }
    }
   ],
   "source": [
    "# plot the 4 curves:\n",
    "fig = plt.figure(figsize=(6, 4))\n",
    "\n",
    "epochs_gd = range(len(objvals_gd))\n",
    "epochs_sgd = range(len(objvals_sgd))\n",
    "epochs_mbsgd8 = range(len(objvals_mbsgd8))\n",
    "epochs_mbsgd64 = range(len(objvpip3 install --upgrade --force-reinstall --no-cache-dir jupyterals_mbsgd64))\n",
    "\n",
    "line0, = plt.plot(epochs_gd, objvals_gd, '--b', linewidth=3)\n",
    "line1, = plt.plot(epochs_sgd, objvals_sgd, '-r', linewidth=2)\n",
    "line2, = plt.plot(epochs_mbsgd8, objvals_mbsgd8, '-y', linewidth=4, linestyle='dotted')\n",
    "line3, = plt.plot(epochs_mbsgd64, objvals_mbsgd64, '-g', linewidth=3, linestyle='dashdot')\n",
    "plt.xlabel('Epochs', fontsize=20)\n",
    "plt.ylabel('Objective Value', fontsize=20)\n",
    "plt.xticks(fontsize=16)\n",
    "plt.yticks(fontsize=16)\n",
    "plt.legend([line0, line1, line2, line3], ['GD', 'SGD', 'MBSGD8', 'MBSGD64'], fontsize=20)\n",
    "plt.tight_layout()\n",
    "plt.show()\n",
    "fig.savefig('compare_gd_sgd_mbsgd.pdf', format='pdf', dpi=1200)"
   ]
  },
  {
   "cell_type": "markdown",
   "metadata": {},
   "source": []
  }
 ],
 "metadata": {
  "kernelspec": {
   "name": "python3",
   "display_name": "Python 3.9.1 64-bit",
   "metadata": {
    "interpreter": {
     "hash": "e7370f93d1d0cde622a1f8e1c04877d8463912d04d973331ad4851f04de6915a"
    }
   }
  },
  "language_info": {
   "codemirror_mode": {
    "name": "ipython",
    "version": 3
   },
   "file_extension": ".py",
   "mimetype": "text/x-python",
   "name": "python",
   "nbconvert_exporter": "python",
   "pygments_lexer": "ipython3",
   "version": "3.9.1-final"
  }
 },
 "nbformat": 4,
 "nbformat_minor": 2
}