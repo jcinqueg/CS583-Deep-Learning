{
 "cells": [
  {
   "cell_type": "markdown",
   "metadata": {},
   "source": [
    "# HM2: Numerical Optimization for Logistic Regression.\n",
    "\n",
    "### Name: John Cinquegrana\n"
   ]
  },
  {
   "cell_type": "markdown",
   "metadata": {},
   "source": [
    "## 0. You will do the following:\n",
    "\n",
    "1. Read the lecture note: [click here](https://github.com/wangshusen/DeepLearning/blob/master/LectureNotes/Logistic/paper/logistic.pdf)\n",
    "\n",
    "2. Read, complete, and run my code.\n",
    "\n",
    "3. **Implement mini-batch SGD** and evaluate the performance.\n",
    "\n",
    "4. Convert the .IPYNB file to .HTML file.\n",
    "\n",
    "    * The HTML file must contain **the code** and **the output after execution**.\n",
    "    \n",
    "    * Missing **the output after execution** will not be graded.\n",
    "    \n",
    "5. Upload this .HTML file to your Google Drive, Dropbox, or your Github repo.  (If you submit the file to Google Drive or Dropbox, you must make the file \"open-access\". The delay caused by \"deny of access\" may result in late penalty.)\n",
    "\n",
    "6. Submit the link to this .HTML file to Canvas.\n",
    "\n",
    "    * Example: https://github.com/wangshusen/CS583-2020S/blob/master/homework/HM2/HM2.html\n",
    "\n",
    "\n",
    "## Grading criteria:\n",
    "\n",
    "1. When computing the ```gradient``` and ```objective function value``` using a batch of samples, use **matrix-vector multiplication** rather than a FOR LOOP of **vector-vector multiplications**.\n",
    "\n",
    "2. Plot ```objective function value``` against ```epochs```. In the plot, compare GD, SGD, and MB-SGD (with $b=8$ and $b=64$). The plot must look reasonable."
   ]
  },
  {
   "cell_type": "markdown",
   "metadata": {},
   "source": [
    "# 1. Data processing\n",
    "\n",
    "- Download the Diabete dataset from https://www.csie.ntu.edu.tw/~cjlin/libsvmtools/datasets/binary/diabetes\n",
    "- Load the data using sklearn.\n",
    "- Preprocess the data."
   ]
  },
  {
   "cell_type": "markdown",
   "metadata": {},
   "source": [
    "## 1.1. Load the data"
   ]
  },
  {
   "cell_type": "code",
   "execution_count": 10,
   "metadata": {},
   "outputs": [
    {
     "output_type": "stream",
     "name": "stdout",
     "text": [
      "Shape of x: (768, 8)\nShape of y: (768,)\n"
     ]
    }
   ],
   "source": [
    "from sklearn import datasets\n",
    "import numpy\n",
    "\n",
    "x_sparse, y = datasets.load_svmlight_file('diabetes')\n",
    "x = x_sparse.todense()\n",
    "\n",
    "print('Shape of x: ' + str(x.shape))\n",
    "print('Shape of y: ' + str(y.shape))"
   ]
  },
  {
   "cell_type": "markdown",
   "metadata": {},
   "source": [
    "## 1.2. Partition to training and test sets"
   ]
  },
  {
   "cell_type": "code",
   "execution_count": 12,
   "metadata": {},
   "outputs": [
    {
     "output_type": "stream",
     "name": "stdout",
     "text": [
      "Shape of x_train: (640, 8)\nShape of x_test: (128, 8)\nShape of y_train: (640, 1)\nShape of y_test: (128, 1)\n"
     ]
    }
   ],
   "source": [
    "# partition the data to training and test sets\n",
    "n = x.shape[0]\n",
    "n_train = 640\n",
    "n_test = n - n_train\n",
    "\n",
    "rand_indices = numpy.random.permutation(n)\n",
    "train_indices = rand_indices[0:n_train]\n",
    "test_indices = rand_indices[n_train:n]\n",
    "\n",
    "x_train = x[train_indices, :]\n",
    "x_test = x[test_indices, :]\n",
    "y_train = y[train_indices].reshape(n_train, 1)\n",
    "y_test = y[test_indices].reshape(n_test, 1)\n",
    "\n",
    "print('Shape of x_train: ' + str(x_train.shape))\n",
    "print('Shape of x_test: ' + str(x_test.shape))\n",
    "print('Shape of y_train: ' + str(y_train.shape))\n",
    "print('Shape of y_test: ' + str(y_test.shape))"
   ]
  },
  {
   "cell_type": "markdown",
   "metadata": {},
   "source": [
    "## 1.3. Feature scaling"
   ]
  },
  {
   "cell_type": "markdown",
   "metadata": {},
   "source": [
    "Use the standardization to transform both training and test features"
   ]
  },
  {
   "cell_type": "code",
   "execution_count": 14,
   "metadata": {},
   "outputs": [
    {
     "output_type": "stream",
     "name": "stdout",
     "text": [
      "test mean = \n[[-0.04167204 -0.01719161  0.08768327 -0.07113398  0.06143936  0.13283193\n  -0.0852045  -0.12352467]]\ntest std = \n[[0.91785593 0.90448136 0.83703998 0.96246949 1.11547139 0.81489642\n  0.82041063 0.87333762]]\n"
     ]
    }
   ],
   "source": [
    "# Standardization\n",
    "import numpy\n",
    "\n",
    "# calculate mu and sig using the training set\n",
    "d = x_train.shape[1]\n",
    "mu = numpy.mean(x_train, axis=0).reshape(1, d)\n",
    "sig = numpy.std(x_train, axis=0).reshape(1, d)\n",
    "\n",
    "# transform the training features\n",
    "x_train = (x_train - mu) / (sig + 1E-6)\n",
    "\n",
    "# transform the test features\n",
    "x_test = (x_test - mu) / (sig + 1E-6)\n",
    "\n",
    "print('test mean = ')\n",
    "print(numpy.mean(x_test, axis=0))\n",
    "\n",
    "print('test std = ')\n",
    "print(numpy.std(x_test, axis=0))"
   ]
  },
  {
   "cell_type": "markdown",
   "metadata": {},
   "source": [
    "## 1.4. Add a dimension of all ones"
   ]
  },
  {
   "cell_type": "code",
   "execution_count": 16,
   "metadata": {},
   "outputs": [
    {
     "output_type": "stream",
     "name": "stdout",
     "text": [
      "Shape of x_train: (640, 9)\nShape of x_test: (128, 9)\n"
     ]
    }
   ],
   "source": [
    "n_train, d = x_train.shape\n",
    "x_train = numpy.concatenate((x_train, numpy.ones((n_train, 1))), axis=1)\n",
    "\n",
    "n_test, d = x_test.shape\n",
    "x_test = numpy.concatenate((x_test, numpy.ones((n_test, 1))), axis=1)\n",
    "\n",
    "print('Shape of x_train: ' + str(x_train.shape))\n",
    "print('Shape of x_test: ' + str(x_test.shape))"
   ]
  },
  {
   "cell_type": "markdown",
   "metadata": {},
   "source": [
    "# 2. Logistic regression model\n",
    "\n",
    "The objective function is $Q (w; X, y) = \\frac{1}{n} \\sum_{i=1}^n \\log \\Big( 1 + \\exp \\big( - y_i x_i^T w \\big) \\Big) + \\frac{\\lambda}{2} \\| w \\|_2^2 $."
   ]
  },
  {
   "cell_type": "code",
   "execution_count": 18,
   "metadata": {},
   "outputs": [],
   "source": [
    "# Calculate the objective function value\n",
    "# Inputs:\n",
    "#     w: d-by-1 matrix\n",
    "#     x: n-by-d matrix\n",
    "#     y: n-by-1 matrix\n",
    "#     lam: scalar, the regularization parameter\n",
    "# Return:\n",
    "#     objective function value (scalar)\n",
    "def objective(w, x, y, lam):\n",
    "    n, d = x.shape\n",
    "    yx = numpy.multiply(y, x) # n-by-d matrix\n",
    "    yxw = numpy.dot(yx, w) # n-by-1 matrix\n",
    "    vec1 = numpy.exp(-yxw) # n-by-1 matrix\n",
    "    vec2 = numpy.log(1 + vec1) # n-by-1 matrix\n",
    "    loss = numpy.mean(vec2) # scalar\n",
    "    reg = lam / 2 * numpy.sum(w * w) # scalar\n",
    "    return loss + reg\n",
    "    "
   ]
  },
  {
   "cell_type": "code",
   "execution_count": 20,
   "metadata": {},
   "outputs": [
    {
     "output_type": "stream",
     "name": "stdout",
     "text": [
      "Initial objective function value = 0.6931471805599453\n"
     ]
    }
   ],
   "source": [
    "# initialize w\n",
    "d = x_train.shape[1]\n",
    "w = numpy.zeros((d, 1))\n",
    "\n",
    "# evaluate the objective function value at w\n",
    "lam = 1E-6\n",
    "objval0 = objective(w, x_train, y_train, lam)\n",
    "print('Initial objective function value = ' + str(objval0))"
   ]
  },
  {
   "cell_type": "markdown",
   "metadata": {},
   "source": [
    "# 3. Numerical optimization"
   ]
  },
  {
   "cell_type": "markdown",
   "metadata": {},
   "source": [
    "## 3.1. Gradient descent\n"
   ]
  },
  {
   "cell_type": "markdown",
   "metadata": {},
   "source": [
    "The gradient at $w$ is $g = - \\frac{1}{n} \\sum_{i=1}^n \\frac{y_i x_i }{1 + \\exp ( y_i x_i^T w)} + \\lambda w$"
   ]
  },
  {
   "cell_type": "code",
   "execution_count": 22,
   "metadata": {},
   "outputs": [],
   "source": [
    "# Calculate the gradient\n",
    "# Inputs:\n",
    "#     w: d-by-1 matrix\n",
    "#     x: n-by-d matrix\n",
    "#     y: n-by-1 matrix\n",
    "#     lam: scalar, the regularization parameter\n",
    "# Return:\n",
    "#     g: g: d-by-1 matrix, full gradient\n",
    "def gradient(w, x, y, lam):\n",
    "    n, d = x.shape\n",
    "    yx = numpy.multiply(y, x) # n-by-d matrix\n",
    "    yxw = numpy.dot(yx, w) # n-by-1 matrix\n",
    "    vec1 = numpy.exp(yxw) # n-by-1 matrix\n",
    "    vec2 = numpy.divide(yx, 1+vec1) # n-by-d matrix\n",
    "    vec3 = -numpy.mean(vec2, axis=0).reshape(d, 1) # d-by-1 matrix\n",
    "    g = vec3 + lam * w\n",
    "    return g"
   ]
  },
  {
   "cell_type": "code",
   "execution_count": 24,
   "metadata": {},
   "outputs": [],
   "source": [
    "# Gradient descent for solving logistic regression\n",
    "# Inputs:\n",
    "#     x: n-by-d matrix\n",
    "#     y: n-by-1 matrix\n",
    "#     lam: scalar, the regularization parameter\n",
    "#     stepsize: scalar\n",
    "#     max_iter: integer, the maximal iterations\n",
    "#     w: d-by-1 matrix, initialization of w\n",
    "# Return:\n",
    "#     w: d-by-1 matrix, the solution\n",
    "#     objvals: a record of each iteration's objective value\n",
    "def grad_descent(x, y, lam, stepsize, max_iter=100, w=None):\n",
    "    n, d = x.shape\n",
    "    objvals = numpy.zeros(max_iter) # store the objective values\n",
    "    if w is None:\n",
    "        w = numpy.zeros((d, 1)) # zero initialization\n",
    "    \n",
    "    for t in range(max_iter):\n",
    "        objval = objective(w, x, y, lam)\n",
    "        objvals[t] = objval\n",
    "        print('Objective value at t=' + str(t) + ' is ' + str(objval))\n",
    "        g = gradient(w, x, y, lam)\n",
    "        w -= stepsize * g\n",
    "    \n",
    "    return w, objvals"
   ]
  },
  {
   "cell_type": "markdown",
   "metadata": {},
   "source": [
    "Run gradient descent."
   ]
  },
  {
   "cell_type": "code",
   "execution_count": 26,
   "metadata": {},
   "outputs": [
    {
     "output_type": "stream",
     "name": "stdout",
     "text": [
      "Objective value at t=0 is 0.6931471805599453\nObjective value at t=1 is 0.5927785286097838\nObjective value at t=2 is 0.5514142585801423\nObjective value at t=3 is 0.5288193520896627\nObjective value at t=4 is 0.5145390494123208\nObjective value at t=5 is 0.5047749286027976\nObjective value at t=6 is 0.497772407130965\nObjective value at t=7 is 0.4925871931446593\nObjective value at t=8 is 0.48865751158034265\nObjective value at t=9 is 0.48562566536700247\nObjective value at t=10 is 0.483252720024766\nObjective value at t=11 is 0.4813733180951654\nObjective value at t=12 is 0.4798698399837244\nObjective value at t=13 is 0.4786567507534082\nObjective value at t=14 is 0.47767069082145114\nObjective value at t=15 is 0.4768639829541364\nObjective value at t=16 is 0.4762002577673551\nObjective value at t=17 is 0.4756514374655878\nObjective value at t=18 is 0.475195614490237\nObjective value at t=19 is 0.4748155335088682\nObjective value at t=20 is 0.47449748831912353\nObjective value at t=21 is 0.47423050911486075\nObjective value at t=22 is 0.4740057561517681\nObjective value at t=23 is 0.47381606221909445\nObjective value at t=24 is 0.47365558378904143\nObjective value at t=25 is 0.4735195324830794\nObjective value at t=26 is 0.4734039665474743\nObjective value at t=27 is 0.4733056276199765\nObjective value at t=28 is 0.47322181200055746\nObjective value at t=29 is 0.4731502684372608\nObjective value at t=30 is 0.4730891164527521\nObjective value at t=31 is 0.47303678070291316\nObjective value at t=32 is 0.47299193793594685\nObjective value at t=33 is 0.472953473919394\nObjective value at t=34 is 0.47292044830028096\nObjective value at t=35 is 0.4728920658146436\nObjective value at t=36 is 0.4728676526056207\nObjective value at t=37 is 0.47284663667198473\nObjective value at t=38 is 0.47282853167157896\nObjective value at t=39 is 0.47281292346140996\nObjective value at t=40 is 0.4727994588790095\nObjective value at t=41 is 0.47278783636621197\nObjective value at t=42 is 0.4727777981127661\nObjective value at t=43 is 0.4727691234577741\nObjective value at t=44 is 0.47276162333529825\nObjective value at t=45 is 0.47275513558924587\nObjective value at t=46 is 0.47274952101387435\nObjective value at t=47 is 0.47274466000150944\nObjective value at t=48 is 0.47274044969959145\nObjective value at t=49 is 0.4727368015958727\nObjective value at t=50 is 0.47273363946427605\nObjective value at t=51 is 0.47273089761514103\nObjective value at t=52 is 0.47272851940283833\nObjective value at t=53 is 0.47272645595135354\nObjective value at t=54 is 0.47272466506477845\nObjective value at t=55 is 0.472723110294889\nObjective value at t=56 is 0.4727217601423636\nObjective value at t=57 is 0.47272058737184885\nObjective value at t=58 is 0.4727195684241251\nObjective value at t=59 is 0.4727186829111903\nObjective value at t=60 is 0.47271791318222467\nObjective value at t=61 is 0.4727172439502116\nObjective value at t=62 is 0.47271666197051476\nObjective value at t=63 is 0.47271615576399934\nObjective value at t=64 is 0.4727157153783768\nObjective value at t=65 is 0.47271533218237505\nObjective value at t=66 is 0.4727149986881205\nObjective value at t=67 is 0.4727147083977854\nObjective value at t=68 is 0.47271445567111764\nObjective value at t=69 is 0.4727142356109568\nObjective value at t=70 is 0.47271404396424854\nObjective value at t=71 is 0.4727138770364239\nObjective value at t=72 is 0.4727137316173078\nObjective value at t=73 is 0.4727136049169794\nObjective value at t=74 is 0.4727134945102279\nObjective value at t=75 is 0.47271339828843467\nObjective value at t=76 is 0.47271331441787434\nObjective value at t=77 is 0.4727132413035664\nObjective value at t=78 is 0.472713177557931\nObjective value at t=79 is 0.47271312197360027\nObjective value at t=80 is 0.4727130734998284\nObjective value at t=81 is 0.472713031222018\nObjective value at t=82 is 0.4727129943439487\nObjective value at t=83 is 0.47271296217234354\nObjective value at t=84 is 0.4727129341034663\nObjective value at t=85 is 0.4727129096114775\nObjective value at t=86 is 0.4727128882383167\nObjective value at t=87 is 0.47271286958490905\nObjective value at t=88 is 0.4727128533035218\nObjective value at t=89 is 0.4727128390911177\nObjective value at t=90 is 0.47271282668357584\nObjective value at t=91 is 0.47271281585066427\nObjective value at t=92 is 0.47271280639166663\nObjective value at t=93 is 0.4727127981315773\nObjective value at t=94 is 0.4727127909177896\nObjective value at t=95 is 0.47271278461721333\nObjective value at t=96 is 0.47271277911376597\nObjective value at t=97 is 0.47271277430618824\nObjective value at t=98 is 0.47271277010614066\nObjective value at t=99 is 0.47271276643654825\n"
     ]
    }
   ],
   "source": [
    "lam = 1E-6\n",
    "stepsize = 1.0\n",
    "w, objvals_gd = grad_descent(x_train, y_train, lam, stepsize)"
   ]
  },
  {
   "cell_type": "markdown",
   "metadata": {},
   "source": [
    "## 3.2. Stochastic gradient descent (SGD)\n",
    "\n",
    "Define $Q_i (w) = \\log \\Big( 1 + \\exp \\big( - y_i x_i^T w \\big) \\Big) + \\frac{\\lambda}{2} \\| w \\|_2^2 $.\n",
    "\n",
    "The stochastic gradient at $w$ is $g_i = \\frac{\\partial Q_i }{ \\partial w} = -\\frac{y_i x_i }{1 + \\exp ( y_i x_i^T w)} + \\lambda w$."
   ]
  },
  {
   "cell_type": "code",
   "execution_count": 28,
   "metadata": {},
   "outputs": [],
   "source": [
    "# Calculate the objective Q_i and the gradient of Q_i\n",
    "# Inputs:\n",
    "#     w: d-by-1 matrix\n",
    "#     xi: 1-by-d matrix\n",
    "#     yi: scalar\n",
    "#     lam: scalar, the regularization parameter\n",
    "# Return:\n",
    "#     obj: scalar, the objective Q_i\n",
    "#     g: d-by-1 matrix, gradient of Q_i\n",
    "def stochastic_objective_gradient(w, xi, yi, lam):\n",
    "    d = xi.shape[0]\n",
    "    yx = yi * xi # 1-by-d matrix\n",
    "    yxw = float(numpy.dot(yx, w)) # scalar\n",
    "    \n",
    "    # calculate objective function Q_i\n",
    "    loss = numpy.log(1 + numpy.exp(-yxw)) # scalar\n",
    "    reg = lam / 2 * numpy.sum(w * w) # scalar\n",
    "    obj = loss + reg\n",
    "    \n",
    "    # calculate stochastic gradient\n",
    "    g_loss = -yx.T / (1 + numpy.exp(yxw)) # d-by-1 matrix\n",
    "    g = g_loss + lam * w # d-by-1 matrix\n",
    "    \n",
    "    return obj, g"
   ]
  },
  {
   "cell_type": "code",
   "execution_count": 30,
   "metadata": {},
   "outputs": [],
   "source": [
    "# SGD for solving logistic regression\n",
    "# Inputs:\n",
    "#     x: n-by-d matrix\n",
    "#     y: n-by-1 matrix\n",
    "#     lam: scalar, the regularization parameter\n",
    "#     stepsize: scalar\n",
    "#     max_epoch: integer, the maximal epochs\n",
    "#     w: d-by-1 matrix, initialization of w\n",
    "# Return:\n",
    "#     w: the solution\n",
    "#     objvals: record of each iteration's objective value\n",
    "def sgd(x, y, lam, stepsize, max_epoch=100, w=None):\n",
    "    n, d = x.shape\n",
    "    objvals = numpy.zeros(max_epoch) # store the objective values\n",
    "    if w is None:\n",
    "        w = numpy.zeros((d, 1)) # zero initialization\n",
    "    \n",
    "    for t in range(max_epoch):\n",
    "        # randomly shuffle the samples\n",
    "        rand_indices = numpy.random.permutation(n)\n",
    "        x_rand = x[rand_indices, :]\n",
    "        y_rand = y[rand_indices, :]\n",
    "        \n",
    "        objval = 0 # accumulate the objective values\n",
    "        for i in range(n):\n",
    "            xi = x_rand[i, :] # 1-by-d matrix\n",
    "            yi = float(y_rand[i, :]) # scalar\n",
    "            obj, g = stochastic_objective_gradient(w, xi, yi, lam)\n",
    "            objval += obj\n",
    "            w -= stepsize * g\n",
    "        \n",
    "        stepsize *= 0.9 # decrease step size\n",
    "        objval /= n\n",
    "        objvals[t] = objval\n",
    "        print('Objective value at epoch t=' + str(t) + ' is ' + str(objval))\n",
    "    \n",
    "    return w, objvals"
   ]
  },
  {
   "cell_type": "markdown",
   "metadata": {},
   "source": [
    "Run SGD."
   ]
  },
  {
   "cell_type": "code",
   "execution_count": 32,
   "metadata": {},
   "outputs": [
    {
     "output_type": "stream",
     "name": "stdout",
     "text": [
      "Objective value at epoch t=0 is 0.5304343745791391\n",
      "Objective value at epoch t=1 is 0.5267914299655245\n",
      "Objective value at epoch t=2 is 0.5163159981061352\n",
      "Objective value at epoch t=3 is 0.5134426208371953\n",
      "Objective value at epoch t=4 is 0.5092458264925354\n",
      "Objective value at epoch t=5 is 0.5015239039536737\n",
      "Objective value at epoch t=6 is 0.49641884890373944\n",
      "Objective value at epoch t=7 is 0.5006629565345222\n",
      "Objective value at epoch t=8 is 0.4980025923517162\n",
      "Objective value at epoch t=9 is 0.49477748787720904\n",
      "Objective value at epoch t=10 is 0.49114104876865905\n",
      "Objective value at epoch t=11 is 0.4889930787925512\n",
      "Objective value at epoch t=12 is 0.488557807427652\n",
      "Objective value at epoch t=13 is 0.4880767687242041\n",
      "Objective value at epoch t=14 is 0.4876695581559267\n",
      "Objective value at epoch t=15 is 0.4859987010395227\n",
      "Objective value at epoch t=16 is 0.48500561945984233\n",
      "Objective value at epoch t=17 is 0.4832146232765317\n",
      "Objective value at epoch t=18 is 0.4827096638481323\n",
      "Objective value at epoch t=19 is 0.48168102168725807\n",
      "Objective value at epoch t=20 is 0.47937970771616334\n",
      "Objective value at epoch t=21 is 0.47987704187987046\n",
      "Objective value at epoch t=22 is 0.4783712078592095\n",
      "Objective value at epoch t=23 is 0.4791427914312997\n",
      "Objective value at epoch t=24 is 0.4782625940541842\n",
      "Objective value at epoch t=25 is 0.477144546548796\n",
      "Objective value at epoch t=26 is 0.4774408570402119\n",
      "Objective value at epoch t=27 is 0.4767412553605358\n",
      "Objective value at epoch t=28 is 0.476515857435751\n",
      "Objective value at epoch t=29 is 0.4760137074507371\n",
      "Objective value at epoch t=30 is 0.47571382844108745\n",
      "Objective value at epoch t=31 is 0.4754617244853888\n",
      "Objective value at epoch t=32 is 0.47499752730385136\n",
      "Objective value at epoch t=33 is 0.4749617668624319\n",
      "Objective value at epoch t=34 is 0.4747276611932235\n",
      "Objective value at epoch t=35 is 0.4745476168817578\n",
      "Objective value at epoch t=36 is 0.4743014157579656\n",
      "Objective value at epoch t=37 is 0.47418853955216295\n",
      "Objective value at epoch t=38 is 0.4740418077512999\n",
      "Objective value at epoch t=39 is 0.4739219406867606\n",
      "Objective value at epoch t=40 is 0.4737874907416334\n",
      "Objective value at epoch t=41 is 0.47370135905513305\n",
      "Objective value at epoch t=42 is 0.473605232752063\n",
      "Objective value at epoch t=43 is 0.47351571758067357\n",
      "Objective value at epoch t=44 is 0.47343335750470683\n",
      "Objective value at epoch t=45 is 0.47335892996958256\n",
      "Objective value at epoch t=46 is 0.473295201019435\n",
      "Objective value at epoch t=47 is 0.4732424401382618\n",
      "Objective value at epoch t=48 is 0.4731877090256674\n",
      "Objective value at epoch t=49 is 0.47313162029399275\n",
      "Objective value at epoch t=50 is 0.47309553949251953\n",
      "Objective value at epoch t=51 is 0.47305616045236637\n",
      "Objective value at epoch t=52 is 0.47302316772863107\n",
      "Objective value at epoch t=53 is 0.47299395738068506\n",
      "Objective value at epoch t=54 is 0.4729647595874039\n",
      "Objective value at epoch t=55 is 0.4729406620729154\n",
      "Objective value at epoch t=56 is 0.47291824240230707\n",
      "Objective value at epoch t=57 is 0.47289765001311246\n",
      "Objective value at epoch t=58 is 0.47287946302506334\n",
      "Objective value at epoch t=59 is 0.47286280697579813\n",
      "Objective value at epoch t=60 is 0.4728478206343724\n",
      "Objective value at epoch t=61 is 0.4728343566224608\n",
      "Objective value at epoch t=62 is 0.47282239945195564\n",
      "Objective value at epoch t=63 is 0.4728111761596893\n",
      "Objective value at epoch t=64 is 0.4728017338986442\n",
      "Objective value at epoch t=65 is 0.4727928375393267\n",
      "Objective value at epoch t=66 is 0.4727849401305084\n",
      "Objective value at epoch t=67 is 0.4727777139130964\n",
      "Objective value at epoch t=68 is 0.47277130843923426\n",
      "Objective value at epoch t=69 is 0.47276550670047746\n",
      "Objective value at epoch t=70 is 0.4727602766920371\n",
      "Objective value at epoch t=71 is 0.4727555982008142\n",
      "Objective value at epoch t=72 is 0.47275139607355793\n",
      "Objective value at epoch t=73 is 0.4727475876695939\n",
      "Objective value at epoch t=74 is 0.4727441699489308\n",
      "Objective value at epoch t=75 is 0.4727410834860245\n",
      "Objective value at epoch t=76 is 0.4727383088493317\n",
      "Objective value at epoch t=77 is 0.47273581449114815\n",
      "Objective value at epoch t=78 is 0.47273356806974737\n",
      "Objective value at epoch t=79 is 0.4727315436199707\n",
      "Objective value at epoch t=80 is 0.4727297265840177\n",
      "Objective value at epoch t=81 is 0.4727280877126253\n",
      "Objective value at epoch t=82 is 0.472726614460242\n",
      "Objective value at epoch t=83 is 0.4727252859454006\n",
      "Objective value at epoch t=84 is 0.47272409257965203\n",
      "Objective value at epoch t=85 is 0.4727230164018531\n",
      "Objective value at epoch t=86 is 0.472722049031632\n",
      "Objective value at epoch t=87 is 0.47272117860625074\n",
      "Objective value at epoch t=88 is 0.47272039488603534\n",
      "Objective value at epoch t=89 is 0.47271968959459876\n",
      "Objective value at epoch t=90 is 0.4727190541757154\n",
      "Objective value at epoch t=91 is 0.47271848315805987\n",
      "Objective value at epoch t=92 is 0.47271796878342914\n",
      "Objective value at epoch t=93 is 0.4727175059535281\n",
      "Objective value at epoch t=94 is 0.4727170893787818\n",
      "Objective value at epoch t=95 is 0.47271671399424076\n",
      "Objective value at epoch t=96 is 0.47271637698960045\n",
      "Objective value at epoch t=97 is 0.47271607336662064\n",
      "Objective value at epoch t=98 is 0.47271579999464475\n",
      "Objective value at epoch t=99 is 0.4727155537919877\n"
     ]
    }
   ],
   "source": [
    "lam = 1E-6\n",
    "stepsize = 0.1\n",
    "w, objvals_sgd = sgd(x_train, y_train, lam, stepsize)"
   ]
  },
  {
   "cell_type": "markdown",
   "metadata": {},
   "source": [
    "# 4. Compare GD with SGD\n",
    "\n",
    "Plot objective function values against epochs."
   ]
  },
  {
   "cell_type": "code",
   "execution_count": null,
   "metadata": {},
   "outputs": [],
   "source": [
    "import matplotlib.pyplot as plt\n",
    "%matplotlib inline\n",
    "\n",
    "fig = plt.figure(figsize=(6, 4))\n",
    "\n",
    "epochs_gd = range(len(objvals_gd))\n",
    "epochs_sgd = range(len(objvals_sgd))\n",
    "\n",
    "line0, = plt.plot(epochs_gd, objvals_gd, '--b', LineWidth=4)\n",
    "line1, = plt.plot(epochs_sgd, objvals_sgd, '-r', LineWidth=2)\n",
    "plt.xlabel('Epochs', FontSize=20)\n",
    "plt.ylabel('Objective Value', FontSize=20)\n",
    "plt.xticks(FontSize=16)\n",
    "plt.yticks(FontSize=16)\n",
    "plt.legend([line0, line1], ['GD', 'SGD'], fontsize=20)\n",
    "plt.tight_layout()\n",
    "plt.show()\n",
    "fig.savefig('compare_gd_sgd.pdf', format='pdf', dpi=1200)"
   ]
  },
  {
   "cell_type": "markdown",
   "metadata": {},
   "source": [
    "# 5. Prediction"
   ]
  },
  {
   "cell_type": "code",
   "execution_count": 19,
   "metadata": {},
   "outputs": [],
   "source": [
    "# Predict class label\n",
    "# Inputs:\n",
    "#     w: d-by-1 matrix\n",
    "#     X: m-by-d matrix\n",
    "# Return:\n",
    "#     f: m-by-1 matrix, the predictions\n",
    "def predict(w, X):\n",
    "    xw = numpy.dot(X, w)\n",
    "    f = numpy.sign(xw)\n",
    "    return f"
   ]
  },
  {
   "cell_type": "code",
   "execution_count": 21,
   "metadata": {},
   "outputs": [
    {
     "output_type": "stream",
     "name": "stdout",
     "text": [
      "Training classification error is 0.5\n"
     ]
    }
   ],
   "source": [
    "# evaluate training error\n",
    "f_train = predict(w, x_train)\n",
    "diff = numpy.abs(f_train - y_train) / 2\n",
    "error_train = numpy.mean(diff)\n",
    "print('Training classification error is ' + str(error_train))"
   ]
  },
  {
   "cell_type": "code",
   "execution_count": 23,
   "metadata": {},
   "outputs": [
    {
     "output_type": "stream",
     "name": "stdout",
     "text": [
      "Test classification error is 0.5\n"
     ]
    }
   ],
   "source": [
    "# evaluate test error\n",
    "f_test = predict(w, x_test)\n",
    "diff = numpy.abs(f_test - y_test) / 2\n",
    "error_test = numpy.mean(diff)\n",
    "print('Test classification error is ' + str(error_test))"
   ]
  },
  {
   "cell_type": "markdown",
   "metadata": {},
   "source": [
    "# 6. Mini-batch SGD (fill the code)\n",
    "\n"
   ]
  },
  {
   "cell_type": "markdown",
   "metadata": {},
   "source": [
    "## 6.1. Compute the objective $Q_I$ and its gradient using a batch of samples\n",
    "\n",
    "Define $Q_I (w) = \\frac{1}{b} \\sum_{i \\in I} \\log \\Big( 1 + \\exp \\big( - y_i x_i^T w \\big) \\Big) + \\frac{\\lambda}{2} \\| w \\|_2^2 $, where $I$ is a set containing $b$ indices randomly drawn from $\\{ 1, \\cdots , n \\}$ without replacement.\n",
    "\n",
    "The stochastic gradient at $w$ is $g_I = \\frac{\\partial Q_I }{ \\partial w} = \\frac{1}{b} \\sum_{i \\in I} \\frac{- y_i x_i }{1 + \\exp ( y_i x_i^T w)} + \\lambda w$."
   ]
  },
  {
   "cell_type": "code",
   "execution_count": 25,
   "metadata": {},
   "outputs": [],
   "source": [
    "# Calculate the objective Q_I and the gradient of Q_I\n",
    "# Inputs:\n",
    "#     w: d-by-1 matrix\n",
    "#     xi: b-by-d matrix\n",
    "#     yi: b-by-1 matrix\n",
    "#     lam: scalar, the regularization parameter\n",
    "#     b: integer, the batch size\n",
    "# Return:\n",
    "#     obj: scalar, the objective Q_i\n",
    "#     g: d-by-1 matrix, gradient of Q_i\n",
    "def mb_stochastic_objective_gradient(w, xi, yi, lam, b):\n",
    "    # Fill the function\n",
    "    # Follow the implementation of stochastic_objective_gradient\n",
    "    # Use matrix-vector multiplication; do not use FOR LOOP of vector-vector multiplications\n",
    "    yx = numpy.multiply(yi, xi)    # b-by-d matrix\n",
    "    yxw = numpy.dot(yx, w) # b-by-1 matrix\n",
    "    vec1 = numpy.exp(-yxw) # b-by-1 matrix\n",
    "    vec2 = numpy.log(1 + vec1) # b-by-1 matrix\n",
    "    loss = numpy.mean(vec2) # scalar\n",
    "\n",
    "    # Compute the objective function\n",
    "    reg = lam / 2 * numpy.sum(w * w) # scalar\n",
    "    obj = loss + reg # scalar\n",
    "\n",
    "    # Compute the gradient\n",
    "    g_vec1 = numpy.exp(yxw) # b-by-1 matrix\n",
    "    g_vec2 = numpy.divide(-yx, 1+g_vec1) # b-by-d matrix\n",
    "    g_vec3 = numpy.mean(g_vec2, axis=0).T # d-by-1 matrix\n",
    "    g = g_vec3 + lam*w # d-by-1 matrix\n",
    "\n",
    "    # Return\n",
    "    return obj, g"
   ]
  },
  {
   "cell_type": "markdown",
   "metadata": {},
   "source": [
    "## 6.2. Implement mini-batch SGD\n",
    "\n",
    "Hints:\n",
    "1. In every epoch, randomly permute the $n$ samples (just like SGD).\n",
    "2. Each epoch has $\\frac{n}{b}$ iterations. In every iteration, use $b$ samples, and compute the gradient and objective using the ``mb_stochastic_objective_gradient`` function. In the next iteration, use the next $b$ samples, and so on.\n"
   ]
  },
  {
   "cell_type": "code",
   "execution_count": 27,
   "metadata": {},
   "outputs": [],
   "source": [
    "# Mini-Batch SGD for solving logistic regression\n",
    "# Inputs:\n",
    "#     x: n-by-d matrix\n",
    "#     y: n-by-1 matrix\n",
    "#     lam: scalar, the regularization parameter\n",
    "#     b: integer, the batch size\n",
    "#     stepsize: scalar\n",
    "#     max_epoch: integer, the maximal epochs\n",
    "#     w: d-by-1 matrix, initialization of w\n",
    "# Return:\n",
    "#     w: the solution\n",
    "#     objvals: record of each iteration's objective value\n",
    "def mb_sgd(x, y, lam, b, stepsize, max_epoch=100, w=None):\n",
    "    # Fill the function\n",
    "    # Follow the implementation of sgd\n",
    "    # Record one objective value per epoch (not per iteration!)\n",
    "    n, d = x.shape\n",
    "    print( \"Shape of our data is {}\".format( x.shape ) )\n",
    "    objvals = numpy.zeros(max_epoch) # store the objective values\n",
    "    if w is None:\n",
    "        w = numpy.zeros((d, 1)) # zero initialization\n",
    "    \n",
    "    for t in range(max_epoch):\n",
    "        # randomly shuffle the samples\n",
    "        rand_indices = numpy.random.permutation(n)\n",
    "        x_rand = x[rand_indices, :]\n",
    "        y_rand = y[rand_indices, :]\n",
    "\n",
    "        objval = 0\n",
    "        start_index = 0\n",
    "        end_index = b\n",
    "        for i in range( (n//b) ):\n",
    "            xi = x_rand[ (b*i):(b*(i+1)), : ]\n",
    "            yi = y_rand[ (b*i):(b*(i+1)), : ]\n",
    "            obj, g = mb_stochastic_objective_gradient(w, xi, yi, lam, b)\n",
    "            objval += obj\n",
    "            w -= stepsize * g\n",
    "            \n",
    "        stepsize *= 0.9\n",
    "        objval /= (n//b)\n",
    "        objvals[t] = objval\n",
    "        print( \"Objective value at epoch t={} is {}.\".format(t, objval))\n",
    "\n",
    "        \n",
    "\n",
    "    return w, objvals"
   ]
  },
  {
   "cell_type": "markdown",
   "metadata": {},
   "source": [
    "## 6.3. Run MB-SGD"
   ]
  },
  {
   "cell_type": "code",
   "execution_count": 29,
   "metadata": {
    "tags": []
   },
   "outputs": [
    {
     "output_type": "stream",
     "name": "stdout",
     "text": [
      "Shape of our data is (640, 9)\n",
      "Objective value at epoch t=0 is 0.5925398905509824.\n",
      "Objective value at epoch t=1 is 0.5173454207133461.\n",
      "Objective value at epoch t=2 is 0.4969744449229713.\n",
      "Objective value at epoch t=3 is 0.48826031777800527.\n",
      "Objective value at epoch t=4 is 0.48325544868114195.\n",
      "Objective value at epoch t=5 is 0.4806586263570357.\n",
      "Objective value at epoch t=6 is 0.4787676500323269.\n",
      "Objective value at epoch t=7 is 0.47767107820941845.\n",
      "Objective value at epoch t=8 is 0.4767875553301192.\n",
      "Objective value at epoch t=9 is 0.47619620287410286.\n",
      "Objective value at epoch t=10 is 0.47566451177163954.\n",
      "Objective value at epoch t=11 is 0.4752603765743779.\n",
      "Objective value at epoch t=12 is 0.47503079543172644.\n",
      "Objective value at epoch t=13 is 0.47478698017378385.\n",
      "Objective value at epoch t=14 is 0.47452384553139704.\n",
      "Objective value at epoch t=15 is 0.47435930224115197.\n",
      "Objective value at epoch t=16 is 0.4741865589816664.\n",
      "Objective value at epoch t=17 is 0.47401610471458583.\n",
      "Objective value at epoch t=18 is 0.4739286631875205.\n",
      "Objective value at epoch t=19 is 0.4738677781245319.\n",
      "Objective value at epoch t=20 is 0.47375044812291245.\n",
      "Objective value at epoch t=21 is 0.4736631249516784.\n",
      "Objective value at epoch t=22 is 0.47365160230239994.\n",
      "Objective value at epoch t=23 is 0.4735716400445926.\n",
      "Objective value at epoch t=24 is 0.47350998175268594.\n",
      "Objective value at epoch t=25 is 0.47344703958776735.\n",
      "Objective value at epoch t=26 is 0.47341748318907806.\n",
      "Objective value at epoch t=27 is 0.47338788138079824.\n",
      "Objective value at epoch t=28 is 0.4733436046930507.\n",
      "Objective value at epoch t=29 is 0.4733214646958775.\n",
      "Objective value at epoch t=30 is 0.473295943616065.\n",
      "Objective value at epoch t=31 is 0.4732647123927336.\n",
      "Objective value at epoch t=32 is 0.47323211657088937.\n",
      "Objective value at epoch t=33 is 0.4732161395009532.\n",
      "Objective value at epoch t=34 is 0.47321322563096935.\n",
      "Objective value at epoch t=35 is 0.4732019168255877.\n",
      "Objective value at epoch t=36 is 0.47317355713201054.\n",
      "Objective value at epoch t=37 is 0.47316621347501336.\n",
      "Objective value at epoch t=38 is 0.4731608374613575.\n",
      "Objective value at epoch t=39 is 0.4731470617741372.\n",
      "Objective value at epoch t=40 is 0.473137906676352.\n",
      "Objective value at epoch t=41 is 0.47312857149885634.\n",
      "Objective value at epoch t=42 is 0.4731254222080869.\n",
      "Objective value at epoch t=43 is 0.47311534407367295.\n",
      "Objective value at epoch t=44 is 0.4731137510238487.\n",
      "Objective value at epoch t=45 is 0.4731044869567403.\n",
      "Objective value at epoch t=46 is 0.47310090074672545.\n",
      "Objective value at epoch t=47 is 0.47309465319442545.\n",
      "Objective value at epoch t=48 is 0.47309678840039016.\n",
      "Objective value at epoch t=49 is 0.4730910688031968.\n",
      "Objective value at epoch t=50 is 0.47308525012223457.\n",
      "Objective value at epoch t=51 is 0.4730851423287582.\n",
      "Objective value at epoch t=52 is 0.47308227162026784.\n",
      "Objective value at epoch t=53 is 0.473079078209196.\n",
      "Objective value at epoch t=54 is 0.4730781332161801.\n",
      "Objective value at epoch t=55 is 0.4730755908653134.\n",
      "Objective value at epoch t=56 is 0.47307428808882024.\n",
      "Objective value at epoch t=57 is 0.4730730914182317.\n",
      "Objective value at epoch t=58 is 0.4730719111805037.\n",
      "Objective value at epoch t=59 is 0.47307142029503507.\n",
      "Objective value at epoch t=60 is 0.47306932375440314.\n",
      "Objective value at epoch t=61 is 0.4730686577337737.\n",
      "Objective value at epoch t=62 is 0.47306803210906034.\n",
      "Objective value at epoch t=63 is 0.47306772446510903.\n",
      "Objective value at epoch t=64 is 0.47306665985887086.\n",
      "Objective value at epoch t=65 is 0.4730659861681117.\n",
      "Objective value at epoch t=66 is 0.47306551927100127.\n",
      "Objective value at epoch t=67 is 0.4730647682407323.\n",
      "Objective value at epoch t=68 is 0.47306474422586753.\n",
      "Objective value at epoch t=69 is 0.47306411021900335.\n",
      "Objective value at epoch t=70 is 0.4730636532692297.\n",
      "Objective value at epoch t=71 is 0.4730634091274436.\n",
      "Objective value at epoch t=72 is 0.47306307571009754.\n",
      "Objective value at epoch t=73 is 0.4730626360276604.\n",
      "Objective value at epoch t=74 is 0.47306266470803787.\n",
      "Objective value at epoch t=75 is 0.47306246334685015.\n",
      "Objective value at epoch t=76 is 0.47306208430566593.\n",
      "Objective value at epoch t=77 is 0.4730619692832133.\n",
      "Objective value at epoch t=78 is 0.473061848565275.\n",
      "Objective value at epoch t=79 is 0.4730616265333585.\n",
      "Objective value at epoch t=80 is 0.4730615421248688.\n",
      "Objective value at epoch t=81 is 0.473061436328555.\n",
      "Objective value at epoch t=82 is 0.4730612815840195.\n",
      "Objective value at epoch t=83 is 0.473061262923533.\n",
      "Objective value at epoch t=84 is 0.47306117339442205.\n",
      "Objective value at epoch t=85 is 0.4730611192424698.\n",
      "Objective value at epoch t=86 is 0.4730610281377781.\n",
      "Objective value at epoch t=87 is 0.47306093179202424.\n",
      "Objective value at epoch t=88 is 0.4730608856522128.\n",
      "Objective value at epoch t=89 is 0.4730608632009319.\n",
      "Objective value at epoch t=90 is 0.4730608195610112.\n",
      "Objective value at epoch t=91 is 0.47306076870426583.\n",
      "Objective value at epoch t=92 is 0.47306071840117364.\n",
      "Objective value at epoch t=93 is 0.47306068556060676.\n",
      "Objective value at epoch t=94 is 0.47306066503975863.\n",
      "Objective value at epoch t=95 is 0.4730606467531813.\n",
      "Objective value at epoch t=96 is 0.47306060694148877.\n",
      "Objective value at epoch t=97 is 0.4730605877101647.\n",
      "Objective value at epoch t=98 is 0.4730605654558494.\n",
      "Objective value at epoch t=99 is 0.47306055955445.\n"
     ]
    }
   ],
   "source": [
    "# MB-SGD with batch size b=8\n",
    "lam = 1E-6 # do not change\n",
    "b = 8 # do not change\n",
    "stepsize = 0.04 # you must tune this parameter\n",
    "\n",
    "w, objvals_mbsgd8 = mb_sgd(x_train, y_train, lam, b, stepsize)"
   ]
  },
  {
   "cell_type": "code",
   "execution_count": 31,
   "metadata": {
    "tags": []
   },
   "outputs": [
    {
     "output_type": "stream",
     "name": "stdout",
     "text": [
      "Shape of our data is (640, 9)\n",
      "Objective value at epoch t=0 is 0.6107720367814682.\n",
      "Objective value at epoch t=1 is 0.52996218745496.\n",
      "Objective value at epoch t=2 is 0.5052806123218476.\n",
      "Objective value at epoch t=3 is 0.4951048428571818.\n",
      "Objective value at epoch t=4 is 0.4880336268828975.\n",
      "Objective value at epoch t=5 is 0.4845821215869267.\n",
      "Objective value at epoch t=6 is 0.48176941778807436.\n",
      "Objective value at epoch t=7 is 0.47992607496969397.\n",
      "Objective value at epoch t=8 is 0.47868893740527546.\n",
      "Objective value at epoch t=9 is 0.4779451786772344.\n",
      "Objective value at epoch t=10 is 0.4770727622151643.\n",
      "Objective value at epoch t=11 is 0.4767502706720615.\n",
      "Objective value at epoch t=12 is 0.47633827476662455.\n",
      "Objective value at epoch t=13 is 0.47578612267621967.\n",
      "Objective value at epoch t=14 is 0.47568270977189886.\n",
      "Objective value at epoch t=15 is 0.47531327652800465.\n",
      "Objective value at epoch t=16 is 0.4750972174587852.\n",
      "Objective value at epoch t=17 is 0.4748755259608319.\n",
      "Objective value at epoch t=18 is 0.47477403254330425.\n",
      "Objective value at epoch t=19 is 0.4747077012741065.\n",
      "Objective value at epoch t=20 is 0.474541525477974.\n",
      "Objective value at epoch t=21 is 0.4743856722234391.\n",
      "Objective value at epoch t=22 is 0.47446902007188035.\n",
      "Objective value at epoch t=23 is 0.47434599983422004.\n",
      "Objective value at epoch t=24 is 0.4741999525697126.\n",
      "Objective value at epoch t=25 is 0.4741775451566495.\n",
      "Objective value at epoch t=26 is 0.4740714132362635.\n",
      "Objective value at epoch t=27 is 0.47401339737023873.\n",
      "Objective value at epoch t=28 is 0.4739910817534524.\n",
      "Objective value at epoch t=29 is 0.47396690447783546.\n",
      "Objective value at epoch t=30 is 0.47389988721006837.\n",
      "Objective value at epoch t=31 is 0.47391760487331097.\n",
      "Objective value at epoch t=32 is 0.47391964809085974.\n",
      "Objective value at epoch t=33 is 0.47388626682508256.\n",
      "Objective value at epoch t=34 is 0.4738587959279946.\n",
      "Objective value at epoch t=35 is 0.47382950617087455.\n",
      "Objective value at epoch t=36 is 0.47382833483802367.\n",
      "Objective value at epoch t=37 is 0.4738145296869507.\n",
      "Objective value at epoch t=38 is 0.47377590843977463.\n",
      "Objective value at epoch t=39 is 0.4737753756757993.\n",
      "Objective value at epoch t=40 is 0.47377121118988164.\n",
      "Objective value at epoch t=41 is 0.47376491705706325.\n",
      "Objective value at epoch t=42 is 0.4737452793166459.\n",
      "Objective value at epoch t=43 is 0.47374576260045054.\n",
      "Objective value at epoch t=44 is 0.4737321534362831.\n",
      "Objective value at epoch t=45 is 0.4737362354150211.\n",
      "Objective value at epoch t=46 is 0.4737181446187317.\n",
      "Objective value at epoch t=47 is 0.4737220330924985.\n",
      "Objective value at epoch t=48 is 0.4737169236471773.\n",
      "Objective value at epoch t=49 is 0.47371520821039825.\n",
      "Objective value at epoch t=50 is 0.4737081276137937.\n",
      "Objective value at epoch t=51 is 0.47370447133994575.\n",
      "Objective value at epoch t=52 is 0.47370061324172924.\n",
      "Objective value at epoch t=53 is 0.47369833282758134.\n",
      "Objective value at epoch t=54 is 0.473698110292806.\n",
      "Objective value at epoch t=55 is 0.4736923205028344.\n",
      "Objective value at epoch t=56 is 0.47369235507241286.\n",
      "Objective value at epoch t=57 is 0.47369248864381513.\n",
      "Objective value at epoch t=58 is 0.4736881910393421.\n",
      "Objective value at epoch t=59 is 0.4736902299252509.\n",
      "Objective value at epoch t=60 is 0.4736863721195948.\n",
      "Objective value at epoch t=61 is 0.47368471185241867.\n",
      "Objective value at epoch t=62 is 0.47368393978511014.\n",
      "Objective value at epoch t=63 is 0.47368355573499094.\n",
      "Objective value at epoch t=64 is 0.4736823734648711.\n",
      "Objective value at epoch t=65 is 0.4736819835698153.\n",
      "Objective value at epoch t=66 is 0.47368143222641346.\n",
      "Objective value at epoch t=67 is 0.47368025221397686.\n",
      "Objective value at epoch t=68 is 0.4736801615386499.\n",
      "Objective value at epoch t=69 is 0.47367937649237823.\n",
      "Objective value at epoch t=70 is 0.4736797843272308.\n",
      "Objective value at epoch t=71 is 0.47367872336426114.\n",
      "Objective value at epoch t=72 is 0.4736783942250192.\n",
      "Objective value at epoch t=73 is 0.4736780637731501.\n",
      "Objective value at epoch t=74 is 0.47367758315905845.\n",
      "Objective value at epoch t=75 is 0.47367759731004827.\n",
      "Objective value at epoch t=76 is 0.4736772502382934.\n",
      "Objective value at epoch t=77 is 0.47367721907595384.\n",
      "Objective value at epoch t=78 is 0.47367704256341814.\n",
      "Objective value at epoch t=79 is 0.4736769107639886.\n",
      "Objective value at epoch t=80 is 0.47367685911291735.\n",
      "Objective value at epoch t=81 is 0.47367651135965916.\n",
      "Objective value at epoch t=82 is 0.4736764932477954.\n",
      "Objective value at epoch t=83 is 0.4736763149116207.\n",
      "Objective value at epoch t=84 is 0.4736765928029275.\n",
      "Objective value at epoch t=85 is 0.47367619969935176.\n",
      "Objective value at epoch t=86 is 0.4736761314369694.\n",
      "Objective value at epoch t=87 is 0.47367608269922024.\n",
      "Objective value at epoch t=88 is 0.4736759910167271.\n",
      "Objective value at epoch t=89 is 0.4736759351275294.\n",
      "Objective value at epoch t=90 is 0.473675809499285.\n",
      "Objective value at epoch t=91 is 0.4736758546165514.\n",
      "Objective value at epoch t=92 is 0.4736757784076719.\n",
      "Objective value at epoch t=93 is 0.47367582657886037.\n",
      "Objective value at epoch t=94 is 0.4736757122235581.\n",
      "Objective value at epoch t=95 is 0.47367571134574343.\n",
      "Objective value at epoch t=96 is 0.4736756384864299.\n",
      "Objective value at epoch t=97 is 0.47367563382296024.\n",
      "Objective value at epoch t=98 is 0.47367560144102494.\n",
      "Objective value at epoch t=99 is 0.4736755869681349.\n"
     ]
    }
   ],
   "source": [
    "# MB-SGD with batch size b=64\n",
    "lam = 1E-6 # do not change\n",
    "b = 64 # do not change\n",
    "stepsize = 0.25 # you must tune this parameter\n",
    "\n",
    "w, objvals_mbsgd64 = mb_sgd(x_train, y_train, lam, b, stepsize)"
   ]
  },
  {
   "cell_type": "markdown",
   "metadata": {},
   "source": [
    "# 7. Plot and compare GD, SGD, and MB-SGD"
   ]
  },
  {
   "cell_type": "markdown",
   "metadata": {},
   "source": [
    "You are required to compare the following algorithms:\n",
    "\n",
    "- Gradient descent (GD)\n",
    "\n",
    "- SGD\n",
    "\n",
    "- MB-SGD with b=8\n",
    "\n",
    "- MB-SGD with b=64\n",
    "\n",
    "Follow the code in Section 4 to plot ```objective function value``` against ```epochs```. There should be four curves in the plot; each curve corresponds to one algorithm."
   ]
  },
  {
   "cell_type": "markdown",
   "metadata": {},
   "source": [
    "Hint: Logistic regression with $\\ell_2$-norm regularization is a strongly convex optimization problem. All the algorithms will converge to the same solution. **In the end, the ``objective function value`` of the 4 algorithms will be the same. If not the same, your implementation must be wrong. Do NOT submit wrong code and wrong result!**"
   ]
  },
  {
   "cell_type": "code",
   "execution_count": 33,
   "metadata": {},
   "outputs": [
    {
     "output_type": "error",
     "ename": "SyntaxError",
     "evalue": "invalid syntax (<ipython-input-33-531cb3558567>, line 7)",
     "traceback": [
      "\u001b[0;36m  File \u001b[0;32m\"<ipython-input-33-531cb3558567>\"\u001b[0;36m, line \u001b[0;32m7\u001b[0m\n\u001b[0;31m    epochs_mbsgd64 = range(len(objvpip3 install --upgrade --force-reinstall --no-cache-dir jupyterals_mbsgd64))\u001b[0m\n\u001b[0m                                        ^\u001b[0m\n\u001b[0;31mSyntaxError\u001b[0m\u001b[0;31m:\u001b[0m invalid syntax\n"
     ]
    }
   ],
   "source": [
    "# plot the 4 curves:\n",
    "fig = plt.figure(figsize=(6, 4))\n",
    "\n",
    "epochs_gd = range(len(objvals_gd))\n",
    "epochs_sgd = range(len(objvals_sgd))\n",
    "epochs_mbsgd8 = range(len(objvals_mbsgd8))\n",
    "epochs_mbsgd64 = range(len(objvpip3 install --upgrade --force-reinstall --no-cache-dir jupyterals_mbsgd64))\n",
    "\n",
    "line0, = plt.plot(epochs_gd, objvals_gd, '--b', linewidth=3)\n",
    "line1, = plt.plot(epochs_sgd, objvals_sgd, '-r', linewidth=2)\n",
    "line2, = plt.plot(epochs_mbsgd8, objvals_mbsgd8, '-y', linewidth=4, linestyle='dotted')\n",
    "line3, = plt.plot(epochs_mbsgd64, objvals_mbsgd64, '-g', linewidth=3, linestyle='dashdot')\n",
    "plt.xlabel('Epochs', fontsize=20)\n",
    "plt.ylabel('Objective Value', fontsize=20)\n",
    "plt.xticks(fontsize=16)\n",
    "plt.yticks(fontsize=16)\n",
    "plt.legend([line0, line1, line2, line3], ['GD', 'SGD', 'MBSGD8', 'MBSGD64'], fontsize=20)\n",
    "plt.tight_layout()\n",
    "plt.show()\n",
    "fig.savefig('compare_gd_sgd_mbsgd.pdf', format='pdf', dpi=1200)"
   ]
  },
  {
   "cell_type": "markdown",
   "metadata": {},
   "source": []
  }
 ],
 "metadata": {
  "kernelspec": {
   "name": "python3",
   "display_name": "Python 3.9.1 64-bit",
   "metadata": {
    "interpreter": {
     "hash": "e7370f93d1d0cde622a1f8e1c04877d8463912d04d973331ad4851f04de6915a"
    }
   }
  },
  "language_info": {
   "codemirror_mode": {
    "name": "ipython",
    "version": 3
   },
   "file_extension": ".py",
   "mimetype": "text/x-python",
   "name": "python",
   "nbconvert_exporter": "python",
   "pygments_lexer": "ipython3",
   "version": "3.9.1-final"
  }
 },
 "nbformat": 4,
 "nbformat_minor": 2
}