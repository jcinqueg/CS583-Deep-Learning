{
 "cells": [
  {
   "cell_type": "markdown",
   "metadata": {},
   "source": [
    "# HM2: Numerical Optimization for Logistic Regression.\n",
    "\n",
    "### Name: John Cinquegrana\n"
   ]
  },
  {
   "cell_type": "markdown",
   "metadata": {},
   "source": [
    "## 0. You will do the following:\n",
    "\n",
    "1. Read the lecture note: [click here](https://github.com/wangshusen/DeepLearning/blob/master/LectureNotes/Logistic/paper/logistic.pdf)\n",
    "\n",
    "2. Read, complete, and run my code.\n",
    "\n",
    "3. **Implement mini-batch SGD** and evaluate the performance.\n",
    "\n",
    "4. Convert the .IPYNB file to .HTML file.\n",
    "\n",
    "    * The HTML file must contain **the code** and **the output after execution**.\n",
    "    \n",
    "    * Missing **the output after execution** will not be graded.\n",
    "    \n",
    "5. Upload this .HTML file to your Google Drive, Dropbox, or your Github repo.  (If you submit the file to Google Drive or Dropbox, you must make the file \"open-access\". The delay caused by \"deny of access\" may result in late penalty.)\n",
    "\n",
    "6. Submit the link to this .HTML file to Canvas.\n",
    "\n",
    "    * Example: https://github.com/wangshusen/CS583-2020S/blob/master/homework/HM2/HM2.html\n",
    "\n",
    "\n",
    "## Grading criteria:\n",
    "\n",
    "1. When computing the ```gradient``` and ```objective function value``` using a batch of samples, use **matrix-vector multiplication** rather than a FOR LOOP of **vector-vector multiplications**.\n",
    "\n",
    "2. Plot ```objective function value``` against ```epochs```. In the plot, compare GD, SGD, and MB-SGD (with $b=8$ and $b=64$). The plot must look reasonable."
   ]
  },
  {
   "cell_type": "markdown",
   "metadata": {},
   "source": [
    "# 1. Data processing\n",
    "\n",
    "- Download the Diabete dataset from https://www.csie.ntu.edu.tw/~cjlin/libsvmtools/datasets/binary/diabetes\n",
    "- Load the data using sklearn.\n",
    "- Preprocess the data."
   ]
  },
  {
   "cell_type": "markdown",
   "metadata": {},
   "source": [
    "## 1.1. Load the data"
   ]
  },
  {
   "cell_type": "code",
   "execution_count": 1,
   "metadata": {},
   "outputs": [
    {
     "output_type": "stream",
     "name": "stdout",
     "text": [
      "Shape of x: (768, 8)\nShape of y: (768,)\n"
     ]
    }
   ],
   "source": [
    "from sklearn import datasets\n",
    "import numpy\n",
    "\n",
    "x_sparse, y = datasets.load_svmlight_file('diabetes')\n",
    "x = x_sparse.todense()\n",
    "\n",
    "print('Shape of x: ' + str(x.shape))\n",
    "print('Shape of y: ' + str(y.shape))"
   ]
  },
  {
   "cell_type": "markdown",
   "metadata": {},
   "source": [
    "## 1.2. Partition to training and test sets"
   ]
  },
  {
   "cell_type": "code",
   "execution_count": 2,
   "metadata": {},
   "outputs": [
    {
     "output_type": "stream",
     "name": "stdout",
     "text": [
      "Shape of x_train: (640, 8)\nShape of x_test: (128, 8)\nShape of y_train: (640, 1)\nShape of y_test: (128, 1)\n"
     ]
    }
   ],
   "source": [
    "# partition the data to training and test sets\n",
    "n = x.shape[0]\n",
    "n_train = 640\n",
    "n_test = n - n_train\n",
    "\n",
    "rand_indices = numpy.random.permutation(n)\n",
    "train_indices = rand_indices[0:n_train]\n",
    "test_indices = rand_indices[n_train:n]\n",
    "\n",
    "x_train = x[train_indices, :]\n",
    "x_test = x[test_indices, :]\n",
    "y_train = y[train_indices].reshape(n_train, 1)\n",
    "y_test = y[test_indices].reshape(n_test, 1)\n",
    "\n",
    "print('Shape of x_train: ' + str(x_train.shape))\n",
    "print('Shape of x_test: ' + str(x_test.shape))\n",
    "print('Shape of y_train: ' + str(y_train.shape))\n",
    "print('Shape of y_test: ' + str(y_test.shape))"
   ]
  },
  {
   "cell_type": "markdown",
   "metadata": {},
   "source": [
    "## 1.3. Feature scaling"
   ]
  },
  {
   "cell_type": "markdown",
   "metadata": {},
   "source": [
    "Use the standardization to transform both training and test features"
   ]
  },
  {
   "cell_type": "code",
   "execution_count": 3,
   "metadata": {},
   "outputs": [
    {
     "output_type": "stream",
     "name": "stdout",
     "text": [
      "test mean = \n[[ 0.00510907 -0.03475554  0.19878663 -0.05825207  0.01712965 -0.12078689\n   0.09934493  0.0705613 ]]\ntest std = \n[[1.00580105 1.04726795 0.62294042 0.96114675 1.07732875 0.99169304\n  1.10129679 0.94900905]]\n"
     ]
    }
   ],
   "source": [
    "# Standardization\n",
    "import numpy\n",
    "\n",
    "# calculate mu and sig using the training set\n",
    "d = x_train.shape[1]\n",
    "mu = numpy.mean(x_train, axis=0).reshape(1, d)\n",
    "sig = numpy.std(x_train, axis=0).reshape(1, d)\n",
    "\n",
    "# transform the training features\n",
    "x_train = (x_train - mu) / (sig + 1E-6)\n",
    "\n",
    "# transform the test features\n",
    "x_test = (x_test - mu) / (sig + 1E-6)\n",
    "\n",
    "print('test mean = ')\n",
    "print(numpy.mean(x_test, axis=0))\n",
    "\n",
    "print('test std = ')\n",
    "print(numpy.std(x_test, axis=0))"
   ]
  },
  {
   "cell_type": "markdown",
   "metadata": {},
   "source": [
    "## 1.4. Add a dimension of all ones"
   ]
  },
  {
   "cell_type": "code",
   "execution_count": 4,
   "metadata": {},
   "outputs": [
    {
     "output_type": "stream",
     "name": "stdout",
     "text": [
      "Shape of x_train: (640, 9)\nShape of x_test: (128, 9)\n"
     ]
    }
   ],
   "source": [
    "n_train, d = x_train.shape\n",
    "x_train = numpy.concatenate((x_train, numpy.ones((n_train, 1))), axis=1)\n",
    "\n",
    "n_test, d = x_test.shape\n",
    "x_test = numpy.concatenate((x_test, numpy.ones((n_test, 1))), axis=1)\n",
    "\n",
    "print('Shape of x_train: ' + str(x_train.shape))\n",
    "print('Shape of x_test: ' + str(x_test.shape))"
   ]
  },
  {
   "cell_type": "markdown",
   "metadata": {},
   "source": [
    "# 2. Logistic regression model\n",
    "\n",
    "The objective function is $Q (w; X, y) = \\frac{1}{n} \\sum_{i=1}^n \\log \\Big( 1 + \\exp \\big( - y_i x_i^T w \\big) \\Big) + \\frac{\\lambda}{2} \\| w \\|_2^2 $."
   ]
  },
  {
   "cell_type": "code",
   "execution_count": 5,
   "metadata": {},
   "outputs": [],
   "source": [
    "# Calculate the objective function value\n",
    "# Inputs:\n",
    "#     w: d-by-1 matrix\n",
    "#     x: n-by-d matrix\n",
    "#     y: n-by-1 matrix\n",
    "#     lam: scalar, the regularization parameter\n",
    "# Return:\n",
    "#     objective function value (scalar)\n",
    "def objective(w, x, y, lam):\n",
    "    n, d = x.shape\n",
    "    yx = numpy.multiply(y, x) # n-by-d matrix\n",
    "    yxw = numpy.dot(yx, w) # n-by-1 matrix\n",
    "    vec1 = numpy.exp(-yxw) # n-by-1 matrix\n",
    "    vec2 = numpy.log(1 + vec1) # n-by-1 matrix\n",
    "    loss = numpy.mean(vec2) # scalar\n",
    "    reg = lam / 2 * numpy.sum(w * w) # scalar\n",
    "    return loss + reg\n",
    "    "
   ]
  },
  {
   "cell_type": "code",
   "execution_count": 6,
   "metadata": {},
   "outputs": [
    {
     "output_type": "stream",
     "name": "stdout",
     "text": [
      "Initial objective function value = 0.6931471805599453\n"
     ]
    }
   ],
   "source": [
    "# initialize w\n",
    "d = x_train.shape[1]\n",
    "w = numpy.zeros((d, 1))\n",
    "\n",
    "# evaluate the objective function value at w\n",
    "lam = 1E-6\n",
    "objval0 = objective(w, x_train, y_train, lam)\n",
    "print('Initial objective function value = ' + str(objval0))"
   ]
  },
  {
   "cell_type": "markdown",
   "metadata": {},
   "source": [
    "# 3. Numerical optimization"
   ]
  },
  {
   "cell_type": "markdown",
   "metadata": {},
   "source": [
    "## 3.1. Gradient descent\n"
   ]
  },
  {
   "cell_type": "markdown",
   "metadata": {},
   "source": [
    "The gradient at $w$ is $g = - \\frac{1}{n} \\sum_{i=1}^n \\frac{y_i x_i }{1 + \\exp ( y_i x_i^T w)} + \\lambda w$"
   ]
  },
  {
   "cell_type": "code",
   "execution_count": 7,
   "metadata": {},
   "outputs": [],
   "source": [
    "# Calculate the gradient\n",
    "# Inputs:\n",
    "#     w: d-by-1 matrix\n",
    "#     x: n-by-d matrix\n",
    "#     y: n-by-1 matrix\n",
    "#     lam: scalar, the regularization parameter\n",
    "# Return:\n",
    "#     g: g: d-by-1 matrix, full gradient\n",
    "def gradient(w, x, y, lam):\n",
    "    n, d = x.shape\n",
    "    yx = numpy.multiply(y, x) # n-by-d matrix\n",
    "    yxw = numpy.dot(yx, w) # n-by-1 matrix\n",
    "    vec1 = numpy.exp(yxw) # n-by-1 matrix\n",
    "    vec2 = numpy.divide(yx, 1+vec1) # n-by-d matrix\n",
    "    vec3 = -numpy.mean(vec2, axis=0).reshape(d, 1) # d-by-1 matrix\n",
    "    g = vec3 + lam * w\n",
    "    return g"
   ]
  },
  {
   "cell_type": "code",
   "execution_count": 8,
   "metadata": {},
   "outputs": [],
   "source": [
    "# Gradient descent for solving logistic regression\n",
    "# Inputs:\n",
    "#     x: n-by-d matrix\n",
    "#     y: n-by-1 matrix\n",
    "#     lam: scalar, the regularization parameter\n",
    "#     stepsize: scalar\n",
    "#     max_iter: integer, the maximal iterations\n",
    "#     w: d-by-1 matrix, initialization of w\n",
    "# Return:\n",
    "#     w: d-by-1 matrix, the solution\n",
    "#     objvals: a record of each iteration's objective value\n",
    "def grad_descent(x, y, lam, stepsize, max_iter=100, w=None):\n",
    "    n, d = x.shape\n",
    "    objvals = numpy.zeros(max_iter) # store the objective values\n",
    "    if w is None:\n",
    "        w = numpy.zeros((d, 1)) # zero initialization\n",
    "    \n",
    "    for t in range(max_iter):\n",
    "        objval = objective(w, x, y, lam)\n",
    "        objvals[t] = objval\n",
    "        print('Objective value at t=' + str(t) + ' is ' + str(objval))\n",
    "        g = gradient(w, x, y, lam)\n",
    "        w -= stepsize * g\n",
    "    \n",
    "    return w, objvals"
   ]
  },
  {
   "cell_type": "markdown",
   "metadata": {},
   "source": [
    "Run gradient descent."
   ]
  },
  {
   "cell_type": "code",
   "execution_count": 9,
   "metadata": {},
   "outputs": [
    {
     "output_type": "stream",
     "name": "stdout",
     "text": [
      "Objective value at t=0 is 0.6931471805599453\nObjective value at t=1 is 0.5835928084813037\nObjective value at t=2 is 0.5382954138940595\nObjective value at t=3 is 0.5139013820817088\nObjective value at t=4 is 0.49869147320506685\nObjective value at t=5 is 0.4883911738914981\nObjective value at t=6 is 0.4810461147903513\nObjective value at t=7 is 0.4756207914075284\nObjective value at t=8 is 0.4715091572134191\nObjective value at t=9 is 0.4683309289790669\nObjective value at t=10 is 0.46583510279751666\nObjective value at t=11 is 0.4638495568007208\nObjective value at t=12 is 0.46225267818741433\nObjective value at t=13 is 0.46095643531555225\nObjective value at t=14 is 0.45989580734179136\nObjective value at t=15 is 0.4590219386710944\nObjective value at t=16 is 0.45829757148218764\nObjective value at t=17 is 0.45769392122914493\nObjective value at t=18 is 0.45718849315741733\nObjective value at t=19 is 0.4567635278003509\nObjective value at t=20 is 0.4564048759231051\nObjective value at t=21 is 0.45610117219978774\nObjective value at t=22 is 0.45584322017663426\nObjective value at t=23 is 0.4556235289261439\nObjective value at t=24 is 0.455435960099855\nObjective value at t=25 is 0.45527545633684047\nObjective value at t=26 is 0.4551378303187059\nObjective value at t=27 is 0.45501959951671733\nObjective value at t=28 is 0.4549178557053117\nObjective value at t=29 is 0.45483016117228586\nObjective value at t=30 is 0.4547544656045816\nObjective value at t=31 is 0.4546890391142472\nObjective value at t=32 is 0.4546324179576883\nObjective value at t=33 is 0.4545833603066093\nObjective value at t=34 is 0.4545408100302505\nObjective value at t=35 is 0.45450386690123223\nObjective value at t=36 is 0.4544717619809799\nObjective value at t=37 is 0.45444383720360493\nObjective value at t=38 is 0.45441952837968974\nObjective value at t=39 is 0.4543983509986001\nObjective value at t=40 is 0.4543798883306838\nObjective value at t=41 is 0.4543637814271628\nObjective value at t=42 is 0.4543497206917462\nObjective value at t=43 is 0.4543374387585673\nObjective value at t=44 is 0.4543267044594486\nObjective value at t=45 is 0.4543173177023466\nObjective value at t=46 is 0.454309105114175\nObjective value at t=47 is 0.4543019163266005\nObjective value at t=48 is 0.4542956208040646\nObjective value at t=49 is 0.45429010513017276\nObjective value at t=50 is 0.45428527068242797\nObjective value at t=51 is 0.45428103163668426\nObjective value at t=52 is 0.45427731325210147\nObjective value at t=53 is 0.4542740503951753\nObjective value at t=54 is 0.4542711862678989\nObjective value at t=55 is 0.4542686713105045\nObjective value at t=56 is 0.4542664622537494\nObjective value at t=57 is 0.45426452129949024\nObjective value at t=58 is 0.45426281541146046\nObjective value at t=59 is 0.4542613157008472\nObjective value at t=60 is 0.45425999689351215\nObjective value at t=61 is 0.4542588368676125\nObjective value at t=62 is 0.4542578162519945\nObjective value at t=63 is 0.45425691807710306\nObjective value at t=64 is 0.4542561274713177\nObjective value at t=65 is 0.45425543139662167\nObjective value at t=66 is 0.4542548184183561\nObjective value at t=67 is 0.4542542785045393\nObjective value at t=68 is 0.4542538028508489\nObjective value at t=69 is 0.4542533837278991\nObjective value at t=70 is 0.4542530143479005\nObjective value at t=71 is 0.4542526887481807\nObjective value at t=72 is 0.4542524016893852\nObjective value at t=73 is 0.4542521485664647\nObjective value at t=74 is 0.45425192533080805\nObjective value at t=75 is 0.4542517284220964\nObjective value at t=76 is 0.4542515547086378\nObjective value at t=77 is 0.4542514014351091\nObjective value at t=78 is 0.454251266176766\nObjective value at t=79 is 0.4542511467993057\nObjective value at t=80 is 0.4542510414236743\nObjective value at t=81 is 0.45425094839519564\nObjective value at t=82 is 0.4542508662564865\nObjective value at t=83 is 0.4542507937236812\nObjective value at t=84 is 0.45425072966556007\nObjective value at t=85 is 0.45425067308521755\nObjective value at t=86 is 0.45425062310395947\nObjective value at t=87 is 0.4542505789471518\nObjective value at t=88 is 0.4542505399317838\nObjective value at t=89 is 0.4542505054555333\nObjective value at t=90 is 0.454250474987151\nObjective value at t=91 is 0.4542504480580019\nObjective value at t=92 is 0.4542504242546252\nObjective value at t=93 is 0.4542504032121846\nObjective value at t=94 is 0.45425038460870565\nObjective value at t=95 is 0.4542503681600011\nObjective value at t=96 is 0.4542503536152031\nObjective value at t=97 is 0.45425034075282816\nObjective value at t=98 is 0.45425032937731036\nObjective value at t=99 is 0.45425031931594817\n"
     ]
    }
   ],
   "source": [
    "lam = 1E-6\n",
    "stepsize = 1.0\n",
    "w, objvals_gd = grad_descent(x_train, y_train, lam, stepsize)"
   ]
  },
  {
   "cell_type": "markdown",
   "metadata": {},
   "source": [
    "## 3.2. Stochastic gradient descent (SGD)\n",
    "\n",
    "Define $Q_i (w) = \\log \\Big( 1 + \\exp \\big( - y_i x_i^T w \\big) \\Big) + \\frac{\\lambda}{2} \\| w \\|_2^2 $.\n",
    "\n",
    "The stochastic gradient at $w$ is $g_i = \\frac{\\partial Q_i }{ \\partial w} = -\\frac{y_i x_i }{1 + \\exp ( y_i x_i^T w)} + \\lambda w$."
   ]
  },
  {
   "cell_type": "code",
   "execution_count": 10,
   "metadata": {},
   "outputs": [],
   "source": [
    "# Calculate the objective Q_i and the gradient of Q_i\n",
    "# Inputs:\n",
    "#     w: d-by-1 matrix\n",
    "#     xi: 1-by-d matrix\n",
    "#     yi: scalar\n",
    "#     lam: scalar, the regularization parameter\n",
    "# Return:\n",
    "#     obj: scalar, the objective Q_i\n",
    "#     g: d-by-1 matrix, gradient of Q_i\n",
    "def stochastic_objective_gradient(w, xi, yi, lam):\n",
    "    d = xi.shape[0]\n",
    "    yx = yi * xi # 1-by-d matrix\n",
    "    yxw = float(numpy.dot(yx, w)) # scalar\n",
    "    \n",
    "    # calculate objective function Q_i\n",
    "    loss = numpy.log(1 + numpy.exp(-yxw)) # scalar\n",
    "    reg = lam / 2 * numpy.sum(w * w) # scalar\n",
    "    obj = loss + reg\n",
    "    \n",
    "    # calculate stochastic gradient\n",
    "    g_loss = -yx.T / (1 + numpy.exp(yxw)) # d-by-1 matrix\n",
    "    g = g_loss + lam * w # d-by-1 matrix\n",
    "    \n",
    "    return obj, g"
   ]
  },
  {
   "cell_type": "code",
   "execution_count": 11,
   "metadata": {},
   "outputs": [],
   "source": [
    "# SGD for solving logistic regression\n",
    "# Inputs:\n",
    "#     x: n-by-d matrix\n",
    "#     y: n-by-1 matrix\n",
    "#     lam: scalar, the regularization parameter\n",
    "#     stepsize: scalar\n",
    "#     max_epoch: integer, the maximal epochs\n",
    "#     w: d-by-1 matrix, initialization of w\n",
    "# Return:\n",
    "#     w: the solution\n",
    "#     objvals: record of each iteration's objective value\n",
    "def sgd(x, y, lam, stepsize, max_epoch=100, w=None):\n",
    "    n, d = x.shape\n",
    "    objvals = numpy.zeros(max_epoch) # store the objective values\n",
    "    if w is None:\n",
    "        w = numpy.zeros((d, 1)) # zero initialization\n",
    "    \n",
    "    for t in range(max_epoch):\n",
    "        # randomly shuffle the samples\n",
    "        rand_indices = numpy.random.permutation(n)\n",
    "        x_rand = x[rand_indices, :]\n",
    "        y_rand = y[rand_indices, :]\n",
    "        \n",
    "        objval = 0 # accumulate the objective values\n",
    "        for i in range(n):\n",
    "            xi = x_rand[i, :] # 1-by-d matrix\n",
    "            yi = float(y_rand[i, :]) # scalar\n",
    "            obj, g = stochastic_objective_gradient(w, xi, yi, lam)\n",
    "            objval += obj\n",
    "            w -= stepsize * g\n",
    "        \n",
    "        stepsize *= 0.9 # decrease step size\n",
    "        objval /= n\n",
    "        objvals[t] = objval\n",
    "        print('Objective value at epoch t=' + str(t) + ' is ' + str(objval))\n",
    "    \n",
    "    return w, objvals"
   ]
  },
  {
   "cell_type": "markdown",
   "metadata": {},
   "source": [
    "Run SGD."
   ]
  },
  {
   "cell_type": "code",
   "execution_count": 12,
   "metadata": {},
   "outputs": [
    {
     "output_type": "stream",
     "name": "stdout",
     "text": [
      "Objective value at epoch t=0 is 0.519637575470804\n",
      "Objective value at epoch t=1 is 0.5004765611738146\n",
      "Objective value at epoch t=2 is 0.49053662433131356\n",
      "Objective value at epoch t=3 is 0.48375871695457\n",
      "Objective value at epoch t=4 is 0.48482741225281945\n",
      "Objective value at epoch t=5 is 0.4862293662453359\n",
      "Objective value at epoch t=6 is 0.48104968677257326\n",
      "Objective value at epoch t=7 is 0.47747605296592\n",
      "Objective value at epoch t=8 is 0.4727128764492142\n",
      "Objective value at epoch t=9 is 0.4737254054866222\n",
      "Objective value at epoch t=10 is 0.4731569139911085\n",
      "Objective value at epoch t=11 is 0.4698355002094736\n",
      "Objective value at epoch t=12 is 0.4690543676273822\n",
      "Objective value at epoch t=13 is 0.4683581488297913\n",
      "Objective value at epoch t=14 is 0.46463245110347334\n",
      "Objective value at epoch t=15 is 0.4672436658035208\n",
      "Objective value at epoch t=16 is 0.46380711780545403\n",
      "Objective value at epoch t=17 is 0.4647396500081326\n",
      "Objective value at epoch t=18 is 0.4619325324107937\n",
      "Objective value at epoch t=19 is 0.4615710604619541\n",
      "Objective value at epoch t=20 is 0.461999569359418\n",
      "Objective value at epoch t=21 is 0.4605976633571832\n",
      "Objective value at epoch t=22 is 0.4600813206593187\n",
      "Objective value at epoch t=23 is 0.45965778762098874\n",
      "Objective value at epoch t=24 is 0.45921681633255923\n",
      "Objective value at epoch t=25 is 0.45878385495177465\n",
      "Objective value at epoch t=26 is 0.4582333484316301\n",
      "Objective value at epoch t=27 is 0.4579732033676137\n",
      "Objective value at epoch t=28 is 0.45769730910363926\n",
      "Objective value at epoch t=29 is 0.45735563170988736\n",
      "Objective value at epoch t=30 is 0.4570171546252567\n",
      "Objective value at epoch t=31 is 0.4563295228878519\n",
      "Objective value at epoch t=32 is 0.4565234877544845\n",
      "Objective value at epoch t=33 is 0.4563091252629906\n",
      "Objective value at epoch t=34 is 0.4560117267510312\n",
      "Objective value at epoch t=35 is 0.4558909840229276\n",
      "Objective value at epoch t=36 is 0.4557204932153748\n",
      "Objective value at epoch t=37 is 0.4555482587805019\n",
      "Objective value at epoch t=38 is 0.4554571051193731\n",
      "Objective value at epoch t=39 is 0.45534069880277855\n",
      "Objective value at epoch t=40 is 0.4552064295198629\n",
      "Objective value at epoch t=41 is 0.455144942588041\n",
      "Objective value at epoch t=42 is 0.45506034021869146\n",
      "Objective value at epoch t=43 is 0.4549727684812668\n",
      "Objective value at epoch t=44 is 0.4548974086612441\n",
      "Objective value at epoch t=45 is 0.45483516364882515\n",
      "Objective value at epoch t=46 is 0.4547822099583157\n",
      "Objective value at epoch t=47 is 0.4547298105545017\n",
      "Objective value at epoch t=48 is 0.454681547176928\n",
      "Objective value at epoch t=49 is 0.45463498119136797\n",
      "Objective value at epoch t=50 is 0.4546001242895117\n",
      "Objective value at epoch t=51 is 0.45456437207103184\n",
      "Objective value at epoch t=52 is 0.45453411448070025\n",
      "Objective value at epoch t=53 is 0.4545048822009581\n",
      "Objective value at epoch t=54 is 0.4544802974727623\n",
      "Objective value at epoch t=55 is 0.45445778525522035\n",
      "Objective value at epoch t=56 is 0.45443719325954157\n",
      "Objective value at epoch t=57 is 0.45441837685763903\n",
      "Objective value at epoch t=58 is 0.45440135606132204\n",
      "Objective value at epoch t=59 is 0.4543865513765678\n",
      "Objective value at epoch t=60 is 0.4543728321478369\n",
      "Objective value at epoch t=61 is 0.45436070172862514\n",
      "Objective value at epoch t=62 is 0.45434934131776644\n",
      "Objective value at epoch t=63 is 0.45433973132434957\n",
      "Objective value at epoch t=64 is 0.45433084788854083\n",
      "Objective value at epoch t=65 is 0.4543227936142994\n",
      "Objective value at epoch t=66 is 0.4543156999809178\n",
      "Objective value at epoch t=67 is 0.4543091969881613\n",
      "Objective value at epoch t=68 is 0.45430334317599563\n",
      "Objective value at epoch t=69 is 0.4542980487206039\n",
      "Objective value at epoch t=70 is 0.4542933096971938\n",
      "Objective value at epoch t=71 is 0.45428903254001174\n",
      "Objective value at epoch t=72 is 0.4542852035316362\n",
      "Objective value at epoch t=73 is 0.45428174070549054\n",
      "Objective value at epoch t=74 is 0.4542786176964146\n",
      "Objective value at epoch t=75 is 0.45427580453173677\n",
      "Objective value at epoch t=76 is 0.45427330471463534\n",
      "Objective value at epoch t=77 is 0.4542710365288011\n",
      "Objective value at epoch t=78 is 0.4542689891439814\n",
      "Objective value at epoch t=79 is 0.4542671447064004\n",
      "Objective value at epoch t=80 is 0.4542654959686095\n",
      "Objective value at epoch t=81 is 0.4542640064810722\n",
      "Objective value at epoch t=82 is 0.4542626641167895\n",
      "Objective value at epoch t=83 is 0.4542614567783506\n",
      "Objective value at epoch t=84 is 0.45426037010555664\n",
      "Objective value at epoch t=85 is 0.45425939338654364\n",
      "Objective value at epoch t=86 is 0.4542585115361297\n",
      "Objective value at epoch t=87 is 0.4542577191730842\n",
      "Objective value at epoch t=88 is 0.45425700787258166\n",
      "Objective value at epoch t=89 is 0.45425636570624556\n",
      "Objective value at epoch t=90 is 0.4542557878454492\n",
      "Objective value at epoch t=91 is 0.45425526852396303\n",
      "Objective value at epoch t=92 is 0.4542548009325403\n",
      "Objective value at epoch t=93 is 0.45425437976728694\n",
      "Objective value at epoch t=94 is 0.4542540008555922\n",
      "Objective value at epoch t=95 is 0.4542536600791259\n",
      "Objective value at epoch t=96 is 0.4542533532468268\n",
      "Objective value at epoch t=97 is 0.4542530770350176\n",
      "Objective value at epoch t=98 is 0.45425282839981485\n",
      "Objective value at epoch t=99 is 0.45425260462971756\n"
     ]
    }
   ],
   "source": [
    "lam = 1E-6\n",
    "stepsize = 0.1\n",
    "w, objvals_sgd = sgd(x_train, y_train, lam, stepsize)"
   ]
  },
  {
   "cell_type": "markdown",
   "metadata": {},
   "source": [
    "# 4. Compare GD with SGD\n",
    "\n",
    "Plot objective function values against epochs."
   ]
  },
  {
   "cell_type": "code",
   "execution_count": 13,
   "metadata": {},
   "outputs": [
    {
     "output_type": "display_data",
     "data": {
      "text/plain": "<Figure size 432x288 with 1 Axes>",
      "image/svg+xml": "<?xml version=\"1.0\" encoding=\"utf-8\" standalone=\"no\"?>\n<!DOCTYPE svg PUBLIC \"-//W3C//DTD SVG 1.1//EN\"\n  \"http://www.w3.org/Graphics/SVG/1.1/DTD/svg11.dtd\">\n<!-- Created with matplotlib (https://matplotlib.org/) -->\n<svg height=\"281.677887pt\" version=\"1.1\" viewBox=\"0 0 425.047572 281.677887\" width=\"425.047572pt\" xmlns=\"http://www.w3.org/2000/svg\" xmlns:xlink=\"http://www.w3.org/1999/xlink\">\n <metadata>\n  <rdf:RDF xmlns:cc=\"http://creativecommons.org/ns#\" xmlns:dc=\"http://purl.org/dc/elements/1.1/\" xmlns:rdf=\"http://www.w3.org/1999/02/22-rdf-syntax-ns#\">\n   <cc:Work>\n    <dc:type rdf:resource=\"http://purl.org/dc/dcmitype/StillImage\"/>\n    <dc:date>2021-03-07T09:32:46.679247</dc:date>\n    <dc:format>image/svg+xml</dc:format>\n    <dc:creator>\n     <cc:Agent>\n      <dc:title>Matplotlib v3.3.4, https://matplotlib.org/</dc:title>\n     </cc:Agent>\n    </dc:creator>\n   </cc:Work>\n  </rdf:RDF>\n </metadata>\n <defs>\n  <style type=\"text/css\">*{stroke-linecap:butt;stroke-linejoin:round;}</style>\n </defs>\n <g id=\"figure_1\">\n  <g id=\"patch_1\">\n   <path d=\"M 0 281.677887 \nL 425.047572 281.677887 \nL 425.047572 0 \nL 0 0 \nz\n\" style=\"fill:none;\"/>\n  </g>\n  <g id=\"axes_1\">\n   <g id=\"patch_2\">\n    <path d=\"M 73.18125 228.636637 \nL 414.975052 228.636637 \nL 414.975052 9.023295 \nL 73.18125 9.023295 \nz\n\" style=\"fill:#ffffff;\"/>\n   </g>\n   <g id=\"matplotlib.axis_1\">\n    <g id=\"xtick_1\">\n     <g id=\"line2d_1\">\n      <defs>\n       <path d=\"M 0 0 \nL 0 3.5 \n\" id=\"meb9ceab8a1\" style=\"stroke:#000000;stroke-width:0.8;\"/>\n      </defs>\n      <g>\n       <use style=\"stroke:#000000;stroke-width:0.8;\" x=\"88.717332\" xlink:href=\"#meb9ceab8a1\" y=\"228.636637\"/>\n      </g>\n     </g>\n     <g id=\"text_1\">\n      <!-- 0 -->\n      <g transform=\"translate(83.627332 247.794137)scale(0.16 -0.16)\">\n       <defs>\n        <path d=\"M 31.78125 66.40625 \nQ 24.171875 66.40625 20.328125 58.90625 \nQ 16.5 51.421875 16.5 36.375 \nQ 16.5 21.390625 20.328125 13.890625 \nQ 24.171875 6.390625 31.78125 6.390625 \nQ 39.453125 6.390625 43.28125 13.890625 \nQ 47.125 21.390625 47.125 36.375 \nQ 47.125 51.421875 43.28125 58.90625 \nQ 39.453125 66.40625 31.78125 66.40625 \nz\nM 31.78125 74.21875 \nQ 44.046875 74.21875 50.515625 64.515625 \nQ 56.984375 54.828125 56.984375 36.375 \nQ 56.984375 17.96875 50.515625 8.265625 \nQ 44.046875 -1.421875 31.78125 -1.421875 \nQ 19.53125 -1.421875 13.0625 8.265625 \nQ 6.59375 17.96875 6.59375 36.375 \nQ 6.59375 54.828125 13.0625 64.515625 \nQ 19.53125 74.21875 31.78125 74.21875 \nz\n\" id=\"DejaVuSans-48\"/>\n       </defs>\n       <use xlink:href=\"#DejaVuSans-48\"/>\n      </g>\n     </g>\n    </g>\n    <g id=\"xtick_2\">\n     <g id=\"line2d_2\">\n      <g>\n       <use style=\"stroke:#000000;stroke-width:0.8;\" x=\"151.48938\" xlink:href=\"#meb9ceab8a1\" y=\"228.636637\"/>\n      </g>\n     </g>\n     <g id=\"text_2\">\n      <!-- 20 -->\n      <g transform=\"translate(141.30938 247.794137)scale(0.16 -0.16)\">\n       <defs>\n        <path d=\"M 19.1875 8.296875 \nL 53.609375 8.296875 \nL 53.609375 0 \nL 7.328125 0 \nL 7.328125 8.296875 \nQ 12.9375 14.109375 22.625 23.890625 \nQ 32.328125 33.6875 34.8125 36.53125 \nQ 39.546875 41.84375 41.421875 45.53125 \nQ 43.3125 49.21875 43.3125 52.78125 \nQ 43.3125 58.59375 39.234375 62.25 \nQ 35.15625 65.921875 28.609375 65.921875 \nQ 23.96875 65.921875 18.8125 64.3125 \nQ 13.671875 62.703125 7.8125 59.421875 \nL 7.8125 69.390625 \nQ 13.765625 71.78125 18.9375 73 \nQ 24.125 74.21875 28.421875 74.21875 \nQ 39.75 74.21875 46.484375 68.546875 \nQ 53.21875 62.890625 53.21875 53.421875 \nQ 53.21875 48.921875 51.53125 44.890625 \nQ 49.859375 40.875 45.40625 35.40625 \nQ 44.1875 33.984375 37.640625 27.21875 \nQ 31.109375 20.453125 19.1875 8.296875 \nz\n\" id=\"DejaVuSans-50\"/>\n       </defs>\n       <use xlink:href=\"#DejaVuSans-50\"/>\n       <use x=\"63.623047\" xlink:href=\"#DejaVuSans-48\"/>\n      </g>\n     </g>\n    </g>\n    <g id=\"xtick_3\">\n     <g id=\"line2d_3\">\n      <g>\n       <use style=\"stroke:#000000;stroke-width:0.8;\" x=\"214.261428\" xlink:href=\"#meb9ceab8a1\" y=\"228.636637\"/>\n      </g>\n     </g>\n     <g id=\"text_3\">\n      <!-- 40 -->\n      <g transform=\"translate(204.081428 247.794137)scale(0.16 -0.16)\">\n       <defs>\n        <path d=\"M 37.796875 64.3125 \nL 12.890625 25.390625 \nL 37.796875 25.390625 \nz\nM 35.203125 72.90625 \nL 47.609375 72.90625 \nL 47.609375 25.390625 \nL 58.015625 25.390625 \nL 58.015625 17.1875 \nL 47.609375 17.1875 \nL 47.609375 0 \nL 37.796875 0 \nL 37.796875 17.1875 \nL 4.890625 17.1875 \nL 4.890625 26.703125 \nz\n\" id=\"DejaVuSans-52\"/>\n       </defs>\n       <use xlink:href=\"#DejaVuSans-52\"/>\n       <use x=\"63.623047\" xlink:href=\"#DejaVuSans-48\"/>\n      </g>\n     </g>\n    </g>\n    <g id=\"xtick_4\">\n     <g id=\"line2d_4\">\n      <g>\n       <use style=\"stroke:#000000;stroke-width:0.8;\" x=\"277.033476\" xlink:href=\"#meb9ceab8a1\" y=\"228.636637\"/>\n      </g>\n     </g>\n     <g id=\"text_4\">\n      <!-- 60 -->\n      <g transform=\"translate(266.853476 247.794137)scale(0.16 -0.16)\">\n       <defs>\n        <path d=\"M 33.015625 40.375 \nQ 26.375 40.375 22.484375 35.828125 \nQ 18.609375 31.296875 18.609375 23.390625 \nQ 18.609375 15.53125 22.484375 10.953125 \nQ 26.375 6.390625 33.015625 6.390625 \nQ 39.65625 6.390625 43.53125 10.953125 \nQ 47.40625 15.53125 47.40625 23.390625 \nQ 47.40625 31.296875 43.53125 35.828125 \nQ 39.65625 40.375 33.015625 40.375 \nz\nM 52.59375 71.296875 \nL 52.59375 62.3125 \nQ 48.875 64.0625 45.09375 64.984375 \nQ 41.3125 65.921875 37.59375 65.921875 \nQ 27.828125 65.921875 22.671875 59.328125 \nQ 17.53125 52.734375 16.796875 39.40625 \nQ 19.671875 43.65625 24.015625 45.921875 \nQ 28.375 48.1875 33.59375 48.1875 \nQ 44.578125 48.1875 50.953125 41.515625 \nQ 57.328125 34.859375 57.328125 23.390625 \nQ 57.328125 12.15625 50.6875 5.359375 \nQ 44.046875 -1.421875 33.015625 -1.421875 \nQ 20.359375 -1.421875 13.671875 8.265625 \nQ 6.984375 17.96875 6.984375 36.375 \nQ 6.984375 53.65625 15.1875 63.9375 \nQ 23.390625 74.21875 37.203125 74.21875 \nQ 40.921875 74.21875 44.703125 73.484375 \nQ 48.484375 72.75 52.59375 71.296875 \nz\n\" id=\"DejaVuSans-54\"/>\n       </defs>\n       <use xlink:href=\"#DejaVuSans-54\"/>\n       <use x=\"63.623047\" xlink:href=\"#DejaVuSans-48\"/>\n      </g>\n     </g>\n    </g>\n    <g id=\"xtick_5\">\n     <g id=\"line2d_5\">\n      <g>\n       <use style=\"stroke:#000000;stroke-width:0.8;\" x=\"339.805524\" xlink:href=\"#meb9ceab8a1\" y=\"228.636637\"/>\n      </g>\n     </g>\n     <g id=\"text_5\">\n      <!-- 80 -->\n      <g transform=\"translate(329.625524 247.794137)scale(0.16 -0.16)\">\n       <defs>\n        <path d=\"M 31.78125 34.625 \nQ 24.75 34.625 20.71875 30.859375 \nQ 16.703125 27.09375 16.703125 20.515625 \nQ 16.703125 13.921875 20.71875 10.15625 \nQ 24.75 6.390625 31.78125 6.390625 \nQ 38.8125 6.390625 42.859375 10.171875 \nQ 46.921875 13.96875 46.921875 20.515625 \nQ 46.921875 27.09375 42.890625 30.859375 \nQ 38.875 34.625 31.78125 34.625 \nz\nM 21.921875 38.8125 \nQ 15.578125 40.375 12.03125 44.71875 \nQ 8.5 49.078125 8.5 55.328125 \nQ 8.5 64.0625 14.71875 69.140625 \nQ 20.953125 74.21875 31.78125 74.21875 \nQ 42.671875 74.21875 48.875 69.140625 \nQ 55.078125 64.0625 55.078125 55.328125 \nQ 55.078125 49.078125 51.53125 44.71875 \nQ 48 40.375 41.703125 38.8125 \nQ 48.828125 37.15625 52.796875 32.3125 \nQ 56.78125 27.484375 56.78125 20.515625 \nQ 56.78125 9.90625 50.3125 4.234375 \nQ 43.84375 -1.421875 31.78125 -1.421875 \nQ 19.734375 -1.421875 13.25 4.234375 \nQ 6.78125 9.90625 6.78125 20.515625 \nQ 6.78125 27.484375 10.78125 32.3125 \nQ 14.796875 37.15625 21.921875 38.8125 \nz\nM 18.3125 54.390625 \nQ 18.3125 48.734375 21.84375 45.5625 \nQ 25.390625 42.390625 31.78125 42.390625 \nQ 38.140625 42.390625 41.71875 45.5625 \nQ 45.3125 48.734375 45.3125 54.390625 \nQ 45.3125 60.0625 41.71875 63.234375 \nQ 38.140625 66.40625 31.78125 66.40625 \nQ 25.390625 66.40625 21.84375 63.234375 \nQ 18.3125 60.0625 18.3125 54.390625 \nz\n\" id=\"DejaVuSans-56\"/>\n       </defs>\n       <use xlink:href=\"#DejaVuSans-56\"/>\n       <use x=\"63.623047\" xlink:href=\"#DejaVuSans-48\"/>\n      </g>\n     </g>\n    </g>\n    <g id=\"xtick_6\">\n     <g id=\"line2d_6\">\n      <g>\n       <use style=\"stroke:#000000;stroke-width:0.8;\" x=\"402.577572\" xlink:href=\"#meb9ceab8a1\" y=\"228.636637\"/>\n      </g>\n     </g>\n     <g id=\"text_6\">\n      <!-- 100 -->\n      <g transform=\"translate(387.307572 247.794137)scale(0.16 -0.16)\">\n       <defs>\n        <path d=\"M 12.40625 8.296875 \nL 28.515625 8.296875 \nL 28.515625 63.921875 \nL 10.984375 60.40625 \nL 10.984375 69.390625 \nL 28.421875 72.90625 \nL 38.28125 72.90625 \nL 38.28125 8.296875 \nL 54.390625 8.296875 \nL 54.390625 0 \nL 12.40625 0 \nz\n\" id=\"DejaVuSans-49\"/>\n       </defs>\n       <use xlink:href=\"#DejaVuSans-49\"/>\n       <use x=\"63.623047\" xlink:href=\"#DejaVuSans-48\"/>\n       <use x=\"127.246094\" xlink:href=\"#DejaVuSans-48\"/>\n      </g>\n     </g>\n    </g>\n    <g id=\"text_7\">\n     <!-- Epochs -->\n     <g transform=\"translate(208.246901 270.318512)scale(0.2 -0.2)\">\n      <defs>\n       <path d=\"M 9.8125 72.90625 \nL 55.90625 72.90625 \nL 55.90625 64.59375 \nL 19.671875 64.59375 \nL 19.671875 43.015625 \nL 54.390625 43.015625 \nL 54.390625 34.71875 \nL 19.671875 34.71875 \nL 19.671875 8.296875 \nL 56.78125 8.296875 \nL 56.78125 0 \nL 9.8125 0 \nz\n\" id=\"DejaVuSans-69\"/>\n       <path d=\"M 18.109375 8.203125 \nL 18.109375 -20.796875 \nL 9.078125 -20.796875 \nL 9.078125 54.6875 \nL 18.109375 54.6875 \nL 18.109375 46.390625 \nQ 20.953125 51.265625 25.265625 53.625 \nQ 29.59375 56 35.59375 56 \nQ 45.5625 56 51.78125 48.09375 \nQ 58.015625 40.1875 58.015625 27.296875 \nQ 58.015625 14.40625 51.78125 6.484375 \nQ 45.5625 -1.421875 35.59375 -1.421875 \nQ 29.59375 -1.421875 25.265625 0.953125 \nQ 20.953125 3.328125 18.109375 8.203125 \nz\nM 48.6875 27.296875 \nQ 48.6875 37.203125 44.609375 42.84375 \nQ 40.53125 48.484375 33.40625 48.484375 \nQ 26.265625 48.484375 22.1875 42.84375 \nQ 18.109375 37.203125 18.109375 27.296875 \nQ 18.109375 17.390625 22.1875 11.75 \nQ 26.265625 6.109375 33.40625 6.109375 \nQ 40.53125 6.109375 44.609375 11.75 \nQ 48.6875 17.390625 48.6875 27.296875 \nz\n\" id=\"DejaVuSans-112\"/>\n       <path d=\"M 30.609375 48.390625 \nQ 23.390625 48.390625 19.1875 42.75 \nQ 14.984375 37.109375 14.984375 27.296875 \nQ 14.984375 17.484375 19.15625 11.84375 \nQ 23.34375 6.203125 30.609375 6.203125 \nQ 37.796875 6.203125 41.984375 11.859375 \nQ 46.1875 17.53125 46.1875 27.296875 \nQ 46.1875 37.015625 41.984375 42.703125 \nQ 37.796875 48.390625 30.609375 48.390625 \nz\nM 30.609375 56 \nQ 42.328125 56 49.015625 48.375 \nQ 55.71875 40.765625 55.71875 27.296875 \nQ 55.71875 13.875 49.015625 6.21875 \nQ 42.328125 -1.421875 30.609375 -1.421875 \nQ 18.84375 -1.421875 12.171875 6.21875 \nQ 5.515625 13.875 5.515625 27.296875 \nQ 5.515625 40.765625 12.171875 48.375 \nQ 18.84375 56 30.609375 56 \nz\n\" id=\"DejaVuSans-111\"/>\n       <path d=\"M 48.78125 52.59375 \nL 48.78125 44.1875 \nQ 44.96875 46.296875 41.140625 47.34375 \nQ 37.3125 48.390625 33.40625 48.390625 \nQ 24.65625 48.390625 19.8125 42.84375 \nQ 14.984375 37.3125 14.984375 27.296875 \nQ 14.984375 17.28125 19.8125 11.734375 \nQ 24.65625 6.203125 33.40625 6.203125 \nQ 37.3125 6.203125 41.140625 7.25 \nQ 44.96875 8.296875 48.78125 10.40625 \nL 48.78125 2.09375 \nQ 45.015625 0.34375 40.984375 -0.53125 \nQ 36.96875 -1.421875 32.421875 -1.421875 \nQ 20.0625 -1.421875 12.78125 6.34375 \nQ 5.515625 14.109375 5.515625 27.296875 \nQ 5.515625 40.671875 12.859375 48.328125 \nQ 20.21875 56 33.015625 56 \nQ 37.15625 56 41.109375 55.140625 \nQ 45.0625 54.296875 48.78125 52.59375 \nz\n\" id=\"DejaVuSans-99\"/>\n       <path d=\"M 54.890625 33.015625 \nL 54.890625 0 \nL 45.90625 0 \nL 45.90625 32.71875 \nQ 45.90625 40.484375 42.875 44.328125 \nQ 39.84375 48.1875 33.796875 48.1875 \nQ 26.515625 48.1875 22.3125 43.546875 \nQ 18.109375 38.921875 18.109375 30.90625 \nL 18.109375 0 \nL 9.078125 0 \nL 9.078125 75.984375 \nL 18.109375 75.984375 \nL 18.109375 46.1875 \nQ 21.34375 51.125 25.703125 53.5625 \nQ 30.078125 56 35.796875 56 \nQ 45.21875 56 50.046875 50.171875 \nQ 54.890625 44.34375 54.890625 33.015625 \nz\n\" id=\"DejaVuSans-104\"/>\n       <path d=\"M 44.28125 53.078125 \nL 44.28125 44.578125 \nQ 40.484375 46.53125 36.375 47.5 \nQ 32.28125 48.484375 27.875 48.484375 \nQ 21.1875 48.484375 17.84375 46.4375 \nQ 14.5 44.390625 14.5 40.28125 \nQ 14.5 37.15625 16.890625 35.375 \nQ 19.28125 33.59375 26.515625 31.984375 \nL 29.59375 31.296875 \nQ 39.15625 29.25 43.1875 25.515625 \nQ 47.21875 21.78125 47.21875 15.09375 \nQ 47.21875 7.46875 41.1875 3.015625 \nQ 35.15625 -1.421875 24.609375 -1.421875 \nQ 20.21875 -1.421875 15.453125 -0.5625 \nQ 10.6875 0.296875 5.421875 2 \nL 5.421875 11.28125 \nQ 10.40625 8.6875 15.234375 7.390625 \nQ 20.0625 6.109375 24.8125 6.109375 \nQ 31.15625 6.109375 34.5625 8.28125 \nQ 37.984375 10.453125 37.984375 14.40625 \nQ 37.984375 18.0625 35.515625 20.015625 \nQ 33.0625 21.96875 24.703125 23.78125 \nL 21.578125 24.515625 \nQ 13.234375 26.265625 9.515625 29.90625 \nQ 5.8125 33.546875 5.8125 39.890625 \nQ 5.8125 47.609375 11.28125 51.796875 \nQ 16.75 56 26.8125 56 \nQ 31.78125 56 36.171875 55.265625 \nQ 40.578125 54.546875 44.28125 53.078125 \nz\n\" id=\"DejaVuSans-115\"/>\n      </defs>\n      <use xlink:href=\"#DejaVuSans-69\"/>\n      <use x=\"63.183594\" xlink:href=\"#DejaVuSans-112\"/>\n      <use x=\"126.660156\" xlink:href=\"#DejaVuSans-111\"/>\n      <use x=\"187.841797\" xlink:href=\"#DejaVuSans-99\"/>\n      <use x=\"242.822266\" xlink:href=\"#DejaVuSans-104\"/>\n      <use x=\"306.201172\" xlink:href=\"#DejaVuSans-115\"/>\n     </g>\n    </g>\n   </g>\n   <g id=\"matplotlib.axis_2\">\n    <g id=\"ytick_1\">\n     <g id=\"line2d_7\">\n      <defs>\n       <path d=\"M 0 0 \nL -3.5 0 \n\" id=\"mddded9887e\" style=\"stroke:#000000;stroke-width:0.8;\"/>\n      </defs>\n      <g>\n       <use style=\"stroke:#000000;stroke-width:0.8;\" x=\"73.18125\" xlink:href=\"#mddded9887e\" y=\"222.206247\"/>\n      </g>\n     </g>\n     <g id=\"text_8\">\n      <!-- 0.45 -->\n      <g transform=\"translate(30.55625 228.284997)scale(0.16 -0.16)\">\n       <defs>\n        <path d=\"M 10.6875 12.40625 \nL 21 12.40625 \nL 21 0 \nL 10.6875 0 \nz\n\" id=\"DejaVuSans-46\"/>\n        <path d=\"M 10.796875 72.90625 \nL 49.515625 72.90625 \nL 49.515625 64.59375 \nL 19.828125 64.59375 \nL 19.828125 46.734375 \nQ 21.96875 47.46875 24.109375 47.828125 \nQ 26.265625 48.1875 28.421875 48.1875 \nQ 40.625 48.1875 47.75 41.5 \nQ 54.890625 34.8125 54.890625 23.390625 \nQ 54.890625 11.625 47.5625 5.09375 \nQ 40.234375 -1.421875 26.90625 -1.421875 \nQ 22.3125 -1.421875 17.546875 -0.640625 \nQ 12.796875 0.140625 7.71875 1.703125 \nL 7.71875 11.625 \nQ 12.109375 9.234375 16.796875 8.0625 \nQ 21.484375 6.890625 26.703125 6.890625 \nQ 35.15625 6.890625 40.078125 11.328125 \nQ 45.015625 15.765625 45.015625 23.390625 \nQ 45.015625 31 40.078125 35.4375 \nQ 35.15625 39.890625 26.703125 39.890625 \nQ 22.75 39.890625 18.8125 39.015625 \nQ 14.890625 38.140625 10.796875 36.28125 \nz\n\" id=\"DejaVuSans-53\"/>\n       </defs>\n       <use xlink:href=\"#DejaVuSans-48\"/>\n       <use x=\"63.623047\" xlink:href=\"#DejaVuSans-46\"/>\n       <use x=\"95.410156\" xlink:href=\"#DejaVuSans-52\"/>\n       <use x=\"159.033203\" xlink:href=\"#DejaVuSans-53\"/>\n      </g>\n     </g>\n    </g>\n    <g id=\"ytick_2\">\n     <g id=\"line2d_8\">\n      <g>\n       <use style=\"stroke:#000000;stroke-width:0.8;\" x=\"73.18125\" xlink:href=\"#mddded9887e\" y=\"180.420747\"/>\n      </g>\n     </g>\n     <g id=\"text_9\">\n      <!-- 0.50 -->\n      <g transform=\"translate(30.55625 186.499497)scale(0.16 -0.16)\">\n       <use xlink:href=\"#DejaVuSans-48\"/>\n       <use x=\"63.623047\" xlink:href=\"#DejaVuSans-46\"/>\n       <use x=\"95.410156\" xlink:href=\"#DejaVuSans-53\"/>\n       <use x=\"159.033203\" xlink:href=\"#DejaVuSans-48\"/>\n      </g>\n     </g>\n    </g>\n    <g id=\"ytick_3\">\n     <g id=\"line2d_9\">\n      <g>\n       <use style=\"stroke:#000000;stroke-width:0.8;\" x=\"73.18125\" xlink:href=\"#mddded9887e\" y=\"138.635248\"/>\n      </g>\n     </g>\n     <g id=\"text_10\">\n      <!-- 0.55 -->\n      <g transform=\"translate(30.55625 144.713998)scale(0.16 -0.16)\">\n       <use xlink:href=\"#DejaVuSans-48\"/>\n       <use x=\"63.623047\" xlink:href=\"#DejaVuSans-46\"/>\n       <use x=\"95.410156\" xlink:href=\"#DejaVuSans-53\"/>\n       <use x=\"159.033203\" xlink:href=\"#DejaVuSans-53\"/>\n      </g>\n     </g>\n    </g>\n    <g id=\"ytick_4\">\n     <g id=\"line2d_10\">\n      <g>\n       <use style=\"stroke:#000000;stroke-width:0.8;\" x=\"73.18125\" xlink:href=\"#mddded9887e\" y=\"96.849749\"/>\n      </g>\n     </g>\n     <g id=\"text_11\">\n      <!-- 0.60 -->\n      <g transform=\"translate(30.55625 102.928499)scale(0.16 -0.16)\">\n       <use xlink:href=\"#DejaVuSans-48\"/>\n       <use x=\"63.623047\" xlink:href=\"#DejaVuSans-46\"/>\n       <use x=\"95.410156\" xlink:href=\"#DejaVuSans-54\"/>\n       <use x=\"159.033203\" xlink:href=\"#DejaVuSans-48\"/>\n      </g>\n     </g>\n    </g>\n    <g id=\"ytick_5\">\n     <g id=\"line2d_11\">\n      <g>\n       <use style=\"stroke:#000000;stroke-width:0.8;\" x=\"73.18125\" xlink:href=\"#mddded9887e\" y=\"55.064249\"/>\n      </g>\n     </g>\n     <g id=\"text_12\">\n      <!-- 0.65 -->\n      <g transform=\"translate(30.55625 61.142999)scale(0.16 -0.16)\">\n       <use xlink:href=\"#DejaVuSans-48\"/>\n       <use x=\"63.623047\" xlink:href=\"#DejaVuSans-46\"/>\n       <use x=\"95.410156\" xlink:href=\"#DejaVuSans-54\"/>\n       <use x=\"159.033203\" xlink:href=\"#DejaVuSans-53\"/>\n      </g>\n     </g>\n    </g>\n    <g id=\"ytick_6\">\n     <g id=\"line2d_12\">\n      <g>\n       <use style=\"stroke:#000000;stroke-width:0.8;\" x=\"73.18125\" xlink:href=\"#mddded9887e\" y=\"13.27875\"/>\n      </g>\n     </g>\n     <g id=\"text_13\">\n      <!-- 0.70 -->\n      <g transform=\"translate(30.55625 19.3575)scale(0.16 -0.16)\">\n       <defs>\n        <path d=\"M 8.203125 72.90625 \nL 55.078125 72.90625 \nL 55.078125 68.703125 \nL 28.609375 0 \nL 18.3125 0 \nL 43.21875 64.59375 \nL 8.203125 64.59375 \nz\n\" id=\"DejaVuSans-55\"/>\n       </defs>\n       <use xlink:href=\"#DejaVuSans-48\"/>\n       <use x=\"63.623047\" xlink:href=\"#DejaVuSans-46\"/>\n       <use x=\"95.410156\" xlink:href=\"#DejaVuSans-55\"/>\n       <use x=\"159.033203\" xlink:href=\"#DejaVuSans-48\"/>\n      </g>\n     </g>\n    </g>\n    <g id=\"text_14\">\n     <!-- Objective Value -->\n     <g transform=\"translate(22.396875 196.890904)rotate(-90)scale(0.2 -0.2)\">\n      <defs>\n       <path d=\"M 39.40625 66.21875 \nQ 28.65625 66.21875 22.328125 58.203125 \nQ 16.015625 50.203125 16.015625 36.375 \nQ 16.015625 22.609375 22.328125 14.59375 \nQ 28.65625 6.59375 39.40625 6.59375 \nQ 50.140625 6.59375 56.421875 14.59375 \nQ 62.703125 22.609375 62.703125 36.375 \nQ 62.703125 50.203125 56.421875 58.203125 \nQ 50.140625 66.21875 39.40625 66.21875 \nz\nM 39.40625 74.21875 \nQ 54.734375 74.21875 63.90625 63.9375 \nQ 73.09375 53.65625 73.09375 36.375 \nQ 73.09375 19.140625 63.90625 8.859375 \nQ 54.734375 -1.421875 39.40625 -1.421875 \nQ 24.03125 -1.421875 14.8125 8.828125 \nQ 5.609375 19.09375 5.609375 36.375 \nQ 5.609375 53.65625 14.8125 63.9375 \nQ 24.03125 74.21875 39.40625 74.21875 \nz\n\" id=\"DejaVuSans-79\"/>\n       <path d=\"M 48.6875 27.296875 \nQ 48.6875 37.203125 44.609375 42.84375 \nQ 40.53125 48.484375 33.40625 48.484375 \nQ 26.265625 48.484375 22.1875 42.84375 \nQ 18.109375 37.203125 18.109375 27.296875 \nQ 18.109375 17.390625 22.1875 11.75 \nQ 26.265625 6.109375 33.40625 6.109375 \nQ 40.53125 6.109375 44.609375 11.75 \nQ 48.6875 17.390625 48.6875 27.296875 \nz\nM 18.109375 46.390625 \nQ 20.953125 51.265625 25.265625 53.625 \nQ 29.59375 56 35.59375 56 \nQ 45.5625 56 51.78125 48.09375 \nQ 58.015625 40.1875 58.015625 27.296875 \nQ 58.015625 14.40625 51.78125 6.484375 \nQ 45.5625 -1.421875 35.59375 -1.421875 \nQ 29.59375 -1.421875 25.265625 0.953125 \nQ 20.953125 3.328125 18.109375 8.203125 \nL 18.109375 0 \nL 9.078125 0 \nL 9.078125 75.984375 \nL 18.109375 75.984375 \nz\n\" id=\"DejaVuSans-98\"/>\n       <path d=\"M 9.421875 54.6875 \nL 18.40625 54.6875 \nL 18.40625 -0.984375 \nQ 18.40625 -11.421875 14.421875 -16.109375 \nQ 10.453125 -20.796875 1.609375 -20.796875 \nL -1.8125 -20.796875 \nL -1.8125 -13.1875 \nL 0.59375 -13.1875 \nQ 5.71875 -13.1875 7.5625 -10.8125 \nQ 9.421875 -8.453125 9.421875 -0.984375 \nz\nM 9.421875 75.984375 \nL 18.40625 75.984375 \nL 18.40625 64.59375 \nL 9.421875 64.59375 \nz\n\" id=\"DejaVuSans-106\"/>\n       <path d=\"M 56.203125 29.59375 \nL 56.203125 25.203125 \nL 14.890625 25.203125 \nQ 15.484375 15.921875 20.484375 11.0625 \nQ 25.484375 6.203125 34.421875 6.203125 \nQ 39.59375 6.203125 44.453125 7.46875 \nQ 49.3125 8.734375 54.109375 11.28125 \nL 54.109375 2.78125 \nQ 49.265625 0.734375 44.1875 -0.34375 \nQ 39.109375 -1.421875 33.890625 -1.421875 \nQ 20.796875 -1.421875 13.15625 6.1875 \nQ 5.515625 13.8125 5.515625 26.8125 \nQ 5.515625 40.234375 12.765625 48.109375 \nQ 20.015625 56 32.328125 56 \nQ 43.359375 56 49.78125 48.890625 \nQ 56.203125 41.796875 56.203125 29.59375 \nz\nM 47.21875 32.234375 \nQ 47.125 39.59375 43.09375 43.984375 \nQ 39.0625 48.390625 32.421875 48.390625 \nQ 24.90625 48.390625 20.390625 44.140625 \nQ 15.875 39.890625 15.1875 32.171875 \nz\n\" id=\"DejaVuSans-101\"/>\n       <path d=\"M 18.3125 70.21875 \nL 18.3125 54.6875 \nL 36.8125 54.6875 \nL 36.8125 47.703125 \nL 18.3125 47.703125 \nL 18.3125 18.015625 \nQ 18.3125 11.328125 20.140625 9.421875 \nQ 21.96875 7.515625 27.59375 7.515625 \nL 36.8125 7.515625 \nL 36.8125 0 \nL 27.59375 0 \nQ 17.1875 0 13.234375 3.875 \nQ 9.28125 7.765625 9.28125 18.015625 \nL 9.28125 47.703125 \nL 2.6875 47.703125 \nL 2.6875 54.6875 \nL 9.28125 54.6875 \nL 9.28125 70.21875 \nz\n\" id=\"DejaVuSans-116\"/>\n       <path d=\"M 9.421875 54.6875 \nL 18.40625 54.6875 \nL 18.40625 0 \nL 9.421875 0 \nz\nM 9.421875 75.984375 \nL 18.40625 75.984375 \nL 18.40625 64.59375 \nL 9.421875 64.59375 \nz\n\" id=\"DejaVuSans-105\"/>\n       <path d=\"M 2.984375 54.6875 \nL 12.5 54.6875 \nL 29.59375 8.796875 \nL 46.6875 54.6875 \nL 56.203125 54.6875 \nL 35.6875 0 \nL 23.484375 0 \nz\n\" id=\"DejaVuSans-118\"/>\n       <path id=\"DejaVuSans-32\"/>\n       <path d=\"M 28.609375 0 \nL 0.78125 72.90625 \nL 11.078125 72.90625 \nL 34.1875 11.53125 \nL 57.328125 72.90625 \nL 67.578125 72.90625 \nL 39.796875 0 \nz\n\" id=\"DejaVuSans-86\"/>\n       <path d=\"M 34.28125 27.484375 \nQ 23.390625 27.484375 19.1875 25 \nQ 14.984375 22.515625 14.984375 16.5 \nQ 14.984375 11.71875 18.140625 8.90625 \nQ 21.296875 6.109375 26.703125 6.109375 \nQ 34.1875 6.109375 38.703125 11.40625 \nQ 43.21875 16.703125 43.21875 25.484375 \nL 43.21875 27.484375 \nz\nM 52.203125 31.203125 \nL 52.203125 0 \nL 43.21875 0 \nL 43.21875 8.296875 \nQ 40.140625 3.328125 35.546875 0.953125 \nQ 30.953125 -1.421875 24.3125 -1.421875 \nQ 15.921875 -1.421875 10.953125 3.296875 \nQ 6 8.015625 6 15.921875 \nQ 6 25.140625 12.171875 29.828125 \nQ 18.359375 34.515625 30.609375 34.515625 \nL 43.21875 34.515625 \nL 43.21875 35.40625 \nQ 43.21875 41.609375 39.140625 45 \nQ 35.0625 48.390625 27.6875 48.390625 \nQ 23 48.390625 18.546875 47.265625 \nQ 14.109375 46.140625 10.015625 43.890625 \nL 10.015625 52.203125 \nQ 14.9375 54.109375 19.578125 55.046875 \nQ 24.21875 56 28.609375 56 \nQ 40.484375 56 46.34375 49.84375 \nQ 52.203125 43.703125 52.203125 31.203125 \nz\n\" id=\"DejaVuSans-97\"/>\n       <path d=\"M 9.421875 75.984375 \nL 18.40625 75.984375 \nL 18.40625 0 \nL 9.421875 0 \nz\n\" id=\"DejaVuSans-108\"/>\n       <path d=\"M 8.5 21.578125 \nL 8.5 54.6875 \nL 17.484375 54.6875 \nL 17.484375 21.921875 \nQ 17.484375 14.15625 20.5 10.265625 \nQ 23.53125 6.390625 29.59375 6.390625 \nQ 36.859375 6.390625 41.078125 11.03125 \nQ 45.3125 15.671875 45.3125 23.6875 \nL 45.3125 54.6875 \nL 54.296875 54.6875 \nL 54.296875 0 \nL 45.3125 0 \nL 45.3125 8.40625 \nQ 42.046875 3.421875 37.71875 1 \nQ 33.40625 -1.421875 27.6875 -1.421875 \nQ 18.265625 -1.421875 13.375 4.4375 \nQ 8.5 10.296875 8.5 21.578125 \nz\nM 31.109375 56 \nz\n\" id=\"DejaVuSans-117\"/>\n      </defs>\n      <use xlink:href=\"#DejaVuSans-79\"/>\n      <use x=\"78.710938\" xlink:href=\"#DejaVuSans-98\"/>\n      <use x=\"142.1875\" xlink:href=\"#DejaVuSans-106\"/>\n      <use x=\"169.970703\" xlink:href=\"#DejaVuSans-101\"/>\n      <use x=\"231.494141\" xlink:href=\"#DejaVuSans-99\"/>\n      <use x=\"286.474609\" xlink:href=\"#DejaVuSans-116\"/>\n      <use x=\"325.683594\" xlink:href=\"#DejaVuSans-105\"/>\n      <use x=\"353.466797\" xlink:href=\"#DejaVuSans-118\"/>\n      <use x=\"412.646484\" xlink:href=\"#DejaVuSans-101\"/>\n      <use x=\"474.169922\" xlink:href=\"#DejaVuSans-32\"/>\n      <use x=\"505.957031\" xlink:href=\"#DejaVuSans-86\"/>\n      <use x=\"566.615234\" xlink:href=\"#DejaVuSans-97\"/>\n      <use x=\"627.894531\" xlink:href=\"#DejaVuSans-108\"/>\n      <use x=\"655.677734\" xlink:href=\"#DejaVuSans-117\"/>\n      <use x=\"719.056641\" xlink:href=\"#DejaVuSans-101\"/>\n     </g>\n    </g>\n   </g>\n   <g id=\"line2d_13\">\n    <path clip-path=\"url(#p31706da16f)\" d=\"M 88.717332 19.00572 \nL 91.855934 110.561403 \nL 94.994537 148.416888 \nL 98.133139 168.803224 \nL 101.271742 181.514296 \nL 104.410344 190.122359 \nL 107.548946 196.260699 \nL 110.687549 200.794695 \nL 113.826151 204.230829 \nL 116.964754 206.886906 \nL 120.103356 208.972693 \nL 123.241958 210.632034 \nL 126.380561 211.966561 \nL 129.519163 213.049844 \nL 132.657766 213.936222 \nL 135.796368 214.666522 \nL 138.93497 215.271883 \nL 142.073573 215.77636 \nL 145.212175 216.198751 \nL 148.350778 216.553899 \nL 151.48938 216.853628 \nL 154.627982 217.107436 \nL 157.766585 217.323009 \nL 160.905187 217.506607 \nL 164.04379 217.663361 \nL 167.182392 217.797495 \nL 170.320994 217.912511 \nL 173.459597 218.011317 \nL 176.598199 218.096346 \nL 179.736802 218.169633 \nL 182.875404 218.232892 \nL 186.014006 218.28757 \nL 189.152609 218.334889 \nL 192.291211 218.375887 \nL 195.429814 218.411446 \nL 198.568416 218.44232 \nL 201.707018 218.469151 \nL 204.845621 218.492488 \nL 207.984223 218.512803 \nL 211.122826 218.530501 \nL 214.261428 218.54593 \nL 217.40003 218.559391 \nL 220.538633 218.571142 \nL 223.677235 218.581406 \nL 226.815838 218.590377 \nL 229.95444 218.598221 \nL 233.093042 218.605085 \nL 236.231645 218.611092 \nL 239.370247 218.616354 \nL 242.50885 218.620963 \nL 245.647452 218.625003 \nL 248.786054 218.628546 \nL 251.924657 218.631653 \nL 255.063259 218.63438 \nL 258.201862 218.636774 \nL 261.340464 218.638875 \nL 264.479066 218.640722 \nL 267.617669 218.642344 \nL 270.756271 218.643769 \nL 273.894874 218.645023 \nL 277.033476 218.646125 \nL 280.172078 218.647094 \nL 283.310681 218.647947 \nL 286.449283 218.648698 \nL 289.587886 218.649359 \nL 292.726488 218.64994 \nL 295.86509 218.650452 \nL 299.003693 218.650904 \nL 302.142295 218.651301 \nL 305.280898 218.651651 \nL 308.4195 218.65196 \nL 311.558102 218.652232 \nL 314.696705 218.652472 \nL 317.835307 218.652684 \nL 320.97391 218.65287 \nL 324.112512 218.653035 \nL 327.251114 218.65318 \nL 330.389717 218.653308 \nL 333.528319 218.653421 \nL 336.666922 218.653521 \nL 339.805524 218.653609 \nL 342.944127 218.653687 \nL 346.082729 218.653755 \nL 349.221331 218.653816 \nL 352.359934 218.65387 \nL 355.498536 218.653917 \nL 358.637139 218.653959 \nL 361.775741 218.653995 \nL 364.914343 218.654028 \nL 368.052946 218.654057 \nL 371.191548 218.654082 \nL 374.330151 218.654105 \nL 377.468753 218.654125 \nL 380.607355 218.654142 \nL 383.745958 218.654158 \nL 386.88456 218.654172 \nL 390.023163 218.654184 \nL 393.161765 218.654195 \nL 396.300367 218.654204 \nL 399.43897 218.654212 \n\" style=\"fill:none;stroke:#0000ff;stroke-dasharray:14.8,6.4;stroke-dashoffset:0;stroke-width:4;\"/>\n   </g>\n   <g id=\"line2d_14\">\n    <path clip-path=\"url(#p31706da16f)\" d=\"M 88.717332 164.009429 \nL 91.855934 180.02248 \nL 94.994537 188.329385 \nL 98.133139 193.99375 \nL 101.271742 193.10063 \nL 104.410344 191.929004 \nL 107.548946 196.257713 \nL 110.687549 199.244235 \nL 113.826151 203.224869 \nL 116.964754 202.378688 \nL 120.103356 202.853782 \nL 123.241958 205.629521 \nL 126.380561 206.282321 \nL 129.519163 206.864158 \nL 132.657766 209.977761 \nL 135.796368 207.795543 \nL 138.93497 210.6675 \nL 142.073573 209.888174 \nL 145.212175 212.23411 \nL 148.350778 212.536196 \nL 151.48938 212.178087 \nL 154.627982 213.349674 \nL 157.766585 213.781186 \nL 160.905187 214.135137 \nL 164.04379 214.503661 \nL 167.182392 214.865491 \nL 170.320994 215.325555 \nL 173.459597 215.542961 \nL 176.598199 215.773529 \nL 179.736802 216.059072 \nL 182.875404 216.341941 \nL 186.014006 216.916601 \nL 189.152609 216.754503 \nL 192.291211 216.933648 \nL 195.429814 217.182187 \nL 198.568416 217.283093 \nL 201.707018 217.425573 \nL 204.845621 217.569511 \nL 207.984223 217.645689 \nL 211.122826 217.742971 \nL 214.261428 217.855182 \nL 217.40003 217.906567 \nL 220.538633 217.97727 \nL 223.677235 218.050454 \nL 226.815838 218.113433 \nL 229.95444 218.165452 \nL 233.093042 218.209706 \nL 236.231645 218.253497 \nL 239.370247 218.293831 \nL 242.50885 218.332747 \nL 245.647452 218.361877 \nL 248.786054 218.391755 \nL 251.924657 218.417042 \nL 255.063259 218.441472 \nL 258.201862 218.462017 \nL 261.340464 218.480831 \nL 264.479066 218.49804 \nL 267.617669 218.513765 \nL 270.756271 218.52799 \nL 273.894874 218.540362 \nL 277.033476 218.551827 \nL 280.172078 218.561965 \nL 283.310681 218.571459 \nL 286.449283 218.57949 \nL 289.587886 218.586914 \nL 292.726488 218.593645 \nL 295.86509 218.599573 \nL 299.003693 218.605008 \nL 302.142295 218.6099 \nL 305.280898 218.614324 \nL 308.4195 218.618285 \nL 311.558102 218.621859 \nL 314.696705 218.625059 \nL 317.835307 218.627953 \nL 320.97391 218.630563 \nL 324.112512 218.632914 \nL 327.251114 218.635003 \nL 330.389717 218.636899 \nL 333.528319 218.63861 \nL 336.666922 218.640151 \nL 339.805524 218.641529 \nL 342.944127 218.642774 \nL 346.082729 218.643896 \nL 349.221331 218.644905 \nL 352.359934 218.645813 \nL 355.498536 218.646629 \nL 358.637139 218.647366 \nL 361.775741 218.648028 \nL 364.914343 218.648623 \nL 368.052946 218.649159 \nL 371.191548 218.649642 \nL 374.330151 218.650076 \nL 377.468753 218.650467 \nL 380.607355 218.650819 \nL 383.745958 218.651136 \nL 386.88456 218.651421 \nL 390.023163 218.651677 \nL 393.161765 218.651908 \nL 396.300367 218.652116 \nL 399.43897 218.652303 \n\" style=\"fill:none;stroke:#ff0000;stroke-linecap:square;stroke-width:2;\"/>\n   </g>\n   <g id=\"patch_3\">\n    <path d=\"M 73.18125 228.636637 \nL 73.18125 9.023295 \n\" style=\"fill:none;stroke:#000000;stroke-linecap:square;stroke-linejoin:miter;stroke-width:0.8;\"/>\n   </g>\n   <g id=\"patch_4\">\n    <path d=\"M 414.975052 228.636637 \nL 414.975052 9.023295 \n\" style=\"fill:none;stroke:#000000;stroke-linecap:square;stroke-linejoin:miter;stroke-width:0.8;\"/>\n   </g>\n   <g id=\"patch_5\">\n    <path d=\"M 73.18125 228.636637 \nL 414.975052 228.636637 \n\" style=\"fill:none;stroke:#000000;stroke-linecap:square;stroke-linejoin:miter;stroke-width:0.8;\"/>\n   </g>\n   <g id=\"patch_6\">\n    <path d=\"M 73.18125 9.023295 \nL 414.975052 9.023295 \n\" style=\"fill:none;stroke:#000000;stroke-linecap:square;stroke-linejoin:miter;stroke-width:0.8;\"/>\n   </g>\n   <g id=\"legend_1\">\n    <g id=\"patch_7\">\n     <path d=\"M 293.381302 83.735795 \nL 400.975052 83.735795 \nQ 404.975052 83.735795 404.975052 79.735795 \nL 404.975052 23.023295 \nQ 404.975052 19.023295 400.975052 19.023295 \nL 293.381302 19.023295 \nQ 289.381302 19.023295 289.381302 23.023295 \nL 289.381302 79.735795 \nQ 289.381302 83.735795 293.381302 83.735795 \nz\n\" style=\"fill:#ffffff;opacity:0.8;stroke:#cccccc;stroke-linejoin:miter;\"/>\n    </g>\n    <g id=\"line2d_15\">\n     <path d=\"M 297.381302 35.22017 \nL 337.381302 35.22017 \n\" style=\"fill:none;stroke:#0000ff;stroke-dasharray:14.8,6.4;stroke-dashoffset:0;stroke-width:4;\"/>\n    </g>\n    <g id=\"line2d_16\"/>\n    <g id=\"text_15\">\n     <!-- GD -->\n     <g transform=\"translate(353.381302 42.22017)scale(0.2 -0.2)\">\n      <defs>\n       <path d=\"M 59.515625 10.40625 \nL 59.515625 29.984375 \nL 43.40625 29.984375 \nL 43.40625 38.09375 \nL 69.28125 38.09375 \nL 69.28125 6.78125 \nQ 63.578125 2.734375 56.6875 0.65625 \nQ 49.8125 -1.421875 42 -1.421875 \nQ 24.90625 -1.421875 15.25 8.5625 \nQ 5.609375 18.5625 5.609375 36.375 \nQ 5.609375 54.25 15.25 64.234375 \nQ 24.90625 74.21875 42 74.21875 \nQ 49.125 74.21875 55.546875 72.453125 \nQ 61.96875 70.703125 67.390625 67.28125 \nL 67.390625 56.78125 \nQ 61.921875 61.421875 55.765625 63.765625 \nQ 49.609375 66.109375 42.828125 66.109375 \nQ 29.4375 66.109375 22.71875 58.640625 \nQ 16.015625 51.171875 16.015625 36.375 \nQ 16.015625 21.625 22.71875 14.15625 \nQ 29.4375 6.6875 42.828125 6.6875 \nQ 48.046875 6.6875 52.140625 7.59375 \nQ 56.25 8.5 59.515625 10.40625 \nz\n\" id=\"DejaVuSans-71\"/>\n       <path d=\"M 19.671875 64.796875 \nL 19.671875 8.109375 \nL 31.59375 8.109375 \nQ 46.6875 8.109375 53.6875 14.9375 \nQ 60.6875 21.78125 60.6875 36.53125 \nQ 60.6875 51.171875 53.6875 57.984375 \nQ 46.6875 64.796875 31.59375 64.796875 \nz\nM 9.8125 72.90625 \nL 30.078125 72.90625 \nQ 51.265625 72.90625 61.171875 64.09375 \nQ 71.09375 55.28125 71.09375 36.53125 \nQ 71.09375 17.671875 61.125 8.828125 \nQ 51.171875 0 30.078125 0 \nL 9.8125 0 \nz\n\" id=\"DejaVuSans-68\"/>\n      </defs>\n      <use xlink:href=\"#DejaVuSans-71\"/>\n      <use x=\"77.490234\" xlink:href=\"#DejaVuSans-68\"/>\n     </g>\n    </g>\n    <g id=\"line2d_17\">\n     <path d=\"M 297.381302 64.57642 \nL 337.381302 64.57642 \n\" style=\"fill:none;stroke:#ff0000;stroke-linecap:square;stroke-width:2;\"/>\n    </g>\n    <g id=\"line2d_18\"/>\n    <g id=\"text_16\">\n     <!-- SGD -->\n     <g transform=\"translate(353.381302 71.57642)scale(0.2 -0.2)\">\n      <defs>\n       <path d=\"M 53.515625 70.515625 \nL 53.515625 60.890625 \nQ 47.90625 63.578125 42.921875 64.890625 \nQ 37.9375 66.21875 33.296875 66.21875 \nQ 25.25 66.21875 20.875 63.09375 \nQ 16.5 59.96875 16.5 54.203125 \nQ 16.5 49.359375 19.40625 46.890625 \nQ 22.3125 44.4375 30.421875 42.921875 \nL 36.375 41.703125 \nQ 47.40625 39.59375 52.65625 34.296875 \nQ 57.90625 29 57.90625 20.125 \nQ 57.90625 9.515625 50.796875 4.046875 \nQ 43.703125 -1.421875 29.984375 -1.421875 \nQ 24.8125 -1.421875 18.96875 -0.25 \nQ 13.140625 0.921875 6.890625 3.21875 \nL 6.890625 13.375 \nQ 12.890625 10.015625 18.65625 8.296875 \nQ 24.421875 6.59375 29.984375 6.59375 \nQ 38.421875 6.59375 43.015625 9.90625 \nQ 47.609375 13.234375 47.609375 19.390625 \nQ 47.609375 24.75 44.3125 27.78125 \nQ 41.015625 30.8125 33.5 32.328125 \nL 27.484375 33.5 \nQ 16.453125 35.6875 11.515625 40.375 \nQ 6.59375 45.0625 6.59375 53.421875 \nQ 6.59375 63.09375 13.40625 68.65625 \nQ 20.21875 74.21875 32.171875 74.21875 \nQ 37.3125 74.21875 42.625 73.28125 \nQ 47.953125 72.359375 53.515625 70.515625 \nz\n\" id=\"DejaVuSans-83\"/>\n      </defs>\n      <use xlink:href=\"#DejaVuSans-83\"/>\n      <use x=\"63.476562\" xlink:href=\"#DejaVuSans-71\"/>\n      <use x=\"140.966797\" xlink:href=\"#DejaVuSans-68\"/>\n     </g>\n    </g>\n   </g>\n  </g>\n </g>\n <defs>\n  <clipPath id=\"p31706da16f\">\n   <rect height=\"219.613342\" width=\"341.793802\" x=\"73.18125\" y=\"9.023295\"/>\n  </clipPath>\n </defs>\n</svg>\n",
      "image/png": "[encoded data removed]"
     },
     "metadata": {
      "needs_background": "light"
     }
    }
   ],
   "source": [
    "import matplotlib.pyplot as plt\n",
    "%matplotlib inline\n",
    "\n",
    "fig = plt.figure(figsize=(6, 4))\n",
    "\n",
    "epochs_gd = range(len(objvals_gd))\n",
    "epochs_sgd = range(len(objvals_sgd))\n",
    "\n",
    "# By changing 'FontSize'->'fontsize' and 'LineWidth'->'linewidth' all the warnings are avoided.\n",
    "# I'm sorry if you wanted the warnings to stay, but they were quite ugly.\n",
    "line0, = plt.plot(epochs_gd, objvals_gd, '--b', linewidth=4)\n",
    "line1, = plt.plot(epochs_sgd, objvals_sgd, '-r', linewidth=2)\n",
    "plt.xlabel('Epochs', fontsize=20)\n",
    "plt.ylabel('Objective Value', fontsize=20)\n",
    "plt.xticks(fontsize=16)\n",
    "plt.yticks(fontsize=16)\n",
    "plt.legend([line0, line1], ['GD', 'SGD'], fontsize=20)\n",
    "plt.tight_layout()\n",
    "plt.show()\n",
    "fig.savefig('compare_gd_sgd.pdf', format='pdf', dpi=1200)"
   ]
  },
  {
   "cell_type": "markdown",
   "metadata": {},
   "source": [
    "# 5. Prediction"
   ]
  },
  {
   "cell_type": "code",
   "execution_count": 14,
   "metadata": {},
   "outputs": [],
   "source": [
    "# Predict class label\n",
    "# Inputs:\n",
    "#     w: d-by-1 matrix\n",
    "#     X: m-by-d matrix\n",
    "# Return:\n",
    "#     f: m-by-1 matrix, the predictions\n",
    "def predict(w, X):\n",
    "    xw = numpy.dot(X, w)\n",
    "    f = numpy.sign(xw)\n",
    "    return f"
   ]
  },
  {
   "cell_type": "code",
   "execution_count": 15,
   "metadata": {},
   "outputs": [
    {
     "output_type": "stream",
     "name": "stdout",
     "text": [
      "Training classification error is 0.20625\n"
     ]
    }
   ],
   "source": [
    "# evaluate training error\n",
    "f_train = predict(w, x_train)\n",
    "diff = numpy.abs(f_train - y_train) / 2\n",
    "error_train = numpy.mean(diff)\n",
    "print('Training classification error is ' + str(error_train))"
   ]
  },
  {
   "cell_type": "code",
   "execution_count": 16,
   "metadata": {},
   "outputs": [
    {
     "output_type": "stream",
     "name": "stdout",
     "text": [
      "Test classification error is 0.265625\n"
     ]
    }
   ],
   "source": [
    "# evaluate test error\n",
    "f_test = predict(w, x_test)\n",
    "diff = numpy.abs(f_test - y_test) / 2\n",
    "error_test = numpy.mean(diff)\n",
    "print('Test classification error is ' + str(error_test))"
   ]
  },
  {
   "cell_type": "markdown",
   "metadata": {},
   "source": [
    "# 6. Mini-batch SGD (fill the code)\n",
    "\n"
   ]
  },
  {
   "cell_type": "markdown",
   "metadata": {},
   "source": [
    "## 6.1. Compute the objective $Q_I$ and its gradient using a batch of samples\n",
    "\n",
    "Define $Q_I (w) = \\frac{1}{b} \\sum_{i \\in I} \\log \\Big( 1 + \\exp \\big( - y_i x_i^T w \\big) \\Big) + \\frac{\\lambda}{2} \\| w \\|_2^2 $, where $I$ is a set containing $b$ indices randomly drawn from $\\{ 1, \\cdots , n \\}$ without replacement.\n",
    "\n",
    "The stochastic gradient at $w$ is $g_I = \\frac{\\partial Q_I }{ \\partial w} = \\frac{1}{b} \\sum_{i \\in I} \\frac{- y_i x_i }{1 + \\exp ( y_i x_i^T w)} + \\lambda w$."
   ]
  },
  {
   "cell_type": "code",
   "execution_count": 17,
   "metadata": {},
   "outputs": [],
   "source": [
    "# Calculate the objective Q_I and the gradient of Q_I\n",
    "# Inputs:\n",
    "#     w: d-by-1 matrix\n",
    "#     xi: b-by-d matrix\n",
    "#     yi: b-by-1 matrix\n",
    "#     lam: scalar, the regularization parameter\n",
    "#     b: integer, the batch size\n",
    "# Return:\n",
    "#     obj: scalar, the objective Q_i\n",
    "#     g: d-by-1 matrix, gradient of Q_i\n",
    "def mb_stochastic_objective_gradient(w, xi, yi, lam, b):\n",
    "    # Fill the function\n",
    "    # Follow the implementation of stochastic_objective_gradient\n",
    "    # Use matrix-vector multiplication; do not use FOR LOOP of vector-vector multiplications\n",
    "    yx = numpy.multiply(yi, xi)    # b-by-d matrix\n",
    "    yxw = numpy.dot(yx, w) # b-by-1 matrix\n",
    "    vec1 = numpy.exp(-yxw) # b-by-1 matrix\n",
    "    vec2 = numpy.log(1 + vec1) # b-by-1 matrix\n",
    "    loss = numpy.mean(vec2) # scalar\n",
    "\n",
    "    # Compute the objective function\n",
    "    reg = lam / 2 * numpy.sum(w * w) # scalar\n",
    "    obj = loss + reg # scalar\n",
    "\n",
    "    # Compute the gradient\n",
    "    g_vec1 = numpy.exp(yxw) # b-by-1 matrix\n",
    "    g_vec2 = numpy.divide(-yx, 1+g_vec1) # b-by-d matrix\n",
    "    g_vec3 = numpy.mean(g_vec2, axis=0).T # d-by-1 matrix\n",
    "    g = g_vec3 + lam*w # d-by-1 matrix\n",
    "\n",
    "    # Return\n",
    "    return obj, g"
   ]
  },
  {
   "cell_type": "markdown",
   "metadata": {},
   "source": [
    "## 6.2. Implement mini-batch SGD\n",
    "\n",
    "Hints:\n",
    "1. In every epoch, randomly permute the $n$ samples (just like SGD).\n",
    "2. Each epoch has $\\frac{n}{b}$ iterations. In every iteration, use $b$ samples, and compute the gradient and objective using the ``mb_stochastic_objective_gradient`` function. In the next iteration, use the next $b$ samples, and so on.\n"
   ]
  },
  {
   "cell_type": "code",
   "execution_count": 18,
   "metadata": {},
   "outputs": [],
   "source": [
    "# Mini-Batch SGD for solving logistic regression\n",
    "# Inputs:\n",
    "#     x: n-by-d matrix\n",
    "#     y: n-by-1 matrix\n",
    "#     lam: scalar, the regularization parameter\n",
    "#     b: integer, the batch size\n",
    "#     stepsize: scalar\n",
    "#     max_epoch: integer, the maximal epochs\n",
    "#     w: d-by-1 matrix, initialization of w\n",
    "# Return:\n",
    "#     w: the solution\n",
    "#     objvals: record of each iteration's objective value\n",
    "def mb_sgd(x, y, lam, b, stepsize, max_epoch=100, w=None):\n",
    "    # Fill the function\n",
    "    # Follow the implementation of sgd\n",
    "    # Record one objective value per epoch (not per iteration!)\n",
    "    n, d = x.shape\n",
    "    print( \"Shape of our data is {}\".format( x.shape ) )\n",
    "    objvals = numpy.zeros(max_epoch) # store the objective values\n",
    "    if w is None:\n",
    "        w = numpy.zeros((d, 1)) # zero initialization\n",
    "    \n",
    "    for t in range(max_epoch):\n",
    "        # randomly shuffle the samples\n",
    "        rand_indices = numpy.random.permutation(n)\n",
    "        x_rand = x[rand_indices, :]\n",
    "        y_rand = y[rand_indices, :]\n",
    "\n",
    "        objval = 0\n",
    "        start_index = 0\n",
    "        end_index = b\n",
    "        # Calculate and run the exact number of iterations\n",
    "        for i in range( (n//b) ):\n",
    "            xi = x_rand[ (b*i):(b*(i+1)), : ]\n",
    "            yi = y_rand[ (b*i):(b*(i+1)), : ]\n",
    "            # Call our objective/gradient function\n",
    "            obj, g = mb_stochastic_objective_gradient(w, xi, yi, lam, b)\n",
    "            objval += obj\n",
    "            w -= stepsize * g\n",
    "        # Decrease the stepsize\n",
    "        stepsize *= 0.9\n",
    "        # Average the objval\n",
    "        objval /= (n//b)\n",
    "        # Record the value of the objective function\n",
    "        objvals[t] = objval\n",
    "        print( \"Objective value at epoch t={} is {}.\".format(t, objval))\n",
    "\n",
    "        \n",
    "\n",
    "    return w, objvals"
   ]
  },
  {
   "cell_type": "markdown",
   "metadata": {},
   "source": [
    "## 6.3. Run MB-SGD"
   ]
  },
  {
   "cell_type": "code",
   "execution_count": 19,
   "metadata": {
    "tags": []
   },
   "outputs": [
    {
     "output_type": "stream",
     "name": "stdout",
     "text": [
      "Shape of our data is (640, 9)\n",
      "Objective value at epoch t=0 is 0.6035711656650956.\n",
      "Objective value at epoch t=1 is 0.5229470605160603.\n",
      "Objective value at epoch t=2 is 0.4954449758724572.\n",
      "Objective value at epoch t=3 is 0.48206628845250926.\n",
      "Objective value at epoch t=4 is 0.4744151277342901.\n",
      "Objective value at epoch t=5 is 0.4698880914690398.\n",
      "Objective value at epoch t=6 is 0.466810570391468.\n",
      "Objective value at epoch t=7 is 0.4645742161119711.\n",
      "Objective value at epoch t=8 is 0.4629720561735386.\n",
      "Objective value at epoch t=9 is 0.461723170856328.\n",
      "Objective value at epoch t=10 is 0.46089458085107954.\n",
      "Objective value at epoch t=11 is 0.4601046837790116.\n",
      "Objective value at epoch t=12 is 0.4595265861251855.\n",
      "Objective value at epoch t=13 is 0.4590475692813568.\n",
      "Objective value at epoch t=14 is 0.4586387747847637.\n",
      "Objective value at epoch t=15 is 0.45826286033850855.\n",
      "Objective value at epoch t=16 is 0.45807068881028307.\n",
      "Objective value at epoch t=17 is 0.45774340356289545.\n",
      "Objective value at epoch t=18 is 0.45757708059637353.\n",
      "Objective value at epoch t=19 is 0.4573912782329194.\n",
      "Objective value at epoch t=20 is 0.45722618274024207.\n",
      "Objective value at epoch t=21 is 0.4571350745279627.\n",
      "Objective value at epoch t=22 is 0.45700008280154025.\n",
      "Objective value at epoch t=23 is 0.45687884976480725.\n",
      "Objective value at epoch t=24 is 0.4567973749983696.\n",
      "Objective value at epoch t=25 is 0.4567344857619128.\n",
      "Objective value at epoch t=26 is 0.45665900672604326.\n",
      "Objective value at epoch t=27 is 0.4566030109081384.\n",
      "Objective value at epoch t=28 is 0.45654489921713753.\n",
      "Objective value at epoch t=29 is 0.4565035571417024.\n",
      "Objective value at epoch t=30 is 0.45646103427031093.\n",
      "Objective value at epoch t=31 is 0.45641944843727494.\n",
      "Objective value at epoch t=32 is 0.4563875281704692.\n",
      "Objective value at epoch t=33 is 0.45637279504505235.\n",
      "Objective value at epoch t=34 is 0.4563282096297588.\n",
      "Objective value at epoch t=35 is 0.4563076713128062.\n",
      "Objective value at epoch t=36 is 0.4562844107364311.\n",
      "Objective value at epoch t=37 is 0.45626309246168056.\n",
      "Objective value at epoch t=38 is 0.4562451723102997.\n",
      "Objective value at epoch t=39 is 0.45623198914385377.\n",
      "Objective value at epoch t=40 is 0.45622018227920424.\n",
      "Objective value at epoch t=41 is 0.4562046450983468.\n",
      "Objective value at epoch t=42 is 0.45619399678302325.\n",
      "Objective value at epoch t=43 is 0.45618587833783764.\n",
      "Objective value at epoch t=44 is 0.4561766349316617.\n",
      "Objective value at epoch t=45 is 0.456168436370519.\n",
      "Objective value at epoch t=46 is 0.45616020706974025.\n",
      "Objective value at epoch t=47 is 0.45615322273589287.\n",
      "Objective value at epoch t=48 is 0.45614794718764334.\n",
      "Objective value at epoch t=49 is 0.4561428998957755.\n",
      "Objective value at epoch t=50 is 0.45613895017449557.\n",
      "Objective value at epoch t=51 is 0.45613340895732907.\n",
      "Objective value at epoch t=52 is 0.4561314044925582.\n",
      "Objective value at epoch t=53 is 0.456127823563916.\n",
      "Objective value at epoch t=54 is 0.45612271466319426.\n",
      "Objective value at epoch t=55 is 0.45612097478582625.\n",
      "Objective value at epoch t=56 is 0.45611829983992147.\n",
      "Objective value at epoch t=57 is 0.45611674637366856.\n",
      "Objective value at epoch t=58 is 0.4561145622557626.\n",
      "Objective value at epoch t=59 is 0.456112669434319.\n",
      "Objective value at epoch t=60 is 0.4561109800248742.\n",
      "Objective value at epoch t=61 is 0.4561098052856741.\n",
      "Objective value at epoch t=62 is 0.4561085630481282.\n",
      "Objective value at epoch t=63 is 0.45610725126118207.\n",
      "Objective value at epoch t=64 is 0.45610659099026674.\n",
      "Objective value at epoch t=65 is 0.45610536702733845.\n",
      "Objective value at epoch t=66 is 0.4561043908235426.\n",
      "Objective value at epoch t=67 is 0.4561034442037225.\n",
      "Objective value at epoch t=68 is 0.4561029177928912.\n",
      "Objective value at epoch t=69 is 0.45610201319987953.\n",
      "Objective value at epoch t=70 is 0.45610172456022247.\n",
      "Objective value at epoch t=71 is 0.4561012222775287.\n",
      "Objective value at epoch t=72 is 0.45610065461939964.\n",
      "Objective value at epoch t=73 is 0.4561002906480506.\n",
      "Objective value at epoch t=74 is 0.4560999787581945.\n",
      "Objective value at epoch t=75 is 0.45609964374388356.\n",
      "Objective value at epoch t=76 is 0.4560992020684858.\n",
      "Objective value at epoch t=77 is 0.4560989732732115.\n",
      "Objective value at epoch t=78 is 0.4560987368302841.\n",
      "Objective value at epoch t=79 is 0.45609853746375945.\n",
      "Objective value at epoch t=80 is 0.4560983545587168.\n",
      "Objective value at epoch t=81 is 0.4560981947800354.\n",
      "Objective value at epoch t=82 is 0.4560980104398055.\n",
      "Objective value at epoch t=83 is 0.456097859845745.\n",
      "Objective value at epoch t=84 is 0.4560977734346993.\n",
      "Objective value at epoch t=85 is 0.45609764533284036.\n",
      "Objective value at epoch t=86 is 0.4560975045433219.\n",
      "Objective value at epoch t=87 is 0.4560974562837871.\n",
      "Objective value at epoch t=88 is 0.45609736108083465.\n",
      "Objective value at epoch t=89 is 0.45609726164754827.\n",
      "Objective value at epoch t=90 is 0.45609719916003977.\n",
      "Objective value at epoch t=91 is 0.4560971493422913.\n",
      "Objective value at epoch t=92 is 0.4560970934690677.\n",
      "Objective value at epoch t=93 is 0.456097047799265.\n",
      "Objective value at epoch t=94 is 0.4560969935154839.\n",
      "Objective value at epoch t=95 is 0.4560969477400397.\n",
      "Objective value at epoch t=96 is 0.45609691508632605.\n",
      "Objective value at epoch t=97 is 0.456096880709261.\n",
      "Objective value at epoch t=98 is 0.4560968520638287.\n",
      "Objective value at epoch t=99 is 0.4560968297395365.\n"
     ]
    }
   ],
   "source": [
    "# MB-SGD with batch size b=8\n",
    "lam = 1E-6 # do not change\n",
    "b = 8 # do not change\n",
    "stepsize = 0.028 # you must tune this parameter\n",
    "\n",
    "w, objvals_mbsgd8 = mb_sgd(x_train, y_train, lam, b, stepsize)"
   ]
  },
  {
   "cell_type": "code",
   "execution_count": 20,
   "metadata": {
    "tags": []
   },
   "outputs": [
    {
     "output_type": "stream",
     "name": "stdout",
     "text": [
      "Shape of our data is (640, 9)\n",
      "Objective value at epoch t=0 is 0.6039506353832663.\n",
      "Objective value at epoch t=1 is 0.5173827973761366.\n",
      "Objective value at epoch t=2 is 0.4919936645503027.\n",
      "Objective value at epoch t=3 is 0.4788235594529399.\n",
      "Objective value at epoch t=4 is 0.4719805384208985.\n",
      "Objective value at epoch t=5 is 0.46777879511618803.\n",
      "Objective value at epoch t=6 is 0.4654052938428971.\n",
      "Objective value at epoch t=7 is 0.4632846672763149.\n",
      "Objective value at epoch t=8 is 0.4614945211959388.\n",
      "Objective value at epoch t=9 is 0.46046812060319536.\n",
      "Objective value at epoch t=10 is 0.4595798733926208.\n",
      "Objective value at epoch t=11 is 0.45932186914687.\n",
      "Objective value at epoch t=12 is 0.4586594948869891.\n",
      "Objective value at epoch t=13 is 0.4579965482953092.\n",
      "Objective value at epoch t=14 is 0.45775044696956924.\n",
      "Objective value at epoch t=15 is 0.45741224717844686.\n",
      "Objective value at epoch t=16 is 0.4571908109358098.\n",
      "Objective value at epoch t=17 is 0.4569925773470547.\n",
      "Objective value at epoch t=18 is 0.4569867024375531.\n",
      "Objective value at epoch t=19 is 0.4566853670498673.\n",
      "Objective value at epoch t=20 is 0.45658400846174263.\n",
      "Objective value at epoch t=21 is 0.45656772479342367.\n",
      "Objective value at epoch t=22 is 0.45641244375023327.\n",
      "Objective value at epoch t=23 is 0.45636975813006486.\n",
      "Objective value at epoch t=24 is 0.456277802446324.\n",
      "Objective value at epoch t=25 is 0.45615849861756264.\n",
      "Objective value at epoch t=26 is 0.4561202431498813.\n",
      "Objective value at epoch t=27 is 0.456089570246253.\n",
      "Objective value at epoch t=28 is 0.4560199594798754.\n",
      "Objective value at epoch t=29 is 0.4560075856143887.\n",
      "Objective value at epoch t=30 is 0.45594654960360925.\n",
      "Objective value at epoch t=31 is 0.4559181945332481.\n",
      "Objective value at epoch t=32 is 0.4559060416533048.\n",
      "Objective value at epoch t=33 is 0.4558794844302846.\n",
      "Objective value at epoch t=34 is 0.45587248584713.\n",
      "Objective value at epoch t=35 is 0.4558460415196439.\n",
      "Objective value at epoch t=36 is 0.455815850834437.\n",
      "Objective value at epoch t=37 is 0.4557947999235704.\n",
      "Objective value at epoch t=38 is 0.4557836089621598.\n",
      "Objective value at epoch t=39 is 0.4557708493358609.\n",
      "Objective value at epoch t=40 is 0.4557523109316476.\n",
      "Objective value at epoch t=41 is 0.455751411383163.\n",
      "Objective value at epoch t=42 is 0.45574478909117333.\n",
      "Objective value at epoch t=43 is 0.4557290427173822.\n",
      "Objective value at epoch t=44 is 0.4557208033396951.\n",
      "Objective value at epoch t=45 is 0.4557141760616097.\n",
      "Objective value at epoch t=46 is 0.45570933825951265.\n",
      "Objective value at epoch t=47 is 0.4556990026083317.\n",
      "Objective value at epoch t=48 is 0.4556976490595141.\n",
      "Objective value at epoch t=49 is 0.45569649047722177.\n",
      "Objective value at epoch t=50 is 0.4556889684788429.\n",
      "Objective value at epoch t=51 is 0.4556883207805938.\n",
      "Objective value at epoch t=52 is 0.45568248417171187.\n",
      "Objective value at epoch t=53 is 0.45568055919069306.\n",
      "Objective value at epoch t=54 is 0.4556789822758326.\n",
      "Objective value at epoch t=55 is 0.4556755407583036.\n",
      "Objective value at epoch t=56 is 0.4556736427244993.\n",
      "Objective value at epoch t=57 is 0.4556711312236191.\n",
      "Objective value at epoch t=58 is 0.4556681859863881.\n",
      "Objective value at epoch t=59 is 0.45566856353154.\n",
      "Objective value at epoch t=60 is 0.4556661414815356.\n",
      "Objective value at epoch t=61 is 0.45566595045551744.\n",
      "Objective value at epoch t=62 is 0.45566496696529396.\n",
      "Objective value at epoch t=63 is 0.4556631239668369.\n",
      "Objective value at epoch t=64 is 0.4556618264645483.\n",
      "Objective value at epoch t=65 is 0.4556614502302533.\n",
      "Objective value at epoch t=66 is 0.45566090411128785.\n",
      "Objective value at epoch t=67 is 0.4556595802511653.\n",
      "Objective value at epoch t=68 is 0.45565993446933045.\n",
      "Objective value at epoch t=69 is 0.45565914986698586.\n",
      "Objective value at epoch t=70 is 0.4556589541989484.\n",
      "Objective value at epoch t=71 is 0.4556578612759168.\n",
      "Objective value at epoch t=72 is 0.4556577418058737.\n",
      "Objective value at epoch t=73 is 0.45565730054706277.\n",
      "Objective value at epoch t=74 is 0.45565718038781566.\n",
      "Objective value at epoch t=75 is 0.4556570481179814.\n",
      "Objective value at epoch t=76 is 0.45565656492318335.\n",
      "Objective value at epoch t=77 is 0.4556564149321793.\n",
      "Objective value at epoch t=78 is 0.4556560552303394.\n",
      "Objective value at epoch t=79 is 0.45565610390309585.\n",
      "Objective value at epoch t=80 is 0.45565582169640795.\n",
      "Objective value at epoch t=81 is 0.4556557744990502.\n",
      "Objective value at epoch t=82 is 0.4556555021751958.\n",
      "Objective value at epoch t=83 is 0.4556555412031636.\n",
      "Objective value at epoch t=84 is 0.45565533333345415.\n",
      "Objective value at epoch t=85 is 0.455655233505359.\n",
      "Objective value at epoch t=86 is 0.4556551343232571.\n",
      "Objective value at epoch t=87 is 0.4556551223037547.\n",
      "Objective value at epoch t=88 is 0.4556549758250462.\n",
      "Objective value at epoch t=89 is 0.4556549456893288.\n",
      "Objective value at epoch t=90 is 0.455654895434602.\n",
      "Objective value at epoch t=91 is 0.45565485303771947.\n",
      "Objective value at epoch t=92 is 0.45565475087895224.\n",
      "Objective value at epoch t=93 is 0.4556547505026602.\n",
      "Objective value at epoch t=94 is 0.4556546605487181.\n",
      "Objective value at epoch t=95 is 0.45565467655160097.\n",
      "Objective value at epoch t=96 is 0.4556546232700713.\n",
      "Objective value at epoch t=97 is 0.4556545728089132.\n",
      "Objective value at epoch t=98 is 0.45565456450746833.\n",
      "Objective value at epoch t=99 is 0.45565454466651173.\n"
     ]
    }
   ],
   "source": [
    "# MB-SGD with batch size b=64\n",
    "lam = 1E-6 # do not change\n",
    "b = 64 # do not change\n",
    "stepsize = 0.24 # you must tune this parameter\n",
    "\n",
    "w, objvals_mbsgd64 = mb_sgd(x_train, y_train, lam, b, stepsize)"
   ]
  },
  {
   "cell_type": "markdown",
   "metadata": {},
   "source": [
    "# 7. Plot and compare GD, SGD, and MB-SGD"
   ]
  },
  {
   "cell_type": "markdown",
   "metadata": {},
   "source": [
    "You are required to compare the following algorithms:\n",
    "\n",
    "- Gradient descent (GD)\n",
    "\n",
    "- SGD\n",
    "\n",
    "- MB-SGD with b=8\n",
    "\n",
    "- MB-SGD with b=64\n",
    "\n",
    "Follow the code in Section 4 to plot ```objective function value``` against ```epochs```. There should be four curves in the plot; each curve corresponds to one algorithm."
   ]
  },
  {
   "cell_type": "markdown",
   "metadata": {},
   "source": [
    "Hint: Logistic regression with $\\ell_2$-norm regularization is a strongly convex optimization problem. All the algorithms will converge to the same solution. **In the end, the ``objective function value`` of the 4 algorithms will be the same. If not the same, your implementation must be wrong. Do NOT submit wrong code and wrong result!**"
   ]
  },
  {
   "cell_type": "code",
   "execution_count": 21,
   "metadata": {},
   "outputs": [
    {
     "output_type": "display_data",
     "data": {
      "text/plain": "<Figure size 432x288 with 1 Axes>",
      "image/svg+xml": "<?xml version=\"1.0\" encoding=\"utf-8\" standalone=\"no\"?>\n<!DOCTYPE svg PUBLIC \"-//W3C//DTD SVG 1.1//EN\"\n  \"http://www.w3.org/Graphics/SVG/1.1/DTD/svg11.dtd\">\n<!-- Created with matplotlib (https://matplotlib.org/) -->\n<svg height=\"281.677887pt\" version=\"1.1\" viewBox=\"0 0 425.047572 281.677887\" width=\"425.047572pt\" xmlns=\"http://www.w3.org/2000/svg\" xmlns:xlink=\"http://www.w3.org/1999/xlink\">\n <metadata>\n  <rdf:RDF xmlns:cc=\"http://creativecommons.org/ns#\" xmlns:dc=\"http://purl.org/dc/elements/1.1/\" xmlns:rdf=\"http://www.w3.org/1999/02/22-rdf-syntax-ns#\">\n   <cc:Work>\n    <dc:type rdf:resource=\"http://purl.org/dc/dcmitype/StillImage\"/>\n    <dc:date>2021-03-07T09:32:47.563876</dc:date>\n    <dc:format>image/svg+xml</dc:format>\n    <dc:creator>\n     <cc:Agent>\n      <dc:title>Matplotlib v3.3.4, https://matplotlib.org/</dc:title>\n     </cc:Agent>\n    </dc:creator>\n   </cc:Work>\n  </rdf:RDF>\n </metadata>\n <defs>\n  <style type=\"text/css\">*{stroke-linecap:butt;stroke-linejoin:round;}</style>\n </defs>\n <g id=\"figure_1\">\n  <g id=\"patch_1\">\n   <path d=\"M 0 281.677887 \nL 425.047572 281.677887 \nL 425.047572 0 \nL 0 0 \nz\n\" style=\"fill:none;\"/>\n  </g>\n  <g id=\"axes_1\">\n   <g id=\"patch_2\">\n    <path d=\"M 73.18125 228.636637 \nL 414.975052 228.636637 \nL 414.975052 9.023295 \nL 73.18125 9.023295 \nz\n\" style=\"fill:#ffffff;\"/>\n   </g>\n   <g id=\"matplotlib.axis_1\">\n    <g id=\"xtick_1\">\n     <g id=\"line2d_1\">\n      <defs>\n       <path d=\"M 0 0 \nL 0 3.5 \n\" id=\"m5afe727732\" style=\"stroke:#000000;stroke-width:0.8;\"/>\n      </defs>\n      <g>\n       <use style=\"stroke:#000000;stroke-width:0.8;\" x=\"88.717332\" xlink:href=\"#m5afe727732\" y=\"228.636637\"/>\n      </g>\n     </g>\n     <g id=\"text_1\">\n      <!-- 0 -->\n      <g transform=\"translate(83.627332 247.794137)scale(0.16 -0.16)\">\n       <defs>\n        <path d=\"M 31.78125 66.40625 \nQ 24.171875 66.40625 20.328125 58.90625 \nQ 16.5 51.421875 16.5 36.375 \nQ 16.5 21.390625 20.328125 13.890625 \nQ 24.171875 6.390625 31.78125 6.390625 \nQ 39.453125 6.390625 43.28125 13.890625 \nQ 47.125 21.390625 47.125 36.375 \nQ 47.125 51.421875 43.28125 58.90625 \nQ 39.453125 66.40625 31.78125 66.40625 \nz\nM 31.78125 74.21875 \nQ 44.046875 74.21875 50.515625 64.515625 \nQ 56.984375 54.828125 56.984375 36.375 \nQ 56.984375 17.96875 50.515625 8.265625 \nQ 44.046875 -1.421875 31.78125 -1.421875 \nQ 19.53125 -1.421875 13.0625 8.265625 \nQ 6.59375 17.96875 6.59375 36.375 \nQ 6.59375 54.828125 13.0625 64.515625 \nQ 19.53125 74.21875 31.78125 74.21875 \nz\n\" id=\"DejaVuSans-48\"/>\n       </defs>\n       <use xlink:href=\"#DejaVuSans-48\"/>\n      </g>\n     </g>\n    </g>\n    <g id=\"xtick_2\">\n     <g id=\"line2d_2\">\n      <g>\n       <use style=\"stroke:#000000;stroke-width:0.8;\" x=\"151.48938\" xlink:href=\"#m5afe727732\" y=\"228.636637\"/>\n      </g>\n     </g>\n     <g id=\"text_2\">\n      <!-- 20 -->\n      <g transform=\"translate(141.30938 247.794137)scale(0.16 -0.16)\">\n       <defs>\n        <path d=\"M 19.1875 8.296875 \nL 53.609375 8.296875 \nL 53.609375 0 \nL 7.328125 0 \nL 7.328125 8.296875 \nQ 12.9375 14.109375 22.625 23.890625 \nQ 32.328125 33.6875 34.8125 36.53125 \nQ 39.546875 41.84375 41.421875 45.53125 \nQ 43.3125 49.21875 43.3125 52.78125 \nQ 43.3125 58.59375 39.234375 62.25 \nQ 35.15625 65.921875 28.609375 65.921875 \nQ 23.96875 65.921875 18.8125 64.3125 \nQ 13.671875 62.703125 7.8125 59.421875 \nL 7.8125 69.390625 \nQ 13.765625 71.78125 18.9375 73 \nQ 24.125 74.21875 28.421875 74.21875 \nQ 39.75 74.21875 46.484375 68.546875 \nQ 53.21875 62.890625 53.21875 53.421875 \nQ 53.21875 48.921875 51.53125 44.890625 \nQ 49.859375 40.875 45.40625 35.40625 \nQ 44.1875 33.984375 37.640625 27.21875 \nQ 31.109375 20.453125 19.1875 8.296875 \nz\n\" id=\"DejaVuSans-50\"/>\n       </defs>\n       <use xlink:href=\"#DejaVuSans-50\"/>\n       <use x=\"63.623047\" xlink:href=\"#DejaVuSans-48\"/>\n      </g>\n     </g>\n    </g>\n    <g id=\"xtick_3\">\n     <g id=\"line2d_3\">\n      <g>\n       <use style=\"stroke:#000000;stroke-width:0.8;\" x=\"214.261428\" xlink:href=\"#m5afe727732\" y=\"228.636637\"/>\n      </g>\n     </g>\n     <g id=\"text_3\">\n      <!-- 40 -->\n      <g transform=\"translate(204.081428 247.794137)scale(0.16 -0.16)\">\n       <defs>\n        <path d=\"M 37.796875 64.3125 \nL 12.890625 25.390625 \nL 37.796875 25.390625 \nz\nM 35.203125 72.90625 \nL 47.609375 72.90625 \nL 47.609375 25.390625 \nL 58.015625 25.390625 \nL 58.015625 17.1875 \nL 47.609375 17.1875 \nL 47.609375 0 \nL 37.796875 0 \nL 37.796875 17.1875 \nL 4.890625 17.1875 \nL 4.890625 26.703125 \nz\n\" id=\"DejaVuSans-52\"/>\n       </defs>\n       <use xlink:href=\"#DejaVuSans-52\"/>\n       <use x=\"63.623047\" xlink:href=\"#DejaVuSans-48\"/>\n      </g>\n     </g>\n    </g>\n    <g id=\"xtick_4\">\n     <g id=\"line2d_4\">\n      <g>\n       <use style=\"stroke:#000000;stroke-width:0.8;\" x=\"277.033476\" xlink:href=\"#m5afe727732\" y=\"228.636637\"/>\n      </g>\n     </g>\n     <g id=\"text_4\">\n      <!-- 60 -->\n      <g transform=\"translate(266.853476 247.794137)scale(0.16 -0.16)\">\n       <defs>\n        <path d=\"M 33.015625 40.375 \nQ 26.375 40.375 22.484375 35.828125 \nQ 18.609375 31.296875 18.609375 23.390625 \nQ 18.609375 15.53125 22.484375 10.953125 \nQ 26.375 6.390625 33.015625 6.390625 \nQ 39.65625 6.390625 43.53125 10.953125 \nQ 47.40625 15.53125 47.40625 23.390625 \nQ 47.40625 31.296875 43.53125 35.828125 \nQ 39.65625 40.375 33.015625 40.375 \nz\nM 52.59375 71.296875 \nL 52.59375 62.3125 \nQ 48.875 64.0625 45.09375 64.984375 \nQ 41.3125 65.921875 37.59375 65.921875 \nQ 27.828125 65.921875 22.671875 59.328125 \nQ 17.53125 52.734375 16.796875 39.40625 \nQ 19.671875 43.65625 24.015625 45.921875 \nQ 28.375 48.1875 33.59375 48.1875 \nQ 44.578125 48.1875 50.953125 41.515625 \nQ 57.328125 34.859375 57.328125 23.390625 \nQ 57.328125 12.15625 50.6875 5.359375 \nQ 44.046875 -1.421875 33.015625 -1.421875 \nQ 20.359375 -1.421875 13.671875 8.265625 \nQ 6.984375 17.96875 6.984375 36.375 \nQ 6.984375 53.65625 15.1875 63.9375 \nQ 23.390625 74.21875 37.203125 74.21875 \nQ 40.921875 74.21875 44.703125 73.484375 \nQ 48.484375 72.75 52.59375 71.296875 \nz\n\" id=\"DejaVuSans-54\"/>\n       </defs>\n       <use xlink:href=\"#DejaVuSans-54\"/>\n       <use x=\"63.623047\" xlink:href=\"#DejaVuSans-48\"/>\n      </g>\n     </g>\n    </g>\n    <g id=\"xtick_5\">\n     <g id=\"line2d_5\">\n      <g>\n       <use style=\"stroke:#000000;stroke-width:0.8;\" x=\"339.805524\" xlink:href=\"#m5afe727732\" y=\"228.636637\"/>\n      </g>\n     </g>\n     <g id=\"text_5\">\n      <!-- 80 -->\n      <g transform=\"translate(329.625524 247.794137)scale(0.16 -0.16)\">\n       <defs>\n        <path d=\"M 31.78125 34.625 \nQ 24.75 34.625 20.71875 30.859375 \nQ 16.703125 27.09375 16.703125 20.515625 \nQ 16.703125 13.921875 20.71875 10.15625 \nQ 24.75 6.390625 31.78125 6.390625 \nQ 38.8125 6.390625 42.859375 10.171875 \nQ 46.921875 13.96875 46.921875 20.515625 \nQ 46.921875 27.09375 42.890625 30.859375 \nQ 38.875 34.625 31.78125 34.625 \nz\nM 21.921875 38.8125 \nQ 15.578125 40.375 12.03125 44.71875 \nQ 8.5 49.078125 8.5 55.328125 \nQ 8.5 64.0625 14.71875 69.140625 \nQ 20.953125 74.21875 31.78125 74.21875 \nQ 42.671875 74.21875 48.875 69.140625 \nQ 55.078125 64.0625 55.078125 55.328125 \nQ 55.078125 49.078125 51.53125 44.71875 \nQ 48 40.375 41.703125 38.8125 \nQ 48.828125 37.15625 52.796875 32.3125 \nQ 56.78125 27.484375 56.78125 20.515625 \nQ 56.78125 9.90625 50.3125 4.234375 \nQ 43.84375 -1.421875 31.78125 -1.421875 \nQ 19.734375 -1.421875 13.25 4.234375 \nQ 6.78125 9.90625 6.78125 20.515625 \nQ 6.78125 27.484375 10.78125 32.3125 \nQ 14.796875 37.15625 21.921875 38.8125 \nz\nM 18.3125 54.390625 \nQ 18.3125 48.734375 21.84375 45.5625 \nQ 25.390625 42.390625 31.78125 42.390625 \nQ 38.140625 42.390625 41.71875 45.5625 \nQ 45.3125 48.734375 45.3125 54.390625 \nQ 45.3125 60.0625 41.71875 63.234375 \nQ 38.140625 66.40625 31.78125 66.40625 \nQ 25.390625 66.40625 21.84375 63.234375 \nQ 18.3125 60.0625 18.3125 54.390625 \nz\n\" id=\"DejaVuSans-56\"/>\n       </defs>\n       <use xlink:href=\"#DejaVuSans-56\"/>\n       <use x=\"63.623047\" xlink:href=\"#DejaVuSans-48\"/>\n      </g>\n     </g>\n    </g>\n    <g id=\"xtick_6\">\n     <g id=\"line2d_6\">\n      <g>\n       <use style=\"stroke:#000000;stroke-width:0.8;\" x=\"402.577572\" xlink:href=\"#m5afe727732\" y=\"228.636637\"/>\n      </g>\n     </g>\n     <g id=\"text_6\">\n      <!-- 100 -->\n      <g transform=\"translate(387.307572 247.794137)scale(0.16 -0.16)\">\n       <defs>\n        <path d=\"M 12.40625 8.296875 \nL 28.515625 8.296875 \nL 28.515625 63.921875 \nL 10.984375 60.40625 \nL 10.984375 69.390625 \nL 28.421875 72.90625 \nL 38.28125 72.90625 \nL 38.28125 8.296875 \nL 54.390625 8.296875 \nL 54.390625 0 \nL 12.40625 0 \nz\n\" id=\"DejaVuSans-49\"/>\n       </defs>\n       <use xlink:href=\"#DejaVuSans-49\"/>\n       <use x=\"63.623047\" xlink:href=\"#DejaVuSans-48\"/>\n       <use x=\"127.246094\" xlink:href=\"#DejaVuSans-48\"/>\n      </g>\n     </g>\n    </g>\n    <g id=\"text_7\">\n     <!-- Epochs -->\n     <g transform=\"translate(208.246901 270.318512)scale(0.2 -0.2)\">\n      <defs>\n       <path d=\"M 9.8125 72.90625 \nL 55.90625 72.90625 \nL 55.90625 64.59375 \nL 19.671875 64.59375 \nL 19.671875 43.015625 \nL 54.390625 43.015625 \nL 54.390625 34.71875 \nL 19.671875 34.71875 \nL 19.671875 8.296875 \nL 56.78125 8.296875 \nL 56.78125 0 \nL 9.8125 0 \nz\n\" id=\"DejaVuSans-69\"/>\n       <path d=\"M 18.109375 8.203125 \nL 18.109375 -20.796875 \nL 9.078125 -20.796875 \nL 9.078125 54.6875 \nL 18.109375 54.6875 \nL 18.109375 46.390625 \nQ 20.953125 51.265625 25.265625 53.625 \nQ 29.59375 56 35.59375 56 \nQ 45.5625 56 51.78125 48.09375 \nQ 58.015625 40.1875 58.015625 27.296875 \nQ 58.015625 14.40625 51.78125 6.484375 \nQ 45.5625 -1.421875 35.59375 -1.421875 \nQ 29.59375 -1.421875 25.265625 0.953125 \nQ 20.953125 3.328125 18.109375 8.203125 \nz\nM 48.6875 27.296875 \nQ 48.6875 37.203125 44.609375 42.84375 \nQ 40.53125 48.484375 33.40625 48.484375 \nQ 26.265625 48.484375 22.1875 42.84375 \nQ 18.109375 37.203125 18.109375 27.296875 \nQ 18.109375 17.390625 22.1875 11.75 \nQ 26.265625 6.109375 33.40625 6.109375 \nQ 40.53125 6.109375 44.609375 11.75 \nQ 48.6875 17.390625 48.6875 27.296875 \nz\n\" id=\"DejaVuSans-112\"/>\n       <path d=\"M 30.609375 48.390625 \nQ 23.390625 48.390625 19.1875 42.75 \nQ 14.984375 37.109375 14.984375 27.296875 \nQ 14.984375 17.484375 19.15625 11.84375 \nQ 23.34375 6.203125 30.609375 6.203125 \nQ 37.796875 6.203125 41.984375 11.859375 \nQ 46.1875 17.53125 46.1875 27.296875 \nQ 46.1875 37.015625 41.984375 42.703125 \nQ 37.796875 48.390625 30.609375 48.390625 \nz\nM 30.609375 56 \nQ 42.328125 56 49.015625 48.375 \nQ 55.71875 40.765625 55.71875 27.296875 \nQ 55.71875 13.875 49.015625 6.21875 \nQ 42.328125 -1.421875 30.609375 -1.421875 \nQ 18.84375 -1.421875 12.171875 6.21875 \nQ 5.515625 13.875 5.515625 27.296875 \nQ 5.515625 40.765625 12.171875 48.375 \nQ 18.84375 56 30.609375 56 \nz\n\" id=\"DejaVuSans-111\"/>\n       <path d=\"M 48.78125 52.59375 \nL 48.78125 44.1875 \nQ 44.96875 46.296875 41.140625 47.34375 \nQ 37.3125 48.390625 33.40625 48.390625 \nQ 24.65625 48.390625 19.8125 42.84375 \nQ 14.984375 37.3125 14.984375 27.296875 \nQ 14.984375 17.28125 19.8125 11.734375 \nQ 24.65625 6.203125 33.40625 6.203125 \nQ 37.3125 6.203125 41.140625 7.25 \nQ 44.96875 8.296875 48.78125 10.40625 \nL 48.78125 2.09375 \nQ 45.015625 0.34375 40.984375 -0.53125 \nQ 36.96875 -1.421875 32.421875 -1.421875 \nQ 20.0625 -1.421875 12.78125 6.34375 \nQ 5.515625 14.109375 5.515625 27.296875 \nQ 5.515625 40.671875 12.859375 48.328125 \nQ 20.21875 56 33.015625 56 \nQ 37.15625 56 41.109375 55.140625 \nQ 45.0625 54.296875 48.78125 52.59375 \nz\n\" id=\"DejaVuSans-99\"/>\n       <path d=\"M 54.890625 33.015625 \nL 54.890625 0 \nL 45.90625 0 \nL 45.90625 32.71875 \nQ 45.90625 40.484375 42.875 44.328125 \nQ 39.84375 48.1875 33.796875 48.1875 \nQ 26.515625 48.1875 22.3125 43.546875 \nQ 18.109375 38.921875 18.109375 30.90625 \nL 18.109375 0 \nL 9.078125 0 \nL 9.078125 75.984375 \nL 18.109375 75.984375 \nL 18.109375 46.1875 \nQ 21.34375 51.125 25.703125 53.5625 \nQ 30.078125 56 35.796875 56 \nQ 45.21875 56 50.046875 50.171875 \nQ 54.890625 44.34375 54.890625 33.015625 \nz\n\" id=\"DejaVuSans-104\"/>\n       <path d=\"M 44.28125 53.078125 \nL 44.28125 44.578125 \nQ 40.484375 46.53125 36.375 47.5 \nQ 32.28125 48.484375 27.875 48.484375 \nQ 21.1875 48.484375 17.84375 46.4375 \nQ 14.5 44.390625 14.5 40.28125 \nQ 14.5 37.15625 16.890625 35.375 \nQ 19.28125 33.59375 26.515625 31.984375 \nL 29.59375 31.296875 \nQ 39.15625 29.25 43.1875 25.515625 \nQ 47.21875 21.78125 47.21875 15.09375 \nQ 47.21875 7.46875 41.1875 3.015625 \nQ 35.15625 -1.421875 24.609375 -1.421875 \nQ 20.21875 -1.421875 15.453125 -0.5625 \nQ 10.6875 0.296875 5.421875 2 \nL 5.421875 11.28125 \nQ 10.40625 8.6875 15.234375 7.390625 \nQ 20.0625 6.109375 24.8125 6.109375 \nQ 31.15625 6.109375 34.5625 8.28125 \nQ 37.984375 10.453125 37.984375 14.40625 \nQ 37.984375 18.0625 35.515625 20.015625 \nQ 33.0625 21.96875 24.703125 23.78125 \nL 21.578125 24.515625 \nQ 13.234375 26.265625 9.515625 29.90625 \nQ 5.8125 33.546875 5.8125 39.890625 \nQ 5.8125 47.609375 11.28125 51.796875 \nQ 16.75 56 26.8125 56 \nQ 31.78125 56 36.171875 55.265625 \nQ 40.578125 54.546875 44.28125 53.078125 \nz\n\" id=\"DejaVuSans-115\"/>\n      </defs>\n      <use xlink:href=\"#DejaVuSans-69\"/>\n      <use x=\"63.183594\" xlink:href=\"#DejaVuSans-112\"/>\n      <use x=\"126.660156\" xlink:href=\"#DejaVuSans-111\"/>\n      <use x=\"187.841797\" xlink:href=\"#DejaVuSans-99\"/>\n      <use x=\"242.822266\" xlink:href=\"#DejaVuSans-104\"/>\n      <use x=\"306.201172\" xlink:href=\"#DejaVuSans-115\"/>\n     </g>\n    </g>\n   </g>\n   <g id=\"matplotlib.axis_2\">\n    <g id=\"ytick_1\">\n     <g id=\"line2d_7\">\n      <defs>\n       <path d=\"M 0 0 \nL -3.5 0 \n\" id=\"m5381fb55df\" style=\"stroke:#000000;stroke-width:0.8;\"/>\n      </defs>\n      <g>\n       <use style=\"stroke:#000000;stroke-width:0.8;\" x=\"73.18125\" xlink:href=\"#m5381fb55df\" y=\"222.206247\"/>\n      </g>\n     </g>\n     <g id=\"text_8\">\n      <!-- 0.45 -->\n      <g transform=\"translate(30.55625 228.284997)scale(0.16 -0.16)\">\n       <defs>\n        <path d=\"M 10.6875 12.40625 \nL 21 12.40625 \nL 21 0 \nL 10.6875 0 \nz\n\" id=\"DejaVuSans-46\"/>\n        <path d=\"M 10.796875 72.90625 \nL 49.515625 72.90625 \nL 49.515625 64.59375 \nL 19.828125 64.59375 \nL 19.828125 46.734375 \nQ 21.96875 47.46875 24.109375 47.828125 \nQ 26.265625 48.1875 28.421875 48.1875 \nQ 40.625 48.1875 47.75 41.5 \nQ 54.890625 34.8125 54.890625 23.390625 \nQ 54.890625 11.625 47.5625 5.09375 \nQ 40.234375 -1.421875 26.90625 -1.421875 \nQ 22.3125 -1.421875 17.546875 -0.640625 \nQ 12.796875 0.140625 7.71875 1.703125 \nL 7.71875 11.625 \nQ 12.109375 9.234375 16.796875 8.0625 \nQ 21.484375 6.890625 26.703125 6.890625 \nQ 35.15625 6.890625 40.078125 11.328125 \nQ 45.015625 15.765625 45.015625 23.390625 \nQ 45.015625 31 40.078125 35.4375 \nQ 35.15625 39.890625 26.703125 39.890625 \nQ 22.75 39.890625 18.8125 39.015625 \nQ 14.890625 38.140625 10.796875 36.28125 \nz\n\" id=\"DejaVuSans-53\"/>\n       </defs>\n       <use xlink:href=\"#DejaVuSans-48\"/>\n       <use x=\"63.623047\" xlink:href=\"#DejaVuSans-46\"/>\n       <use x=\"95.410156\" xlink:href=\"#DejaVuSans-52\"/>\n       <use x=\"159.033203\" xlink:href=\"#DejaVuSans-53\"/>\n      </g>\n     </g>\n    </g>\n    <g id=\"ytick_2\">\n     <g id=\"line2d_8\">\n      <g>\n       <use style=\"stroke:#000000;stroke-width:0.8;\" x=\"73.18125\" xlink:href=\"#m5381fb55df\" y=\"180.420747\"/>\n      </g>\n     </g>\n     <g id=\"text_9\">\n      <!-- 0.50 -->\n      <g transform=\"translate(30.55625 186.499497)scale(0.16 -0.16)\">\n       <use xlink:href=\"#DejaVuSans-48\"/>\n       <use x=\"63.623047\" xlink:href=\"#DejaVuSans-46\"/>\n       <use x=\"95.410156\" xlink:href=\"#DejaVuSans-53\"/>\n       <use x=\"159.033203\" xlink:href=\"#DejaVuSans-48\"/>\n      </g>\n     </g>\n    </g>\n    <g id=\"ytick_3\">\n     <g id=\"line2d_9\">\n      <g>\n       <use style=\"stroke:#000000;stroke-width:0.8;\" x=\"73.18125\" xlink:href=\"#m5381fb55df\" y=\"138.635248\"/>\n      </g>\n     </g>\n     <g id=\"text_10\">\n      <!-- 0.55 -->\n      <g transform=\"translate(30.55625 144.713998)scale(0.16 -0.16)\">\n       <use xlink:href=\"#DejaVuSans-48\"/>\n       <use x=\"63.623047\" xlink:href=\"#DejaVuSans-46\"/>\n       <use x=\"95.410156\" xlink:href=\"#DejaVuSans-53\"/>\n       <use x=\"159.033203\" xlink:href=\"#DejaVuSans-53\"/>\n      </g>\n     </g>\n    </g>\n    <g id=\"ytick_4\">\n     <g id=\"line2d_10\">\n      <g>\n       <use style=\"stroke:#000000;stroke-width:0.8;\" x=\"73.18125\" xlink:href=\"#m5381fb55df\" y=\"96.849749\"/>\n      </g>\n     </g>\n     <g id=\"text_11\">\n      <!-- 0.60 -->\n      <g transform=\"translate(30.55625 102.928499)scale(0.16 -0.16)\">\n       <use xlink:href=\"#DejaVuSans-48\"/>\n       <use x=\"63.623047\" xlink:href=\"#DejaVuSans-46\"/>\n       <use x=\"95.410156\" xlink:href=\"#DejaVuSans-54\"/>\n       <use x=\"159.033203\" xlink:href=\"#DejaVuSans-48\"/>\n      </g>\n     </g>\n    </g>\n    <g id=\"ytick_5\">\n     <g id=\"line2d_11\">\n      <g>\n       <use style=\"stroke:#000000;stroke-width:0.8;\" x=\"73.18125\" xlink:href=\"#m5381fb55df\" y=\"55.064249\"/>\n      </g>\n     </g>\n     <g id=\"text_12\">\n      <!-- 0.65 -->\n      <g transform=\"translate(30.55625 61.142999)scale(0.16 -0.16)\">\n       <use xlink:href=\"#DejaVuSans-48\"/>\n       <use x=\"63.623047\" xlink:href=\"#DejaVuSans-46\"/>\n       <use x=\"95.410156\" xlink:href=\"#DejaVuSans-54\"/>\n       <use x=\"159.033203\" xlink:href=\"#DejaVuSans-53\"/>\n      </g>\n     </g>\n    </g>\n    <g id=\"ytick_6\">\n     <g id=\"line2d_12\">\n      <g>\n       <use style=\"stroke:#000000;stroke-width:0.8;\" x=\"73.18125\" xlink:href=\"#m5381fb55df\" y=\"13.27875\"/>\n      </g>\n     </g>\n     <g id=\"text_13\">\n      <!-- 0.70 -->\n      <g transform=\"translate(30.55625 19.3575)scale(0.16 -0.16)\">\n       <defs>\n        <path d=\"M 8.203125 72.90625 \nL 55.078125 72.90625 \nL 55.078125 68.703125 \nL 28.609375 0 \nL 18.3125 0 \nL 43.21875 64.59375 \nL 8.203125 64.59375 \nz\n\" id=\"DejaVuSans-55\"/>\n       </defs>\n       <use xlink:href=\"#DejaVuSans-48\"/>\n       <use x=\"63.623047\" xlink:href=\"#DejaVuSans-46\"/>\n       <use x=\"95.410156\" xlink:href=\"#DejaVuSans-55\"/>\n       <use x=\"159.033203\" xlink:href=\"#DejaVuSans-48\"/>\n      </g>\n     </g>\n    </g>\n    <g id=\"text_14\">\n     <!-- Objective Value -->\n     <g transform=\"translate(22.396875 196.890904)rotate(-90)scale(0.2 -0.2)\">\n      <defs>\n       <path d=\"M 39.40625 66.21875 \nQ 28.65625 66.21875 22.328125 58.203125 \nQ 16.015625 50.203125 16.015625 36.375 \nQ 16.015625 22.609375 22.328125 14.59375 \nQ 28.65625 6.59375 39.40625 6.59375 \nQ 50.140625 6.59375 56.421875 14.59375 \nQ 62.703125 22.609375 62.703125 36.375 \nQ 62.703125 50.203125 56.421875 58.203125 \nQ 50.140625 66.21875 39.40625 66.21875 \nz\nM 39.40625 74.21875 \nQ 54.734375 74.21875 63.90625 63.9375 \nQ 73.09375 53.65625 73.09375 36.375 \nQ 73.09375 19.140625 63.90625 8.859375 \nQ 54.734375 -1.421875 39.40625 -1.421875 \nQ 24.03125 -1.421875 14.8125 8.828125 \nQ 5.609375 19.09375 5.609375 36.375 \nQ 5.609375 53.65625 14.8125 63.9375 \nQ 24.03125 74.21875 39.40625 74.21875 \nz\n\" id=\"DejaVuSans-79\"/>\n       <path d=\"M 48.6875 27.296875 \nQ 48.6875 37.203125 44.609375 42.84375 \nQ 40.53125 48.484375 33.40625 48.484375 \nQ 26.265625 48.484375 22.1875 42.84375 \nQ 18.109375 37.203125 18.109375 27.296875 \nQ 18.109375 17.390625 22.1875 11.75 \nQ 26.265625 6.109375 33.40625 6.109375 \nQ 40.53125 6.109375 44.609375 11.75 \nQ 48.6875 17.390625 48.6875 27.296875 \nz\nM 18.109375 46.390625 \nQ 20.953125 51.265625 25.265625 53.625 \nQ 29.59375 56 35.59375 56 \nQ 45.5625 56 51.78125 48.09375 \nQ 58.015625 40.1875 58.015625 27.296875 \nQ 58.015625 14.40625 51.78125 6.484375 \nQ 45.5625 -1.421875 35.59375 -1.421875 \nQ 29.59375 -1.421875 25.265625 0.953125 \nQ 20.953125 3.328125 18.109375 8.203125 \nL 18.109375 0 \nL 9.078125 0 \nL 9.078125 75.984375 \nL 18.109375 75.984375 \nz\n\" id=\"DejaVuSans-98\"/>\n       <path d=\"M 9.421875 54.6875 \nL 18.40625 54.6875 \nL 18.40625 -0.984375 \nQ 18.40625 -11.421875 14.421875 -16.109375 \nQ 10.453125 -20.796875 1.609375 -20.796875 \nL -1.8125 -20.796875 \nL -1.8125 -13.1875 \nL 0.59375 -13.1875 \nQ 5.71875 -13.1875 7.5625 -10.8125 \nQ 9.421875 -8.453125 9.421875 -0.984375 \nz\nM 9.421875 75.984375 \nL 18.40625 75.984375 \nL 18.40625 64.59375 \nL 9.421875 64.59375 \nz\n\" id=\"DejaVuSans-106\"/>\n       <path d=\"M 56.203125 29.59375 \nL 56.203125 25.203125 \nL 14.890625 25.203125 \nQ 15.484375 15.921875 20.484375 11.0625 \nQ 25.484375 6.203125 34.421875 6.203125 \nQ 39.59375 6.203125 44.453125 7.46875 \nQ 49.3125 8.734375 54.109375 11.28125 \nL 54.109375 2.78125 \nQ 49.265625 0.734375 44.1875 -0.34375 \nQ 39.109375 -1.421875 33.890625 -1.421875 \nQ 20.796875 -1.421875 13.15625 6.1875 \nQ 5.515625 13.8125 5.515625 26.8125 \nQ 5.515625 40.234375 12.765625 48.109375 \nQ 20.015625 56 32.328125 56 \nQ 43.359375 56 49.78125 48.890625 \nQ 56.203125 41.796875 56.203125 29.59375 \nz\nM 47.21875 32.234375 \nQ 47.125 39.59375 43.09375 43.984375 \nQ 39.0625 48.390625 32.421875 48.390625 \nQ 24.90625 48.390625 20.390625 44.140625 \nQ 15.875 39.890625 15.1875 32.171875 \nz\n\" id=\"DejaVuSans-101\"/>\n       <path d=\"M 18.3125 70.21875 \nL 18.3125 54.6875 \nL 36.8125 54.6875 \nL 36.8125 47.703125 \nL 18.3125 47.703125 \nL 18.3125 18.015625 \nQ 18.3125 11.328125 20.140625 9.421875 \nQ 21.96875 7.515625 27.59375 7.515625 \nL 36.8125 7.515625 \nL 36.8125 0 \nL 27.59375 0 \nQ 17.1875 0 13.234375 3.875 \nQ 9.28125 7.765625 9.28125 18.015625 \nL 9.28125 47.703125 \nL 2.6875 47.703125 \nL 2.6875 54.6875 \nL 9.28125 54.6875 \nL 9.28125 70.21875 \nz\n\" id=\"DejaVuSans-116\"/>\n       <path d=\"M 9.421875 54.6875 \nL 18.40625 54.6875 \nL 18.40625 0 \nL 9.421875 0 \nz\nM 9.421875 75.984375 \nL 18.40625 75.984375 \nL 18.40625 64.59375 \nL 9.421875 64.59375 \nz\n\" id=\"DejaVuSans-105\"/>\n       <path d=\"M 2.984375 54.6875 \nL 12.5 54.6875 \nL 29.59375 8.796875 \nL 46.6875 54.6875 \nL 56.203125 54.6875 \nL 35.6875 0 \nL 23.484375 0 \nz\n\" id=\"DejaVuSans-118\"/>\n       <path id=\"DejaVuSans-32\"/>\n       <path d=\"M 28.609375 0 \nL 0.78125 72.90625 \nL 11.078125 72.90625 \nL 34.1875 11.53125 \nL 57.328125 72.90625 \nL 67.578125 72.90625 \nL 39.796875 0 \nz\n\" id=\"DejaVuSans-86\"/>\n       <path d=\"M 34.28125 27.484375 \nQ 23.390625 27.484375 19.1875 25 \nQ 14.984375 22.515625 14.984375 16.5 \nQ 14.984375 11.71875 18.140625 8.90625 \nQ 21.296875 6.109375 26.703125 6.109375 \nQ 34.1875 6.109375 38.703125 11.40625 \nQ 43.21875 16.703125 43.21875 25.484375 \nL 43.21875 27.484375 \nz\nM 52.203125 31.203125 \nL 52.203125 0 \nL 43.21875 0 \nL 43.21875 8.296875 \nQ 40.140625 3.328125 35.546875 0.953125 \nQ 30.953125 -1.421875 24.3125 -1.421875 \nQ 15.921875 -1.421875 10.953125 3.296875 \nQ 6 8.015625 6 15.921875 \nQ 6 25.140625 12.171875 29.828125 \nQ 18.359375 34.515625 30.609375 34.515625 \nL 43.21875 34.515625 \nL 43.21875 35.40625 \nQ 43.21875 41.609375 39.140625 45 \nQ 35.0625 48.390625 27.6875 48.390625 \nQ 23 48.390625 18.546875 47.265625 \nQ 14.109375 46.140625 10.015625 43.890625 \nL 10.015625 52.203125 \nQ 14.9375 54.109375 19.578125 55.046875 \nQ 24.21875 56 28.609375 56 \nQ 40.484375 56 46.34375 49.84375 \nQ 52.203125 43.703125 52.203125 31.203125 \nz\n\" id=\"DejaVuSans-97\"/>\n       <path d=\"M 9.421875 75.984375 \nL 18.40625 75.984375 \nL 18.40625 0 \nL 9.421875 0 \nz\n\" id=\"DejaVuSans-108\"/>\n       <path d=\"M 8.5 21.578125 \nL 8.5 54.6875 \nL 17.484375 54.6875 \nL 17.484375 21.921875 \nQ 17.484375 14.15625 20.5 10.265625 \nQ 23.53125 6.390625 29.59375 6.390625 \nQ 36.859375 6.390625 41.078125 11.03125 \nQ 45.3125 15.671875 45.3125 23.6875 \nL 45.3125 54.6875 \nL 54.296875 54.6875 \nL 54.296875 0 \nL 45.3125 0 \nL 45.3125 8.40625 \nQ 42.046875 3.421875 37.71875 1 \nQ 33.40625 -1.421875 27.6875 -1.421875 \nQ 18.265625 -1.421875 13.375 4.4375 \nQ 8.5 10.296875 8.5 21.578125 \nz\nM 31.109375 56 \nz\n\" id=\"DejaVuSans-117\"/>\n      </defs>\n      <use xlink:href=\"#DejaVuSans-79\"/>\n      <use x=\"78.710938\" xlink:href=\"#DejaVuSans-98\"/>\n      <use x=\"142.1875\" xlink:href=\"#DejaVuSans-106\"/>\n      <use x=\"169.970703\" xlink:href=\"#DejaVuSans-101\"/>\n      <use x=\"231.494141\" xlink:href=\"#DejaVuSans-99\"/>\n      <use x=\"286.474609\" xlink:href=\"#DejaVuSans-116\"/>\n      <use x=\"325.683594\" xlink:href=\"#DejaVuSans-105\"/>\n      <use x=\"353.466797\" xlink:href=\"#DejaVuSans-118\"/>\n      <use x=\"412.646484\" xlink:href=\"#DejaVuSans-101\"/>\n      <use x=\"474.169922\" xlink:href=\"#DejaVuSans-32\"/>\n      <use x=\"505.957031\" xlink:href=\"#DejaVuSans-86\"/>\n      <use x=\"566.615234\" xlink:href=\"#DejaVuSans-97\"/>\n      <use x=\"627.894531\" xlink:href=\"#DejaVuSans-108\"/>\n      <use x=\"655.677734\" xlink:href=\"#DejaVuSans-117\"/>\n      <use x=\"719.056641\" xlink:href=\"#DejaVuSans-101\"/>\n     </g>\n    </g>\n   </g>\n   <g id=\"line2d_13\">\n    <path clip-path=\"url(#pd288d28e78)\" d=\"M 88.717332 19.00572 \nL 91.855934 110.561403 \nL 94.994537 148.416888 \nL 98.133139 168.803224 \nL 101.271742 181.514296 \nL 104.410344 190.122359 \nL 107.548946 196.260699 \nL 110.687549 200.794695 \nL 113.826151 204.230829 \nL 116.964754 206.886906 \nL 120.103356 208.972693 \nL 123.241958 210.632034 \nL 126.380561 211.966561 \nL 129.519163 213.049844 \nL 132.657766 213.936222 \nL 135.796368 214.666522 \nL 138.93497 215.271883 \nL 142.073573 215.77636 \nL 145.212175 216.198751 \nL 148.350778 216.553899 \nL 151.48938 216.853628 \nL 154.627982 217.107436 \nL 157.766585 217.323009 \nL 160.905187 217.506607 \nL 164.04379 217.663361 \nL 167.182392 217.797495 \nL 170.320994 217.912511 \nL 173.459597 218.011317 \nL 176.598199 218.096346 \nL 179.736802 218.169633 \nL 182.875404 218.232892 \nL 186.014006 218.28757 \nL 189.152609 218.334889 \nL 192.291211 218.375887 \nL 195.429814 218.411446 \nL 198.568416 218.44232 \nL 201.707018 218.469151 \nL 204.845621 218.492488 \nL 207.984223 218.512803 \nL 211.122826 218.530501 \nL 214.261428 218.54593 \nL 217.40003 218.559391 \nL 220.538633 218.571142 \nL 223.677235 218.581406 \nL 226.815838 218.590377 \nL 229.95444 218.598221 \nL 233.093042 218.605085 \nL 236.231645 218.611092 \nL 239.370247 218.616354 \nL 242.50885 218.620963 \nL 245.647452 218.625003 \nL 248.786054 218.628546 \nL 251.924657 218.631653 \nL 255.063259 218.63438 \nL 258.201862 218.636774 \nL 261.340464 218.638875 \nL 264.479066 218.640722 \nL 267.617669 218.642344 \nL 270.756271 218.643769 \nL 273.894874 218.645023 \nL 277.033476 218.646125 \nL 280.172078 218.647094 \nL 283.310681 218.647947 \nL 286.449283 218.648698 \nL 289.587886 218.649359 \nL 292.726488 218.64994 \nL 295.86509 218.650452 \nL 299.003693 218.650904 \nL 302.142295 218.651301 \nL 305.280898 218.651651 \nL 308.4195 218.65196 \nL 311.558102 218.652232 \nL 314.696705 218.652472 \nL 317.835307 218.652684 \nL 320.97391 218.65287 \nL 324.112512 218.653035 \nL 327.251114 218.65318 \nL 330.389717 218.653308 \nL 333.528319 218.653421 \nL 336.666922 218.653521 \nL 339.805524 218.653609 \nL 342.944127 218.653687 \nL 346.082729 218.653755 \nL 349.221331 218.653816 \nL 352.359934 218.65387 \nL 355.498536 218.653917 \nL 358.637139 218.653959 \nL 361.775741 218.653995 \nL 364.914343 218.654028 \nL 368.052946 218.654057 \nL 371.191548 218.654082 \nL 374.330151 218.654105 \nL 377.468753 218.654125 \nL 380.607355 218.654142 \nL 383.745958 218.654158 \nL 386.88456 218.654172 \nL 390.023163 218.654184 \nL 393.161765 218.654195 \nL 396.300367 218.654204 \nL 399.43897 218.654212 \n\" style=\"fill:none;stroke:#0000ff;stroke-dasharray:11.1,4.8;stroke-dashoffset:0;stroke-width:3;\"/>\n   </g>\n   <g id=\"line2d_14\">\n    <path clip-path=\"url(#pd288d28e78)\" d=\"M 88.717332 164.009429 \nL 91.855934 180.02248 \nL 94.994537 188.329385 \nL 98.133139 193.99375 \nL 101.271742 193.10063 \nL 104.410344 191.929004 \nL 107.548946 196.257713 \nL 110.687549 199.244235 \nL 113.826151 203.224869 \nL 116.964754 202.378688 \nL 120.103356 202.853782 \nL 123.241958 205.629521 \nL 126.380561 206.282321 \nL 129.519163 206.864158 \nL 132.657766 209.977761 \nL 135.796368 207.795543 \nL 138.93497 210.6675 \nL 142.073573 209.888174 \nL 145.212175 212.23411 \nL 148.350778 212.536196 \nL 151.48938 212.178087 \nL 154.627982 213.349674 \nL 157.766585 213.781186 \nL 160.905187 214.135137 \nL 164.04379 214.503661 \nL 167.182392 214.865491 \nL 170.320994 215.325555 \nL 173.459597 215.542961 \nL 176.598199 215.773529 \nL 179.736802 216.059072 \nL 182.875404 216.341941 \nL 186.014006 216.916601 \nL 189.152609 216.754503 \nL 192.291211 216.933648 \nL 195.429814 217.182187 \nL 198.568416 217.283093 \nL 201.707018 217.425573 \nL 204.845621 217.569511 \nL 207.984223 217.645689 \nL 211.122826 217.742971 \nL 214.261428 217.855182 \nL 217.40003 217.906567 \nL 220.538633 217.97727 \nL 223.677235 218.050454 \nL 226.815838 218.113433 \nL 229.95444 218.165452 \nL 233.093042 218.209706 \nL 236.231645 218.253497 \nL 239.370247 218.293831 \nL 242.50885 218.332747 \nL 245.647452 218.361877 \nL 248.786054 218.391755 \nL 251.924657 218.417042 \nL 255.063259 218.441472 \nL 258.201862 218.462017 \nL 261.340464 218.480831 \nL 264.479066 218.49804 \nL 267.617669 218.513765 \nL 270.756271 218.52799 \nL 273.894874 218.540362 \nL 277.033476 218.551827 \nL 280.172078 218.561965 \nL 283.310681 218.571459 \nL 286.449283 218.57949 \nL 289.587886 218.586914 \nL 292.726488 218.593645 \nL 295.86509 218.599573 \nL 299.003693 218.605008 \nL 302.142295 218.6099 \nL 305.280898 218.614324 \nL 308.4195 218.618285 \nL 311.558102 218.621859 \nL 314.696705 218.625059 \nL 317.835307 218.627953 \nL 320.97391 218.630563 \nL 324.112512 218.632914 \nL 327.251114 218.635003 \nL 330.389717 218.636899 \nL 333.528319 218.63861 \nL 336.666922 218.640151 \nL 339.805524 218.641529 \nL 342.944127 218.642774 \nL 346.082729 218.643896 \nL 349.221331 218.644905 \nL 352.359934 218.645813 \nL 355.498536 218.646629 \nL 358.637139 218.647366 \nL 361.775741 218.648028 \nL 364.914343 218.648623 \nL 368.052946 218.649159 \nL 371.191548 218.649642 \nL 374.330151 218.650076 \nL 377.468753 218.650467 \nL 380.607355 218.650819 \nL 383.745958 218.651136 \nL 386.88456 218.651421 \nL 390.023163 218.651677 \nL 393.161765 218.651908 \nL 396.300367 218.652116 \nL 399.43897 218.652303 \n\" style=\"fill:none;stroke:#ff0000;stroke-linecap:square;stroke-width:2;\"/>\n   </g>\n   <g id=\"line2d_15\">\n    <path clip-path=\"url(#pd288d28e78)\" d=\"M 88.717332 93.548163 \nL 91.855934 165.89377 \nL 94.994537 187.111722 \nL 98.133139 198.11811 \nL 101.271742 203.836891 \nL 104.410344 207.34833 \nL 107.548946 209.331889 \nL 110.687549 211.104118 \nL 113.826151 212.600161 \nL 116.964754 213.457934 \nL 120.103356 214.200251 \nL 123.241958 214.415868 \nL 126.380561 214.96942 \nL 129.519163 215.523451 \nL 132.657766 215.729121 \nL 135.796368 216.011758 \nL 138.93497 216.196814 \nL 142.073573 216.36248 \nL 145.212175 216.36739 \nL 148.350778 216.619219 \nL 151.48938 216.703925 \nL 154.627982 216.717534 \nL 157.766585 216.847303 \nL 160.905187 216.882976 \nL 164.04379 216.959825 \nL 167.182392 217.059528 \nL 170.320994 217.091498 \nL 173.459597 217.117132 \nL 176.598199 217.175306 \nL 179.736802 217.185647 \nL 182.875404 217.236656 \nL 186.014006 217.260352 \nL 189.152609 217.270509 \nL 192.291211 217.292703 \nL 195.429814 217.298552 \nL 198.568416 217.320651 \nL 201.707018 217.345882 \nL 204.845621 217.363475 \nL 207.984223 217.372827 \nL 211.122826 217.38349 \nL 214.261428 217.398983 \nL 217.40003 217.399735 \nL 220.538633 217.405269 \nL 223.677235 217.418429 \nL 226.815838 217.425314 \nL 229.95444 217.430853 \nL 233.093042 217.434896 \nL 236.231645 217.443533 \nL 239.370247 217.444665 \nL 242.50885 217.445633 \nL 245.647452 217.451919 \nL 248.786054 217.45246 \nL 251.924657 217.457338 \nL 255.063259 217.458947 \nL 258.201862 217.460265 \nL 261.340464 217.463141 \nL 264.479066 217.464727 \nL 267.617669 217.466826 \nL 270.756271 217.469287 \nL 273.894874 217.468972 \nL 277.033476 217.470996 \nL 280.172078 217.471155 \nL 283.310681 217.471977 \nL 286.449283 217.473517 \nL 289.587886 217.474602 \nL 292.726488 217.474916 \nL 295.86509 217.475373 \nL 299.003693 217.476479 \nL 302.142295 217.476183 \nL 305.280898 217.476839 \nL 308.4195 217.477002 \nL 311.558102 217.477916 \nL 314.696705 217.478015 \nL 317.835307 217.478384 \nL 320.97391 217.478485 \nL 324.112512 217.478595 \nL 327.251114 217.478999 \nL 330.389717 217.479124 \nL 333.528319 217.479425 \nL 336.666922 217.479384 \nL 339.805524 217.47962 \nL 342.944127 217.47966 \nL 346.082729 217.479887 \nL 349.221331 217.479854 \nL 352.359934 217.480028 \nL 355.498536 217.480112 \nL 358.637139 217.480195 \nL 361.775741 217.480205 \nL 364.914343 217.480327 \nL 368.052946 217.480352 \nL 371.191548 217.480394 \nL 374.330151 217.48043 \nL 377.468753 217.480515 \nL 380.607355 217.480515 \nL 383.745958 217.48059 \nL 386.88456 217.480577 \nL 390.023163 217.480622 \nL 393.161765 217.480664 \nL 396.300367 217.480671 \nL 399.43897 217.480687 \n\" style=\"fill:none;stroke:#008000;stroke-dasharray:19.2,4.8,3,4.8;stroke-dashoffset:0;stroke-width:3;\"/>\n   </g>\n   <g id=\"line2d_16\">\n    <path clip-path=\"url(#pd288d28e78)\" d=\"M 88.717332 93.86529 \nL 91.855934 161.24366 \nL 94.994537 184.227427 \nL 98.133139 195.408129 \nL 101.271742 201.802281 \nL 104.410344 205.58557 \nL 107.548946 208.157485 \nL 110.687549 210.026429 \nL 113.826151 211.36537 \nL 116.964754 212.409076 \nL 120.103356 213.101537 \nL 123.241958 213.761662 \nL 126.380561 214.244784 \nL 129.519163 214.645103 \nL 132.657766 214.986736 \nL 135.796368 215.300892 \nL 138.93497 215.461491 \nL 142.073573 215.735007 \nL 145.212175 215.874005 \nL 148.350778 216.029282 \nL 151.48938 216.167254 \nL 154.627982 216.243394 \nL 157.766585 216.356208 \nL 160.905187 216.457523 \nL 164.04379 216.525613 \nL 167.182392 216.57817 \nL 170.320994 216.641248 \nL 173.459597 216.688045 \nL 176.598199 216.736609 \nL 179.736802 216.771159 \nL 182.875404 216.806696 \nL 186.014006 216.84145 \nL 189.152609 216.868126 \nL 192.291211 216.880438 \nL 195.429814 216.917699 \nL 198.568416 216.934863 \nL 201.707018 216.954302 \nL 204.845621 216.972118 \nL 207.984223 216.987094 \nL 211.122826 216.998111 \nL 214.261428 217.007978 \nL 217.40003 217.020963 \nL 220.538633 217.029862 \nL 223.677235 217.036646 \nL 226.815838 217.044371 \nL 229.95444 217.051223 \nL 233.093042 217.0581 \nL 236.231645 217.063937 \nL 239.370247 217.068346 \nL 242.50885 217.072564 \nL 245.647452 217.075865 \nL 248.786054 217.080496 \nL 251.924657 217.082171 \nL 255.063259 217.085163 \nL 258.201862 217.089433 \nL 261.340464 217.090887 \nL 264.479066 217.093122 \nL 267.617669 217.094421 \nL 270.756271 217.096246 \nL 273.894874 217.097828 \nL 277.033476 217.09924 \nL 280.172078 217.100221 \nL 283.310681 217.10126 \nL 286.449283 217.102356 \nL 289.587886 217.102908 \nL 292.726488 217.103931 \nL 295.86509 217.104746 \nL 299.003693 217.105537 \nL 302.142295 217.105977 \nL 305.280898 217.106733 \nL 308.4195 217.106975 \nL 311.558102 217.107394 \nL 314.696705 217.107869 \nL 317.835307 217.108173 \nL 320.97391 217.108434 \nL 324.112512 217.108714 \nL 327.251114 217.109083 \nL 330.389717 217.109274 \nL 333.528319 217.109471 \nL 336.666922 217.109638 \nL 339.805524 217.109791 \nL 342.944127 217.109924 \nL 346.082729 217.110079 \nL 349.221331 217.110204 \nL 352.359934 217.110277 \nL 355.498536 217.110384 \nL 358.637139 217.110501 \nL 361.775741 217.110542 \nL 364.914343 217.110621 \nL 368.052946 217.110704 \nL 371.191548 217.110757 \nL 374.330151 217.110798 \nL 377.468753 217.110845 \nL 380.607355 217.110883 \nL 383.745958 217.110928 \nL 386.88456 217.110967 \nL 390.023163 217.110994 \nL 393.161765 217.111023 \nL 396.300367 217.111047 \nL 399.43897 217.111065 \n\" style=\"fill:none;stroke:#bfbf00;stroke-dasharray:4,6.6;stroke-dashoffset:0;stroke-width:4;\"/>\n   </g>\n   <g id=\"patch_3\">\n    <path d=\"M 73.18125 228.636637 \nL 73.18125 9.023295 \n\" style=\"fill:none;stroke:#000000;stroke-linecap:square;stroke-linejoin:miter;stroke-width:0.8;\"/>\n   </g>\n   <g id=\"patch_4\">\n    <path d=\"M 414.975052 228.636637 \nL 414.975052 9.023295 \n\" style=\"fill:none;stroke:#000000;stroke-linecap:square;stroke-linejoin:miter;stroke-width:0.8;\"/>\n   </g>\n   <g id=\"patch_5\">\n    <path d=\"M 73.18125 228.636637 \nL 414.975052 228.636637 \n\" style=\"fill:none;stroke:#000000;stroke-linecap:square;stroke-linejoin:miter;stroke-width:0.8;\"/>\n   </g>\n   <g id=\"patch_6\">\n    <path d=\"M 73.18125 9.023295 \nL 414.975052 9.023295 \n\" style=\"fill:none;stroke:#000000;stroke-linecap:square;stroke-linejoin:miter;stroke-width:0.8;\"/>\n   </g>\n   <g id=\"legend_1\">\n    <g id=\"patch_7\">\n     <path d=\"M 237.303177 142.448295 \nL 400.975052 142.448295 \nQ 404.975052 142.448295 404.975052 138.448295 \nL 404.975052 23.023295 \nQ 404.975052 19.023295 400.975052 19.023295 \nL 237.303177 19.023295 \nQ 233.303177 19.023295 233.303177 23.023295 \nL 233.303177 138.448295 \nQ 233.303177 142.448295 237.303177 142.448295 \nz\n\" style=\"fill:#ffffff;opacity:0.8;stroke:#cccccc;stroke-linejoin:miter;\"/>\n    </g>\n    <g id=\"line2d_17\">\n     <path d=\"M 241.303177 35.22017 \nL 281.303177 35.22017 \n\" style=\"fill:none;stroke:#0000ff;stroke-dasharray:11.1,4.8;stroke-dashoffset:0;stroke-width:3;\"/>\n    </g>\n    <g id=\"line2d_18\"/>\n    <g id=\"text_15\">\n     <!-- GD -->\n     <g transform=\"translate(297.303177 42.22017)scale(0.2 -0.2)\">\n      <defs>\n       <path d=\"M 59.515625 10.40625 \nL 59.515625 29.984375 \nL 43.40625 29.984375 \nL 43.40625 38.09375 \nL 69.28125 38.09375 \nL 69.28125 6.78125 \nQ 63.578125 2.734375 56.6875 0.65625 \nQ 49.8125 -1.421875 42 -1.421875 \nQ 24.90625 -1.421875 15.25 8.5625 \nQ 5.609375 18.5625 5.609375 36.375 \nQ 5.609375 54.25 15.25 64.234375 \nQ 24.90625 74.21875 42 74.21875 \nQ 49.125 74.21875 55.546875 72.453125 \nQ 61.96875 70.703125 67.390625 67.28125 \nL 67.390625 56.78125 \nQ 61.921875 61.421875 55.765625 63.765625 \nQ 49.609375 66.109375 42.828125 66.109375 \nQ 29.4375 66.109375 22.71875 58.640625 \nQ 16.015625 51.171875 16.015625 36.375 \nQ 16.015625 21.625 22.71875 14.15625 \nQ 29.4375 6.6875 42.828125 6.6875 \nQ 48.046875 6.6875 52.140625 7.59375 \nQ 56.25 8.5 59.515625 10.40625 \nz\n\" id=\"DejaVuSans-71\"/>\n       <path d=\"M 19.671875 64.796875 \nL 19.671875 8.109375 \nL 31.59375 8.109375 \nQ 46.6875 8.109375 53.6875 14.9375 \nQ 60.6875 21.78125 60.6875 36.53125 \nQ 60.6875 51.171875 53.6875 57.984375 \nQ 46.6875 64.796875 31.59375 64.796875 \nz\nM 9.8125 72.90625 \nL 30.078125 72.90625 \nQ 51.265625 72.90625 61.171875 64.09375 \nQ 71.09375 55.28125 71.09375 36.53125 \nQ 71.09375 17.671875 61.125 8.828125 \nQ 51.171875 0 30.078125 0 \nL 9.8125 0 \nz\n\" id=\"DejaVuSans-68\"/>\n      </defs>\n      <use xlink:href=\"#DejaVuSans-71\"/>\n      <use x=\"77.490234\" xlink:href=\"#DejaVuSans-68\"/>\n     </g>\n    </g>\n    <g id=\"line2d_19\">\n     <path d=\"M 241.303177 64.57642 \nL 281.303177 64.57642 \n\" style=\"fill:none;stroke:#ff0000;stroke-linecap:square;stroke-width:2;\"/>\n    </g>\n    <g id=\"line2d_20\"/>\n    <g id=\"text_16\">\n     <!-- SGD -->\n     <g transform=\"translate(297.303177 71.57642)scale(0.2 -0.2)\">\n      <defs>\n       <path d=\"M 53.515625 70.515625 \nL 53.515625 60.890625 \nQ 47.90625 63.578125 42.921875 64.890625 \nQ 37.9375 66.21875 33.296875 66.21875 \nQ 25.25 66.21875 20.875 63.09375 \nQ 16.5 59.96875 16.5 54.203125 \nQ 16.5 49.359375 19.40625 46.890625 \nQ 22.3125 44.4375 30.421875 42.921875 \nL 36.375 41.703125 \nQ 47.40625 39.59375 52.65625 34.296875 \nQ 57.90625 29 57.90625 20.125 \nQ 57.90625 9.515625 50.796875 4.046875 \nQ 43.703125 -1.421875 29.984375 -1.421875 \nQ 24.8125 -1.421875 18.96875 -0.25 \nQ 13.140625 0.921875 6.890625 3.21875 \nL 6.890625 13.375 \nQ 12.890625 10.015625 18.65625 8.296875 \nQ 24.421875 6.59375 29.984375 6.59375 \nQ 38.421875 6.59375 43.015625 9.90625 \nQ 47.609375 13.234375 47.609375 19.390625 \nQ 47.609375 24.75 44.3125 27.78125 \nQ 41.015625 30.8125 33.5 32.328125 \nL 27.484375 33.5 \nQ 16.453125 35.6875 11.515625 40.375 \nQ 6.59375 45.0625 6.59375 53.421875 \nQ 6.59375 63.09375 13.40625 68.65625 \nQ 20.21875 74.21875 32.171875 74.21875 \nQ 37.3125 74.21875 42.625 73.28125 \nQ 47.953125 72.359375 53.515625 70.515625 \nz\n\" id=\"DejaVuSans-83\"/>\n      </defs>\n      <use xlink:href=\"#DejaVuSans-83\"/>\n      <use x=\"63.476562\" xlink:href=\"#DejaVuSans-71\"/>\n      <use x=\"140.966797\" xlink:href=\"#DejaVuSans-68\"/>\n     </g>\n    </g>\n    <g id=\"line2d_21\">\n     <path d=\"M 241.303177 93.93267 \nL 281.303177 93.93267 \n\" style=\"fill:none;stroke:#bfbf00;stroke-dasharray:4,6.6;stroke-dashoffset:0;stroke-width:4;\"/>\n    </g>\n    <g id=\"line2d_22\"/>\n    <g id=\"text_17\">\n     <!-- MBSGD8 -->\n     <g transform=\"translate(297.303177 100.93267)scale(0.2 -0.2)\">\n      <defs>\n       <path d=\"M 9.8125 72.90625 \nL 24.515625 72.90625 \nL 43.109375 23.296875 \nL 61.8125 72.90625 \nL 76.515625 72.90625 \nL 76.515625 0 \nL 66.890625 0 \nL 66.890625 64.015625 \nL 48.09375 14.015625 \nL 38.1875 14.015625 \nL 19.390625 64.015625 \nL 19.390625 0 \nL 9.8125 0 \nz\n\" id=\"DejaVuSans-77\"/>\n       <path d=\"M 19.671875 34.8125 \nL 19.671875 8.109375 \nL 35.5 8.109375 \nQ 43.453125 8.109375 47.28125 11.40625 \nQ 51.125 14.703125 51.125 21.484375 \nQ 51.125 28.328125 47.28125 31.5625 \nQ 43.453125 34.8125 35.5 34.8125 \nz\nM 19.671875 64.796875 \nL 19.671875 42.828125 \nL 34.28125 42.828125 \nQ 41.5 42.828125 45.03125 45.53125 \nQ 48.578125 48.25 48.578125 53.8125 \nQ 48.578125 59.328125 45.03125 62.0625 \nQ 41.5 64.796875 34.28125 64.796875 \nz\nM 9.8125 72.90625 \nL 35.015625 72.90625 \nQ 46.296875 72.90625 52.390625 68.21875 \nQ 58.5 63.53125 58.5 54.890625 \nQ 58.5 48.1875 55.375 44.234375 \nQ 52.25 40.28125 46.1875 39.3125 \nQ 53.46875 37.75 57.5 32.78125 \nQ 61.53125 27.828125 61.53125 20.40625 \nQ 61.53125 10.640625 54.890625 5.3125 \nQ 48.25 0 35.984375 0 \nL 9.8125 0 \nz\n\" id=\"DejaVuSans-66\"/>\n      </defs>\n      <use xlink:href=\"#DejaVuSans-77\"/>\n      <use x=\"86.279297\" xlink:href=\"#DejaVuSans-66\"/>\n      <use x=\"153.132812\" xlink:href=\"#DejaVuSans-83\"/>\n      <use x=\"216.609375\" xlink:href=\"#DejaVuSans-71\"/>\n      <use x=\"294.099609\" xlink:href=\"#DejaVuSans-68\"/>\n      <use x=\"371.101562\" xlink:href=\"#DejaVuSans-56\"/>\n     </g>\n    </g>\n    <g id=\"line2d_23\">\n     <path d=\"M 241.303177 123.28892 \nL 281.303177 123.28892 \n\" style=\"fill:none;stroke:#008000;stroke-dasharray:19.2,4.8,3,4.8;stroke-dashoffset:0;stroke-width:3;\"/>\n    </g>\n    <g id=\"line2d_24\"/>\n    <g id=\"text_18\">\n     <!-- MBSGD64 -->\n     <g transform=\"translate(297.303177 130.28892)scale(0.2 -0.2)\">\n      <use xlink:href=\"#DejaVuSans-77\"/>\n      <use x=\"86.279297\" xlink:href=\"#DejaVuSans-66\"/>\n      <use x=\"153.132812\" xlink:href=\"#DejaVuSans-83\"/>\n      <use x=\"216.609375\" xlink:href=\"#DejaVuSans-71\"/>\n      <use x=\"294.099609\" xlink:href=\"#DejaVuSans-68\"/>\n      <use x=\"371.101562\" xlink:href=\"#DejaVuSans-54\"/>\n      <use x=\"434.724609\" xlink:href=\"#DejaVuSans-52\"/>\n     </g>\n    </g>\n   </g>\n  </g>\n </g>\n <defs>\n  <clipPath id=\"pd288d28e78\">\n   <rect height=\"219.613342\" width=\"341.793802\" x=\"73.18125\" y=\"9.023295\"/>\n  </clipPath>\n </defs>\n</svg>\n",
      "image/png": "[encoded data removed]"
     },
     "metadata": {
      "needs_background": "light"
     }
    }
   ],
   "source": [
    "# plot the 4 curves:\n",
    "fig = plt.figure(figsize=(6, 4))\n",
    "\n",
    "epochs_gd = range(len(objvals_gd))\n",
    "epochs_sgd = range(len(objvals_sgd))\n",
    "epochs_mbsgd8 = range(len(objvals_mbsgd8))\n",
    "epochs_mbsgd64 = range(len(objvals_mbsgd64))\n",
    "\n",
    "line0, = plt.plot(epochs_gd, objvals_gd, '--b', linewidth=3)\n",
    "line1, = plt.plot(epochs_sgd, objvals_sgd, '-r', linewidth=2)\n",
    "line3, = plt.plot(epochs_mbsgd64, objvals_mbsgd64, '-g', linewidth=3, linestyle='dashdot')\n",
    "line2, = plt.plot(epochs_mbsgd8, objvals_mbsgd8, '-y', linewidth=4, linestyle='dotted')\n",
    "plt.xlabel('Epochs', fontsize=20)\n",
    "plt.ylabel('Objective Value', fontsize=20)\n",
    "plt.xticks(fontsize=16)\n",
    "plt.yticks(fontsize=16)\n",
    "plt.legend([line0, line1, line2, line3], ['GD', 'SGD', 'MBSGD8', 'MBSGD64'], fontsize=20)\n",
    "plt.tight_layout()\n",
    "plt.show()\n",
    "fig.savefig('compare_gd_sgd_mbsgd.pdf', format='pdf', dpi=1200)"
   ]
  },
  {
   "cell_type": "markdown",
   "metadata": {},
   "source": []
  }
 ],
 "metadata": {
  "kernelspec": {
   "name": "python3",
   "display_name": "Python 3.9.1 64-bit",
   "metadata": {
    "interpreter": {
     "hash": "e7370f93d1d0cde622a1f8e1c04877d8463912d04d973331ad4851f04de6915a"
    }
   }
  },
  "language_info": {
   "codemirror_mode": {
    "name": "ipython",
    "version": 3
   },
   "file_extension": ".py",
   "mimetype": "text/x-python",
   "name": "python",
   "nbconvert_exporter": "python",
   "pygments_lexer": "ipython3",
   "version": "3.9.1-final"
  }
 },
 "nbformat": 4,
 "nbformat_minor": 2
}