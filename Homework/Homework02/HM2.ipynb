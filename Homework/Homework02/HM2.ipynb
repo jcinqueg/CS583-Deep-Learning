{
 "cells": [
  {
   "cell_type": "markdown",
   "metadata": {},
   "source": [
    "# HM2: Numerical Optimization for Logistic Regression.\n",
    "\n",
    "### Name: John Cinquegrana\n"
   ]
  },
  {
   "cell_type": "markdown",
   "metadata": {},
   "source": [
    "## 0. You will do the following:\n",
    "\n",
    "1. Read the lecture note: [click here](https://github.com/wangshusen/DeepLearning/blob/master/LectureNotes/Logistic/paper/logistic.pdf)\n",
    "\n",
    "2. Read, complete, and run my code.\n",
    "\n",
    "3. **Implement mini-batch SGD** and evaluate the performance.\n",
    "\n",
    "4. Convert the .IPYNB file to .HTML file.\n",
    "\n",
    "    * The HTML file must contain **the code** and **the output after execution**.\n",
    "    \n",
    "    * Missing **the output after execution** will not be graded.\n",
    "    \n",
    "5. Upload this .HTML file to your Google Drive, Dropbox, or your Github repo.  (If you submit the file to Google Drive or Dropbox, you must make the file \"open-access\". The delay caused by \"deny of access\" may result in late penalty.)\n",
    "\n",
    "6. Submit the link to this .HTML file to Canvas.\n",
    "\n",
    "    * Example: https://github.com/wangshusen/CS583-2020S/blob/master/homework/HM2/HM2.html\n",
    "\n",
    "\n",
    "## Grading criteria:\n",
    "\n",
    "1. When computing the ```gradient``` and ```objective function value``` using a batch of samples, use **matrix-vector multiplication** rather than a FOR LOOP of **vector-vector multiplications**.\n",
    "\n",
    "2. Plot ```objective function value``` against ```epochs```. In the plot, compare GD, SGD, and MB-SGD (with $b=8$ and $b=64$). The plot must look reasonable."
   ]
  },
  {
   "cell_type": "markdown",
   "metadata": {},
   "source": [
    "# 1. Data processing\n",
    "\n",
    "- Download the Diabete dataset from https://www.csie.ntu.edu.tw/~cjlin/libsvmtools/datasets/binary/diabetes\n",
    "- Load the data using sklearn.\n",
    "- Preprocess the data."
   ]
  },
  {
   "cell_type": "markdown",
   "metadata": {},
   "source": [
    "## 1.1. Load the data"
   ]
  },
  {
   "cell_type": "code",
   "execution_count": 1,
   "metadata": {},
   "outputs": [
    {
     "output_type": "stream",
     "name": "stdout",
     "text": [
      "Shape of x: (768, 8)\nShape of y: (768,)\n"
     ]
    }
   ],
   "source": [
    "from sklearn import datasets\n",
    "import numpy\n",
    "\n",
    "x_sparse, y = datasets.load_svmlight_file('diabetes')\n",
    "x = x_sparse.todense()\n",
    "\n",
    "print('Shape of x: ' + str(x.shape))\n",
    "print('Shape of y: ' + str(y.shape))"
   ]
  },
  {
   "cell_type": "markdown",
   "metadata": {},
   "source": [
    "## 1.2. Partition to training and test sets"
   ]
  },
  {
   "cell_type": "code",
   "execution_count": 2,
   "metadata": {},
   "outputs": [
    {
     "output_type": "stream",
     "name": "stdout",
     "text": [
      "Shape of x_train: (640, 8)\nShape of x_test: (128, 8)\nShape of y_train: (640, 1)\nShape of y_test: (128, 1)\n"
     ]
    }
   ],
   "source": [
    "# partition the data to training and test sets\n",
    "n = x.shape[0]\n",
    "n_train = 640\n",
    "n_test = n - n_train\n",
    "\n",
    "rand_indices = numpy.random.permutation(n)\n",
    "train_indices = rand_indices[0:n_train]\n",
    "test_indices = rand_indices[n_train:n]\n",
    "\n",
    "x_train = x[train_indices, :]\n",
    "x_test = x[test_indices, :]\n",
    "y_train = y[train_indices].reshape(n_train, 1)\n",
    "y_test = y[test_indices].reshape(n_test, 1)\n",
    "\n",
    "print('Shape of x_train: ' + str(x_train.shape))\n",
    "print('Shape of x_test: ' + str(x_test.shape))\n",
    "print('Shape of y_train: ' + str(y_train.shape))\n",
    "print('Shape of y_test: ' + str(y_test.shape))"
   ]
  },
  {
   "cell_type": "markdown",
   "metadata": {},
   "source": [
    "## 1.3. Feature scaling"
   ]
  },
  {
   "cell_type": "markdown",
   "metadata": {},
   "source": [
    "Use the standardization to transform both training and test features"
   ]
  },
  {
   "cell_type": "code",
   "execution_count": 3,
   "metadata": {},
   "outputs": [
    {
     "output_type": "stream",
     "name": "stdout",
     "text": [
      "test mean = \n[[ 0.06456636 -0.031203   -0.00842091 -0.08940413  0.03108821 -0.00283551\n  -0.12228347  0.05402264]]\ntest std = \n[[1.08913007 1.10137062 0.9561876  0.97121959 0.97177313 1.08162631\n  0.88381467 1.13277679]]\n"
     ]
    }
   ],
   "source": [
    "# Standardization\n",
    "import numpy\n",
    "\n",
    "# calculate mu and sig using the training set\n",
    "d = x_train.shape[1]\n",
    "mu = numpy.mean(x_train, axis=0).reshape(1, d)\n",
    "sig = numpy.std(x_train, axis=0).reshape(1, d)\n",
    "\n",
    "# transform the training features\n",
    "x_train = (x_train - mu) / (sig + 1E-6)\n",
    "\n",
    "# transform the test features\n",
    "x_test = (x_test - mu) / (sig + 1E-6)\n",
    "\n",
    "print('test mean = ')\n",
    "print(numpy.mean(x_test, axis=0))\n",
    "\n",
    "print('test std = ')\n",
    "print(numpy.std(x_test, axis=0))"
   ]
  },
  {
   "cell_type": "markdown",
   "metadata": {},
   "source": [
    "## 1.4. Add a dimension of all ones"
   ]
  },
  {
   "cell_type": "code",
   "execution_count": 4,
   "metadata": {},
   "outputs": [
    {
     "output_type": "stream",
     "name": "stdout",
     "text": [
      "Shape of x_train: (640, 9)\nShape of x_test: (128, 9)\n"
     ]
    }
   ],
   "source": [
    "n_train, d = x_train.shape\n",
    "x_train = numpy.concatenate((x_train, numpy.ones((n_train, 1))), axis=1)\n",
    "\n",
    "n_test, d = x_test.shape\n",
    "x_test = numpy.concatenate((x_test, numpy.ones((n_test, 1))), axis=1)\n",
    "\n",
    "print('Shape of x_train: ' + str(x_train.shape))\n",
    "print('Shape of x_test: ' + str(x_test.shape))"
   ]
  },
  {
   "cell_type": "markdown",
   "metadata": {},
   "source": [
    "# 2. Logistic regression model\n",
    "\n",
    "The objective function is $Q (w; X, y) = \\frac{1}{n} \\sum_{i=1}^n \\log \\Big( 1 + \\exp \\big( - y_i x_i^T w \\big) \\Big) + \\frac{\\lambda}{2} \\| w \\|_2^2 $."
   ]
  },
  {
   "cell_type": "code",
   "execution_count": 5,
   "metadata": {},
   "outputs": [],
   "source": [
    "# Calculate the objective function value\n",
    "# Inputs:\n",
    "#     w: d-by-1 matrix\n",
    "#     x: n-by-d matrix\n",
    "#     y: n-by-1 matrix\n",
    "#     lam: scalar, the regularization parameter\n",
    "# Return:\n",
    "#     objective function value (scalar)\n",
    "def objective(w, x, y, lam):\n",
    "    n, d = x.shape\n",
    "    yx = numpy.multiply(y, x) # n-by-d matrix\n",
    "    yxw = numpy.dot(yx, w) # n-by-1 matrix\n",
    "    vec1 = numpy.exp(-yxw) # n-by-1 matrix\n",
    "    vec2 = numpy.log(1 + vec1) # n-by-1 matrix\n",
    "    loss = numpy.mean(vec2) # scalar\n",
    "    reg = lam / 2 * numpy.sum(w * w) # scalar\n",
    "    return loss + reg\n",
    "    "
   ]
  },
  {
   "cell_type": "code",
   "execution_count": 6,
   "metadata": {},
   "outputs": [
    {
     "output_type": "stream",
     "name": "stdout",
     "text": [
      "Initial objective function value = 0.6931471805599453\n"
     ]
    }
   ],
   "source": [
    "# initialize w\n",
    "d = x_train.shape[1]\n",
    "w = numpy.zeros((d, 1))\n",
    "\n",
    "# evaluate the objective function value at w\n",
    "lam = 1E-6\n",
    "objval0 = objective(w, x_train, y_train, lam)\n",
    "print('Initial objective function value = ' + str(objval0))"
   ]
  },
  {
   "cell_type": "markdown",
   "metadata": {},
   "source": [
    "# 3. Numerical optimization"
   ]
  },
  {
   "cell_type": "markdown",
   "metadata": {},
   "source": [
    "## 3.1. Gradient descent\n"
   ]
  },
  {
   "cell_type": "markdown",
   "metadata": {},
   "source": [
    "The gradient at $w$ is $g = - \\frac{1}{n} \\sum_{i=1}^n \\frac{y_i x_i }{1 + \\exp ( y_i x_i^T w)} + \\lambda w$"
   ]
  },
  {
   "cell_type": "code",
   "execution_count": 7,
   "metadata": {},
   "outputs": [],
   "source": [
    "# Calculate the gradient\n",
    "# Inputs:\n",
    "#     w: d-by-1 matrix\n",
    "#     x: n-by-d matrix\n",
    "#     y: n-by-1 matrix\n",
    "#     lam: scalar, the regularization parameter\n",
    "# Return:\n",
    "#     g: g: d-by-1 matrix, full gradient\n",
    "def gradient(w, x, y, lam):\n",
    "    n, d = x.shape\n",
    "    yx = numpy.multiply(y, x) # n-by-d matrix\n",
    "    yxw = numpy.dot(yx, w) # n-by-1 matrix\n",
    "    vec1 = numpy.exp(yxw) # n-by-1 matrix\n",
    "    vec2 = numpy.divide(yx, 1+vec1) # n-by-d matrix\n",
    "    vec3 = -numpy.mean(vec2, axis=0).reshape(d, 1) # d-by-1 matrix\n",
    "    g = vec3 + lam * w\n",
    "    return g"
   ]
  },
  {
   "cell_type": "code",
   "execution_count": 8,
   "metadata": {},
   "outputs": [],
   "source": [
    "# Gradient descent for solving logistic regression\n",
    "# Inputs:\n",
    "#     x: n-by-d matrix\n",
    "#     y: n-by-1 matrix\n",
    "#     lam: scalar, the regularization parameter\n",
    "#     stepsize: scalar\n",
    "#     max_iter: integer, the maximal iterations\n",
    "#     w: d-by-1 matrix, initialization of w\n",
    "# Return:\n",
    "#     w: d-by-1 matrix, the solution\n",
    "#     objvals: a record of each iteration's objective value\n",
    "def grad_descent(x, y, lam, stepsize, max_iter=100, w=None):\n",
    "    n, d = x.shape\n",
    "    objvals = numpy.zeros(max_iter) # store the objective values\n",
    "    if w is None:\n",
    "        w = numpy.zeros((d, 1)) # zero initialization\n",
    "    \n",
    "    for t in range(max_iter):\n",
    "        objval = objective(w, x, y, lam)\n",
    "        objvals[t] = objval\n",
    "        print('Objective value at t=' + str(t) + ' is ' + str(objval))\n",
    "        g = gradient(w, x, y, lam)\n",
    "        w -= stepsize * g\n",
    "    \n",
    "    return w, objvals"
   ]
  },
  {
   "cell_type": "markdown",
   "metadata": {},
   "source": [
    "Run gradient descent."
   ]
  },
  {
   "cell_type": "code",
   "execution_count": 9,
   "metadata": {},
   "outputs": [
    {
     "output_type": "stream",
     "name": "stdout",
     "text": [
      "Objective value at t=0 is 0.6931471805599453\nObjective value at t=1 is 0.5928700818626776\nObjective value at t=2 is 0.5498624359629146\nObjective value at t=3 is 0.5263093140235181\nObjective value at t=4 is 0.5115236146948923\nObjective value at t=5 is 0.5014957450979669\nObjective value at t=6 is 0.4943555623557516\nObjective value at t=7 is 0.4890978875878164\nObjective value at t=8 is 0.48512890052161944\nObjective value at t=9 is 0.48207407050893847\nObjective value at t=10 is 0.47968571154707024\nObjective value at t=11 is 0.4777940264553476\nObjective value at t=12 is 0.47627925149053457\nObjective value at t=13 is 0.47505491611257905\nObjective value at t=14 is 0.47405734533314237\nObjective value at t=15 is 0.47323884884618095\nObjective value at t=16 is 0.47256317651800833\nObjective value at t=17 is 0.47200241326751086\nObjective value at t=18 is 0.47153481335493463\nObjective value at t=19 is 0.47114326221358016\nObjective value at t=20 is 0.47081416610751936\nObjective value at t=21 is 0.47053663878213026\nObjective value at t=22 is 0.4703018976725719\nObjective value at t=23 is 0.47010281018692435\nObjective value at t=24 is 0.46993354893774125\nObjective value at t=25 is 0.4697893270642228\nObjective value at t=26 is 0.4696661931178909\nObjective value at t=27 is 0.46956087072462893\nObjective value at t=28 is 0.46947063224469004\nObjective value at t=29 is 0.46939319848741623\nObjective value at t=30 is 0.46932665856627553\nObjective value at t=31 is 0.46926940544784046\nObjective value at t=32 is 0.4692200838216428\nObjective value at t=33 is 0.46917754771029535\nObjective value at t=34 is 0.46914082582978184\nObjective value at t=35 is 0.4691090931537273\nObjective value at t=36 is 0.4690816474718905\nObjective value at t=37 is 0.46905788999012415\nObjective value at t=38 is 0.4690373092167928\nObjective value at t=39 is 0.46901946753387586\nObjective value at t=40 is 0.46900398997049547\nObjective value at t=41 is 0.46899055479040996\nObjective value at t=42 is 0.4689788855790647\nObjective value at t=43 is 0.46896874457457544\nObjective value at t=44 is 0.4689599270339342\nObjective value at t=45 is 0.46895225646334754\nObjective value at t=46 is 0.46894558057193514\nObjective value at t=47 is 0.4689397678325524\nObjective value at t=48 is 0.46893470455343933\nObjective value at t=49 is 0.4689302923806747\nObjective value at t=50 is 0.46892644616473644\nObjective value at t=51 is 0.46892309213542926\nObjective value at t=52 is 0.4689201663384677\nObjective value at t=53 is 0.4689176132944866\nObjective value at t=54 is 0.46891538484744255\nObjective value at t=55 is 0.46891343917454176\nObjective value at t=56 is 0.4689117399341288\nObjective value at t=57 is 0.4689102555315784\nObjective value at t=58 is 0.46890895848625047\nObjective value at t=59 is 0.46890782488511135\nObjective value at t=60 is 0.4689068339107603\nObjective value at t=61 is 0.46890596743340524\nObjective value at t=62 is 0.4689052096578601\nObjective value at t=63 is 0.46890454681793114\nObjective value at t=64 is 0.4689039669116487\nObjective value at t=65 is 0.4689034594717451\nObjective value at t=66 is 0.46890301536656737\nObjective value at t=67 is 0.4689026266272882\nObjective value at t=68 is 0.46890228629786485\nObjective value at t=69 is 0.46890198830468194\nObjective value at t=70 is 0.46890172734324365\nObjective value at t=71 is 0.4689014987796375\nObjective value at t=72 is 0.46890129856480867\nObjective value at t=73 is 0.4689011231599488\nObjective value at t=74 is 0.4689009694715307\nObjective value at t=75 is 0.4689008347947224\nObjective value at t=76 is 0.4689007167640813\nObjective value at t=77 is 0.46890061331057825\nObjective value at t=78 is 0.4689005226241245\nObjective value at t=79 is 0.4689004431208901\nObjective value at t=80 is 0.46890037341478913\nObjective value at t=81 is 0.46890031229259643\nObjective value at t=82 is 0.4689002586922254\nObjective value at t=83 is 0.46890021168376156\nObjective value at t=84 is 0.4689001704528978\nObjective value at t=85 is 0.46890013428646343\nObjective value at t=86 is 0.46890010255978054\nObjective value at t=87 is 0.46890007472561346\nObjective value at t=88 is 0.46890005030450826\nObjective value at t=89 is 0.46890002887634824\nObjective value at t=90 is 0.46890001007296683\nObjective value at t=91 is 0.4688999935716887\nObjective value at t=92 is 0.4688999790896782\nObjective value at t=93 is 0.4688999663789945\nObjective value at t=94 is 0.4688999552222649\nObjective value at t=95 is 0.46889994542889796\nObjective value at t=96 is 0.4688999368317675\nObjective value at t=97 is 0.46889992928431107\nObjective value at t=98 is 0.4688999226579878\nObjective value at t=99 is 0.4688999168400531\n"
     ]
    }
   ],
   "source": [
    "lam = 1E-6\n",
    "stepsize = 1.0\n",
    "w, objvals_gd = grad_descent(x_train, y_train, lam, stepsize)"
   ]
  },
  {
   "cell_type": "markdown",
   "metadata": {},
   "source": [
    "## 3.2. Stochastic gradient descent (SGD)\n",
    "\n",
    "Define $Q_i (w) = \\log \\Big( 1 + \\exp \\big( - y_i x_i^T w \\big) \\Big) + \\frac{\\lambda}{2} \\| w \\|_2^2 $.\n",
    "\n",
    "The stochastic gradient at $w$ is $g_i = \\frac{\\partial Q_i }{ \\partial w} = -\\frac{y_i x_i }{1 + \\exp ( y_i x_i^T w)} + \\lambda w$."
   ]
  },
  {
   "cell_type": "code",
   "execution_count": 10,
   "metadata": {},
   "outputs": [],
   "source": [
    "# Calculate the objective Q_i and the gradient of Q_i\n",
    "# Inputs:\n",
    "#     w: d-by-1 matrix\n",
    "#     xi: 1-by-d matrix\n",
    "#     yi: scalar\n",
    "#     lam: scalar, the regularization parameter\n",
    "# Return:\n",
    "#     obj: scalar, the objective Q_i\n",
    "#     g: d-by-1 matrix, gradient of Q_i\n",
    "def stochastic_objective_gradient(w, xi, yi, lam):\n",
    "    d = xi.shape[0]\n",
    "    yx = yi * xi # 1-by-d matrix\n",
    "    yxw = float(numpy.dot(yx, w)) # scalar\n",
    "    \n",
    "    # calculate objective function Q_i\n",
    "    loss = numpy.log(1 + numpy.exp(-yxw)) # scalar\n",
    "    reg = lam / 2 * numpy.sum(w * w) # scalar\n",
    "    obj = loss + reg\n",
    "    \n",
    "    # calculate stochastic gradient\n",
    "    g_loss = -yx.T / (1 + numpy.exp(yxw)) # d-by-1 matrix\n",
    "    g = g_loss + lam * w # d-by-1 matrix\n",
    "    \n",
    "    return obj, g"
   ]
  },
  {
   "cell_type": "code",
   "execution_count": 11,
   "metadata": {},
   "outputs": [],
   "source": [
    "# SGD for solving logistic regression\n",
    "# Inputs:\n",
    "#     x: n-by-d matrix\n",
    "#     y: n-by-1 matrix\n",
    "#     lam: scalar, the regularization parameter\n",
    "#     stepsize: scalar\n",
    "#     max_epoch: integer, the maximal epochs\n",
    "#     w: d-by-1 matrix, initialization of w\n",
    "# Return:\n",
    "#     w: the solution\n",
    "#     objvals: record of each iteration's objective value\n",
    "def sgd(x, y, lam, stepsize, max_epoch=100, w=None):\n",
    "    n, d = x.shape\n",
    "    objvals = numpy.zeros(max_epoch) # store the objective values\n",
    "    if w is None:\n",
    "        w = numpy.zeros((d, 1)) # zero initialization\n",
    "    \n",
    "    for t in range(max_epoch):\n",
    "        # randomly shuffle the samples\n",
    "        rand_indices = numpy.random.permutation(n)\n",
    "        x_rand = x[rand_indices, :]\n",
    "        y_rand = y[rand_indices, :]\n",
    "        \n",
    "        objval = 0 # accumulate the objective values\n",
    "        for i in range(n):\n",
    "            xi = x_rand[i, :] # 1-by-d matrix\n",
    "            yi = float(y_rand[i, :]) # scalar\n",
    "            obj, g = stochastic_objective_gradient(w, xi, yi, lam)\n",
    "            objval += obj\n",
    "            w -= stepsize * g\n",
    "        \n",
    "        stepsize *= 0.9 # decrease step size\n",
    "        objval /= n\n",
    "        objvals[t] = objval\n",
    "        print('Objective value at epoch t=' + str(t) + ' is ' + str(objval))\n",
    "    \n",
    "    return w, objvals"
   ]
  },
  {
   "cell_type": "markdown",
   "metadata": {},
   "source": [
    "Run SGD."
   ]
  },
  {
   "cell_type": "code",
   "execution_count": 12,
   "metadata": {},
   "outputs": [
    {
     "output_type": "stream",
     "name": "stdout",
     "text": [
      "Objective value at epoch t=0 is 0.5264331677293462\n",
      "Objective value at epoch t=1 is 0.519360229262195\n",
      "Objective value at epoch t=2 is 0.5051354382662413\n",
      "Objective value at epoch t=3 is 0.5055231358353856\n",
      "Objective value at epoch t=4 is 0.5061217388788113\n",
      "Objective value at epoch t=5 is 0.4954038022579961\n",
      "Objective value at epoch t=6 is 0.4965224940861986\n",
      "Objective value at epoch t=7 is 0.4941560423039245\n",
      "Objective value at epoch t=8 is 0.4915661627415897\n",
      "Objective value at epoch t=9 is 0.4894317755932261\n",
      "Objective value at epoch t=10 is 0.4880867356563764\n",
      "Objective value at epoch t=11 is 0.48419638403039533\n",
      "Objective value at epoch t=12 is 0.4860213388131478\n",
      "Objective value at epoch t=13 is 0.4824785474792964\n",
      "Objective value at epoch t=14 is 0.48189266663933983\n",
      "Objective value at epoch t=15 is 0.4810892710512422\n",
      "Objective value at epoch t=16 is 0.4794819181535326\n",
      "Objective value at epoch t=17 is 0.47765890072561906\n",
      "Objective value at epoch t=18 is 0.47753374433897455\n",
      "Objective value at epoch t=19 is 0.47774711861020636\n",
      "Objective value at epoch t=20 is 0.476950806737202\n",
      "Objective value at epoch t=21 is 0.47487470593959635\n",
      "Objective value at epoch t=22 is 0.4752774891370278\n",
      "Objective value at epoch t=23 is 0.475102955632629\n",
      "Objective value at epoch t=24 is 0.4740276106900298\n",
      "Objective value at epoch t=25 is 0.4741230396288404\n",
      "Objective value at epoch t=26 is 0.47322304862212333\n",
      "Objective value at epoch t=27 is 0.4728530552372215\n",
      "Objective value at epoch t=28 is 0.47276584880466305\n",
      "Objective value at epoch t=29 is 0.4722383632754917\n",
      "Objective value at epoch t=30 is 0.47189528988692475\n",
      "Objective value at epoch t=31 is 0.47160540340638574\n",
      "Objective value at epoch t=32 is 0.47134986202310164\n",
      "Objective value at epoch t=33 is 0.47116251357144634\n",
      "Objective value at epoch t=34 is 0.4709386106133861\n",
      "Objective value at epoch t=35 is 0.4707007686402401\n",
      "Objective value at epoch t=36 is 0.4705348880064485\n",
      "Objective value at epoch t=37 is 0.47036156354943576\n",
      "Objective value at epoch t=38 is 0.4702578542766066\n",
      "Objective value at epoch t=39 is 0.47009654307591664\n",
      "Objective value at epoch t=40 is 0.46998075966369546\n",
      "Objective value at epoch t=41 is 0.4698820203752936\n",
      "Objective value at epoch t=42 is 0.4697915153064643\n",
      "Objective value at epoch t=43 is 0.46969325852549365\n",
      "Objective value at epoch t=44 is 0.4696246233893008\n",
      "Objective value at epoch t=45 is 0.46955110190486177\n",
      "Objective value at epoch t=46 is 0.46948884839960386\n",
      "Objective value at epoch t=47 is 0.46942968391177475\n",
      "Objective value at epoch t=48 is 0.46937709048097725\n",
      "Objective value at epoch t=49 is 0.46932983265793043\n",
      "Objective value at epoch t=50 is 0.4692871420670957\n",
      "Objective value at epoch t=51 is 0.4692449875619243\n",
      "Objective value at epoch t=52 is 0.4692129341774118\n",
      "Objective value at epoch t=53 is 0.469183649318084\n",
      "Objective value at epoch t=54 is 0.4691553786028069\n",
      "Objective value at epoch t=55 is 0.46912837486921966\n",
      "Objective value at epoch t=56 is 0.4691069321973521\n",
      "Objective value at epoch t=57 is 0.4690863232468253\n",
      "Objective value at epoch t=58 is 0.46906780222132227\n",
      "Objective value at epoch t=59 is 0.4690512647537344\n",
      "Objective value at epoch t=60 is 0.46903624546963574\n",
      "Objective value at epoch t=61 is 0.4690224281595932\n",
      "Objective value at epoch t=62 is 0.4690103869474358\n",
      "Objective value at epoch t=63 is 0.4689994725128953\n",
      "Objective value at epoch t=64 is 0.468989621905117\n",
      "Objective value at epoch t=65 is 0.46898079017066274\n",
      "Objective value at epoch t=66 is 0.46897280199624447\n",
      "Objective value at epoch t=67 is 0.4689654946323937\n",
      "Objective value at epoch t=68 is 0.46895906825667105\n",
      "Objective value at epoch t=69 is 0.46895323210356477\n",
      "Objective value at epoch t=70 is 0.4689479947539078\n",
      "Objective value at epoch t=71 is 0.4689432565327323\n",
      "Objective value at epoch t=72 is 0.468939003398911\n",
      "Objective value at epoch t=73 is 0.46893511950191574\n",
      "Objective value at epoch t=74 is 0.46893171380157667\n",
      "Objective value at epoch t=75 is 0.4689286068545579\n",
      "Objective value at epoch t=76 is 0.4689258189823503\n",
      "Objective value at epoch t=77 is 0.46892328968841185\n",
      "Objective value at epoch t=78 is 0.46892103066078344\n",
      "Objective value at epoch t=79 is 0.4689189993490346\n",
      "Objective value at epoch t=80 is 0.468917166611819\n",
      "Objective value at epoch t=81 is 0.46891551200484366\n",
      "Objective value at epoch t=82 is 0.46891402896926937\n",
      "Objective value at epoch t=83 is 0.46891268970985484\n",
      "Objective value at epoch t=84 is 0.46891148866694693\n",
      "Objective value at epoch t=85 is 0.46891040609674306\n",
      "Objective value at epoch t=86 is 0.46890943020819087\n",
      "Objective value at epoch t=87 is 0.4689085540874925\n",
      "Objective value at epoch t=88 is 0.46890776444953675\n",
      "Objective value at epoch t=89 is 0.46890705373994895\n",
      "Objective value at epoch t=90 is 0.4689064141449076\n",
      "Objective value at epoch t=91 is 0.4689058384149091\n",
      "Objective value at epoch t=92 is 0.4689053197912192\n",
      "Objective value at epoch t=93 is 0.4689048536661291\n",
      "Objective value at epoch t=94 is 0.4689044333866308\n",
      "Objective value at epoch t=95 is 0.468904056208341\n",
      "Objective value at epoch t=96 is 0.46890371636578854\n",
      "Objective value at epoch t=97 is 0.4689034103650516\n",
      "Objective value at epoch t=98 is 0.4689031349856389\n",
      "Objective value at epoch t=99 is 0.468902886966623\n"
     ]
    }
   ],
   "source": [
    "lam = 1E-6\n",
    "stepsize = 0.1\n",
    "w, objvals_sgd = sgd(x_train, y_train, lam, stepsize)"
   ]
  },
  {
   "cell_type": "markdown",
   "metadata": {},
   "source": [
    "# 4. Compare GD with SGD\n",
    "\n",
    "Plot objective function values against epochs."
   ]
  },
  {
   "cell_type": "code",
   "execution_count": 13,
   "metadata": {},
   "outputs": [
    {
     "output_type": "stream",
     "name": "stderr",
     "text": [
      "<ipython-input-13-9b8d8f4cdfb5>:9: MatplotlibDeprecationWarning: Case-insensitive properties were deprecated in 3.3 and support will be removed two minor releases later\n  line0, = plt.plot(epochs_gd, objvals_gd, '--b', LineWidth=4)\n<ipython-input-13-9b8d8f4cdfb5>:10: MatplotlibDeprecationWarning: Case-insensitive properties were deprecated in 3.3 and support will be removed two minor releases later\n  line1, = plt.plot(epochs_sgd, objvals_sgd, '-r', LineWidth=2)\n<ipython-input-13-9b8d8f4cdfb5>:11: MatplotlibDeprecationWarning: Case-insensitive properties were deprecated in 3.3 and support will be removed two minor releases later\n  plt.xlabel('Epochs', FontSize=20)\n<ipython-input-13-9b8d8f4cdfb5>:12: MatplotlibDeprecationWarning: Case-insensitive properties were deprecated in 3.3 and support will be removed two minor releases later\n  plt.ylabel('Objective Value', FontSize=20)\n<ipython-input-13-9b8d8f4cdfb5>:13: MatplotlibDeprecationWarning: Case-insensitive properties were deprecated in 3.3 and support will be removed two minor releases later\n  plt.xticks(FontSize=16)\n<ipython-input-13-9b8d8f4cdfb5>:14: MatplotlibDeprecationWarning: Case-insensitive properties were deprecated in 3.3 and support will be removed two minor releases later\n  plt.yticks(FontSize=16)\n"
     ]
    },
    {
     "output_type": "display_data",
     "data": {
      "text/plain": "<Figure size 432x288 with 1 Axes>",
      "image/svg+xml": "<?xml version=\"1.0\" encoding=\"utf-8\" standalone=\"no\"?>\n<!DOCTYPE svg PUBLIC \"-//W3C//DTD SVG 1.1//EN\"\n  \"http://www.w3.org/Graphics/SVG/1.1/DTD/svg11.dtd\">\n<!-- Created with matplotlib (https://matplotlib.org/) -->\n<svg height=\"281.688136pt\" version=\"1.1\" viewBox=\"0 0 425.047572 281.688136\" width=\"425.047572pt\" xmlns=\"http://www.w3.org/2000/svg\" xmlns:xlink=\"http://www.w3.org/1999/xlink\">\n <metadata>\n  <rdf:RDF xmlns:cc=\"http://creativecommons.org/ns#\" xmlns:dc=\"http://purl.org/dc/elements/1.1/\" xmlns:rdf=\"http://www.w3.org/1999/02/22-rdf-syntax-ns#\">\n   <cc:Work>\n    <dc:type rdf:resource=\"http://purl.org/dc/dcmitype/StillImage\"/>\n    <dc:date>2021-03-05T21:26:38.663287</dc:date>\n    <dc:format>image/svg+xml</dc:format>\n    <dc:creator>\n     <cc:Agent>\n      <dc:title>Matplotlib v3.3.4, https://matplotlib.org/</dc:title>\n     </cc:Agent>\n    </dc:creator>\n   </cc:Work>\n  </rdf:RDF>\n </metadata>\n <defs>\n  <style type=\"text/css\">*{stroke-linecap:butt;stroke-linejoin:round;}</style>\n </defs>\n <g id=\"figure_1\">\n  <g id=\"patch_1\">\n   <path d=\"M 0 281.688136 \nL 425.047572 281.688136 \nL 425.047572 0 \nL 0 0 \nz\n\" style=\"fill:none;\"/>\n  </g>\n  <g id=\"axes_1\">\n   <g id=\"patch_2\">\n    <path d=\"M 73.18125 228.646886 \nL 414.975052 228.646886 \nL 414.975052 9.403973 \nL 73.18125 9.403973 \nz\n\" style=\"fill:#ffffff;\"/>\n   </g>\n   <g id=\"matplotlib.axis_1\">\n    <g id=\"xtick_1\">\n     <g id=\"line2d_1\">\n      <defs>\n       <path d=\"M 0 0 \nL 0 3.5 \n\" id=\"m7e9404fad2\" style=\"stroke:#000000;stroke-width:0.8;\"/>\n      </defs>\n      <g>\n       <use style=\"stroke:#000000;stroke-width:0.8;\" x=\"88.717332\" xlink:href=\"#m7e9404fad2\" y=\"228.646886\"/>\n      </g>\n     </g>\n     <g id=\"text_1\">\n      <!-- 0 -->\n      <g transform=\"translate(83.627332 247.804386)scale(0.16 -0.16)\">\n       <defs>\n        <path d=\"M 31.78125 66.40625 \nQ 24.171875 66.40625 20.328125 58.90625 \nQ 16.5 51.421875 16.5 36.375 \nQ 16.5 21.390625 20.328125 13.890625 \nQ 24.171875 6.390625 31.78125 6.390625 \nQ 39.453125 6.390625 43.28125 13.890625 \nQ 47.125 21.390625 47.125 36.375 \nQ 47.125 51.421875 43.28125 58.90625 \nQ 39.453125 66.40625 31.78125 66.40625 \nz\nM 31.78125 74.21875 \nQ 44.046875 74.21875 50.515625 64.515625 \nQ 56.984375 54.828125 56.984375 36.375 \nQ 56.984375 17.96875 50.515625 8.265625 \nQ 44.046875 -1.421875 31.78125 -1.421875 \nQ 19.53125 -1.421875 13.0625 8.265625 \nQ 6.59375 17.96875 6.59375 36.375 \nQ 6.59375 54.828125 13.0625 64.515625 \nQ 19.53125 74.21875 31.78125 74.21875 \nz\n\" id=\"DejaVuSans-48\"/>\n       </defs>\n       <use xlink:href=\"#DejaVuSans-48\"/>\n      </g>\n     </g>\n    </g>\n    <g id=\"xtick_2\">\n     <g id=\"line2d_2\">\n      <g>\n       <use style=\"stroke:#000000;stroke-width:0.8;\" x=\"151.48938\" xlink:href=\"#m7e9404fad2\" y=\"228.646886\"/>\n      </g>\n     </g>\n     <g id=\"text_2\">\n      <!-- 20 -->\n      <g transform=\"translate(141.30938 247.804386)scale(0.16 -0.16)\">\n       <defs>\n        <path d=\"M 19.1875 8.296875 \nL 53.609375 8.296875 \nL 53.609375 0 \nL 7.328125 0 \nL 7.328125 8.296875 \nQ 12.9375 14.109375 22.625 23.890625 \nQ 32.328125 33.6875 34.8125 36.53125 \nQ 39.546875 41.84375 41.421875 45.53125 \nQ 43.3125 49.21875 43.3125 52.78125 \nQ 43.3125 58.59375 39.234375 62.25 \nQ 35.15625 65.921875 28.609375 65.921875 \nQ 23.96875 65.921875 18.8125 64.3125 \nQ 13.671875 62.703125 7.8125 59.421875 \nL 7.8125 69.390625 \nQ 13.765625 71.78125 18.9375 73 \nQ 24.125 74.21875 28.421875 74.21875 \nQ 39.75 74.21875 46.484375 68.546875 \nQ 53.21875 62.890625 53.21875 53.421875 \nQ 53.21875 48.921875 51.53125 44.890625 \nQ 49.859375 40.875 45.40625 35.40625 \nQ 44.1875 33.984375 37.640625 27.21875 \nQ 31.109375 20.453125 19.1875 8.296875 \nz\n\" id=\"DejaVuSans-50\"/>\n       </defs>\n       <use xlink:href=\"#DejaVuSans-50\"/>\n       <use x=\"63.623047\" xlink:href=\"#DejaVuSans-48\"/>\n      </g>\n     </g>\n    </g>\n    <g id=\"xtick_3\">\n     <g id=\"line2d_3\">\n      <g>\n       <use style=\"stroke:#000000;stroke-width:0.8;\" x=\"214.261428\" xlink:href=\"#m7e9404fad2\" y=\"228.646886\"/>\n      </g>\n     </g>\n     <g id=\"text_3\">\n      <!-- 40 -->\n      <g transform=\"translate(204.081428 247.804386)scale(0.16 -0.16)\">\n       <defs>\n        <path d=\"M 37.796875 64.3125 \nL 12.890625 25.390625 \nL 37.796875 25.390625 \nz\nM 35.203125 72.90625 \nL 47.609375 72.90625 \nL 47.609375 25.390625 \nL 58.015625 25.390625 \nL 58.015625 17.1875 \nL 47.609375 17.1875 \nL 47.609375 0 \nL 37.796875 0 \nL 37.796875 17.1875 \nL 4.890625 17.1875 \nL 4.890625 26.703125 \nz\n\" id=\"DejaVuSans-52\"/>\n       </defs>\n       <use xlink:href=\"#DejaVuSans-52\"/>\n       <use x=\"63.623047\" xlink:href=\"#DejaVuSans-48\"/>\n      </g>\n     </g>\n    </g>\n    <g id=\"xtick_4\">\n     <g id=\"line2d_4\">\n      <g>\n       <use style=\"stroke:#000000;stroke-width:0.8;\" x=\"277.033476\" xlink:href=\"#m7e9404fad2\" y=\"228.646886\"/>\n      </g>\n     </g>\n     <g id=\"text_4\">\n      <!-- 60 -->\n      <g transform=\"translate(266.853476 247.804386)scale(0.16 -0.16)\">\n       <defs>\n        <path d=\"M 33.015625 40.375 \nQ 26.375 40.375 22.484375 35.828125 \nQ 18.609375 31.296875 18.609375 23.390625 \nQ 18.609375 15.53125 22.484375 10.953125 \nQ 26.375 6.390625 33.015625 6.390625 \nQ 39.65625 6.390625 43.53125 10.953125 \nQ 47.40625 15.53125 47.40625 23.390625 \nQ 47.40625 31.296875 43.53125 35.828125 \nQ 39.65625 40.375 33.015625 40.375 \nz\nM 52.59375 71.296875 \nL 52.59375 62.3125 \nQ 48.875 64.0625 45.09375 64.984375 \nQ 41.3125 65.921875 37.59375 65.921875 \nQ 27.828125 65.921875 22.671875 59.328125 \nQ 17.53125 52.734375 16.796875 39.40625 \nQ 19.671875 43.65625 24.015625 45.921875 \nQ 28.375 48.1875 33.59375 48.1875 \nQ 44.578125 48.1875 50.953125 41.515625 \nQ 57.328125 34.859375 57.328125 23.390625 \nQ 57.328125 12.15625 50.6875 5.359375 \nQ 44.046875 -1.421875 33.015625 -1.421875 \nQ 20.359375 -1.421875 13.671875 8.265625 \nQ 6.984375 17.96875 6.984375 36.375 \nQ 6.984375 53.65625 15.1875 63.9375 \nQ 23.390625 74.21875 37.203125 74.21875 \nQ 40.921875 74.21875 44.703125 73.484375 \nQ 48.484375 72.75 52.59375 71.296875 \nz\n\" id=\"DejaVuSans-54\"/>\n       </defs>\n       <use xlink:href=\"#DejaVuSans-54\"/>\n       <use x=\"63.623047\" xlink:href=\"#DejaVuSans-48\"/>\n      </g>\n     </g>\n    </g>\n    <g id=\"xtick_5\">\n     <g id=\"line2d_5\">\n      <g>\n       <use style=\"stroke:#000000;stroke-width:0.8;\" x=\"339.805524\" xlink:href=\"#m7e9404fad2\" y=\"228.646886\"/>\n      </g>\n     </g>\n     <g id=\"text_5\">\n      <!-- 80 -->\n      <g transform=\"translate(329.625524 247.804386)scale(0.16 -0.16)\">\n       <defs>\n        <path d=\"M 31.78125 34.625 \nQ 24.75 34.625 20.71875 30.859375 \nQ 16.703125 27.09375 16.703125 20.515625 \nQ 16.703125 13.921875 20.71875 10.15625 \nQ 24.75 6.390625 31.78125 6.390625 \nQ 38.8125 6.390625 42.859375 10.171875 \nQ 46.921875 13.96875 46.921875 20.515625 \nQ 46.921875 27.09375 42.890625 30.859375 \nQ 38.875 34.625 31.78125 34.625 \nz\nM 21.921875 38.8125 \nQ 15.578125 40.375 12.03125 44.71875 \nQ 8.5 49.078125 8.5 55.328125 \nQ 8.5 64.0625 14.71875 69.140625 \nQ 20.953125 74.21875 31.78125 74.21875 \nQ 42.671875 74.21875 48.875 69.140625 \nQ 55.078125 64.0625 55.078125 55.328125 \nQ 55.078125 49.078125 51.53125 44.71875 \nQ 48 40.375 41.703125 38.8125 \nQ 48.828125 37.15625 52.796875 32.3125 \nQ 56.78125 27.484375 56.78125 20.515625 \nQ 56.78125 9.90625 50.3125 4.234375 \nQ 43.84375 -1.421875 31.78125 -1.421875 \nQ 19.734375 -1.421875 13.25 4.234375 \nQ 6.78125 9.90625 6.78125 20.515625 \nQ 6.78125 27.484375 10.78125 32.3125 \nQ 14.796875 37.15625 21.921875 38.8125 \nz\nM 18.3125 54.390625 \nQ 18.3125 48.734375 21.84375 45.5625 \nQ 25.390625 42.390625 31.78125 42.390625 \nQ 38.140625 42.390625 41.71875 45.5625 \nQ 45.3125 48.734375 45.3125 54.390625 \nQ 45.3125 60.0625 41.71875 63.234375 \nQ 38.140625 66.40625 31.78125 66.40625 \nQ 25.390625 66.40625 21.84375 63.234375 \nQ 18.3125 60.0625 18.3125 54.390625 \nz\n\" id=\"DejaVuSans-56\"/>\n       </defs>\n       <use xlink:href=\"#DejaVuSans-56\"/>\n       <use x=\"63.623047\" xlink:href=\"#DejaVuSans-48\"/>\n      </g>\n     </g>\n    </g>\n    <g id=\"xtick_6\">\n     <g id=\"line2d_6\">\n      <g>\n       <use style=\"stroke:#000000;stroke-width:0.8;\" x=\"402.577572\" xlink:href=\"#m7e9404fad2\" y=\"228.646886\"/>\n      </g>\n     </g>\n     <g id=\"text_6\">\n      <!-- 100 -->\n      <g transform=\"translate(387.307572 247.804386)scale(0.16 -0.16)\">\n       <defs>\n        <path d=\"M 12.40625 8.296875 \nL 28.515625 8.296875 \nL 28.515625 63.921875 \nL 10.984375 60.40625 \nL 10.984375 69.390625 \nL 28.421875 72.90625 \nL 38.28125 72.90625 \nL 38.28125 8.296875 \nL 54.390625 8.296875 \nL 54.390625 0 \nL 12.40625 0 \nz\n\" id=\"DejaVuSans-49\"/>\n       </defs>\n       <use xlink:href=\"#DejaVuSans-49\"/>\n       <use x=\"63.623047\" xlink:href=\"#DejaVuSans-48\"/>\n       <use x=\"127.246094\" xlink:href=\"#DejaVuSans-48\"/>\n      </g>\n     </g>\n    </g>\n    <g id=\"text_7\">\n     <!-- Epochs -->\n     <g transform=\"translate(208.246901 270.328761)scale(0.2 -0.2)\">\n      <defs>\n       <path d=\"M 9.8125 72.90625 \nL 55.90625 72.90625 \nL 55.90625 64.59375 \nL 19.671875 64.59375 \nL 19.671875 43.015625 \nL 54.390625 43.015625 \nL 54.390625 34.71875 \nL 19.671875 34.71875 \nL 19.671875 8.296875 \nL 56.78125 8.296875 \nL 56.78125 0 \nL 9.8125 0 \nz\n\" id=\"DejaVuSans-69\"/>\n       <path d=\"M 18.109375 8.203125 \nL 18.109375 -20.796875 \nL 9.078125 -20.796875 \nL 9.078125 54.6875 \nL 18.109375 54.6875 \nL 18.109375 46.390625 \nQ 20.953125 51.265625 25.265625 53.625 \nQ 29.59375 56 35.59375 56 \nQ 45.5625 56 51.78125 48.09375 \nQ 58.015625 40.1875 58.015625 27.296875 \nQ 58.015625 14.40625 51.78125 6.484375 \nQ 45.5625 -1.421875 35.59375 -1.421875 \nQ 29.59375 -1.421875 25.265625 0.953125 \nQ 20.953125 3.328125 18.109375 8.203125 \nz\nM 48.6875 27.296875 \nQ 48.6875 37.203125 44.609375 42.84375 \nQ 40.53125 48.484375 33.40625 48.484375 \nQ 26.265625 48.484375 22.1875 42.84375 \nQ 18.109375 37.203125 18.109375 27.296875 \nQ 18.109375 17.390625 22.1875 11.75 \nQ 26.265625 6.109375 33.40625 6.109375 \nQ 40.53125 6.109375 44.609375 11.75 \nQ 48.6875 17.390625 48.6875 27.296875 \nz\n\" id=\"DejaVuSans-112\"/>\n       <path d=\"M 30.609375 48.390625 \nQ 23.390625 48.390625 19.1875 42.75 \nQ 14.984375 37.109375 14.984375 27.296875 \nQ 14.984375 17.484375 19.15625 11.84375 \nQ 23.34375 6.203125 30.609375 6.203125 \nQ 37.796875 6.203125 41.984375 11.859375 \nQ 46.1875 17.53125 46.1875 27.296875 \nQ 46.1875 37.015625 41.984375 42.703125 \nQ 37.796875 48.390625 30.609375 48.390625 \nz\nM 30.609375 56 \nQ 42.328125 56 49.015625 48.375 \nQ 55.71875 40.765625 55.71875 27.296875 \nQ 55.71875 13.875 49.015625 6.21875 \nQ 42.328125 -1.421875 30.609375 -1.421875 \nQ 18.84375 -1.421875 12.171875 6.21875 \nQ 5.515625 13.875 5.515625 27.296875 \nQ 5.515625 40.765625 12.171875 48.375 \nQ 18.84375 56 30.609375 56 \nz\n\" id=\"DejaVuSans-111\"/>\n       <path d=\"M 48.78125 52.59375 \nL 48.78125 44.1875 \nQ 44.96875 46.296875 41.140625 47.34375 \nQ 37.3125 48.390625 33.40625 48.390625 \nQ 24.65625 48.390625 19.8125 42.84375 \nQ 14.984375 37.3125 14.984375 27.296875 \nQ 14.984375 17.28125 19.8125 11.734375 \nQ 24.65625 6.203125 33.40625 6.203125 \nQ 37.3125 6.203125 41.140625 7.25 \nQ 44.96875 8.296875 48.78125 10.40625 \nL 48.78125 2.09375 \nQ 45.015625 0.34375 40.984375 -0.53125 \nQ 36.96875 -1.421875 32.421875 -1.421875 \nQ 20.0625 -1.421875 12.78125 6.34375 \nQ 5.515625 14.109375 5.515625 27.296875 \nQ 5.515625 40.671875 12.859375 48.328125 \nQ 20.21875 56 33.015625 56 \nQ 37.15625 56 41.109375 55.140625 \nQ 45.0625 54.296875 48.78125 52.59375 \nz\n\" id=\"DejaVuSans-99\"/>\n       <path d=\"M 54.890625 33.015625 \nL 54.890625 0 \nL 45.90625 0 \nL 45.90625 32.71875 \nQ 45.90625 40.484375 42.875 44.328125 \nQ 39.84375 48.1875 33.796875 48.1875 \nQ 26.515625 48.1875 22.3125 43.546875 \nQ 18.109375 38.921875 18.109375 30.90625 \nL 18.109375 0 \nL 9.078125 0 \nL 9.078125 75.984375 \nL 18.109375 75.984375 \nL 18.109375 46.1875 \nQ 21.34375 51.125 25.703125 53.5625 \nQ 30.078125 56 35.796875 56 \nQ 45.21875 56 50.046875 50.171875 \nQ 54.890625 44.34375 54.890625 33.015625 \nz\n\" id=\"DejaVuSans-104\"/>\n       <path d=\"M 44.28125 53.078125 \nL 44.28125 44.578125 \nQ 40.484375 46.53125 36.375 47.5 \nQ 32.28125 48.484375 27.875 48.484375 \nQ 21.1875 48.484375 17.84375 46.4375 \nQ 14.5 44.390625 14.5 40.28125 \nQ 14.5 37.15625 16.890625 35.375 \nQ 19.28125 33.59375 26.515625 31.984375 \nL 29.59375 31.296875 \nQ 39.15625 29.25 43.1875 25.515625 \nQ 47.21875 21.78125 47.21875 15.09375 \nQ 47.21875 7.46875 41.1875 3.015625 \nQ 35.15625 -1.421875 24.609375 -1.421875 \nQ 20.21875 -1.421875 15.453125 -0.5625 \nQ 10.6875 0.296875 5.421875 2 \nL 5.421875 11.28125 \nQ 10.40625 8.6875 15.234375 7.390625 \nQ 20.0625 6.109375 24.8125 6.109375 \nQ 31.15625 6.109375 34.5625 8.28125 \nQ 37.984375 10.453125 37.984375 14.40625 \nQ 37.984375 18.0625 35.515625 20.015625 \nQ 33.0625 21.96875 24.703125 23.78125 \nL 21.578125 24.515625 \nQ 13.234375 26.265625 9.515625 29.90625 \nQ 5.8125 33.546875 5.8125 39.890625 \nQ 5.8125 47.609375 11.28125 51.796875 \nQ 16.75 56 26.8125 56 \nQ 31.78125 56 36.171875 55.265625 \nQ 40.578125 54.546875 44.28125 53.078125 \nz\n\" id=\"DejaVuSans-115\"/>\n      </defs>\n      <use xlink:href=\"#DejaVuSans-69\"/>\n      <use x=\"63.183594\" xlink:href=\"#DejaVuSans-112\"/>\n      <use x=\"126.660156\" xlink:href=\"#DejaVuSans-111\"/>\n      <use x=\"187.841797\" xlink:href=\"#DejaVuSans-99\"/>\n      <use x=\"242.822266\" xlink:href=\"#DejaVuSans-104\"/>\n      <use x=\"306.201172\" xlink:href=\"#DejaVuSans-115\"/>\n     </g>\n    </g>\n   </g>\n   <g id=\"matplotlib.axis_2\">\n    <g id=\"ytick_1\">\n     <g id=\"line2d_7\">\n      <defs>\n       <path d=\"M 0 0 \nL -3.5 0 \n\" id=\"mc067c90827\" style=\"stroke:#000000;stroke-width:0.8;\"/>\n      </defs>\n      <g>\n       <use style=\"stroke:#000000;stroke-width:0.8;\" x=\"73.18125\" xlink:href=\"#mc067c90827\" y=\"191.039438\"/>\n      </g>\n     </g>\n     <g id=\"text_8\">\n      <!-- 0.50 -->\n      <g transform=\"translate(30.55625 197.118188)scale(0.16 -0.16)\">\n       <defs>\n        <path d=\"M 10.6875 12.40625 \nL 21 12.40625 \nL 21 0 \nL 10.6875 0 \nz\n\" id=\"DejaVuSans-46\"/>\n        <path d=\"M 10.796875 72.90625 \nL 49.515625 72.90625 \nL 49.515625 64.59375 \nL 19.828125 64.59375 \nL 19.828125 46.734375 \nQ 21.96875 47.46875 24.109375 47.828125 \nQ 26.265625 48.1875 28.421875 48.1875 \nQ 40.625 48.1875 47.75 41.5 \nQ 54.890625 34.8125 54.890625 23.390625 \nQ 54.890625 11.625 47.5625 5.09375 \nQ 40.234375 -1.421875 26.90625 -1.421875 \nQ 22.3125 -1.421875 17.546875 -0.640625 \nQ 12.796875 0.140625 7.71875 1.703125 \nL 7.71875 11.625 \nQ 12.109375 9.234375 16.796875 8.0625 \nQ 21.484375 6.890625 26.703125 6.890625 \nQ 35.15625 6.890625 40.078125 11.328125 \nQ 45.015625 15.765625 45.015625 23.390625 \nQ 45.015625 31 40.078125 35.4375 \nQ 35.15625 39.890625 26.703125 39.890625 \nQ 22.75 39.890625 18.8125 39.015625 \nQ 14.890625 38.140625 10.796875 36.28125 \nz\n\" id=\"DejaVuSans-53\"/>\n       </defs>\n       <use xlink:href=\"#DejaVuSans-48\"/>\n       <use x=\"63.623047\" xlink:href=\"#DejaVuSans-46\"/>\n       <use x=\"95.410156\" xlink:href=\"#DejaVuSans-53\"/>\n       <use x=\"159.033203\" xlink:href=\"#DejaVuSans-48\"/>\n      </g>\n     </g>\n    </g>\n    <g id=\"ytick_2\">\n     <g id=\"line2d_8\">\n      <g>\n       <use style=\"stroke:#000000;stroke-width:0.8;\" x=\"73.18125\" xlink:href=\"#mc067c90827\" y=\"146.599266\"/>\n      </g>\n     </g>\n     <g id=\"text_9\">\n      <!-- 0.55 -->\n      <g transform=\"translate(30.55625 152.678016)scale(0.16 -0.16)\">\n       <use xlink:href=\"#DejaVuSans-48\"/>\n       <use x=\"63.623047\" xlink:href=\"#DejaVuSans-46\"/>\n       <use x=\"95.410156\" xlink:href=\"#DejaVuSans-53\"/>\n       <use x=\"159.033203\" xlink:href=\"#DejaVuSans-53\"/>\n      </g>\n     </g>\n    </g>\n    <g id=\"ytick_3\">\n     <g id=\"line2d_9\">\n      <g>\n       <use style=\"stroke:#000000;stroke-width:0.8;\" x=\"73.18125\" xlink:href=\"#mc067c90827\" y=\"102.159094\"/>\n      </g>\n     </g>\n     <g id=\"text_10\">\n      <!-- 0.60 -->\n      <g transform=\"translate(30.55625 108.237844)scale(0.16 -0.16)\">\n       <use xlink:href=\"#DejaVuSans-48\"/>\n       <use x=\"63.623047\" xlink:href=\"#DejaVuSans-46\"/>\n       <use x=\"95.410156\" xlink:href=\"#DejaVuSans-54\"/>\n       <use x=\"159.033203\" xlink:href=\"#DejaVuSans-48\"/>\n      </g>\n     </g>\n    </g>\n    <g id=\"ytick_4\">\n     <g id=\"line2d_10\">\n      <g>\n       <use style=\"stroke:#000000;stroke-width:0.8;\" x=\"73.18125\" xlink:href=\"#mc067c90827\" y=\"57.718922\"/>\n      </g>\n     </g>\n     <g id=\"text_11\">\n      <!-- 0.65 -->\n      <g transform=\"translate(30.55625 63.797672)scale(0.16 -0.16)\">\n       <use xlink:href=\"#DejaVuSans-48\"/>\n       <use x=\"63.623047\" xlink:href=\"#DejaVuSans-46\"/>\n       <use x=\"95.410156\" xlink:href=\"#DejaVuSans-54\"/>\n       <use x=\"159.033203\" xlink:href=\"#DejaVuSans-53\"/>\n      </g>\n     </g>\n    </g>\n    <g id=\"ytick_5\">\n     <g id=\"line2d_11\">\n      <g>\n       <use style=\"stroke:#000000;stroke-width:0.8;\" x=\"73.18125\" xlink:href=\"#mc067c90827\" y=\"13.27875\"/>\n      </g>\n     </g>\n     <g id=\"text_12\">\n      <!-- 0.70 -->\n      <g transform=\"translate(30.55625 19.3575)scale(0.16 -0.16)\">\n       <defs>\n        <path d=\"M 8.203125 72.90625 \nL 55.078125 72.90625 \nL 55.078125 68.703125 \nL 28.609375 0 \nL 18.3125 0 \nL 43.21875 64.59375 \nL 8.203125 64.59375 \nz\n\" id=\"DejaVuSans-55\"/>\n       </defs>\n       <use xlink:href=\"#DejaVuSans-48\"/>\n       <use x=\"63.623047\" xlink:href=\"#DejaVuSans-46\"/>\n       <use x=\"95.410156\" xlink:href=\"#DejaVuSans-55\"/>\n       <use x=\"159.033203\" xlink:href=\"#DejaVuSans-48\"/>\n      </g>\n     </g>\n    </g>\n    <g id=\"text_13\">\n     <!-- Objective Value -->\n     <g transform=\"translate(22.396875 197.086367)rotate(-90)scale(0.2 -0.2)\">\n      <defs>\n       <path d=\"M 39.40625 66.21875 \nQ 28.65625 66.21875 22.328125 58.203125 \nQ 16.015625 50.203125 16.015625 36.375 \nQ 16.015625 22.609375 22.328125 14.59375 \nQ 28.65625 6.59375 39.40625 6.59375 \nQ 50.140625 6.59375 56.421875 14.59375 \nQ 62.703125 22.609375 62.703125 36.375 \nQ 62.703125 50.203125 56.421875 58.203125 \nQ 50.140625 66.21875 39.40625 66.21875 \nz\nM 39.40625 74.21875 \nQ 54.734375 74.21875 63.90625 63.9375 \nQ 73.09375 53.65625 73.09375 36.375 \nQ 73.09375 19.140625 63.90625 8.859375 \nQ 54.734375 -1.421875 39.40625 -1.421875 \nQ 24.03125 -1.421875 14.8125 8.828125 \nQ 5.609375 19.09375 5.609375 36.375 \nQ 5.609375 53.65625 14.8125 63.9375 \nQ 24.03125 74.21875 39.40625 74.21875 \nz\n\" id=\"DejaVuSans-79\"/>\n       <path d=\"M 48.6875 27.296875 \nQ 48.6875 37.203125 44.609375 42.84375 \nQ 40.53125 48.484375 33.40625 48.484375 \nQ 26.265625 48.484375 22.1875 42.84375 \nQ 18.109375 37.203125 18.109375 27.296875 \nQ 18.109375 17.390625 22.1875 11.75 \nQ 26.265625 6.109375 33.40625 6.109375 \nQ 40.53125 6.109375 44.609375 11.75 \nQ 48.6875 17.390625 48.6875 27.296875 \nz\nM 18.109375 46.390625 \nQ 20.953125 51.265625 25.265625 53.625 \nQ 29.59375 56 35.59375 56 \nQ 45.5625 56 51.78125 48.09375 \nQ 58.015625 40.1875 58.015625 27.296875 \nQ 58.015625 14.40625 51.78125 6.484375 \nQ 45.5625 -1.421875 35.59375 -1.421875 \nQ 29.59375 -1.421875 25.265625 0.953125 \nQ 20.953125 3.328125 18.109375 8.203125 \nL 18.109375 0 \nL 9.078125 0 \nL 9.078125 75.984375 \nL 18.109375 75.984375 \nz\n\" id=\"DejaVuSans-98\"/>\n       <path d=\"M 9.421875 54.6875 \nL 18.40625 54.6875 \nL 18.40625 -0.984375 \nQ 18.40625 -11.421875 14.421875 -16.109375 \nQ 10.453125 -20.796875 1.609375 -20.796875 \nL -1.8125 -20.796875 \nL -1.8125 -13.1875 \nL 0.59375 -13.1875 \nQ 5.71875 -13.1875 7.5625 -10.8125 \nQ 9.421875 -8.453125 9.421875 -0.984375 \nz\nM 9.421875 75.984375 \nL 18.40625 75.984375 \nL 18.40625 64.59375 \nL 9.421875 64.59375 \nz\n\" id=\"DejaVuSans-106\"/>\n       <path d=\"M 56.203125 29.59375 \nL 56.203125 25.203125 \nL 14.890625 25.203125 \nQ 15.484375 15.921875 20.484375 11.0625 \nQ 25.484375 6.203125 34.421875 6.203125 \nQ 39.59375 6.203125 44.453125 7.46875 \nQ 49.3125 8.734375 54.109375 11.28125 \nL 54.109375 2.78125 \nQ 49.265625 0.734375 44.1875 -0.34375 \nQ 39.109375 -1.421875 33.890625 -1.421875 \nQ 20.796875 -1.421875 13.15625 6.1875 \nQ 5.515625 13.8125 5.515625 26.8125 \nQ 5.515625 40.234375 12.765625 48.109375 \nQ 20.015625 56 32.328125 56 \nQ 43.359375 56 49.78125 48.890625 \nQ 56.203125 41.796875 56.203125 29.59375 \nz\nM 47.21875 32.234375 \nQ 47.125 39.59375 43.09375 43.984375 \nQ 39.0625 48.390625 32.421875 48.390625 \nQ 24.90625 48.390625 20.390625 44.140625 \nQ 15.875 39.890625 15.1875 32.171875 \nz\n\" id=\"DejaVuSans-101\"/>\n       <path d=\"M 18.3125 70.21875 \nL 18.3125 54.6875 \nL 36.8125 54.6875 \nL 36.8125 47.703125 \nL 18.3125 47.703125 \nL 18.3125 18.015625 \nQ 18.3125 11.328125 20.140625 9.421875 \nQ 21.96875 7.515625 27.59375 7.515625 \nL 36.8125 7.515625 \nL 36.8125 0 \nL 27.59375 0 \nQ 17.1875 0 13.234375 3.875 \nQ 9.28125 7.765625 9.28125 18.015625 \nL 9.28125 47.703125 \nL 2.6875 47.703125 \nL 2.6875 54.6875 \nL 9.28125 54.6875 \nL 9.28125 70.21875 \nz\n\" id=\"DejaVuSans-116\"/>\n       <path d=\"M 9.421875 54.6875 \nL 18.40625 54.6875 \nL 18.40625 0 \nL 9.421875 0 \nz\nM 9.421875 75.984375 \nL 18.40625 75.984375 \nL 18.40625 64.59375 \nL 9.421875 64.59375 \nz\n\" id=\"DejaVuSans-105\"/>\n       <path d=\"M 2.984375 54.6875 \nL 12.5 54.6875 \nL 29.59375 8.796875 \nL 46.6875 54.6875 \nL 56.203125 54.6875 \nL 35.6875 0 \nL 23.484375 0 \nz\n\" id=\"DejaVuSans-118\"/>\n       <path id=\"DejaVuSans-32\"/>\n       <path d=\"M 28.609375 0 \nL 0.78125 72.90625 \nL 11.078125 72.90625 \nL 34.1875 11.53125 \nL 57.328125 72.90625 \nL 67.578125 72.90625 \nL 39.796875 0 \nz\n\" id=\"DejaVuSans-86\"/>\n       <path d=\"M 34.28125 27.484375 \nQ 23.390625 27.484375 19.1875 25 \nQ 14.984375 22.515625 14.984375 16.5 \nQ 14.984375 11.71875 18.140625 8.90625 \nQ 21.296875 6.109375 26.703125 6.109375 \nQ 34.1875 6.109375 38.703125 11.40625 \nQ 43.21875 16.703125 43.21875 25.484375 \nL 43.21875 27.484375 \nz\nM 52.203125 31.203125 \nL 52.203125 0 \nL 43.21875 0 \nL 43.21875 8.296875 \nQ 40.140625 3.328125 35.546875 0.953125 \nQ 30.953125 -1.421875 24.3125 -1.421875 \nQ 15.921875 -1.421875 10.953125 3.296875 \nQ 6 8.015625 6 15.921875 \nQ 6 25.140625 12.171875 29.828125 \nQ 18.359375 34.515625 30.609375 34.515625 \nL 43.21875 34.515625 \nL 43.21875 35.40625 \nQ 43.21875 41.609375 39.140625 45 \nQ 35.0625 48.390625 27.6875 48.390625 \nQ 23 48.390625 18.546875 47.265625 \nQ 14.109375 46.140625 10.015625 43.890625 \nL 10.015625 52.203125 \nQ 14.9375 54.109375 19.578125 55.046875 \nQ 24.21875 56 28.609375 56 \nQ 40.484375 56 46.34375 49.84375 \nQ 52.203125 43.703125 52.203125 31.203125 \nz\n\" id=\"DejaVuSans-97\"/>\n       <path d=\"M 9.421875 75.984375 \nL 18.40625 75.984375 \nL 18.40625 0 \nL 9.421875 0 \nz\n\" id=\"DejaVuSans-108\"/>\n       <path d=\"M 8.5 21.578125 \nL 8.5 54.6875 \nL 17.484375 54.6875 \nL 17.484375 21.921875 \nQ 17.484375 14.15625 20.5 10.265625 \nQ 23.53125 6.390625 29.59375 6.390625 \nQ 36.859375 6.390625 41.078125 11.03125 \nQ 45.3125 15.671875 45.3125 23.6875 \nL 45.3125 54.6875 \nL 54.296875 54.6875 \nL 54.296875 0 \nL 45.3125 0 \nL 45.3125 8.40625 \nQ 42.046875 3.421875 37.71875 1 \nQ 33.40625 -1.421875 27.6875 -1.421875 \nQ 18.265625 -1.421875 13.375 4.4375 \nQ 8.5 10.296875 8.5 21.578125 \nz\nM 31.109375 56 \nz\n\" id=\"DejaVuSans-117\"/>\n      </defs>\n      <use xlink:href=\"#DejaVuSans-79\"/>\n      <use x=\"78.710938\" xlink:href=\"#DejaVuSans-98\"/>\n      <use x=\"142.1875\" xlink:href=\"#DejaVuSans-106\"/>\n      <use x=\"169.970703\" xlink:href=\"#DejaVuSans-101\"/>\n      <use x=\"231.494141\" xlink:href=\"#DejaVuSans-99\"/>\n      <use x=\"286.474609\" xlink:href=\"#DejaVuSans-116\"/>\n      <use x=\"325.683594\" xlink:href=\"#DejaVuSans-105\"/>\n      <use x=\"353.466797\" xlink:href=\"#DejaVuSans-118\"/>\n      <use x=\"412.646484\" xlink:href=\"#DejaVuSans-101\"/>\n      <use x=\"474.169922\" xlink:href=\"#DejaVuSans-32\"/>\n      <use x=\"505.957031\" xlink:href=\"#DejaVuSans-86\"/>\n      <use x=\"566.615234\" xlink:href=\"#DejaVuSans-97\"/>\n      <use x=\"627.894531\" xlink:href=\"#DejaVuSans-108\"/>\n      <use x=\"655.677734\" xlink:href=\"#DejaVuSans-117\"/>\n      <use x=\"719.056641\" xlink:href=\"#DejaVuSans-101\"/>\n     </g>\n    </g>\n   </g>\n   <g id=\"line2d_12\">\n    <path clip-path=\"url(#pa781a1c120)\" d=\"M 88.717332 19.36956 \nL 91.855934 108.49619 \nL 94.994537 146.721534 \nL 98.133139 167.65563 \nL 101.271742 180.79721 \nL 104.410344 189.710015 \nL 107.548946 196.056234 \nL 110.687549 200.729273 \nL 113.826151 204.256923 \nL 116.964754 206.972066 \nL 120.103356 209.094848 \nL 123.241958 210.776184 \nL 126.380561 212.122521 \nL 129.519163 213.210715 \nL 132.657766 214.097359 \nL 135.796368 214.824842 \nL 138.93497 215.425382 \nL 142.073573 215.92379 \nL 145.212175 216.339394 \nL 148.350778 216.687406 \nL 151.48938 216.979908 \nL 154.627982 217.226575 \nL 157.766585 217.435214 \nL 160.905187 217.612164 \nL 164.04379 217.762604 \nL 167.182392 217.890788 \nL 170.320994 218.00023 \nL 173.459597 218.093841 \nL 176.598199 218.174045 \nL 179.736802 218.242869 \nL 182.875404 218.30201 \nL 186.014006 218.352897 \nL 189.152609 218.396734 \nL 192.291211 218.43454 \nL 195.429814 218.467179 \nL 198.568416 218.495383 \nL 201.707018 218.519777 \nL 204.845621 218.540892 \nL 207.984223 218.559184 \nL 211.122826 218.575042 \nL 214.261428 218.588799 \nL 217.40003 218.60074 \nL 220.538633 218.611112 \nL 223.677235 218.620125 \nL 226.815838 218.627962 \nL 229.95444 218.63478 \nL 233.093042 218.640713 \nL 236.231645 218.64588 \nL 239.370247 218.65038 \nL 242.50885 218.654301 \nL 245.647452 218.65772 \nL 248.786054 218.660701 \nL 251.924657 218.663301 \nL 255.063259 218.665571 \nL 258.201862 218.667551 \nL 261.340464 218.669281 \nL 264.479066 218.670791 \nL 267.617669 218.67211 \nL 270.756271 218.673263 \nL 273.894874 218.674271 \nL 277.033476 218.675151 \nL 280.172078 218.675922 \nL 283.310681 218.676595 \nL 286.449283 218.677184 \nL 289.587886 218.6777 \nL 292.726488 218.678151 \nL 295.86509 218.678545 \nL 299.003693 218.678891 \nL 302.142295 218.679193 \nL 305.280898 218.679458 \nL 308.4195 218.67969 \nL 311.558102 218.679893 \nL 314.696705 218.680071 \nL 317.835307 218.680227 \nL 320.97391 218.680364 \nL 324.112512 218.680483 \nL 327.251114 218.680588 \nL 330.389717 218.68068 \nL 333.528319 218.680761 \nL 336.666922 218.680832 \nL 339.805524 218.680894 \nL 342.944127 218.680948 \nL 346.082729 218.680995 \nL 349.221331 218.681037 \nL 352.359934 218.681074 \nL 355.498536 218.681106 \nL 358.637139 218.681134 \nL 361.775741 218.681159 \nL 364.914343 218.681181 \nL 368.052946 218.6812 \nL 371.191548 218.681216 \nL 374.330151 218.681231 \nL 377.468753 218.681244 \nL 380.607355 218.681255 \nL 383.745958 218.681265 \nL 386.88456 218.681274 \nL 390.023163 218.681282 \nL 393.161765 218.681288 \nL 396.300367 218.681294 \nL 399.43897 218.681299 \n\" style=\"fill:none;stroke:#0000ff;stroke-dasharray:14.8,6.4;stroke-dashoffset:0;stroke-width:4;\"/>\n   </g>\n   <g id=\"line2d_13\">\n    <path clip-path=\"url(#pa781a1c120)\" d=\"M 88.717332 167.545548 \nL 91.855934 173.832 \nL 94.994537 186.475043 \nL 98.133139 186.130456 \nL 101.271742 185.598416 \nL 104.410344 195.124555 \nL 107.548946 194.130258 \nL 110.687549 196.233568 \nL 113.826151 198.535462 \nL 116.964754 200.432513 \nL 120.103356 201.627989 \nL 123.241958 205.085747 \nL 126.380561 203.463721 \nL 129.519163 206.612566 \nL 132.657766 207.133299 \nL 135.796368 207.847359 \nL 138.93497 209.27598 \nL 142.073573 210.896284 \nL 145.212175 211.007524 \nL 148.350778 210.817876 \nL 151.48938 211.525641 \nL 154.627982 213.370886 \nL 157.766585 213.012891 \nL 160.905187 213.168017 \nL 164.04379 214.123787 \nL 167.182392 214.03897 \nL 170.320994 214.838885 \nL 173.459597 215.167736 \nL 176.598199 215.245246 \nL 179.736802 215.714077 \nL 182.875404 216.019001 \nL 186.014006 216.276654 \nL 189.152609 216.50378 \nL 192.291211 216.670296 \nL 195.429814 216.869301 \nL 198.568416 217.080696 \nL 201.707018 217.228131 \nL 204.845621 217.382183 \nL 207.984223 217.47436 \nL 211.122826 217.617734 \nL 214.261428 217.720642 \nL 217.40003 217.808402 \nL 220.538633 217.888844 \nL 223.677235 217.976174 \nL 226.815838 218.037178 \nL 229.95444 218.102524 \nL 233.093042 218.157855 \nL 236.231645 218.210441 \nL 239.370247 218.257186 \nL 242.50885 218.299189 \nL 245.647452 218.337132 \nL 248.786054 218.374599 \nL 251.924657 218.403088 \nL 255.063259 218.429117 \nL 258.201862 218.454244 \nL 261.340464 218.478245 \nL 264.479066 218.497303 \nL 267.617669 218.515621 \nL 270.756271 218.532082 \nL 273.894874 218.546781 \nL 277.033476 218.56013 \nL 280.172078 218.572411 \nL 283.310681 218.583113 \nL 286.449283 218.592814 \nL 289.587886 218.601569 \nL 292.726488 218.609419 \nL 295.86509 218.616519 \nL 299.003693 218.623014 \nL 302.142295 218.628725 \nL 305.280898 218.633913 \nL 308.4195 218.638567 \nL 311.558102 218.642779 \nL 314.696705 218.646559 \nL 317.835307 218.650011 \nL 320.97391 218.653038 \nL 324.112512 218.6558 \nL 327.251114 218.658277 \nL 330.389717 218.660525 \nL 333.528319 218.662533 \nL 336.666922 218.664339 \nL 339.805524 218.665968 \nL 342.944127 218.667438 \nL 346.082729 218.668756 \nL 349.221331 218.669947 \nL 352.359934 218.671014 \nL 355.498536 218.671976 \nL 358.637139 218.672844 \nL 361.775741 218.673622 \nL 364.914343 218.674324 \nL 368.052946 218.674956 \nL 371.191548 218.675524 \nL 374.330151 218.676036 \nL 377.468753 218.676497 \nL 380.607355 218.676911 \nL 383.745958 218.677285 \nL 386.88456 218.67762 \nL 390.023163 218.677922 \nL 393.161765 218.678194 \nL 396.300367 218.678439 \nL 399.43897 218.678659 \n\" style=\"fill:none;stroke:#ff0000;stroke-linecap:square;stroke-width:2;\"/>\n   </g>\n   <g id=\"patch_3\">\n    <path d=\"M 73.18125 228.646886 \nL 73.18125 9.403973 \n\" style=\"fill:none;stroke:#000000;stroke-linecap:square;stroke-linejoin:miter;stroke-width:0.8;\"/>\n   </g>\n   <g id=\"patch_4\">\n    <path d=\"M 414.975052 228.646886 \nL 414.975052 9.403973 \n\" style=\"fill:none;stroke:#000000;stroke-linecap:square;stroke-linejoin:miter;stroke-width:0.8;\"/>\n   </g>\n   <g id=\"patch_5\">\n    <path d=\"M 73.18125 228.646886 \nL 414.975052 228.646886 \n\" style=\"fill:none;stroke:#000000;stroke-linecap:square;stroke-linejoin:miter;stroke-width:0.8;\"/>\n   </g>\n   <g id=\"patch_6\">\n    <path d=\"M 73.18125 9.403973 \nL 414.975052 9.403973 \n\" style=\"fill:none;stroke:#000000;stroke-linecap:square;stroke-linejoin:miter;stroke-width:0.8;\"/>\n   </g>\n   <g id=\"legend_1\">\n    <g id=\"patch_7\">\n     <path d=\"M 293.381302 84.116473 \nL 400.975052 84.116473 \nQ 404.975052 84.116473 404.975052 80.116473 \nL 404.975052 23.403973 \nQ 404.975052 19.403973 400.975052 19.403973 \nL 293.381302 19.403973 \nQ 289.381302 19.403973 289.381302 23.403973 \nL 289.381302 80.116473 \nQ 289.381302 84.116473 293.381302 84.116473 \nz\n\" style=\"fill:#ffffff;opacity:0.8;stroke:#cccccc;stroke-linejoin:miter;\"/>\n    </g>\n    <g id=\"line2d_14\">\n     <path d=\"M 297.381302 35.600848 \nL 337.381302 35.600848 \n\" style=\"fill:none;stroke:#0000ff;stroke-dasharray:14.8,6.4;stroke-dashoffset:0;stroke-width:4;\"/>\n    </g>\n    <g id=\"line2d_15\"/>\n    <g id=\"text_14\">\n     <!-- GD -->\n     <g transform=\"translate(353.381302 42.600848)scale(0.2 -0.2)\">\n      <defs>\n       <path d=\"M 59.515625 10.40625 \nL 59.515625 29.984375 \nL 43.40625 29.984375 \nL 43.40625 38.09375 \nL 69.28125 38.09375 \nL 69.28125 6.78125 \nQ 63.578125 2.734375 56.6875 0.65625 \nQ 49.8125 -1.421875 42 -1.421875 \nQ 24.90625 -1.421875 15.25 8.5625 \nQ 5.609375 18.5625 5.609375 36.375 \nQ 5.609375 54.25 15.25 64.234375 \nQ 24.90625 74.21875 42 74.21875 \nQ 49.125 74.21875 55.546875 72.453125 \nQ 61.96875 70.703125 67.390625 67.28125 \nL 67.390625 56.78125 \nQ 61.921875 61.421875 55.765625 63.765625 \nQ 49.609375 66.109375 42.828125 66.109375 \nQ 29.4375 66.109375 22.71875 58.640625 \nQ 16.015625 51.171875 16.015625 36.375 \nQ 16.015625 21.625 22.71875 14.15625 \nQ 29.4375 6.6875 42.828125 6.6875 \nQ 48.046875 6.6875 52.140625 7.59375 \nQ 56.25 8.5 59.515625 10.40625 \nz\n\" id=\"DejaVuSans-71\"/>\n       <path d=\"M 19.671875 64.796875 \nL 19.671875 8.109375 \nL 31.59375 8.109375 \nQ 46.6875 8.109375 53.6875 14.9375 \nQ 60.6875 21.78125 60.6875 36.53125 \nQ 60.6875 51.171875 53.6875 57.984375 \nQ 46.6875 64.796875 31.59375 64.796875 \nz\nM 9.8125 72.90625 \nL 30.078125 72.90625 \nQ 51.265625 72.90625 61.171875 64.09375 \nQ 71.09375 55.28125 71.09375 36.53125 \nQ 71.09375 17.671875 61.125 8.828125 \nQ 51.171875 0 30.078125 0 \nL 9.8125 0 \nz\n\" id=\"DejaVuSans-68\"/>\n      </defs>\n      <use xlink:href=\"#DejaVuSans-71\"/>\n      <use x=\"77.490234\" xlink:href=\"#DejaVuSans-68\"/>\n     </g>\n    </g>\n    <g id=\"line2d_16\">\n     <path d=\"M 297.381302 64.957098 \nL 337.381302 64.957098 \n\" style=\"fill:none;stroke:#ff0000;stroke-linecap:square;stroke-width:2;\"/>\n    </g>\n    <g id=\"line2d_17\"/>\n    <g id=\"text_15\">\n     <!-- SGD -->\n     <g transform=\"translate(353.381302 71.957098)scale(0.2 -0.2)\">\n      <defs>\n       <path d=\"M 53.515625 70.515625 \nL 53.515625 60.890625 \nQ 47.90625 63.578125 42.921875 64.890625 \nQ 37.9375 66.21875 33.296875 66.21875 \nQ 25.25 66.21875 20.875 63.09375 \nQ 16.5 59.96875 16.5 54.203125 \nQ 16.5 49.359375 19.40625 46.890625 \nQ 22.3125 44.4375 30.421875 42.921875 \nL 36.375 41.703125 \nQ 47.40625 39.59375 52.65625 34.296875 \nQ 57.90625 29 57.90625 20.125 \nQ 57.90625 9.515625 50.796875 4.046875 \nQ 43.703125 -1.421875 29.984375 -1.421875 \nQ 24.8125 -1.421875 18.96875 -0.25 \nQ 13.140625 0.921875 6.890625 3.21875 \nL 6.890625 13.375 \nQ 12.890625 10.015625 18.65625 8.296875 \nQ 24.421875 6.59375 29.984375 6.59375 \nQ 38.421875 6.59375 43.015625 9.90625 \nQ 47.609375 13.234375 47.609375 19.390625 \nQ 47.609375 24.75 44.3125 27.78125 \nQ 41.015625 30.8125 33.5 32.328125 \nL 27.484375 33.5 \nQ 16.453125 35.6875 11.515625 40.375 \nQ 6.59375 45.0625 6.59375 53.421875 \nQ 6.59375 63.09375 13.40625 68.65625 \nQ 20.21875 74.21875 32.171875 74.21875 \nQ 37.3125 74.21875 42.625 73.28125 \nQ 47.953125 72.359375 53.515625 70.515625 \nz\n\" id=\"DejaVuSans-83\"/>\n      </defs>\n      <use xlink:href=\"#DejaVuSans-83\"/>\n      <use x=\"63.476562\" xlink:href=\"#DejaVuSans-71\"/>\n      <use x=\"140.966797\" xlink:href=\"#DejaVuSans-68\"/>\n     </g>\n    </g>\n   </g>\n  </g>\n </g>\n <defs>\n  <clipPath id=\"pa781a1c120\">\n   <rect height=\"219.242914\" width=\"341.793802\" x=\"73.18125\" y=\"9.403973\"/>\n  </clipPath>\n </defs>\n</svg>\n",
      "image/png": "[encoded data removed]"
     },
     "metadata": {
      "needs_background": "light"
     }
    }
   ],
   "source": [
    "import matplotlib.pyplot as plt\n",
    "%matplotlib inline\n",
    "\n",
    "fig = plt.figure(figsize=(6, 4))\n",
    "\n",
    "epochs_gd = range(len(objvals_gd))\n",
    "epochs_sgd = range(len(objvals_sgd))\n",
    "\n",
    "line0, = plt.plot(epochs_gd, objvals_gd, '--b', LineWidth=4)\n",
    "line1, = plt.plot(epochs_sgd, objvals_sgd, '-r', LineWidth=2)\n",
    "plt.xlabel('Epochs', FontSize=20)\n",
    "plt.ylabel('Objective Value', FontSize=20)\n",
    "plt.xticks(FontSize=16)\n",
    "plt.yticks(FontSize=16)\n",
    "plt.legend([line0, line1], ['GD', 'SGD'], fontsize=20)\n",
    "plt.tight_layout()\n",
    "plt.show()\n",
    "fig.savefig('compare_gd_sgd.pdf', format='pdf', dpi=1200)"
   ]
  },
  {
   "cell_type": "markdown",
   "metadata": {},
   "source": [
    "# 5. Prediction"
   ]
  },
  {
   "cell_type": "code",
   "execution_count": 14,
   "metadata": {},
   "outputs": [],
   "source": [
    "# Predict class label\n",
    "# Inputs:\n",
    "#     w: d-by-1 matrix\n",
    "#     X: m-by-d matrix\n",
    "# Return:\n",
    "#     f: m-by-1 matrix, the predictions\n",
    "def predict(w, X):\n",
    "    xw = numpy.dot(X, w)\n",
    "    f = numpy.sign(xw)\n",
    "    return f"
   ]
  },
  {
   "cell_type": "code",
   "execution_count": 15,
   "metadata": {},
   "outputs": [
    {
     "output_type": "stream",
     "name": "stdout",
     "text": [
      "Training classification error is 0.2203125\n"
     ]
    }
   ],
   "source": [
    "# evaluate training error\n",
    "f_train = predict(w, x_train)\n",
    "diff = numpy.abs(f_train - y_train) / 2\n",
    "error_train = numpy.mean(diff)\n",
    "print('Training classification error is ' + str(error_train))"
   ]
  },
  {
   "cell_type": "code",
   "execution_count": 16,
   "metadata": {},
   "outputs": [
    {
     "output_type": "stream",
     "name": "stdout",
     "text": [
      "Test classification error is 0.234375\n"
     ]
    }
   ],
   "source": [
    "# evaluate test error\n",
    "f_test = predict(w, x_test)\n",
    "diff = numpy.abs(f_test - y_test) / 2\n",
    "error_test = numpy.mean(diff)\n",
    "print('Test classification error is ' + str(error_test))"
   ]
  },
  {
   "cell_type": "markdown",
   "metadata": {},
   "source": [
    "# 6. Mini-batch SGD (fill the code)\n",
    "\n"
   ]
  },
  {
   "cell_type": "markdown",
   "metadata": {},
   "source": [
    "## 6.1. Compute the objective $Q_I$ and its gradient using a batch of samples\n",
    "\n",
    "Define $Q_I (w) = \\frac{1}{b} \\sum_{i \\in I} \\log \\Big( 1 + \\exp \\big( - y_i x_i^T w \\big) \\Big) + \\frac{\\lambda}{2} \\| w \\|_2^2 $, where $I$ is a set containing $b$ indices randomly drawn from $\\{ 1, \\cdots , n \\}$ without replacement.\n",
    "\n",
    "The stochastic gradient at $w$ is $g_I = \\frac{\\partial Q_I }{ \\partial w} = \\frac{1}{b} \\sum_{i \\in I} \\frac{- y_i x_i }{1 + \\exp ( y_i x_i^T w)} + \\lambda w$."
   ]
  },
  {
   "cell_type": "code",
   "execution_count": 17,
   "metadata": {},
   "outputs": [],
   "source": [
    "# Calculate the objective Q_I and the gradient of Q_I\n",
    "# Inputs:\n",
    "#     w: d-by-1 matrix\n",
    "#     xi: b-by-d matrix\n",
    "#     yi: b-by-1 matrix\n",
    "#     lam: scalar, the regularization parameter\n",
    "#     b: integer, the batch size\n",
    "# Return:\n",
    "#     obj: scalar, the objective Q_i\n",
    "#     g: d-by-1 matrix, gradient of Q_i\n",
    "def mb_stochastic_objective_gradient(w, xi, yi, lam, b):\n",
    "    # Fill the function\n",
    "    # Follow the implementation of stochastic_objective_gradient\n",
    "    # Use matrix-vector multiplication; do not use FOR LOOP of vector-vector multiplications\n",
    "    yx = numpy.multiply(yi, xi)    # b-by-d matrix\n",
    "    yxw = numpy.dot(yx, w) # b-by-1 matrix\n",
    "    vec1 = numpy.exp(-yxw) # b-by-1 matrix\n",
    "    vec2 = numpy.log(1 + vec1) # b-by-1 matrix\n",
    "    loss = numpy.mean(vec2) # scalar\n",
    "\n",
    "    # Compute the objective function\n",
    "    reg = lam / 2 * numpy.sum(w * w) # scalar\n",
    "    obj = loss + reg\n",
    "\n",
    "    # Compute the gradient\n",
    "    g_vec1 = numpy.exp(yxw)\n",
    "    g_vec2 = numpy.divide(yx, 1+g_vec1)\n",
    "    g_vec3 = -numpy.mean(g_vec2, axis=0).T\n",
    "    g = g_vec3 + lam*w\n",
    "\n",
    "    # Return\n",
    "    return obj, g"
   ]
  },
  {
   "cell_type": "markdown",
   "metadata": {},
   "source": [
    "## 6.2. Implement mini-batch SGD\n",
    "\n",
    "Hints:\n",
    "1. In every epoch, randomly permute the $n$ samples (just like SGD).\n",
    "2. Each epoch has $\\frac{n}{b}$ iterations. In every iteration, use $b$ samples, and compute the gradient and objective using the ``mb_stochastic_objective_gradient`` function. In the next iteration, use the next $b$ samples, and so on.\n"
   ]
  },
  {
   "cell_type": "code",
   "execution_count": 18,
   "metadata": {},
   "outputs": [],
   "source": [
    "# Mini-Batch SGD for solving logistic regression\n",
    "# Inputs:\n",
    "#     x: n-by-d matrix\n",
    "#     y: n-by-1 matrix\n",
    "#     lam: scalar, the regularization parameter\n",
    "#     b: integer, the batch size\n",
    "#     stepsize: scalar\n",
    "#     max_epoch: integer, the maximal epochs\n",
    "#     w: d-by-1 matrix, initialization of w\n",
    "# Return:\n",
    "#     w: the solution\n",
    "#     objvals: record of each iteration's objective value\n",
    "def mb_sgd(x, y, lam, b, stepsize, max_epoch=100, w=None):\n",
    "    # Fill the function\n",
    "    # Follow the implementation of sgd\n",
    "    # Record one objective value per epoch (not per iteration!)\n",
    "    n, d = x.shape\n",
    "    print( \"Shape of our data is {}\".format( x.shape ) )\n",
    "    objvals = numpy.zeros(max_epoch) # store the objective values\n",
    "    if w is None:\n",
    "        w = numpy.zeros((d, 1)) # zero initialization\n",
    "    \n",
    "    for t in range(max_epoch):\n",
    "        # randomly shuffle the samples\n",
    "        rand_indices = numpy.random.permutation(n)\n",
    "        x_rand = x[rand_indices, :]\n",
    "        y_rand = y[rand_indices, :]\n",
    "\n",
    "        objval = 0\n",
    "        start_index = 0\n",
    "        end_index = b\n",
    "        for i in range( (n//b) ):\n",
    "            xi = x_rand[ (b*i):(b*(i+1)), : ]\n",
    "            yi = y_rand[ (b*i):(b*(i+1)), : ]\n",
    "            obj, g = mb_stochastic_objective_gradient(w, xi, yi, lam, b)\n",
    "            objval += obj\n",
    "            w -= stepsize * g\n",
    "            \n",
    "        stepsize *= 0.9\n",
    "        objval /= (n//b)\n",
    "        objvals[t] = objval\n",
    "        print( \"Objective value at epoch t={} is {}.\".format(t, objval))\n",
    "\n",
    "        \n",
    "\n",
    "    return w, objvals"
   ]
  },
  {
   "cell_type": "markdown",
   "metadata": {},
   "source": [
    "## 6.3. Run MB-SGD"
   ]
  },
  {
   "cell_type": "code",
   "execution_count": 19,
   "metadata": {
    "tags": []
   },
   "outputs": [
    {
     "output_type": "stream",
     "name": "stdout",
     "text": [
      "Shape of our data is (640, 9)\n",
      "Objective value at epoch t=0 is 0.5475135568328489.\n",
      "Objective value at epoch t=1 is 0.4840590950577467.\n",
      "Objective value at epoch t=2 is 0.47873405354558524.\n",
      "Objective value at epoch t=3 is 0.47697923249482443.\n",
      "Objective value at epoch t=4 is 0.4743870957554746.\n",
      "Objective value at epoch t=5 is 0.47443365191417824.\n",
      "Objective value at epoch t=6 is 0.47360530418522906.\n",
      "Objective value at epoch t=7 is 0.4731590883175573.\n",
      "Objective value at epoch t=8 is 0.47236136208902196.\n",
      "Objective value at epoch t=9 is 0.47221771716165417.\n",
      "Objective value at epoch t=10 is 0.4720434391291743.\n",
      "Objective value at epoch t=11 is 0.4719847437953487.\n",
      "Objective value at epoch t=12 is 0.4715091541525349.\n",
      "Objective value at epoch t=13 is 0.4712497948263943.\n",
      "Objective value at epoch t=14 is 0.4709322170967199.\n",
      "Objective value at epoch t=15 is 0.4707276356397608.\n",
      "Objective value at epoch t=16 is 0.470591027658971.\n",
      "Objective value at epoch t=17 is 0.47038227087466034.\n",
      "Objective value at epoch t=18 is 0.47021590758300924.\n",
      "Objective value at epoch t=19 is 0.47001694100641556.\n",
      "Objective value at epoch t=20 is 0.4701409257466821.\n",
      "Objective value at epoch t=21 is 0.47000523587551735.\n",
      "Objective value at epoch t=22 is 0.46979997077096547.\n",
      "Objective value at epoch t=23 is 0.46975270875435526.\n",
      "Objective value at epoch t=24 is 0.4695650607958271.\n",
      "Objective value at epoch t=25 is 0.4695341290432708.\n",
      "Objective value at epoch t=26 is 0.4695161895886595.\n",
      "Objective value at epoch t=27 is 0.46946507084819444.\n",
      "Objective value at epoch t=28 is 0.4694071929443203.\n",
      "Objective value at epoch t=29 is 0.4693467226098794.\n",
      "Objective value at epoch t=30 is 0.4692771081487912.\n",
      "Objective value at epoch t=31 is 0.4692546821077691.\n",
      "Objective value at epoch t=32 is 0.4692160325648529.\n",
      "Objective value at epoch t=33 is 0.4691717408228747.\n",
      "Objective value at epoch t=34 is 0.46916358474497055.\n",
      "Objective value at epoch t=35 is 0.46913687650695846.\n",
      "Objective value at epoch t=36 is 0.4690874044641403.\n",
      "Objective value at epoch t=37 is 0.4690922654075472.\n",
      "Objective value at epoch t=38 is 0.4690726279234432.\n",
      "Objective value at epoch t=39 is 0.4690586303078484.\n",
      "Objective value at epoch t=40 is 0.46902833749840556.\n",
      "Objective value at epoch t=41 is 0.46901928088135236.\n",
      "Objective value at epoch t=42 is 0.4690187298848242.\n",
      "Objective value at epoch t=43 is 0.46899857657674976.\n",
      "Objective value at epoch t=44 is 0.4689925871195887.\n",
      "Objective value at epoch t=45 is 0.4689782660179752.\n",
      "Objective value at epoch t=46 is 0.4689688316469228.\n",
      "Objective value at epoch t=47 is 0.4689673000045209.\n",
      "Objective value at epoch t=48 is 0.46896669429223115.\n",
      "Objective value at epoch t=49 is 0.4689569779756565.\n",
      "Objective value at epoch t=50 is 0.46894784867854344.\n",
      "Objective value at epoch t=51 is 0.46894540746564656.\n",
      "Objective value at epoch t=52 is 0.46894220245899937.\n",
      "Objective value at epoch t=53 is 0.4689373987532588.\n",
      "Objective value at epoch t=54 is 0.4689304145930813.\n",
      "Objective value at epoch t=55 is 0.4689290173335053.\n",
      "Objective value at epoch t=56 is 0.46892422810582957.\n",
      "Objective value at epoch t=57 is 0.4689242113955453.\n",
      "Objective value at epoch t=58 is 0.4689229644447451.\n",
      "Objective value at epoch t=59 is 0.4689178153025999.\n",
      "Objective value at epoch t=60 is 0.4689168590656306.\n",
      "Objective value at epoch t=61 is 0.46891548597850335.\n",
      "Objective value at epoch t=62 is 0.46891518620517936.\n",
      "Objective value at epoch t=63 is 0.46891267072607895.\n",
      "Objective value at epoch t=64 is 0.4689126389887434.\n",
      "Objective value at epoch t=65 is 0.4689107447322308.\n",
      "Objective value at epoch t=66 is 0.4689091888760495.\n",
      "Objective value at epoch t=67 is 0.4689089229944149.\n",
      "Objective value at epoch t=68 is 0.46890774757645.\n",
      "Objective value at epoch t=69 is 0.46890721860142487.\n",
      "Objective value at epoch t=70 is 0.46890619597550537.\n",
      "Objective value at epoch t=71 is 0.46890570347494276.\n",
      "Objective value at epoch t=72 is 0.46890535224774565.\n",
      "Objective value at epoch t=73 is 0.46890501904718684.\n",
      "Objective value at epoch t=74 is 0.4689045158474931.\n",
      "Objective value at epoch t=75 is 0.468904419039864.\n",
      "Objective value at epoch t=76 is 0.4689034657394971.\n",
      "Objective value at epoch t=77 is 0.4689035303275818.\n",
      "Objective value at epoch t=78 is 0.4689032172956436.\n",
      "Objective value at epoch t=79 is 0.4689029114905163.\n",
      "Objective value at epoch t=80 is 0.4689028857446168.\n",
      "Objective value at epoch t=81 is 0.46890235315398743.\n",
      "Objective value at epoch t=82 is 0.4689024295461097.\n",
      "Objective value at epoch t=83 is 0.46890232626918077.\n",
      "Objective value at epoch t=84 is 0.4689021639090427.\n",
      "Objective value at epoch t=85 is 0.46890185705952936.\n",
      "Objective value at epoch t=86 is 0.46890180800475945.\n",
      "Objective value at epoch t=87 is 0.4689016241082082.\n",
      "Objective value at epoch t=88 is 0.4689015504433566.\n",
      "Objective value at epoch t=89 is 0.46890139896818983.\n",
      "Objective value at epoch t=90 is 0.4689013844973637.\n",
      "Objective value at epoch t=91 is 0.4689013254756098.\n",
      "Objective value at epoch t=92 is 0.4689012695855247.\n",
      "Objective value at epoch t=93 is 0.4689012282126468.\n",
      "Objective value at epoch t=94 is 0.46890116022021877.\n",
      "Objective value at epoch t=95 is 0.46890110445793265.\n",
      "Objective value at epoch t=96 is 0.4689010675086842.\n",
      "Objective value at epoch t=97 is 0.468901029908931.\n",
      "Objective value at epoch t=98 is 0.4689010114698321.\n",
      "Objective value at epoch t=99 is 0.4689009715204387.\n"
     ]
    }
   ],
   "source": [
    "# MB-SGD with batch size b=8\n",
    "lam = 1E-6 # do not change\n",
    "b = 8 # do not change\n",
    "stepsize = 0.1 # you must tune this parameter\n",
    "\n",
    "w, objvals_mbsgd8 = mb_sgd(x_train, y_train, lam, b, stepsize)"
   ]
  },
  {
   "cell_type": "code",
   "execution_count": 20,
   "metadata": {
    "tags": []
   },
   "outputs": [
    {
     "output_type": "stream",
     "name": "stdout",
     "text": [
      "Shape of our data is (640, 9)\n",
      "Objective value at epoch t=0 is 0.6492029059582588.\n",
      "Objective value at epoch t=1 is 0.5850495323644007.\n",
      "Objective value at epoch t=2 is 0.5528904853588381.\n",
      "Objective value at epoch t=3 is 0.5341157598107009.\n",
      "Objective value at epoch t=4 is 0.5222327248540521.\n",
      "Objective value at epoch t=5 is 0.5138534383110154.\n",
      "Objective value at epoch t=6 is 0.5076022798738338.\n",
      "Objective value at epoch t=7 is 0.503035713064872.\n",
      "Objective value at epoch t=8 is 0.4994508615748612.\n",
      "Objective value at epoch t=9 is 0.496662969821928.\n",
      "Objective value at epoch t=10 is 0.4945002360261673.\n",
      "Objective value at epoch t=11 is 0.49267037703763145.\n",
      "Objective value at epoch t=12 is 0.491125394821773.\n",
      "Objective value at epoch t=13 is 0.48977094664730564.\n",
      "Objective value at epoch t=14 is 0.48883380276346894.\n",
      "Objective value at epoch t=15 is 0.4878114571904256.\n",
      "Objective value at epoch t=16 is 0.4870940225291.\n",
      "Objective value at epoch t=17 is 0.4864463708557186.\n",
      "Objective value at epoch t=18 is 0.48580248947910354.\n",
      "Objective value at epoch t=19 is 0.48533965644471994.\n",
      "Objective value at epoch t=20 is 0.4848764377539635.\n",
      "Objective value at epoch t=21 is 0.4844918883063628.\n",
      "Objective value at epoch t=22 is 0.48417108438891815.\n",
      "Objective value at epoch t=23 is 0.48390800893606645.\n",
      "Objective value at epoch t=24 is 0.4836303666755636.\n",
      "Objective value at epoch t=25 is 0.48338859918314225.\n",
      "Objective value at epoch t=26 is 0.4831875187389253.\n",
      "Objective value at epoch t=27 is 0.4830136966412584.\n",
      "Objective value at epoch t=28 is 0.4828510262050523.\n",
      "Objective value at epoch t=29 is 0.4827061909784243.\n",
      "Objective value at epoch t=30 is 0.48258189961296083.\n",
      "Objective value at epoch t=31 is 0.48246505532551726.\n",
      "Objective value at epoch t=32 is 0.4823800037145548.\n",
      "Objective value at epoch t=33 is 0.4822894616638596.\n",
      "Objective value at epoch t=34 is 0.48221133070443656.\n",
      "Objective value at epoch t=35 is 0.48213781373278247.\n",
      "Objective value at epoch t=36 is 0.48206969556094215.\n",
      "Objective value at epoch t=37 is 0.4820166292919422.\n",
      "Objective value at epoch t=38 is 0.48196982886401035.\n",
      "Objective value at epoch t=39 is 0.4819199516162578.\n",
      "Objective value at epoch t=40 is 0.4818746363185995.\n",
      "Objective value at epoch t=41 is 0.48183880459636913.\n",
      "Objective value at epoch t=42 is 0.4818039688602955.\n",
      "Objective value at epoch t=43 is 0.4817740530082005.\n",
      "Objective value at epoch t=44 is 0.48174795902151446.\n",
      "Objective value at epoch t=45 is 0.48172940008861553.\n",
      "Objective value at epoch t=46 is 0.481702962268058.\n",
      "Objective value at epoch t=47 is 0.4816846173769038.\n",
      "Objective value at epoch t=48 is 0.481669607414741.\n",
      "Objective value at epoch t=49 is 0.48165374182468507.\n",
      "Objective value at epoch t=50 is 0.4816391963730447.\n",
      "Objective value at epoch t=51 is 0.4816253990406739.\n",
      "Objective value at epoch t=52 is 0.4816135261477199.\n",
      "Objective value at epoch t=53 is 0.4816043266286491.\n",
      "Objective value at epoch t=54 is 0.48159492642398505.\n",
      "Objective value at epoch t=55 is 0.48158624457379.\n",
      "Objective value at epoch t=56 is 0.4815799580634617.\n",
      "Objective value at epoch t=57 is 0.4815724455012823.\n",
      "Objective value at epoch t=58 is 0.4815669852181565.\n",
      "Objective value at epoch t=59 is 0.48156058781548905.\n",
      "Objective value at epoch t=60 is 0.4815563232646842.\n",
      "Objective value at epoch t=61 is 0.4815515809492773.\n",
      "Objective value at epoch t=62 is 0.481548409532945.\n",
      "Objective value at epoch t=63 is 0.48154461733059273.\n",
      "Objective value at epoch t=64 is 0.4815414391450063.\n",
      "Objective value at epoch t=65 is 0.4815383571020302.\n",
      "Objective value at epoch t=66 is 0.4815357121384388.\n",
      "Objective value at epoch t=67 is 0.48153341149519857.\n",
      "Objective value at epoch t=68 is 0.4815314919054893.\n",
      "Objective value at epoch t=69 is 0.48152973577112623.\n",
      "Objective value at epoch t=70 is 0.48152783373902164.\n",
      "Objective value at epoch t=71 is 0.48152628069707515.\n",
      "Objective value at epoch t=72 is 0.4815249298361192.\n",
      "Objective value at epoch t=73 is 0.4815236997358774.\n",
      "Objective value at epoch t=74 is 0.4815225719316575.\n",
      "Objective value at epoch t=75 is 0.48152169758910757.\n",
      "Objective value at epoch t=76 is 0.4815206739746465.\n",
      "Objective value at epoch t=77 is 0.4815198449723451.\n",
      "Objective value at epoch t=78 is 0.48151913167262006.\n",
      "Objective value at epoch t=79 is 0.4815184852536893.\n",
      "Objective value at epoch t=80 is 0.48151786737717694.\n",
      "Objective value at epoch t=81 is 0.4815174438093182.\n",
      "Objective value at epoch t=82 is 0.48151696066325644.\n",
      "Objective value at epoch t=83 is 0.4815164694312556.\n",
      "Objective value at epoch t=84 is 0.48151607728876333.\n",
      "Objective value at epoch t=85 is 0.4815156914158975.\n",
      "Objective value at epoch t=86 is 0.48151539594451653.\n",
      "Objective value at epoch t=87 is 0.4815151454141525.\n",
      "Objective value at epoch t=88 is 0.48151488311271606.\n",
      "Objective value at epoch t=89 is 0.481514642231594.\n",
      "Objective value at epoch t=90 is 0.48151443764686946.\n",
      "Objective value at epoch t=91 is 0.48151427526317037.\n",
      "Objective value at epoch t=92 is 0.48151410764461444.\n",
      "Objective value at epoch t=93 is 0.48151393911625806.\n",
      "Objective value at epoch t=94 is 0.4815138141216007.\n",
      "Objective value at epoch t=95 is 0.4815136948618989.\n",
      "Objective value at epoch t=96 is 0.48151358584334475.\n",
      "Objective value at epoch t=97 is 0.4815134936608917.\n",
      "Objective value at epoch t=98 is 0.4815134032250172.\n",
      "Objective value at epoch t=99 is 0.4815133158225769.\n"
     ]
    }
   ],
   "source": [
    "# MB-SGD with batch size b=64\n",
    "lam = 1E-6 # do not change\n",
    "b = 64 # do not change\n",
    "stepsize = 0.1 # you must tune this parameter\n",
    "\n",
    "w, objvals_mbsgd64 = mb_sgd(x_train, y_train, lam, b, stepsize)"
   ]
  },
  {
   "cell_type": "markdown",
   "metadata": {},
   "source": [
    "# 7. Plot and compare GD, SGD, and MB-SGD"
   ]
  },
  {
   "cell_type": "markdown",
   "metadata": {},
   "source": [
    "You are required to compare the following algorithms:\n",
    "\n",
    "- Gradient descent (GD)\n",
    "\n",
    "- SGD\n",
    "\n",
    "- MB-SGD with b=8\n",
    "\n",
    "- MB-SGD with b=64\n",
    "\n",
    "Follow the code in Section 4 to plot ```objective function value``` against ```epochs```. There should be four curves in the plot; each curve corresponds to one algorithm."
   ]
  },
  {
   "cell_type": "markdown",
   "metadata": {},
   "source": [
    "Hint: Logistic regression with $\\ell_2$-norm regularization is a strongly convex optimization problem. All the algorithms will converge to the same solution. **In the end, the ``objective function value`` of the 4 algorithms will be the same. If not the same, your implementation must be wrong. Do NOT submit wrong code and wrong result!**"
   ]
  },
  {
   "cell_type": "code",
   "execution_count": 21,
   "metadata": {},
   "outputs": [
    {
     "output_type": "stream",
     "name": "stderr",
     "text": [
      "<ipython-input-21-905fd858bb63>:9: MatplotlibDeprecationWarning: Case-insensitive properties were deprecated in 3.3 and support will be removed two minor releases later\n  line0, = plt.plot(epochs_gd, objvals_gd, '--b', LineWidth=4)\n<ipython-input-21-905fd858bb63>:10: MatplotlibDeprecationWarning: Case-insensitive properties were deprecated in 3.3 and support will be removed two minor releases later\n  line1, = plt.plot(epochs_sgd, objvals_sgd, '-r', LineWidth=2)\n<ipython-input-21-905fd858bb63>:11: MatplotlibDeprecationWarning: Case-insensitive properties were deprecated in 3.3 and support will be removed two minor releases later\n  line2, = plt.plot(epochs_mbsgd8, objvals_mbsgd8, '-y', LineWidth=2)\n<ipython-input-21-905fd858bb63>:12: MatplotlibDeprecationWarning: Case-insensitive properties were deprecated in 3.3 and support will be removed two minor releases later\n  line3, = plt.plot(epochs_mbsgd64, objvals_mbsgd64, '-g', LineWidth=2)\n<ipython-input-21-905fd858bb63>:13: MatplotlibDeprecationWarning: Case-insensitive properties were deprecated in 3.3 and support will be removed two minor releases later\n  plt.xlabel('Epochs', FontSize=20)\n<ipython-input-21-905fd858bb63>:14: MatplotlibDeprecationWarning: Case-insensitive properties were deprecated in 3.3 and support will be removed two minor releases later\n  plt.ylabel('Objective Value', FontSize=20)\n<ipython-input-21-905fd858bb63>:15: MatplotlibDeprecationWarning: Case-insensitive properties were deprecated in 3.3 and support will be removed two minor releases later\n  plt.xticks(FontSize=16)\n<ipython-input-21-905fd858bb63>:16: MatplotlibDeprecationWarning: Case-insensitive properties were deprecated in 3.3 and support will be removed two minor releases later\n  plt.yticks(FontSize=16)\n"
     ]
    },
    {
     "output_type": "display_data",
     "data": {
      "text/plain": "<Figure size 432x288 with 1 Axes>",
      "image/svg+xml": "<?xml version=\"1.0\" encoding=\"utf-8\" standalone=\"no\"?>\n<!DOCTYPE svg PUBLIC \"-//W3C//DTD SVG 1.1//EN\"\n  \"http://www.w3.org/Graphics/SVG/1.1/DTD/svg11.dtd\">\n<!-- Created with matplotlib (https://matplotlib.org/) -->\n<svg height=\"281.688136pt\" version=\"1.1\" viewBox=\"0 0 425.047572 281.688136\" width=\"425.047572pt\" xmlns=\"http://www.w3.org/2000/svg\" xmlns:xlink=\"http://www.w3.org/1999/xlink\">\n <metadata>\n  <rdf:RDF xmlns:cc=\"http://creativecommons.org/ns#\" xmlns:dc=\"http://purl.org/dc/elements/1.1/\" xmlns:rdf=\"http://www.w3.org/1999/02/22-rdf-syntax-ns#\">\n   <cc:Work>\n    <dc:type rdf:resource=\"http://purl.org/dc/dcmitype/StillImage\"/>\n    <dc:date>2021-03-05T21:26:39.509373</dc:date>\n    <dc:format>image/svg+xml</dc:format>\n    <dc:creator>\n     <cc:Agent>\n      <dc:title>Matplotlib v3.3.4, https://matplotlib.org/</dc:title>\n     </cc:Agent>\n    </dc:creator>\n   </cc:Work>\n  </rdf:RDF>\n </metadata>\n <defs>\n  <style type=\"text/css\">*{stroke-linecap:butt;stroke-linejoin:round;}</style>\n </defs>\n <g id=\"figure_1\">\n  <g id=\"patch_1\">\n   <path d=\"M 0 281.688136 \nL 425.047572 281.688136 \nL 425.047572 0 \nL 0 0 \nz\n\" style=\"fill:none;\"/>\n  </g>\n  <g id=\"axes_1\">\n   <g id=\"patch_2\">\n    <path d=\"M 73.18125 228.646886 \nL 414.975052 228.646886 \nL 414.975052 9.403973 \nL 73.18125 9.403973 \nz\n\" style=\"fill:#ffffff;\"/>\n   </g>\n   <g id=\"matplotlib.axis_1\">\n    <g id=\"xtick_1\">\n     <g id=\"line2d_1\">\n      <defs>\n       <path d=\"M 0 0 \nL 0 3.5 \n\" id=\"mc39482a2e9\" style=\"stroke:#000000;stroke-width:0.8;\"/>\n      </defs>\n      <g>\n       <use style=\"stroke:#000000;stroke-width:0.8;\" x=\"88.717332\" xlink:href=\"#mc39482a2e9\" y=\"228.646886\"/>\n      </g>\n     </g>\n     <g id=\"text_1\">\n      <!-- 0 -->\n      <g transform=\"translate(83.627332 247.804386)scale(0.16 -0.16)\">\n       <defs>\n        <path d=\"M 31.78125 66.40625 \nQ 24.171875 66.40625 20.328125 58.90625 \nQ 16.5 51.421875 16.5 36.375 \nQ 16.5 21.390625 20.328125 13.890625 \nQ 24.171875 6.390625 31.78125 6.390625 \nQ 39.453125 6.390625 43.28125 13.890625 \nQ 47.125 21.390625 47.125 36.375 \nQ 47.125 51.421875 43.28125 58.90625 \nQ 39.453125 66.40625 31.78125 66.40625 \nz\nM 31.78125 74.21875 \nQ 44.046875 74.21875 50.515625 64.515625 \nQ 56.984375 54.828125 56.984375 36.375 \nQ 56.984375 17.96875 50.515625 8.265625 \nQ 44.046875 -1.421875 31.78125 -1.421875 \nQ 19.53125 -1.421875 13.0625 8.265625 \nQ 6.59375 17.96875 6.59375 36.375 \nQ 6.59375 54.828125 13.0625 64.515625 \nQ 19.53125 74.21875 31.78125 74.21875 \nz\n\" id=\"DejaVuSans-48\"/>\n       </defs>\n       <use xlink:href=\"#DejaVuSans-48\"/>\n      </g>\n     </g>\n    </g>\n    <g id=\"xtick_2\">\n     <g id=\"line2d_2\">\n      <g>\n       <use style=\"stroke:#000000;stroke-width:0.8;\" x=\"151.48938\" xlink:href=\"#mc39482a2e9\" y=\"228.646886\"/>\n      </g>\n     </g>\n     <g id=\"text_2\">\n      <!-- 20 -->\n      <g transform=\"translate(141.30938 247.804386)scale(0.16 -0.16)\">\n       <defs>\n        <path d=\"M 19.1875 8.296875 \nL 53.609375 8.296875 \nL 53.609375 0 \nL 7.328125 0 \nL 7.328125 8.296875 \nQ 12.9375 14.109375 22.625 23.890625 \nQ 32.328125 33.6875 34.8125 36.53125 \nQ 39.546875 41.84375 41.421875 45.53125 \nQ 43.3125 49.21875 43.3125 52.78125 \nQ 43.3125 58.59375 39.234375 62.25 \nQ 35.15625 65.921875 28.609375 65.921875 \nQ 23.96875 65.921875 18.8125 64.3125 \nQ 13.671875 62.703125 7.8125 59.421875 \nL 7.8125 69.390625 \nQ 13.765625 71.78125 18.9375 73 \nQ 24.125 74.21875 28.421875 74.21875 \nQ 39.75 74.21875 46.484375 68.546875 \nQ 53.21875 62.890625 53.21875 53.421875 \nQ 53.21875 48.921875 51.53125 44.890625 \nQ 49.859375 40.875 45.40625 35.40625 \nQ 44.1875 33.984375 37.640625 27.21875 \nQ 31.109375 20.453125 19.1875 8.296875 \nz\n\" id=\"DejaVuSans-50\"/>\n       </defs>\n       <use xlink:href=\"#DejaVuSans-50\"/>\n       <use x=\"63.623047\" xlink:href=\"#DejaVuSans-48\"/>\n      </g>\n     </g>\n    </g>\n    <g id=\"xtick_3\">\n     <g id=\"line2d_3\">\n      <g>\n       <use style=\"stroke:#000000;stroke-width:0.8;\" x=\"214.261428\" xlink:href=\"#mc39482a2e9\" y=\"228.646886\"/>\n      </g>\n     </g>\n     <g id=\"text_3\">\n      <!-- 40 -->\n      <g transform=\"translate(204.081428 247.804386)scale(0.16 -0.16)\">\n       <defs>\n        <path d=\"M 37.796875 64.3125 \nL 12.890625 25.390625 \nL 37.796875 25.390625 \nz\nM 35.203125 72.90625 \nL 47.609375 72.90625 \nL 47.609375 25.390625 \nL 58.015625 25.390625 \nL 58.015625 17.1875 \nL 47.609375 17.1875 \nL 47.609375 0 \nL 37.796875 0 \nL 37.796875 17.1875 \nL 4.890625 17.1875 \nL 4.890625 26.703125 \nz\n\" id=\"DejaVuSans-52\"/>\n       </defs>\n       <use xlink:href=\"#DejaVuSans-52\"/>\n       <use x=\"63.623047\" xlink:href=\"#DejaVuSans-48\"/>\n      </g>\n     </g>\n    </g>\n    <g id=\"xtick_4\">\n     <g id=\"line2d_4\">\n      <g>\n       <use style=\"stroke:#000000;stroke-width:0.8;\" x=\"277.033476\" xlink:href=\"#mc39482a2e9\" y=\"228.646886\"/>\n      </g>\n     </g>\n     <g id=\"text_4\">\n      <!-- 60 -->\n      <g transform=\"translate(266.853476 247.804386)scale(0.16 -0.16)\">\n       <defs>\n        <path d=\"M 33.015625 40.375 \nQ 26.375 40.375 22.484375 35.828125 \nQ 18.609375 31.296875 18.609375 23.390625 \nQ 18.609375 15.53125 22.484375 10.953125 \nQ 26.375 6.390625 33.015625 6.390625 \nQ 39.65625 6.390625 43.53125 10.953125 \nQ 47.40625 15.53125 47.40625 23.390625 \nQ 47.40625 31.296875 43.53125 35.828125 \nQ 39.65625 40.375 33.015625 40.375 \nz\nM 52.59375 71.296875 \nL 52.59375 62.3125 \nQ 48.875 64.0625 45.09375 64.984375 \nQ 41.3125 65.921875 37.59375 65.921875 \nQ 27.828125 65.921875 22.671875 59.328125 \nQ 17.53125 52.734375 16.796875 39.40625 \nQ 19.671875 43.65625 24.015625 45.921875 \nQ 28.375 48.1875 33.59375 48.1875 \nQ 44.578125 48.1875 50.953125 41.515625 \nQ 57.328125 34.859375 57.328125 23.390625 \nQ 57.328125 12.15625 50.6875 5.359375 \nQ 44.046875 -1.421875 33.015625 -1.421875 \nQ 20.359375 -1.421875 13.671875 8.265625 \nQ 6.984375 17.96875 6.984375 36.375 \nQ 6.984375 53.65625 15.1875 63.9375 \nQ 23.390625 74.21875 37.203125 74.21875 \nQ 40.921875 74.21875 44.703125 73.484375 \nQ 48.484375 72.75 52.59375 71.296875 \nz\n\" id=\"DejaVuSans-54\"/>\n       </defs>\n       <use xlink:href=\"#DejaVuSans-54\"/>\n       <use x=\"63.623047\" xlink:href=\"#DejaVuSans-48\"/>\n      </g>\n     </g>\n    </g>\n    <g id=\"xtick_5\">\n     <g id=\"line2d_5\">\n      <g>\n       <use style=\"stroke:#000000;stroke-width:0.8;\" x=\"339.805524\" xlink:href=\"#mc39482a2e9\" y=\"228.646886\"/>\n      </g>\n     </g>\n     <g id=\"text_5\">\n      <!-- 80 -->\n      <g transform=\"translate(329.625524 247.804386)scale(0.16 -0.16)\">\n       <defs>\n        <path d=\"M 31.78125 34.625 \nQ 24.75 34.625 20.71875 30.859375 \nQ 16.703125 27.09375 16.703125 20.515625 \nQ 16.703125 13.921875 20.71875 10.15625 \nQ 24.75 6.390625 31.78125 6.390625 \nQ 38.8125 6.390625 42.859375 10.171875 \nQ 46.921875 13.96875 46.921875 20.515625 \nQ 46.921875 27.09375 42.890625 30.859375 \nQ 38.875 34.625 31.78125 34.625 \nz\nM 21.921875 38.8125 \nQ 15.578125 40.375 12.03125 44.71875 \nQ 8.5 49.078125 8.5 55.328125 \nQ 8.5 64.0625 14.71875 69.140625 \nQ 20.953125 74.21875 31.78125 74.21875 \nQ 42.671875 74.21875 48.875 69.140625 \nQ 55.078125 64.0625 55.078125 55.328125 \nQ 55.078125 49.078125 51.53125 44.71875 \nQ 48 40.375 41.703125 38.8125 \nQ 48.828125 37.15625 52.796875 32.3125 \nQ 56.78125 27.484375 56.78125 20.515625 \nQ 56.78125 9.90625 50.3125 4.234375 \nQ 43.84375 -1.421875 31.78125 -1.421875 \nQ 19.734375 -1.421875 13.25 4.234375 \nQ 6.78125 9.90625 6.78125 20.515625 \nQ 6.78125 27.484375 10.78125 32.3125 \nQ 14.796875 37.15625 21.921875 38.8125 \nz\nM 18.3125 54.390625 \nQ 18.3125 48.734375 21.84375 45.5625 \nQ 25.390625 42.390625 31.78125 42.390625 \nQ 38.140625 42.390625 41.71875 45.5625 \nQ 45.3125 48.734375 45.3125 54.390625 \nQ 45.3125 60.0625 41.71875 63.234375 \nQ 38.140625 66.40625 31.78125 66.40625 \nQ 25.390625 66.40625 21.84375 63.234375 \nQ 18.3125 60.0625 18.3125 54.390625 \nz\n\" id=\"DejaVuSans-56\"/>\n       </defs>\n       <use xlink:href=\"#DejaVuSans-56\"/>\n       <use x=\"63.623047\" xlink:href=\"#DejaVuSans-48\"/>\n      </g>\n     </g>\n    </g>\n    <g id=\"xtick_6\">\n     <g id=\"line2d_6\">\n      <g>\n       <use style=\"stroke:#000000;stroke-width:0.8;\" x=\"402.577572\" xlink:href=\"#mc39482a2e9\" y=\"228.646886\"/>\n      </g>\n     </g>\n     <g id=\"text_6\">\n      <!-- 100 -->\n      <g transform=\"translate(387.307572 247.804386)scale(0.16 -0.16)\">\n       <defs>\n        <path d=\"M 12.40625 8.296875 \nL 28.515625 8.296875 \nL 28.515625 63.921875 \nL 10.984375 60.40625 \nL 10.984375 69.390625 \nL 28.421875 72.90625 \nL 38.28125 72.90625 \nL 38.28125 8.296875 \nL 54.390625 8.296875 \nL 54.390625 0 \nL 12.40625 0 \nz\n\" id=\"DejaVuSans-49\"/>\n       </defs>\n       <use xlink:href=\"#DejaVuSans-49\"/>\n       <use x=\"63.623047\" xlink:href=\"#DejaVuSans-48\"/>\n       <use x=\"127.246094\" xlink:href=\"#DejaVuSans-48\"/>\n      </g>\n     </g>\n    </g>\n    <g id=\"text_7\">\n     <!-- Epochs -->\n     <g transform=\"translate(208.246901 270.328761)scale(0.2 -0.2)\">\n      <defs>\n       <path d=\"M 9.8125 72.90625 \nL 55.90625 72.90625 \nL 55.90625 64.59375 \nL 19.671875 64.59375 \nL 19.671875 43.015625 \nL 54.390625 43.015625 \nL 54.390625 34.71875 \nL 19.671875 34.71875 \nL 19.671875 8.296875 \nL 56.78125 8.296875 \nL 56.78125 0 \nL 9.8125 0 \nz\n\" id=\"DejaVuSans-69\"/>\n       <path d=\"M 18.109375 8.203125 \nL 18.109375 -20.796875 \nL 9.078125 -20.796875 \nL 9.078125 54.6875 \nL 18.109375 54.6875 \nL 18.109375 46.390625 \nQ 20.953125 51.265625 25.265625 53.625 \nQ 29.59375 56 35.59375 56 \nQ 45.5625 56 51.78125 48.09375 \nQ 58.015625 40.1875 58.015625 27.296875 \nQ 58.015625 14.40625 51.78125 6.484375 \nQ 45.5625 -1.421875 35.59375 -1.421875 \nQ 29.59375 -1.421875 25.265625 0.953125 \nQ 20.953125 3.328125 18.109375 8.203125 \nz\nM 48.6875 27.296875 \nQ 48.6875 37.203125 44.609375 42.84375 \nQ 40.53125 48.484375 33.40625 48.484375 \nQ 26.265625 48.484375 22.1875 42.84375 \nQ 18.109375 37.203125 18.109375 27.296875 \nQ 18.109375 17.390625 22.1875 11.75 \nQ 26.265625 6.109375 33.40625 6.109375 \nQ 40.53125 6.109375 44.609375 11.75 \nQ 48.6875 17.390625 48.6875 27.296875 \nz\n\" id=\"DejaVuSans-112\"/>\n       <path d=\"M 30.609375 48.390625 \nQ 23.390625 48.390625 19.1875 42.75 \nQ 14.984375 37.109375 14.984375 27.296875 \nQ 14.984375 17.484375 19.15625 11.84375 \nQ 23.34375 6.203125 30.609375 6.203125 \nQ 37.796875 6.203125 41.984375 11.859375 \nQ 46.1875 17.53125 46.1875 27.296875 \nQ 46.1875 37.015625 41.984375 42.703125 \nQ 37.796875 48.390625 30.609375 48.390625 \nz\nM 30.609375 56 \nQ 42.328125 56 49.015625 48.375 \nQ 55.71875 40.765625 55.71875 27.296875 \nQ 55.71875 13.875 49.015625 6.21875 \nQ 42.328125 -1.421875 30.609375 -1.421875 \nQ 18.84375 -1.421875 12.171875 6.21875 \nQ 5.515625 13.875 5.515625 27.296875 \nQ 5.515625 40.765625 12.171875 48.375 \nQ 18.84375 56 30.609375 56 \nz\n\" id=\"DejaVuSans-111\"/>\n       <path d=\"M 48.78125 52.59375 \nL 48.78125 44.1875 \nQ 44.96875 46.296875 41.140625 47.34375 \nQ 37.3125 48.390625 33.40625 48.390625 \nQ 24.65625 48.390625 19.8125 42.84375 \nQ 14.984375 37.3125 14.984375 27.296875 \nQ 14.984375 17.28125 19.8125 11.734375 \nQ 24.65625 6.203125 33.40625 6.203125 \nQ 37.3125 6.203125 41.140625 7.25 \nQ 44.96875 8.296875 48.78125 10.40625 \nL 48.78125 2.09375 \nQ 45.015625 0.34375 40.984375 -0.53125 \nQ 36.96875 -1.421875 32.421875 -1.421875 \nQ 20.0625 -1.421875 12.78125 6.34375 \nQ 5.515625 14.109375 5.515625 27.296875 \nQ 5.515625 40.671875 12.859375 48.328125 \nQ 20.21875 56 33.015625 56 \nQ 37.15625 56 41.109375 55.140625 \nQ 45.0625 54.296875 48.78125 52.59375 \nz\n\" id=\"DejaVuSans-99\"/>\n       <path d=\"M 54.890625 33.015625 \nL 54.890625 0 \nL 45.90625 0 \nL 45.90625 32.71875 \nQ 45.90625 40.484375 42.875 44.328125 \nQ 39.84375 48.1875 33.796875 48.1875 \nQ 26.515625 48.1875 22.3125 43.546875 \nQ 18.109375 38.921875 18.109375 30.90625 \nL 18.109375 0 \nL 9.078125 0 \nL 9.078125 75.984375 \nL 18.109375 75.984375 \nL 18.109375 46.1875 \nQ 21.34375 51.125 25.703125 53.5625 \nQ 30.078125 56 35.796875 56 \nQ 45.21875 56 50.046875 50.171875 \nQ 54.890625 44.34375 54.890625 33.015625 \nz\n\" id=\"DejaVuSans-104\"/>\n       <path d=\"M 44.28125 53.078125 \nL 44.28125 44.578125 \nQ 40.484375 46.53125 36.375 47.5 \nQ 32.28125 48.484375 27.875 48.484375 \nQ 21.1875 48.484375 17.84375 46.4375 \nQ 14.5 44.390625 14.5 40.28125 \nQ 14.5 37.15625 16.890625 35.375 \nQ 19.28125 33.59375 26.515625 31.984375 \nL 29.59375 31.296875 \nQ 39.15625 29.25 43.1875 25.515625 \nQ 47.21875 21.78125 47.21875 15.09375 \nQ 47.21875 7.46875 41.1875 3.015625 \nQ 35.15625 -1.421875 24.609375 -1.421875 \nQ 20.21875 -1.421875 15.453125 -0.5625 \nQ 10.6875 0.296875 5.421875 2 \nL 5.421875 11.28125 \nQ 10.40625 8.6875 15.234375 7.390625 \nQ 20.0625 6.109375 24.8125 6.109375 \nQ 31.15625 6.109375 34.5625 8.28125 \nQ 37.984375 10.453125 37.984375 14.40625 \nQ 37.984375 18.0625 35.515625 20.015625 \nQ 33.0625 21.96875 24.703125 23.78125 \nL 21.578125 24.515625 \nQ 13.234375 26.265625 9.515625 29.90625 \nQ 5.8125 33.546875 5.8125 39.890625 \nQ 5.8125 47.609375 11.28125 51.796875 \nQ 16.75 56 26.8125 56 \nQ 31.78125 56 36.171875 55.265625 \nQ 40.578125 54.546875 44.28125 53.078125 \nz\n\" id=\"DejaVuSans-115\"/>\n      </defs>\n      <use xlink:href=\"#DejaVuSans-69\"/>\n      <use x=\"63.183594\" xlink:href=\"#DejaVuSans-112\"/>\n      <use x=\"126.660156\" xlink:href=\"#DejaVuSans-111\"/>\n      <use x=\"187.841797\" xlink:href=\"#DejaVuSans-99\"/>\n      <use x=\"242.822266\" xlink:href=\"#DejaVuSans-104\"/>\n      <use x=\"306.201172\" xlink:href=\"#DejaVuSans-115\"/>\n     </g>\n    </g>\n   </g>\n   <g id=\"matplotlib.axis_2\">\n    <g id=\"ytick_1\">\n     <g id=\"line2d_7\">\n      <defs>\n       <path d=\"M 0 0 \nL -3.5 0 \n\" id=\"me870453462\" style=\"stroke:#000000;stroke-width:0.8;\"/>\n      </defs>\n      <g>\n       <use style=\"stroke:#000000;stroke-width:0.8;\" x=\"73.18125\" xlink:href=\"#me870453462\" y=\"191.039438\"/>\n      </g>\n     </g>\n     <g id=\"text_8\">\n      <!-- 0.50 -->\n      <g transform=\"translate(30.55625 197.118188)scale(0.16 -0.16)\">\n       <defs>\n        <path d=\"M 10.6875 12.40625 \nL 21 12.40625 \nL 21 0 \nL 10.6875 0 \nz\n\" id=\"DejaVuSans-46\"/>\n        <path d=\"M 10.796875 72.90625 \nL 49.515625 72.90625 \nL 49.515625 64.59375 \nL 19.828125 64.59375 \nL 19.828125 46.734375 \nQ 21.96875 47.46875 24.109375 47.828125 \nQ 26.265625 48.1875 28.421875 48.1875 \nQ 40.625 48.1875 47.75 41.5 \nQ 54.890625 34.8125 54.890625 23.390625 \nQ 54.890625 11.625 47.5625 5.09375 \nQ 40.234375 -1.421875 26.90625 -1.421875 \nQ 22.3125 -1.421875 17.546875 -0.640625 \nQ 12.796875 0.140625 7.71875 1.703125 \nL 7.71875 11.625 \nQ 12.109375 9.234375 16.796875 8.0625 \nQ 21.484375 6.890625 26.703125 6.890625 \nQ 35.15625 6.890625 40.078125 11.328125 \nQ 45.015625 15.765625 45.015625 23.390625 \nQ 45.015625 31 40.078125 35.4375 \nQ 35.15625 39.890625 26.703125 39.890625 \nQ 22.75 39.890625 18.8125 39.015625 \nQ 14.890625 38.140625 10.796875 36.28125 \nz\n\" id=\"DejaVuSans-53\"/>\n       </defs>\n       <use xlink:href=\"#DejaVuSans-48\"/>\n       <use x=\"63.623047\" xlink:href=\"#DejaVuSans-46\"/>\n       <use x=\"95.410156\" xlink:href=\"#DejaVuSans-53\"/>\n       <use x=\"159.033203\" xlink:href=\"#DejaVuSans-48\"/>\n      </g>\n     </g>\n    </g>\n    <g id=\"ytick_2\">\n     <g id=\"line2d_8\">\n      <g>\n       <use style=\"stroke:#000000;stroke-width:0.8;\" x=\"73.18125\" xlink:href=\"#me870453462\" y=\"146.599266\"/>\n      </g>\n     </g>\n     <g id=\"text_9\">\n      <!-- 0.55 -->\n      <g transform=\"translate(30.55625 152.678016)scale(0.16 -0.16)\">\n       <use xlink:href=\"#DejaVuSans-48\"/>\n       <use x=\"63.623047\" xlink:href=\"#DejaVuSans-46\"/>\n       <use x=\"95.410156\" xlink:href=\"#DejaVuSans-53\"/>\n       <use x=\"159.033203\" xlink:href=\"#DejaVuSans-53\"/>\n      </g>\n     </g>\n    </g>\n    <g id=\"ytick_3\">\n     <g id=\"line2d_9\">\n      <g>\n       <use style=\"stroke:#000000;stroke-width:0.8;\" x=\"73.18125\" xlink:href=\"#me870453462\" y=\"102.159094\"/>\n      </g>\n     </g>\n     <g id=\"text_10\">\n      <!-- 0.60 -->\n      <g transform=\"translate(30.55625 108.237844)scale(0.16 -0.16)\">\n       <use xlink:href=\"#DejaVuSans-48\"/>\n       <use x=\"63.623047\" xlink:href=\"#DejaVuSans-46\"/>\n       <use x=\"95.410156\" xlink:href=\"#DejaVuSans-54\"/>\n       <use x=\"159.033203\" xlink:href=\"#DejaVuSans-48\"/>\n      </g>\n     </g>\n    </g>\n    <g id=\"ytick_4\">\n     <g id=\"line2d_10\">\n      <g>\n       <use style=\"stroke:#000000;stroke-width:0.8;\" x=\"73.18125\" xlink:href=\"#me870453462\" y=\"57.718922\"/>\n      </g>\n     </g>\n     <g id=\"text_11\">\n      <!-- 0.65 -->\n      <g transform=\"translate(30.55625 63.797672)scale(0.16 -0.16)\">\n       <use xlink:href=\"#DejaVuSans-48\"/>\n       <use x=\"63.623047\" xlink:href=\"#DejaVuSans-46\"/>\n       <use x=\"95.410156\" xlink:href=\"#DejaVuSans-54\"/>\n       <use x=\"159.033203\" xlink:href=\"#DejaVuSans-53\"/>\n      </g>\n     </g>\n    </g>\n    <g id=\"ytick_5\">\n     <g id=\"line2d_11\">\n      <g>\n       <use style=\"stroke:#000000;stroke-width:0.8;\" x=\"73.18125\" xlink:href=\"#me870453462\" y=\"13.27875\"/>\n      </g>\n     </g>\n     <g id=\"text_12\">\n      <!-- 0.70 -->\n      <g transform=\"translate(30.55625 19.3575)scale(0.16 -0.16)\">\n       <defs>\n        <path d=\"M 8.203125 72.90625 \nL 55.078125 72.90625 \nL 55.078125 68.703125 \nL 28.609375 0 \nL 18.3125 0 \nL 43.21875 64.59375 \nL 8.203125 64.59375 \nz\n\" id=\"DejaVuSans-55\"/>\n       </defs>\n       <use xlink:href=\"#DejaVuSans-48\"/>\n       <use x=\"63.623047\" xlink:href=\"#DejaVuSans-46\"/>\n       <use x=\"95.410156\" xlink:href=\"#DejaVuSans-55\"/>\n       <use x=\"159.033203\" xlink:href=\"#DejaVuSans-48\"/>\n      </g>\n     </g>\n    </g>\n    <g id=\"text_13\">\n     <!-- Objective Value -->\n     <g transform=\"translate(22.396875 197.086367)rotate(-90)scale(0.2 -0.2)\">\n      <defs>\n       <path d=\"M 39.40625 66.21875 \nQ 28.65625 66.21875 22.328125 58.203125 \nQ 16.015625 50.203125 16.015625 36.375 \nQ 16.015625 22.609375 22.328125 14.59375 \nQ 28.65625 6.59375 39.40625 6.59375 \nQ 50.140625 6.59375 56.421875 14.59375 \nQ 62.703125 22.609375 62.703125 36.375 \nQ 62.703125 50.203125 56.421875 58.203125 \nQ 50.140625 66.21875 39.40625 66.21875 \nz\nM 39.40625 74.21875 \nQ 54.734375 74.21875 63.90625 63.9375 \nQ 73.09375 53.65625 73.09375 36.375 \nQ 73.09375 19.140625 63.90625 8.859375 \nQ 54.734375 -1.421875 39.40625 -1.421875 \nQ 24.03125 -1.421875 14.8125 8.828125 \nQ 5.609375 19.09375 5.609375 36.375 \nQ 5.609375 53.65625 14.8125 63.9375 \nQ 24.03125 74.21875 39.40625 74.21875 \nz\n\" id=\"DejaVuSans-79\"/>\n       <path d=\"M 48.6875 27.296875 \nQ 48.6875 37.203125 44.609375 42.84375 \nQ 40.53125 48.484375 33.40625 48.484375 \nQ 26.265625 48.484375 22.1875 42.84375 \nQ 18.109375 37.203125 18.109375 27.296875 \nQ 18.109375 17.390625 22.1875 11.75 \nQ 26.265625 6.109375 33.40625 6.109375 \nQ 40.53125 6.109375 44.609375 11.75 \nQ 48.6875 17.390625 48.6875 27.296875 \nz\nM 18.109375 46.390625 \nQ 20.953125 51.265625 25.265625 53.625 \nQ 29.59375 56 35.59375 56 \nQ 45.5625 56 51.78125 48.09375 \nQ 58.015625 40.1875 58.015625 27.296875 \nQ 58.015625 14.40625 51.78125 6.484375 \nQ 45.5625 -1.421875 35.59375 -1.421875 \nQ 29.59375 -1.421875 25.265625 0.953125 \nQ 20.953125 3.328125 18.109375 8.203125 \nL 18.109375 0 \nL 9.078125 0 \nL 9.078125 75.984375 \nL 18.109375 75.984375 \nz\n\" id=\"DejaVuSans-98\"/>\n       <path d=\"M 9.421875 54.6875 \nL 18.40625 54.6875 \nL 18.40625 -0.984375 \nQ 18.40625 -11.421875 14.421875 -16.109375 \nQ 10.453125 -20.796875 1.609375 -20.796875 \nL -1.8125 -20.796875 \nL -1.8125 -13.1875 \nL 0.59375 -13.1875 \nQ 5.71875 -13.1875 7.5625 -10.8125 \nQ 9.421875 -8.453125 9.421875 -0.984375 \nz\nM 9.421875 75.984375 \nL 18.40625 75.984375 \nL 18.40625 64.59375 \nL 9.421875 64.59375 \nz\n\" id=\"DejaVuSans-106\"/>\n       <path d=\"M 56.203125 29.59375 \nL 56.203125 25.203125 \nL 14.890625 25.203125 \nQ 15.484375 15.921875 20.484375 11.0625 \nQ 25.484375 6.203125 34.421875 6.203125 \nQ 39.59375 6.203125 44.453125 7.46875 \nQ 49.3125 8.734375 54.109375 11.28125 \nL 54.109375 2.78125 \nQ 49.265625 0.734375 44.1875 -0.34375 \nQ 39.109375 -1.421875 33.890625 -1.421875 \nQ 20.796875 -1.421875 13.15625 6.1875 \nQ 5.515625 13.8125 5.515625 26.8125 \nQ 5.515625 40.234375 12.765625 48.109375 \nQ 20.015625 56 32.328125 56 \nQ 43.359375 56 49.78125 48.890625 \nQ 56.203125 41.796875 56.203125 29.59375 \nz\nM 47.21875 32.234375 \nQ 47.125 39.59375 43.09375 43.984375 \nQ 39.0625 48.390625 32.421875 48.390625 \nQ 24.90625 48.390625 20.390625 44.140625 \nQ 15.875 39.890625 15.1875 32.171875 \nz\n\" id=\"DejaVuSans-101\"/>\n       <path d=\"M 18.3125 70.21875 \nL 18.3125 54.6875 \nL 36.8125 54.6875 \nL 36.8125 47.703125 \nL 18.3125 47.703125 \nL 18.3125 18.015625 \nQ 18.3125 11.328125 20.140625 9.421875 \nQ 21.96875 7.515625 27.59375 7.515625 \nL 36.8125 7.515625 \nL 36.8125 0 \nL 27.59375 0 \nQ 17.1875 0 13.234375 3.875 \nQ 9.28125 7.765625 9.28125 18.015625 \nL 9.28125 47.703125 \nL 2.6875 47.703125 \nL 2.6875 54.6875 \nL 9.28125 54.6875 \nL 9.28125 70.21875 \nz\n\" id=\"DejaVuSans-116\"/>\n       <path d=\"M 9.421875 54.6875 \nL 18.40625 54.6875 \nL 18.40625 0 \nL 9.421875 0 \nz\nM 9.421875 75.984375 \nL 18.40625 75.984375 \nL 18.40625 64.59375 \nL 9.421875 64.59375 \nz\n\" id=\"DejaVuSans-105\"/>\n       <path d=\"M 2.984375 54.6875 \nL 12.5 54.6875 \nL 29.59375 8.796875 \nL 46.6875 54.6875 \nL 56.203125 54.6875 \nL 35.6875 0 \nL 23.484375 0 \nz\n\" id=\"DejaVuSans-118\"/>\n       <path id=\"DejaVuSans-32\"/>\n       <path d=\"M 28.609375 0 \nL 0.78125 72.90625 \nL 11.078125 72.90625 \nL 34.1875 11.53125 \nL 57.328125 72.90625 \nL 67.578125 72.90625 \nL 39.796875 0 \nz\n\" id=\"DejaVuSans-86\"/>\n       <path d=\"M 34.28125 27.484375 \nQ 23.390625 27.484375 19.1875 25 \nQ 14.984375 22.515625 14.984375 16.5 \nQ 14.984375 11.71875 18.140625 8.90625 \nQ 21.296875 6.109375 26.703125 6.109375 \nQ 34.1875 6.109375 38.703125 11.40625 \nQ 43.21875 16.703125 43.21875 25.484375 \nL 43.21875 27.484375 \nz\nM 52.203125 31.203125 \nL 52.203125 0 \nL 43.21875 0 \nL 43.21875 8.296875 \nQ 40.140625 3.328125 35.546875 0.953125 \nQ 30.953125 -1.421875 24.3125 -1.421875 \nQ 15.921875 -1.421875 10.953125 3.296875 \nQ 6 8.015625 6 15.921875 \nQ 6 25.140625 12.171875 29.828125 \nQ 18.359375 34.515625 30.609375 34.515625 \nL 43.21875 34.515625 \nL 43.21875 35.40625 \nQ 43.21875 41.609375 39.140625 45 \nQ 35.0625 48.390625 27.6875 48.390625 \nQ 23 48.390625 18.546875 47.265625 \nQ 14.109375 46.140625 10.015625 43.890625 \nL 10.015625 52.203125 \nQ 14.9375 54.109375 19.578125 55.046875 \nQ 24.21875 56 28.609375 56 \nQ 40.484375 56 46.34375 49.84375 \nQ 52.203125 43.703125 52.203125 31.203125 \nz\n\" id=\"DejaVuSans-97\"/>\n       <path d=\"M 9.421875 75.984375 \nL 18.40625 75.984375 \nL 18.40625 0 \nL 9.421875 0 \nz\n\" id=\"DejaVuSans-108\"/>\n       <path d=\"M 8.5 21.578125 \nL 8.5 54.6875 \nL 17.484375 54.6875 \nL 17.484375 21.921875 \nQ 17.484375 14.15625 20.5 10.265625 \nQ 23.53125 6.390625 29.59375 6.390625 \nQ 36.859375 6.390625 41.078125 11.03125 \nQ 45.3125 15.671875 45.3125 23.6875 \nL 45.3125 54.6875 \nL 54.296875 54.6875 \nL 54.296875 0 \nL 45.3125 0 \nL 45.3125 8.40625 \nQ 42.046875 3.421875 37.71875 1 \nQ 33.40625 -1.421875 27.6875 -1.421875 \nQ 18.265625 -1.421875 13.375 4.4375 \nQ 8.5 10.296875 8.5 21.578125 \nz\nM 31.109375 56 \nz\n\" id=\"DejaVuSans-117\"/>\n      </defs>\n      <use xlink:href=\"#DejaVuSans-79\"/>\n      <use x=\"78.710938\" xlink:href=\"#DejaVuSans-98\"/>\n      <use x=\"142.1875\" xlink:href=\"#DejaVuSans-106\"/>\n      <use x=\"169.970703\" xlink:href=\"#DejaVuSans-101\"/>\n      <use x=\"231.494141\" xlink:href=\"#DejaVuSans-99\"/>\n      <use x=\"286.474609\" xlink:href=\"#DejaVuSans-116\"/>\n      <use x=\"325.683594\" xlink:href=\"#DejaVuSans-105\"/>\n      <use x=\"353.466797\" xlink:href=\"#DejaVuSans-118\"/>\n      <use x=\"412.646484\" xlink:href=\"#DejaVuSans-101\"/>\n      <use x=\"474.169922\" xlink:href=\"#DejaVuSans-32\"/>\n      <use x=\"505.957031\" xlink:href=\"#DejaVuSans-86\"/>\n      <use x=\"566.615234\" xlink:href=\"#DejaVuSans-97\"/>\n      <use x=\"627.894531\" xlink:href=\"#DejaVuSans-108\"/>\n      <use x=\"655.677734\" xlink:href=\"#DejaVuSans-117\"/>\n      <use x=\"719.056641\" xlink:href=\"#DejaVuSans-101\"/>\n     </g>\n    </g>\n   </g>\n   <g id=\"line2d_12\">\n    <path clip-path=\"url(#p21071af5eb)\" d=\"M 88.717332 19.36956 \nL 91.855934 108.49619 \nL 94.994537 146.721534 \nL 98.133139 167.65563 \nL 101.271742 180.79721 \nL 104.410344 189.710015 \nL 107.548946 196.056234 \nL 110.687549 200.729273 \nL 113.826151 204.256923 \nL 116.964754 206.972066 \nL 120.103356 209.094848 \nL 123.241958 210.776184 \nL 126.380561 212.122521 \nL 129.519163 213.210715 \nL 132.657766 214.097359 \nL 135.796368 214.824842 \nL 138.93497 215.425382 \nL 142.073573 215.92379 \nL 145.212175 216.339394 \nL 148.350778 216.687406 \nL 151.48938 216.979908 \nL 154.627982 217.226575 \nL 157.766585 217.435214 \nL 160.905187 217.612164 \nL 164.04379 217.762604 \nL 167.182392 217.890788 \nL 170.320994 218.00023 \nL 173.459597 218.093841 \nL 176.598199 218.174045 \nL 179.736802 218.242869 \nL 182.875404 218.30201 \nL 186.014006 218.352897 \nL 189.152609 218.396734 \nL 192.291211 218.43454 \nL 195.429814 218.467179 \nL 198.568416 218.495383 \nL 201.707018 218.519777 \nL 204.845621 218.540892 \nL 207.984223 218.559184 \nL 211.122826 218.575042 \nL 214.261428 218.588799 \nL 217.40003 218.60074 \nL 220.538633 218.611112 \nL 223.677235 218.620125 \nL 226.815838 218.627962 \nL 229.95444 218.63478 \nL 233.093042 218.640713 \nL 236.231645 218.64588 \nL 239.370247 218.65038 \nL 242.50885 218.654301 \nL 245.647452 218.65772 \nL 248.786054 218.660701 \nL 251.924657 218.663301 \nL 255.063259 218.665571 \nL 258.201862 218.667551 \nL 261.340464 218.669281 \nL 264.479066 218.670791 \nL 267.617669 218.67211 \nL 270.756271 218.673263 \nL 273.894874 218.674271 \nL 277.033476 218.675151 \nL 280.172078 218.675922 \nL 283.310681 218.676595 \nL 286.449283 218.677184 \nL 289.587886 218.6777 \nL 292.726488 218.678151 \nL 295.86509 218.678545 \nL 299.003693 218.678891 \nL 302.142295 218.679193 \nL 305.280898 218.679458 \nL 308.4195 218.67969 \nL 311.558102 218.679893 \nL 314.696705 218.680071 \nL 317.835307 218.680227 \nL 320.97391 218.680364 \nL 324.112512 218.680483 \nL 327.251114 218.680588 \nL 330.389717 218.68068 \nL 333.528319 218.680761 \nL 336.666922 218.680832 \nL 339.805524 218.680894 \nL 342.944127 218.680948 \nL 346.082729 218.680995 \nL 349.221331 218.681037 \nL 352.359934 218.681074 \nL 355.498536 218.681106 \nL 358.637139 218.681134 \nL 361.775741 218.681159 \nL 364.914343 218.681181 \nL 368.052946 218.6812 \nL 371.191548 218.681216 \nL 374.330151 218.681231 \nL 377.468753 218.681244 \nL 380.607355 218.681255 \nL 383.745958 218.681265 \nL 386.88456 218.681274 \nL 390.023163 218.681282 \nL 393.161765 218.681288 \nL 396.300367 218.681294 \nL 399.43897 218.681299 \n\" style=\"fill:none;stroke:#0000ff;stroke-dasharray:14.8,6.4;stroke-dashoffset:0;stroke-width:4;\"/>\n   </g>\n   <g id=\"line2d_13\">\n    <path clip-path=\"url(#p21071af5eb)\" d=\"M 88.717332 167.545548 \nL 91.855934 173.832 \nL 94.994537 186.475043 \nL 98.133139 186.130456 \nL 101.271742 185.598416 \nL 104.410344 195.124555 \nL 107.548946 194.130258 \nL 110.687549 196.233568 \nL 113.826151 198.535462 \nL 116.964754 200.432513 \nL 120.103356 201.627989 \nL 123.241958 205.085747 \nL 126.380561 203.463721 \nL 129.519163 206.612566 \nL 132.657766 207.133299 \nL 135.796368 207.847359 \nL 138.93497 209.27598 \nL 142.073573 210.896284 \nL 145.212175 211.007524 \nL 148.350778 210.817876 \nL 151.48938 211.525641 \nL 154.627982 213.370886 \nL 157.766585 213.012891 \nL 160.905187 213.168017 \nL 164.04379 214.123787 \nL 167.182392 214.03897 \nL 170.320994 214.838885 \nL 173.459597 215.167736 \nL 176.598199 215.245246 \nL 179.736802 215.714077 \nL 182.875404 216.019001 \nL 186.014006 216.276654 \nL 189.152609 216.50378 \nL 192.291211 216.670296 \nL 195.429814 216.869301 \nL 198.568416 217.080696 \nL 201.707018 217.228131 \nL 204.845621 217.382183 \nL 207.984223 217.47436 \nL 211.122826 217.617734 \nL 214.261428 217.720642 \nL 217.40003 217.808402 \nL 220.538633 217.888844 \nL 223.677235 217.976174 \nL 226.815838 218.037178 \nL 229.95444 218.102524 \nL 233.093042 218.157855 \nL 236.231645 218.210441 \nL 239.370247 218.257186 \nL 242.50885 218.299189 \nL 245.647452 218.337132 \nL 248.786054 218.374599 \nL 251.924657 218.403088 \nL 255.063259 218.429117 \nL 258.201862 218.454244 \nL 261.340464 218.478245 \nL 264.479066 218.497303 \nL 267.617669 218.515621 \nL 270.756271 218.532082 \nL 273.894874 218.546781 \nL 277.033476 218.56013 \nL 280.172078 218.572411 \nL 283.310681 218.583113 \nL 286.449283 218.592814 \nL 289.587886 218.601569 \nL 292.726488 218.609419 \nL 295.86509 218.616519 \nL 299.003693 218.623014 \nL 302.142295 218.628725 \nL 305.280898 218.633913 \nL 308.4195 218.638567 \nL 311.558102 218.642779 \nL 314.696705 218.646559 \nL 317.835307 218.650011 \nL 320.97391 218.653038 \nL 324.112512 218.6558 \nL 327.251114 218.658277 \nL 330.389717 218.660525 \nL 333.528319 218.662533 \nL 336.666922 218.664339 \nL 339.805524 218.665968 \nL 342.944127 218.667438 \nL 346.082729 218.668756 \nL 349.221331 218.669947 \nL 352.359934 218.671014 \nL 355.498536 218.671976 \nL 358.637139 218.672844 \nL 361.775741 218.673622 \nL 364.914343 218.674324 \nL 368.052946 218.674956 \nL 371.191548 218.675524 \nL 374.330151 218.676036 \nL 377.468753 218.676497 \nL 380.607355 218.676911 \nL 383.745958 218.677285 \nL 386.88456 218.67762 \nL 390.023163 218.677922 \nL 393.161765 218.678194 \nL 396.300367 218.678439 \nL 399.43897 218.678659 \n\" style=\"fill:none;stroke:#ff0000;stroke-linecap:square;stroke-width:2;\"/>\n   </g>\n   <g id=\"line2d_14\">\n    <path clip-path=\"url(#p21071af5eb)\" d=\"M 88.717332 148.809226 \nL 91.855934 205.20777 \nL 94.994537 209.940685 \nL 98.133139 211.500376 \nL 101.271742 213.804276 \nL 104.410344 213.762897 \nL 107.548946 214.499135 \nL 110.687549 214.895733 \nL 113.826151 215.604755 \nL 116.964754 215.732427 \nL 120.103356 215.887326 \nL 123.241958 215.939494 \nL 126.380561 216.3622 \nL 129.519163 216.59272 \nL 132.657766 216.874984 \nL 135.796368 217.056817 \nL 138.93497 217.178234 \nL 142.073573 217.363778 \nL 145.212175 217.511642 \nL 148.350778 217.688484 \nL 151.48938 217.578286 \nL 154.627982 217.698888 \nL 157.766585 217.881328 \nL 160.905187 217.923335 \nL 164.04379 218.090117 \nL 167.182392 218.117609 \nL 170.320994 218.133554 \nL 173.459597 218.178988 \nL 176.598199 218.230431 \nL 179.736802 218.284177 \nL 182.875404 218.34605 \nL 186.014006 218.365983 \nL 189.152609 218.400335 \nL 192.291211 218.439701 \nL 195.429814 218.44695 \nL 198.568416 218.470689 \nL 201.707018 218.51466 \nL 204.845621 218.510339 \nL 207.984223 218.527793 \nL 211.122826 218.540234 \nL 214.261428 218.567159 \nL 217.40003 218.575208 \nL 220.538633 218.575698 \nL 223.677235 218.59361 \nL 226.815838 218.598934 \nL 229.95444 218.611662 \nL 233.093042 218.620048 \nL 236.231645 218.621409 \nL 239.370247 218.621947 \nL 242.50885 218.630583 \nL 245.647452 218.638697 \nL 248.786054 218.640867 \nL 251.924657 218.643716 \nL 255.063259 218.647985 \nL 258.201862 218.654193 \nL 261.340464 218.655435 \nL 264.479066 218.659691 \nL 267.617669 218.659706 \nL 270.756271 218.660815 \nL 273.894874 218.665391 \nL 277.033476 218.666241 \nL 280.172078 218.667461 \nL 283.310681 218.667728 \nL 286.449283 218.669964 \nL 289.587886 218.669992 \nL 292.726488 218.671675 \nL 295.86509 218.673058 \nL 299.003693 218.673295 \nL 302.142295 218.674339 \nL 305.280898 218.674809 \nL 308.4195 218.675718 \nL 311.558102 218.676156 \nL 314.696705 218.676468 \nL 317.835307 218.676764 \nL 320.97391 218.677212 \nL 324.112512 218.677298 \nL 327.251114 218.678145 \nL 330.389717 218.678088 \nL 333.528319 218.678366 \nL 336.666922 218.678638 \nL 339.805524 218.678661 \nL 342.944127 218.679134 \nL 346.082729 218.679066 \nL 349.221331 218.679158 \nL 352.359934 218.679302 \nL 355.498536 218.679575 \nL 358.637139 218.679618 \nL 361.775741 218.679782 \nL 364.914343 218.679847 \nL 368.052946 218.679982 \nL 371.191548 218.679995 \nL 374.330151 218.680047 \nL 377.468753 218.680097 \nL 380.607355 218.680134 \nL 383.745958 218.680194 \nL 386.88456 218.680244 \nL 390.023163 218.680277 \nL 393.161765 218.68031 \nL 396.300367 218.680326 \nL 399.43897 218.680362 \n\" style=\"fill:none;stroke:#bfbf00;stroke-linecap:square;stroke-width:2;\"/>\n   </g>\n   <g id=\"line2d_15\">\n    <path clip-path=\"url(#p21071af5eb)\" d=\"M 88.717332 58.427382 \nL 91.855934 115.447121 \nL 94.994537 144.030193 \nL 98.133139 160.717234 \nL 101.271742 171.278916 \nL 104.410344 178.726455 \nL 107.548946 184.282506 \nL 110.687549 188.341286 \nL 113.826151 191.527514 \nL 116.964754 194.005402 \nL 120.103356 195.927648 \nL 123.241958 197.554032 \nL 126.380561 198.927218 \nL 129.519163 200.131056 \nL 132.657766 200.963993 \nL 135.796368 201.872657 \nL 138.93497 202.510316 \nL 142.073573 203.085951 \nL 145.212175 203.658235 \nL 148.350778 204.069602 \nL 151.48938 204.481313 \nL 154.627982 204.823101 \nL 157.766585 205.108233 \nL 160.905187 205.342055 \nL 164.04379 205.588825 \nL 167.182392 205.803709 \nL 170.320994 205.98243 \nL 173.459597 206.136923 \nL 176.598199 206.281505 \nL 179.736802 206.410235 \nL 182.875404 206.520706 \nL 186.014006 206.624558 \nL 189.152609 206.700152 \nL 192.291211 206.780626 \nL 195.429814 206.850069 \nL 198.568416 206.915411 \nL 201.707018 206.975955 \nL 204.845621 207.02312 \nL 207.984223 207.064717 \nL 211.122826 207.109048 \nL 214.261428 207.149324 \nL 217.40003 207.181171 \nL 220.538633 207.212133 \nL 223.677235 207.238723 \nL 226.815838 207.261915 \nL 229.95444 207.27841 \nL 233.093042 207.301908 \nL 236.231645 207.318213 \nL 239.370247 207.331554 \nL 242.50885 207.345656 \nL 245.647452 207.358584 \nL 248.786054 207.370847 \nL 251.924657 207.3814 \nL 255.063259 207.389576 \nL 258.201862 207.397931 \nL 261.340464 207.405648 \nL 264.479066 207.411235 \nL 267.617669 207.417912 \nL 270.756271 207.422765 \nL 273.894874 207.428451 \nL 277.033476 207.432242 \nL 280.172078 207.436457 \nL 283.310681 207.439275 \nL 286.449283 207.442646 \nL 289.587886 207.445471 \nL 292.726488 207.44821 \nL 295.86509 207.450561 \nL 299.003693 207.452606 \nL 302.142295 207.454312 \nL 305.280898 207.455873 \nL 308.4195 207.457563 \nL 311.558102 207.458944 \nL 314.696705 207.460144 \nL 317.835307 207.461238 \nL 320.97391 207.46224 \nL 324.112512 207.463017 \nL 327.251114 207.463927 \nL 330.389717 207.464664 \nL 333.528319 207.465298 \nL 336.666922 207.465872 \nL 339.805524 207.466421 \nL 342.944127 207.466798 \nL 346.082729 207.467227 \nL 349.221331 207.467664 \nL 352.359934 207.468012 \nL 355.498536 207.468355 \nL 358.637139 207.468618 \nL 361.775741 207.468841 \nL 364.914343 207.469074 \nL 368.052946 207.469288 \nL 371.191548 207.46947 \nL 374.330151 207.469614 \nL 377.468753 207.469763 \nL 380.607355 207.469913 \nL 383.745958 207.470024 \nL 386.88456 207.47013 \nL 390.023163 207.470227 \nL 393.161765 207.470309 \nL 396.300367 207.470389 \nL 399.43897 207.470467 \n\" style=\"fill:none;stroke:#008000;stroke-linecap:square;stroke-width:2;\"/>\n   </g>\n   <g id=\"patch_3\">\n    <path d=\"M 73.18125 228.646886 \nL 73.18125 9.403973 \n\" style=\"fill:none;stroke:#000000;stroke-linecap:square;stroke-linejoin:miter;stroke-width:0.8;\"/>\n   </g>\n   <g id=\"patch_4\">\n    <path d=\"M 414.975052 228.646886 \nL 414.975052 9.403973 \n\" style=\"fill:none;stroke:#000000;stroke-linecap:square;stroke-linejoin:miter;stroke-width:0.8;\"/>\n   </g>\n   <g id=\"patch_5\">\n    <path d=\"M 73.18125 228.646886 \nL 414.975052 228.646886 \n\" style=\"fill:none;stroke:#000000;stroke-linecap:square;stroke-linejoin:miter;stroke-width:0.8;\"/>\n   </g>\n   <g id=\"patch_6\">\n    <path d=\"M 73.18125 9.403973 \nL 414.975052 9.403973 \n\" style=\"fill:none;stroke:#000000;stroke-linecap:square;stroke-linejoin:miter;stroke-width:0.8;\"/>\n   </g>\n   <g id=\"legend_1\">\n    <g id=\"patch_7\">\n     <path d=\"M 237.303177 142.828973 \nL 400.975052 142.828973 \nQ 404.975052 142.828973 404.975052 138.828973 \nL 404.975052 23.403973 \nQ 404.975052 19.403973 400.975052 19.403973 \nL 237.303177 19.403973 \nQ 233.303177 19.403973 233.303177 23.403973 \nL 233.303177 138.828973 \nQ 233.303177 142.828973 237.303177 142.828973 \nz\n\" style=\"fill:#ffffff;opacity:0.8;stroke:#cccccc;stroke-linejoin:miter;\"/>\n    </g>\n    <g id=\"line2d_16\">\n     <path d=\"M 241.303177 35.600848 \nL 281.303177 35.600848 \n\" style=\"fill:none;stroke:#0000ff;stroke-dasharray:14.8,6.4;stroke-dashoffset:0;stroke-width:4;\"/>\n    </g>\n    <g id=\"line2d_17\"/>\n    <g id=\"text_14\">\n     <!-- GD -->\n     <g transform=\"translate(297.303177 42.600848)scale(0.2 -0.2)\">\n      <defs>\n       <path d=\"M 59.515625 10.40625 \nL 59.515625 29.984375 \nL 43.40625 29.984375 \nL 43.40625 38.09375 \nL 69.28125 38.09375 \nL 69.28125 6.78125 \nQ 63.578125 2.734375 56.6875 0.65625 \nQ 49.8125 -1.421875 42 -1.421875 \nQ 24.90625 -1.421875 15.25 8.5625 \nQ 5.609375 18.5625 5.609375 36.375 \nQ 5.609375 54.25 15.25 64.234375 \nQ 24.90625 74.21875 42 74.21875 \nQ 49.125 74.21875 55.546875 72.453125 \nQ 61.96875 70.703125 67.390625 67.28125 \nL 67.390625 56.78125 \nQ 61.921875 61.421875 55.765625 63.765625 \nQ 49.609375 66.109375 42.828125 66.109375 \nQ 29.4375 66.109375 22.71875 58.640625 \nQ 16.015625 51.171875 16.015625 36.375 \nQ 16.015625 21.625 22.71875 14.15625 \nQ 29.4375 6.6875 42.828125 6.6875 \nQ 48.046875 6.6875 52.140625 7.59375 \nQ 56.25 8.5 59.515625 10.40625 \nz\n\" id=\"DejaVuSans-71\"/>\n       <path d=\"M 19.671875 64.796875 \nL 19.671875 8.109375 \nL 31.59375 8.109375 \nQ 46.6875 8.109375 53.6875 14.9375 \nQ 60.6875 21.78125 60.6875 36.53125 \nQ 60.6875 51.171875 53.6875 57.984375 \nQ 46.6875 64.796875 31.59375 64.796875 \nz\nM 9.8125 72.90625 \nL 30.078125 72.90625 \nQ 51.265625 72.90625 61.171875 64.09375 \nQ 71.09375 55.28125 71.09375 36.53125 \nQ 71.09375 17.671875 61.125 8.828125 \nQ 51.171875 0 30.078125 0 \nL 9.8125 0 \nz\n\" id=\"DejaVuSans-68\"/>\n      </defs>\n      <use xlink:href=\"#DejaVuSans-71\"/>\n      <use x=\"77.490234\" xlink:href=\"#DejaVuSans-68\"/>\n     </g>\n    </g>\n    <g id=\"line2d_18\">\n     <path d=\"M 241.303177 64.957098 \nL 281.303177 64.957098 \n\" style=\"fill:none;stroke:#ff0000;stroke-linecap:square;stroke-width:2;\"/>\n    </g>\n    <g id=\"line2d_19\"/>\n    <g id=\"text_15\">\n     <!-- SGD -->\n     <g transform=\"translate(297.303177 71.957098)scale(0.2 -0.2)\">\n      <defs>\n       <path d=\"M 53.515625 70.515625 \nL 53.515625 60.890625 \nQ 47.90625 63.578125 42.921875 64.890625 \nQ 37.9375 66.21875 33.296875 66.21875 \nQ 25.25 66.21875 20.875 63.09375 \nQ 16.5 59.96875 16.5 54.203125 \nQ 16.5 49.359375 19.40625 46.890625 \nQ 22.3125 44.4375 30.421875 42.921875 \nL 36.375 41.703125 \nQ 47.40625 39.59375 52.65625 34.296875 \nQ 57.90625 29 57.90625 20.125 \nQ 57.90625 9.515625 50.796875 4.046875 \nQ 43.703125 -1.421875 29.984375 -1.421875 \nQ 24.8125 -1.421875 18.96875 -0.25 \nQ 13.140625 0.921875 6.890625 3.21875 \nL 6.890625 13.375 \nQ 12.890625 10.015625 18.65625 8.296875 \nQ 24.421875 6.59375 29.984375 6.59375 \nQ 38.421875 6.59375 43.015625 9.90625 \nQ 47.609375 13.234375 47.609375 19.390625 \nQ 47.609375 24.75 44.3125 27.78125 \nQ 41.015625 30.8125 33.5 32.328125 \nL 27.484375 33.5 \nQ 16.453125 35.6875 11.515625 40.375 \nQ 6.59375 45.0625 6.59375 53.421875 \nQ 6.59375 63.09375 13.40625 68.65625 \nQ 20.21875 74.21875 32.171875 74.21875 \nQ 37.3125 74.21875 42.625 73.28125 \nQ 47.953125 72.359375 53.515625 70.515625 \nz\n\" id=\"DejaVuSans-83\"/>\n      </defs>\n      <use xlink:href=\"#DejaVuSans-83\"/>\n      <use x=\"63.476562\" xlink:href=\"#DejaVuSans-71\"/>\n      <use x=\"140.966797\" xlink:href=\"#DejaVuSans-68\"/>\n     </g>\n    </g>\n    <g id=\"line2d_20\">\n     <path d=\"M 241.303177 94.313348 \nL 281.303177 94.313348 \n\" style=\"fill:none;stroke:#bfbf00;stroke-linecap:square;stroke-width:2;\"/>\n    </g>\n    <g id=\"line2d_21\"/>\n    <g id=\"text_16\">\n     <!-- MBSGD8 -->\n     <g transform=\"translate(297.303177 101.313348)scale(0.2 -0.2)\">\n      <defs>\n       <path d=\"M 9.8125 72.90625 \nL 24.515625 72.90625 \nL 43.109375 23.296875 \nL 61.8125 72.90625 \nL 76.515625 72.90625 \nL 76.515625 0 \nL 66.890625 0 \nL 66.890625 64.015625 \nL 48.09375 14.015625 \nL 38.1875 14.015625 \nL 19.390625 64.015625 \nL 19.390625 0 \nL 9.8125 0 \nz\n\" id=\"DejaVuSans-77\"/>\n       <path d=\"M 19.671875 34.8125 \nL 19.671875 8.109375 \nL 35.5 8.109375 \nQ 43.453125 8.109375 47.28125 11.40625 \nQ 51.125 14.703125 51.125 21.484375 \nQ 51.125 28.328125 47.28125 31.5625 \nQ 43.453125 34.8125 35.5 34.8125 \nz\nM 19.671875 64.796875 \nL 19.671875 42.828125 \nL 34.28125 42.828125 \nQ 41.5 42.828125 45.03125 45.53125 \nQ 48.578125 48.25 48.578125 53.8125 \nQ 48.578125 59.328125 45.03125 62.0625 \nQ 41.5 64.796875 34.28125 64.796875 \nz\nM 9.8125 72.90625 \nL 35.015625 72.90625 \nQ 46.296875 72.90625 52.390625 68.21875 \nQ 58.5 63.53125 58.5 54.890625 \nQ 58.5 48.1875 55.375 44.234375 \nQ 52.25 40.28125 46.1875 39.3125 \nQ 53.46875 37.75 57.5 32.78125 \nQ 61.53125 27.828125 61.53125 20.40625 \nQ 61.53125 10.640625 54.890625 5.3125 \nQ 48.25 0 35.984375 0 \nL 9.8125 0 \nz\n\" id=\"DejaVuSans-66\"/>\n      </defs>\n      <use xlink:href=\"#DejaVuSans-77\"/>\n      <use x=\"86.279297\" xlink:href=\"#DejaVuSans-66\"/>\n      <use x=\"153.132812\" xlink:href=\"#DejaVuSans-83\"/>\n      <use x=\"216.609375\" xlink:href=\"#DejaVuSans-71\"/>\n      <use x=\"294.099609\" xlink:href=\"#DejaVuSans-68\"/>\n      <use x=\"371.101562\" xlink:href=\"#DejaVuSans-56\"/>\n     </g>\n    </g>\n    <g id=\"line2d_22\">\n     <path d=\"M 241.303177 123.669598 \nL 281.303177 123.669598 \n\" style=\"fill:none;stroke:#008000;stroke-linecap:square;stroke-width:2;\"/>\n    </g>\n    <g id=\"line2d_23\"/>\n    <g id=\"text_17\">\n     <!-- MBSGD64 -->\n     <g transform=\"translate(297.303177 130.669598)scale(0.2 -0.2)\">\n      <use xlink:href=\"#DejaVuSans-77\"/>\n      <use x=\"86.279297\" xlink:href=\"#DejaVuSans-66\"/>\n      <use x=\"153.132812\" xlink:href=\"#DejaVuSans-83\"/>\n      <use x=\"216.609375\" xlink:href=\"#DejaVuSans-71\"/>\n      <use x=\"294.099609\" xlink:href=\"#DejaVuSans-68\"/>\n      <use x=\"371.101562\" xlink:href=\"#DejaVuSans-54\"/>\n      <use x=\"434.724609\" xlink:href=\"#DejaVuSans-52\"/>\n     </g>\n    </g>\n   </g>\n  </g>\n </g>\n <defs>\n  <clipPath id=\"p21071af5eb\">\n   <rect height=\"219.242914\" width=\"341.793802\" x=\"73.18125\" y=\"9.403973\"/>\n  </clipPath>\n </defs>\n</svg>\n",
      "image/png": "[encoded data removed]"
     },
     "metadata": {
      "needs_background": "light"
     }
    }
   ],
   "source": [
    "# plot the 4 curves:\n",
    "fig = plt.figure(figsize=(6, 4))\n",
    "\n",
    "epochs_gd = range(len(objvals_gd))\n",
    "epochs_sgd = range(len(objvals_sgd))\n",
    "epochs_mbsgd8 = range(len(objvals_mbsgd8))\n",
    "epochs_mbsgd64 = range(len(objvals_mbsgd64))\n",
    "\n",
    "line0, = plt.plot(epochs_gd, objvals_gd, '--b', LineWidth=4)\n",
    "line1, = plt.plot(epochs_sgd, objvals_sgd, '-r', LineWidth=2)\n",
    "line2, = plt.plot(epochs_mbsgd8, objvals_mbsgd8, '-y', LineWidth=2)\n",
    "line3, = plt.plot(epochs_mbsgd64, objvals_mbsgd64, '-g', LineWidth=2)\n",
    "plt.xlabel('Epochs', FontSize=20)\n",
    "plt.ylabel('Objective Value', FontSize=20)\n",
    "plt.xticks(FontSize=16)\n",
    "plt.yticks(FontSize=16)\n",
    "plt.legend([line0, line1, line2, line3], ['GD', 'SGD', 'MBSGD8', 'MBSGD64'], fontsize=20)\n",
    "plt.tight_layout()\n",
    "plt.show()\n",
    "fig.savefig('compare_gd_sgd_mbsgd.pdf', format='pdf', dpi=1200)"
   ]
  },
  {
   "cell_type": "markdown",
   "metadata": {},
   "source": []
  }
 ],
 "metadata": {
  "kernelspec": {
   "name": "python3",
   "display_name": "Python 3.9.1 64-bit",
   "metadata": {
    "interpreter": {
     "hash": "e7370f93d1d0cde622a1f8e1c04877d8463912d04d973331ad4851f04de6915a"
    }
   }
  },
  "language_info": {
   "codemirror_mode": {
    "name": "ipython",
    "version": 3
   },
   "file_extension": ".py",
   "mimetype": "text/x-python",
   "name": "python",
   "nbconvert_exporter": "python",
   "pygments_lexer": "ipython3",
   "version": "3.9.1-final"
  }
 },
 "nbformat": 4,
 "nbformat_minor": 2
}