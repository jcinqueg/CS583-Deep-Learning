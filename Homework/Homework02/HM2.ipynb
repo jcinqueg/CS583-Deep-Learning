{
 "cells": [
  {
   "cell_type": "markdown",
   "metadata": {},
   "source": [
    "# HM2: Numerical Optimization for Logistic Regression.\n",
    "\n",
    "### Name: John Cinquegrana\n"
   ]
  },
  {
   "cell_type": "markdown",
   "metadata": {},
   "source": [
    "## 0. You will do the following:\n",
    "\n",
    "1. Read the lecture note: [click here](https://github.com/wangshusen/DeepLearning/blob/master/LectureNotes/Logistic/paper/logistic.pdf)\n",
    "\n",
    "2. Read, complete, and run my code.\n",
    "\n",
    "3. **Implement mini-batch SGD** and evaluate the performance.\n",
    "\n",
    "4. Convert the .IPYNB file to .HTML file.\n",
    "\n",
    "    * The HTML file must contain **the code** and **the output after execution**.\n",
    "    \n",
    "    * Missing **the output after execution** will not be graded.\n",
    "    \n",
    "5. Upload this .HTML file to your Google Drive, Dropbox, or your Github repo.  (If you submit the file to Google Drive or Dropbox, you must make the file \"open-access\". The delay caused by \"deny of access\" may result in late penalty.)\n",
    "\n",
    "6. Submit the link to this .HTML file to Canvas.\n",
    "\n",
    "    * Example: https://github.com/wangshusen/CS583-2020S/blob/master/homework/HM2/HM2.html\n",
    "\n",
    "\n",
    "## Grading criteria:\n",
    "\n",
    "1. When computing the ```gradient``` and ```objective function value``` using a batch of samples, use **matrix-vector multiplication** rather than a FOR LOOP of **vector-vector multiplications**.\n",
    "\n",
    "2. Plot ```objective function value``` against ```epochs```. In the plot, compare GD, SGD, and MB-SGD (with $b=8$ and $b=64$). The plot must look reasonable."
   ]
  },
  {
   "cell_type": "markdown",
   "metadata": {},
   "source": [
    "# 1. Data processing\n",
    "\n",
    "- Download the Diabete dataset from https://www.csie.ntu.edu.tw/~cjlin/libsvmtools/datasets/binary/diabetes\n",
    "- Load the data using sklearn.\n",
    "- Preprocess the data."
   ]
  },
  {
   "cell_type": "markdown",
   "metadata": {},
   "source": [
    "## 1.1. Load the data"
   ]
  },
  {
   "cell_type": "code",
   "execution_count": 1,
   "metadata": {},
   "outputs": [
    {
     "output_type": "stream",
     "name": "stdout",
     "text": [
      "Shape of x: (768, 8)\nShape of y: (768,)\n"
     ]
    }
   ],
   "source": [
    "from sklearn import datasets\n",
    "import numpy\n",
    "\n",
    "x_sparse, y = datasets.load_svmlight_file('diabetes')\n",
    "x = x_sparse.todense()\n",
    "\n",
    "print('Shape of x: ' + str(x.shape))\n",
    "print('Shape of y: ' + str(y.shape))"
   ]
  },
  {
   "cell_type": "markdown",
   "metadata": {},
   "source": [
    "## 1.2. Partition to training and test sets"
   ]
  },
  {
   "cell_type": "code",
   "execution_count": 2,
   "metadata": {},
   "outputs": [
    {
     "output_type": "stream",
     "name": "stdout",
     "text": [
      "Shape of x_train: (640, 8)\nShape of x_test: (128, 8)\nShape of y_train: (640, 1)\nShape of y_test: (128, 1)\n"
     ]
    }
   ],
   "source": [
    "# partition the data to training and test sets\n",
    "n = x.shape[0]\n",
    "n_train = 640\n",
    "n_test = n - n_train\n",
    "\n",
    "rand_indices = numpy.random.permutation(n)\n",
    "train_indices = rand_indices[0:n_train]\n",
    "test_indices = rand_indices[n_train:n]\n",
    "\n",
    "x_train = x[train_indices, :]\n",
    "x_test = x[test_indices, :]\n",
    "y_train = y[train_indices].reshape(n_train, 1)\n",
    "y_test = y[test_indices].reshape(n_test, 1)\n",
    "\n",
    "print('Shape of x_train: ' + str(x_train.shape))\n",
    "print('Shape of x_test: ' + str(x_test.shape))\n",
    "print('Shape of y_train: ' + str(y_train.shape))\n",
    "print('Shape of y_test: ' + str(y_test.shape))"
   ]
  },
  {
   "cell_type": "markdown",
   "metadata": {},
   "source": [
    "## 1.3. Feature scaling"
   ]
  },
  {
   "cell_type": "markdown",
   "metadata": {},
   "source": [
    "Use the standardization to transform both training and test features"
   ]
  },
  {
   "cell_type": "code",
   "execution_count": 3,
   "metadata": {},
   "outputs": [
    {
     "output_type": "stream",
     "name": "stdout",
     "text": [
      "test mean = \n[[-0.10044366  0.00193772 -0.28502832 -0.05565544 -0.12683041  0.08653991\n   0.05241186 -0.0141673 ]]\ntest std = \n[[0.98094346 1.09258118 1.25895029 1.05960224 0.93714799 1.08449036\n  1.15345867 0.97506497]]\n"
     ]
    }
   ],
   "source": [
    "# Standardization\n",
    "import numpy\n",
    "\n",
    "# calculate mu and sig using the training set\n",
    "d = x_train.shape[1]\n",
    "mu = numpy.mean(x_train, axis=0).reshape(1, d)\n",
    "sig = numpy.std(x_train, axis=0).reshape(1, d)\n",
    "\n",
    "# transform the training features\n",
    "x_train = (x_train - mu) / (sig + 1E-6)\n",
    "\n",
    "# transform the test features\n",
    "x_test = (x_test - mu) / (sig + 1E-6)\n",
    "\n",
    "print('test mean = ')\n",
    "print(numpy.mean(x_test, axis=0))\n",
    "\n",
    "print('test std = ')\n",
    "print(numpy.std(x_test, axis=0))"
   ]
  },
  {
   "cell_type": "markdown",
   "metadata": {},
   "source": [
    "## 1.4. Add a dimension of all ones"
   ]
  },
  {
   "cell_type": "code",
   "execution_count": 4,
   "metadata": {},
   "outputs": [
    {
     "output_type": "stream",
     "name": "stdout",
     "text": [
      "Shape of x_train: (640, 9)\nShape of x_test: (128, 9)\n"
     ]
    }
   ],
   "source": [
    "n_train, d = x_train.shape\n",
    "x_train = numpy.concatenate((x_train, numpy.ones((n_train, 1))), axis=1)\n",
    "\n",
    "n_test, d = x_test.shape\n",
    "x_test = numpy.concatenate((x_test, numpy.ones((n_test, 1))), axis=1)\n",
    "\n",
    "print('Shape of x_train: ' + str(x_train.shape))\n",
    "print('Shape of x_test: ' + str(x_test.shape))"
   ]
  },
  {
   "cell_type": "markdown",
   "metadata": {},
   "source": [
    "# 2. Logistic regression model\n",
    "\n",
    "The objective function is $Q (w; X, y) = \\frac{1}{n} \\sum_{i=1}^n \\log \\Big( 1 + \\exp \\big( - y_i x_i^T w \\big) \\Big) + \\frac{\\lambda}{2} \\| w \\|_2^2 $."
   ]
  },
  {
   "cell_type": "code",
   "execution_count": 5,
   "metadata": {},
   "outputs": [],
   "source": [
    "# Calculate the objective function value\n",
    "# Inputs:\n",
    "#     w: d-by-1 matrix\n",
    "#     x: n-by-d matrix\n",
    "#     y: n-by-1 matrix\n",
    "#     lam: scalar, the regularization parameter\n",
    "# Return:\n",
    "#     objective function value (scalar)\n",
    "def objective(w, x, y, lam):\n",
    "    n, d = x.shape\n",
    "    yx = numpy.multiply(y, x) # n-by-d matrix\n",
    "    yxw = numpy.dot(yx, w) # n-by-1 matrix\n",
    "    vec1 = numpy.exp(-yxw) # n-by-1 matrix\n",
    "    vec2 = numpy.log(1 + vec1) # n-by-1 matrix\n",
    "    loss = numpy.mean(vec2) # scalar\n",
    "    reg = lam / 2 * numpy.sum(w * w) # scalar\n",
    "    return loss + reg\n",
    "    "
   ]
  },
  {
   "cell_type": "code",
   "execution_count": 6,
   "metadata": {},
   "outputs": [
    {
     "output_type": "stream",
     "name": "stdout",
     "text": [
      "Initial objective function value = 0.6931471805599453\n"
     ]
    }
   ],
   "source": [
    "# initialize w\n",
    "d = x_train.shape[1]\n",
    "w = numpy.zeros((d, 1))\n",
    "\n",
    "# evaluate the objective function value at w\n",
    "lam = 1E-6\n",
    "objval0 = objective(w, x_train, y_train, lam)\n",
    "print('Initial objective function value = ' + str(objval0))"
   ]
  },
  {
   "cell_type": "markdown",
   "metadata": {},
   "source": [
    "# 3. Numerical optimization"
   ]
  },
  {
   "cell_type": "markdown",
   "metadata": {},
   "source": [
    "## 3.1. Gradient descent\n"
   ]
  },
  {
   "cell_type": "markdown",
   "metadata": {},
   "source": [
    "The gradient at $w$ is $g = - \\frac{1}{n} \\sum_{i=1}^n \\frac{y_i x_i }{1 + \\exp ( y_i x_i^T w)} + \\lambda w$"
   ]
  },
  {
   "cell_type": "code",
   "execution_count": 7,
   "metadata": {},
   "outputs": [],
   "source": [
    "# Calculate the gradient\n",
    "# Inputs:\n",
    "#     w: d-by-1 matrix\n",
    "#     x: n-by-d matrix\n",
    "#     y: n-by-1 matrix\n",
    "#     lam: scalar, the regularization parameter\n",
    "# Return:\n",
    "#     g: g: d-by-1 matrix, full gradient\n",
    "def gradient(w, x, y, lam):\n",
    "    n, d = x.shape\n",
    "    yx = numpy.multiply(y, x) # n-by-d matrix\n",
    "    yxw = numpy.dot(yx, w) # n-by-1 matrix\n",
    "    vec1 = numpy.exp(yxw) # n-by-1 matrix\n",
    "    vec2 = numpy.divide(yx, 1+vec1) # n-by-d matrix\n",
    "    vec3 = -numpy.mean(vec2, axis=0).reshape(d, 1) # d-by-1 matrix\n",
    "    g = vec3 + lam * w\n",
    "    return g"
   ]
  },
  {
   "cell_type": "code",
   "execution_count": 8,
   "metadata": {},
   "outputs": [],
   "source": [
    "# Gradient descent for solving logistic regression\n",
    "# Inputs:\n",
    "#     x: n-by-d matrix\n",
    "#     y: n-by-1 matrix\n",
    "#     lam: scalar, the regularization parameter\n",
    "#     stepsize: scalar\n",
    "#     max_iter: integer, the maximal iterations\n",
    "#     w: d-by-1 matrix, initialization of w\n",
    "# Return:\n",
    "#     w: d-by-1 matrix, the solution\n",
    "#     objvals: a record of each iteration's objective value\n",
    "def grad_descent(x, y, lam, stepsize, max_iter=100, w=None):\n",
    "    n, d = x.shape\n",
    "    objvals = numpy.zeros(max_iter) # store the objective values\n",
    "    if w is None:\n",
    "        w = numpy.zeros((d, 1)) # zero initialization\n",
    "    \n",
    "    for t in range(max_iter):\n",
    "        objval = objective(w, x, y, lam)\n",
    "        objvals[t] = objval\n",
    "        print('Objective value at t=' + str(t) + ' is ' + str(objval))\n",
    "        g = gradient(w, x, y, lam)\n",
    "        w -= stepsize * g\n",
    "    \n",
    "    return w, objvals"
   ]
  },
  {
   "cell_type": "markdown",
   "metadata": {},
   "source": [
    "Run gradient descent."
   ]
  },
  {
   "cell_type": "code",
   "execution_count": 9,
   "metadata": {},
   "outputs": [
    {
     "output_type": "stream",
     "name": "stdout",
     "text": [
      "Objective value at t=0 is 0.6931471805599453\nObjective value at t=1 is 0.5917779980160339\nObjective value at t=2 is 0.5507867554089867\nObjective value at t=3 is 0.528839522710399\nObjective value at t=4 is 0.5151847350884105\nObjective value at t=5 is 0.5059553998847879\nObjective value at t=6 is 0.4993916257239907\nObjective value at t=7 is 0.4945612590411141\nObjective value at t=8 is 0.49091781924249567\nObjective value at t=9 is 0.48811758809946815\nObjective value at t=10 is 0.48593317720450957\nObjective value at t=11 is 0.4842083711851333\nObjective value at t=12 is 0.4828326575655428\nObjective value at t=13 is 0.48172599009802397\nObjective value at t=14 is 0.4808292469400005\nObjective value at t=15 is 0.48009803395955597\nObjective value at t=16 is 0.47949853959925964\nObjective value at t=17 is 0.47900469272242113\nObjective value at t=18 is 0.4785961722745396\nObjective value at t=19 is 0.47825698758497265\nObjective value at t=20 is 0.4779744490970165\nObjective value at t=21 is 0.4777384112296794\nObjective value at t=22 is 0.47754070808516275\nObjective value at t=23 is 0.4773747278742261\nObjective value at t=24 is 0.47723508849010643\nObjective value at t=25 is 0.47711738775942447\nObjective value at t=26 is 0.4770180094591304\nObjective value at t=27 is 0.4769339714169422\nObjective value at t=28 is 0.4768628056784594\nObjective value at t=29 is 0.47680246332725534\nObjective value at t=30 is 0.476751238414908\nObjective value at t=31 is 0.4767077068172283\nObjective value at t=32 is 0.4766706768310094\nObjective value at t=33 is 0.47663914906561566\nObjective value at t=34 is 0.4766122837374402\nObjective value at t=35 is 0.4765893738931459\nObjective value at t=36 is 0.4765698234055371\nObjective value at t=37 is 0.47655312882964684\nObjective value at t=38 is 0.47653886439479953\nObjective value at t=39 is 0.4765266695546773\nObjective value at t=40 is 0.47651623863181997\nObjective value at t=41 is 0.4765073121830001\nObjective value at t=42 is 0.4764996697831295\nObjective value at t=43 is 0.4764931239819899\nObjective value at t=44 is 0.4764875152333493\nObjective value at t=45 is 0.4764827076323636\nObjective value at t=46 is 0.4764785853264762\nObjective value at t=47 is 0.4764750494887565\nObjective value at t=48 is 0.4764720157619033\nObjective value at t=49 is 0.4764694120968733\nObjective value at t=50 is 0.476467176922973\nObjective value at t=51 is 0.47646525759682035\nObjective value at t=52 is 0.4764636090862958\nObjective value at t=53 is 0.4764621928527852\nObjective value at t=54 is 0.47646097590097647\nObjective value at t=55 is 0.47645992997040965\nObjective value at t=56 is 0.47645903084709307\nObjective value at t=57 is 0.4764582577769245\nObjective value at t=58 is 0.47645759296552154\nObjective value at t=59 is 0.47645702115145977\nObjective value at t=60 is 0.4764565292419318\nObjective value at t=61 is 0.47645610600152194\nObjective value at t=62 is 0.4764557417862171\nObjective value at t=63 is 0.47645542831597065\nObjective value at t=64 is 0.4764551584801402\nObjective value at t=65 is 0.4764549261709793\nObjective value at t=66 is 0.4764547261410816\nObjective value at t=67 is 0.47645455388128455\nObjective value at t=68 is 0.4764544055160617\nObjective value at t=69 is 0.4764542777138679\nObjective value at t=70 is 0.47645416761027615\nObjective value at t=71 is 0.4764540727420632\nObjective value at t=72 is 0.47645399099066554\nObjective value at t=73 is 0.47645392053366475\nObjective value at t=74 is 0.4764538598031492\nObjective value at t=75 is 0.47645380744997\nObjective value at t=76 is 0.4764537623130492\nObjective value at t=77 is 0.47645372339302205\nObjective value at t=78 is 0.4764536898295946\nObjective value at t=79 is 0.47645366088209135\nObjective value at t=80 is 0.4764536359127388\nObjective value at t=81 is 0.4764536143722981\nObjective value at t=82 is 0.47645359578771423\nObjective value at t=83 is 0.47645357975149855\nObjective value at t=84 is 0.4764535659125969\nObjective value at t=85 is 0.47645355396853767\nObjective value at t=86 is 0.4764535436586765\nObjective value at t=87 is 0.47645353475838587\nObjective value at t=88 is 0.47645352707405536\nObjective value at t=89 is 0.47645352043878836\nObjective value at t=90 is 0.47645351470870023\nObjective value at t=91 is 0.476453509759731\nObjective value at t=92 is 0.47645350548490123\nObjective value at t=93 is 0.4764535017919498\nObjective value at t=94 is 0.47645349860130015\nObjective value at t=95 is 0.4764534958443081\nObjective value at t=96 is 0.47645349346175375\nObjective value at t=97 is 0.47645349140254123\nObjective value at t=98 is 0.4764534896225796\nObjective value at t=99 is 0.4764534880838179\n"
     ]
    }
   ],
   "source": [
    "lam = 1E-6\n",
    "stepsize = 1.0\n",
    "w, objvals_gd = grad_descent(x_train, y_train, lam, stepsize)"
   ]
  },
  {
   "cell_type": "markdown",
   "metadata": {},
   "source": [
    "## 3.2. Stochastic gradient descent (SGD)\n",
    "\n",
    "Define $Q_i (w) = \\log \\Big( 1 + \\exp \\big( - y_i x_i^T w \\big) \\Big) + \\frac{\\lambda}{2} \\| w \\|_2^2 $.\n",
    "\n",
    "The stochastic gradient at $w$ is $g_i = \\frac{\\partial Q_i }{ \\partial w} = -\\frac{y_i x_i }{1 + \\exp ( y_i x_i^T w)} + \\lambda w$."
   ]
  },
  {
   "cell_type": "code",
   "execution_count": 10,
   "metadata": {},
   "outputs": [],
   "source": [
    "# Calculate the objective Q_i and the gradient of Q_i\n",
    "# Inputs:\n",
    "#     w: d-by-1 matrix\n",
    "#     xi: 1-by-d matrix\n",
    "#     yi: scalar\n",
    "#     lam: scalar, the regularization parameter\n",
    "# Return:\n",
    "#     obj: scalar, the objective Q_i\n",
    "#     g: d-by-1 matrix, gradient of Q_i\n",
    "def stochastic_objective_gradient(w, xi, yi, lam):\n",
    "    d = xi.shape[0]\n",
    "    yx = yi * xi # 1-by-d matrix\n",
    "    yxw = float(numpy.dot(yx, w)) # scalar\n",
    "    \n",
    "    # calculate objective function Q_i\n",
    "    loss = numpy.log(1 + numpy.exp(-yxw)) # scalar\n",
    "    reg = lam / 2 * numpy.sum(w * w) # scalar\n",
    "    obj = loss + reg\n",
    "    \n",
    "    # calculate stochastic gradient\n",
    "    g_loss = -yx.T / (1 + numpy.exp(yxw)) # d-by-1 matrix\n",
    "    g = g_loss + lam * w # d-by-1 matrix\n",
    "    \n",
    "    return obj, g"
   ]
  },
  {
   "cell_type": "code",
   "execution_count": 11,
   "metadata": {},
   "outputs": [],
   "source": [
    "# SGD for solving logistic regression\n",
    "# Inputs:\n",
    "#     x: n-by-d matrix\n",
    "#     y: n-by-1 matrix\n",
    "#     lam: scalar, the regularization parameter\n",
    "#     stepsize: scalar\n",
    "#     max_epoch: integer, the maximal epochs\n",
    "#     w: d-by-1 matrix, initialization of w\n",
    "# Return:\n",
    "#     w: the solution\n",
    "#     objvals: record of each iteration's objective value\n",
    "def sgd(x, y, lam, stepsize, max_epoch=100, w=None):\n",
    "    n, d = x.shape\n",
    "    objvals = numpy.zeros(max_epoch) # store the objective values\n",
    "    if w is None:\n",
    "        w = numpy.zeros((d, 1)) # zero initialization\n",
    "    \n",
    "    for t in range(max_epoch):\n",
    "        # randomly shuffle the samples\n",
    "        rand_indices = numpy.random.permutation(n)\n",
    "        x_rand = x[rand_indices, :]\n",
    "        y_rand = y[rand_indices, :]\n",
    "        \n",
    "        objval = 0 # accumulate the objective values\n",
    "        for i in range(n):\n",
    "            xi = x_rand[i, :] # 1-by-d matrix\n",
    "            yi = float(y_rand[i, :]) # scalar\n",
    "            obj, g = stochastic_objective_gradient(w, xi, yi, lam)\n",
    "            objval += obj\n",
    "            w -= stepsize * g\n",
    "        \n",
    "        stepsize *= 0.9 # decrease step size\n",
    "        objval /= n\n",
    "        objvals[t] = objval\n",
    "        print('Objective value at epoch t=' + str(t) + ' is ' + str(objval))\n",
    "    \n",
    "    return w, objvals"
   ]
  },
  {
   "cell_type": "markdown",
   "metadata": {},
   "source": [
    "Run SGD."
   ]
  },
  {
   "cell_type": "code",
   "execution_count": 12,
   "metadata": {},
   "outputs": [
    {
     "output_type": "stream",
     "name": "stdout",
     "text": [
      "Objective value at epoch t=0 is 0.5374544676567995\n",
      "Objective value at epoch t=1 is 0.5291496381467687\n",
      "Objective value at epoch t=2 is 0.5238754165799155\n",
      "Objective value at epoch t=3 is 0.5034634450626562\n",
      "Objective value at epoch t=4 is 0.5171018705592851\n",
      "Objective value at epoch t=5 is 0.5053470917494651\n",
      "Objective value at epoch t=6 is 0.49942924114256104\n",
      "Objective value at epoch t=7 is 0.4984821245498211\n",
      "Objective value at epoch t=8 is 0.5038793913678263\n",
      "Objective value at epoch t=9 is 0.49476080800497424\n",
      "Objective value at epoch t=10 is 0.4962595603014209\n",
      "Objective value at epoch t=11 is 0.4959937668767127\n",
      "Objective value at epoch t=12 is 0.48757609890206133\n",
      "Objective value at epoch t=13 is 0.4893192638392806\n",
      "Objective value at epoch t=14 is 0.49299105328500276\n",
      "Objective value at epoch t=15 is 0.4885514800905507\n",
      "Objective value at epoch t=16 is 0.4884848001537997\n",
      "Objective value at epoch t=17 is 0.4865059367027997\n",
      "Objective value at epoch t=18 is 0.48540267447122626\n",
      "Objective value at epoch t=19 is 0.485248427879961\n",
      "Objective value at epoch t=20 is 0.4842237878179878\n",
      "Objective value at epoch t=21 is 0.48314531909480946\n",
      "Objective value at epoch t=22 is 0.4822998894080146\n",
      "Objective value at epoch t=23 is 0.48271455645249517\n",
      "Objective value at epoch t=24 is 0.4814258064261681\n",
      "Objective value at epoch t=25 is 0.4812977218994403\n",
      "Objective value at epoch t=26 is 0.4809930159081959\n",
      "Objective value at epoch t=27 is 0.4800432479704179\n",
      "Objective value at epoch t=28 is 0.47961519857756924\n",
      "Objective value at epoch t=29 is 0.4796841555077759\n",
      "Objective value at epoch t=30 is 0.47944384520557143\n",
      "Objective value at epoch t=31 is 0.47921456964895104\n",
      "Objective value at epoch t=32 is 0.4786546657570745\n",
      "Objective value at epoch t=33 is 0.4787470501660017\n",
      "Objective value at epoch t=34 is 0.478415596030659\n",
      "Objective value at epoch t=35 is 0.4782661080257083\n",
      "Objective value at epoch t=36 is 0.478075450964366\n",
      "Objective value at epoch t=37 is 0.4779106206200475\n",
      "Objective value at epoch t=38 is 0.4777787437351398\n",
      "Objective value at epoch t=39 is 0.47764745035171846\n",
      "Objective value at epoch t=40 is 0.477552752764068\n",
      "Objective value at epoch t=41 is 0.47744166123236964\n",
      "Objective value at epoch t=42 is 0.4773349739930038\n",
      "Objective value at epoch t=43 is 0.4772538748649854\n",
      "Objective value at epoch t=44 is 0.4771738538332679\n",
      "Objective value at epoch t=45 is 0.4771052581087668\n",
      "Objective value at epoch t=46 is 0.4770383433637038\n",
      "Objective value at epoch t=47 is 0.476980491123893\n",
      "Objective value at epoch t=48 is 0.4769283805087035\n",
      "Objective value at epoch t=49 is 0.47687981244899885\n",
      "Objective value at epoch t=50 is 0.47683750494642785\n",
      "Objective value at epoch t=51 is 0.47680038941438835\n",
      "Objective value at epoch t=52 is 0.47676540415143204\n",
      "Objective value at epoch t=53 is 0.4767346405761093\n",
      "Objective value at epoch t=54 is 0.4767071533749962\n",
      "Objective value at epoch t=55 is 0.47668102750028163\n",
      "Objective value at epoch t=56 is 0.4766584307349393\n",
      "Objective value at epoch t=57 is 0.4766384255416899\n",
      "Objective value at epoch t=58 is 0.47661993334142744\n",
      "Objective value at epoch t=59 is 0.4766033120846159\n",
      "Objective value at epoch t=60 is 0.47658833899353914\n",
      "Objective value at epoch t=61 is 0.4765749501661447\n",
      "Objective value at epoch t=62 is 0.47656265843154666\n",
      "Objective value at epoch t=63 is 0.4765518863150793\n",
      "Objective value at epoch t=64 is 0.47654229947605636\n",
      "Objective value at epoch t=65 is 0.476533445732463\n",
      "Objective value at epoch t=66 is 0.4765254901981332\n",
      "Objective value at epoch t=67 is 0.4765182882829057\n",
      "Objective value at epoch t=68 is 0.47651183172619255\n",
      "Objective value at epoch t=69 is 0.47650596379967547\n",
      "Objective value at epoch t=70 is 0.47650085266950126\n",
      "Objective value at epoch t=71 is 0.47649610582846724\n",
      "Objective value at epoch t=72 is 0.47649186521536163\n",
      "Objective value at epoch t=73 is 0.47648809296256844\n",
      "Objective value at epoch t=74 is 0.4764846351020683\n",
      "Objective value at epoch t=75 is 0.4764815840348559\n",
      "Objective value at epoch t=76 is 0.4764788101800804\n",
      "Objective value at epoch t=77 is 0.47647630941873126\n",
      "Objective value at epoch t=78 is 0.47647406016146754\n",
      "Objective value at epoch t=79 is 0.47647202909979713\n",
      "Objective value at epoch t=80 is 0.4764702075737278\n",
      "Objective value at epoch t=81 is 0.47646857009338006\n",
      "Objective value at epoch t=82 is 0.4764670909349592\n",
      "Objective value at epoch t=83 is 0.47646576227484133\n",
      "Objective value at epoch t=84 is 0.4764645683438042\n",
      "Objective value at epoch t=85 is 0.47646349017021467\n",
      "Objective value at epoch t=86 is 0.47646251824547325\n",
      "Objective value at epoch t=87 is 0.4764616490883643\n",
      "Objective value at epoch t=88 is 0.47646086531126774\n",
      "Objective value at epoch t=89 is 0.4764601587948625\n",
      "Objective value at epoch t=90 is 0.47645952336357994\n",
      "Objective value at epoch t=91 is 0.47645895027217583\n",
      "Objective value at epoch t=92 is 0.4764584357079449\n",
      "Objective value at epoch t=93 is 0.4764579723309243\n",
      "Objective value at epoch t=94 is 0.4764575551566724\n",
      "Objective value at epoch t=95 is 0.4764571795474434\n",
      "Objective value at epoch t=96 is 0.4764568416427474\n",
      "Objective value at epoch t=97 is 0.4764565373504352\n",
      "Objective value at epoch t=98 is 0.47645626375008276\n",
      "Objective value at epoch t=99 is 0.47645601744798916\n"
     ]
    }
   ],
   "source": [
    "lam = 1E-6\n",
    "stepsize = 0.1\n",
    "w, objvals_sgd = sgd(x_train, y_train, lam, stepsize)"
   ]
  },
  {
   "cell_type": "markdown",
   "metadata": {},
   "source": [
    "# 4. Compare GD with SGD\n",
    "\n",
    "Plot objective function values against epochs."
   ]
  },
  {
   "cell_type": "code",
   "execution_count": 13,
   "metadata": {},
   "outputs": [
    {
     "output_type": "display_data",
     "data": {
      "text/plain": "<Figure size 432x288 with 1 Axes>",
      "image/svg+xml": "<?xml version=\"1.0\" encoding=\"utf-8\" standalone=\"no\"?>\n<!DOCTYPE svg PUBLIC \"-//W3C//DTD SVG 1.1//EN\"\n  \"http://www.w3.org/Graphics/SVG/1.1/DTD/svg11.dtd\">\n<!-- Created with matplotlib (https://matplotlib.org/) -->\n<svg height=\"281.6934pt\" version=\"1.1\" viewBox=\"0 0 425.047572 281.6934\" width=\"425.047572pt\" xmlns=\"http://www.w3.org/2000/svg\" xmlns:xlink=\"http://www.w3.org/1999/xlink\">\n <metadata>\n  <rdf:RDF xmlns:cc=\"http://creativecommons.org/ns#\" xmlns:dc=\"http://purl.org/dc/elements/1.1/\" xmlns:rdf=\"http://www.w3.org/1999/02/22-rdf-syntax-ns#\">\n   <cc:Work>\n    <dc:type rdf:resource=\"http://purl.org/dc/dcmitype/StillImage\"/>\n    <dc:date>2021-03-07T09:16:57.829996</dc:date>\n    <dc:format>image/svg+xml</dc:format>\n    <dc:creator>\n     <cc:Agent>\n      <dc:title>Matplotlib v3.3.4, https://matplotlib.org/</dc:title>\n     </cc:Agent>\n    </dc:creator>\n   </cc:Work>\n  </rdf:RDF>\n </metadata>\n <defs>\n  <style type=\"text/css\">*{stroke-linecap:butt;stroke-linejoin:round;}</style>\n </defs>\n <g id=\"figure_1\">\n  <g id=\"patch_1\">\n   <path d=\"M 0 281.6934 \nL 425.047572 281.6934 \nL 425.047572 0 \nL 0 0 \nz\n\" style=\"fill:none;\"/>\n  </g>\n  <g id=\"axes_1\">\n   <g id=\"patch_2\">\n    <path d=\"M 73.18125 228.65215 \nL 414.975052 228.65215 \nL 414.975052 9.619805 \nL 73.18125 9.619805 \nz\n\" style=\"fill:#ffffff;\"/>\n   </g>\n   <g id=\"matplotlib.axis_1\">\n    <g id=\"xtick_1\">\n     <g id=\"line2d_1\">\n      <defs>\n       <path d=\"M 0 0 \nL 0 3.5 \n\" id=\"m0152ba8bb0\" style=\"stroke:#000000;stroke-width:0.8;\"/>\n      </defs>\n      <g>\n       <use style=\"stroke:#000000;stroke-width:0.8;\" x=\"88.717332\" xlink:href=\"#m0152ba8bb0\" y=\"228.65215\"/>\n      </g>\n     </g>\n     <g id=\"text_1\">\n      <!-- 0 -->\n      <g transform=\"translate(83.627332 247.80965)scale(0.16 -0.16)\">\n       <defs>\n        <path d=\"M 31.78125 66.40625 \nQ 24.171875 66.40625 20.328125 58.90625 \nQ 16.5 51.421875 16.5 36.375 \nQ 16.5 21.390625 20.328125 13.890625 \nQ 24.171875 6.390625 31.78125 6.390625 \nQ 39.453125 6.390625 43.28125 13.890625 \nQ 47.125 21.390625 47.125 36.375 \nQ 47.125 51.421875 43.28125 58.90625 \nQ 39.453125 66.40625 31.78125 66.40625 \nz\nM 31.78125 74.21875 \nQ 44.046875 74.21875 50.515625 64.515625 \nQ 56.984375 54.828125 56.984375 36.375 \nQ 56.984375 17.96875 50.515625 8.265625 \nQ 44.046875 -1.421875 31.78125 -1.421875 \nQ 19.53125 -1.421875 13.0625 8.265625 \nQ 6.59375 17.96875 6.59375 36.375 \nQ 6.59375 54.828125 13.0625 64.515625 \nQ 19.53125 74.21875 31.78125 74.21875 \nz\n\" id=\"DejaVuSans-48\"/>\n       </defs>\n       <use xlink:href=\"#DejaVuSans-48\"/>\n      </g>\n     </g>\n    </g>\n    <g id=\"xtick_2\">\n     <g id=\"line2d_2\">\n      <g>\n       <use style=\"stroke:#000000;stroke-width:0.8;\" x=\"151.48938\" xlink:href=\"#m0152ba8bb0\" y=\"228.65215\"/>\n      </g>\n     </g>\n     <g id=\"text_2\">\n      <!-- 20 -->\n      <g transform=\"translate(141.30938 247.80965)scale(0.16 -0.16)\">\n       <defs>\n        <path d=\"M 19.1875 8.296875 \nL 53.609375 8.296875 \nL 53.609375 0 \nL 7.328125 0 \nL 7.328125 8.296875 \nQ 12.9375 14.109375 22.625 23.890625 \nQ 32.328125 33.6875 34.8125 36.53125 \nQ 39.546875 41.84375 41.421875 45.53125 \nQ 43.3125 49.21875 43.3125 52.78125 \nQ 43.3125 58.59375 39.234375 62.25 \nQ 35.15625 65.921875 28.609375 65.921875 \nQ 23.96875 65.921875 18.8125 64.3125 \nQ 13.671875 62.703125 7.8125 59.421875 \nL 7.8125 69.390625 \nQ 13.765625 71.78125 18.9375 73 \nQ 24.125 74.21875 28.421875 74.21875 \nQ 39.75 74.21875 46.484375 68.546875 \nQ 53.21875 62.890625 53.21875 53.421875 \nQ 53.21875 48.921875 51.53125 44.890625 \nQ 49.859375 40.875 45.40625 35.40625 \nQ 44.1875 33.984375 37.640625 27.21875 \nQ 31.109375 20.453125 19.1875 8.296875 \nz\n\" id=\"DejaVuSans-50\"/>\n       </defs>\n       <use xlink:href=\"#DejaVuSans-50\"/>\n       <use x=\"63.623047\" xlink:href=\"#DejaVuSans-48\"/>\n      </g>\n     </g>\n    </g>\n    <g id=\"xtick_3\">\n     <g id=\"line2d_3\">\n      <g>\n       <use style=\"stroke:#000000;stroke-width:0.8;\" x=\"214.261428\" xlink:href=\"#m0152ba8bb0\" y=\"228.65215\"/>\n      </g>\n     </g>\n     <g id=\"text_3\">\n      <!-- 40 -->\n      <g transform=\"translate(204.081428 247.80965)scale(0.16 -0.16)\">\n       <defs>\n        <path d=\"M 37.796875 64.3125 \nL 12.890625 25.390625 \nL 37.796875 25.390625 \nz\nM 35.203125 72.90625 \nL 47.609375 72.90625 \nL 47.609375 25.390625 \nL 58.015625 25.390625 \nL 58.015625 17.1875 \nL 47.609375 17.1875 \nL 47.609375 0 \nL 37.796875 0 \nL 37.796875 17.1875 \nL 4.890625 17.1875 \nL 4.890625 26.703125 \nz\n\" id=\"DejaVuSans-52\"/>\n       </defs>\n       <use xlink:href=\"#DejaVuSans-52\"/>\n       <use x=\"63.623047\" xlink:href=\"#DejaVuSans-48\"/>\n      </g>\n     </g>\n    </g>\n    <g id=\"xtick_4\">\n     <g id=\"line2d_4\">\n      <g>\n       <use style=\"stroke:#000000;stroke-width:0.8;\" x=\"277.033476\" xlink:href=\"#m0152ba8bb0\" y=\"228.65215\"/>\n      </g>\n     </g>\n     <g id=\"text_4\">\n      <!-- 60 -->\n      <g transform=\"translate(266.853476 247.80965)scale(0.16 -0.16)\">\n       <defs>\n        <path d=\"M 33.015625 40.375 \nQ 26.375 40.375 22.484375 35.828125 \nQ 18.609375 31.296875 18.609375 23.390625 \nQ 18.609375 15.53125 22.484375 10.953125 \nQ 26.375 6.390625 33.015625 6.390625 \nQ 39.65625 6.390625 43.53125 10.953125 \nQ 47.40625 15.53125 47.40625 23.390625 \nQ 47.40625 31.296875 43.53125 35.828125 \nQ 39.65625 40.375 33.015625 40.375 \nz\nM 52.59375 71.296875 \nL 52.59375 62.3125 \nQ 48.875 64.0625 45.09375 64.984375 \nQ 41.3125 65.921875 37.59375 65.921875 \nQ 27.828125 65.921875 22.671875 59.328125 \nQ 17.53125 52.734375 16.796875 39.40625 \nQ 19.671875 43.65625 24.015625 45.921875 \nQ 28.375 48.1875 33.59375 48.1875 \nQ 44.578125 48.1875 50.953125 41.515625 \nQ 57.328125 34.859375 57.328125 23.390625 \nQ 57.328125 12.15625 50.6875 5.359375 \nQ 44.046875 -1.421875 33.015625 -1.421875 \nQ 20.359375 -1.421875 13.671875 8.265625 \nQ 6.984375 17.96875 6.984375 36.375 \nQ 6.984375 53.65625 15.1875 63.9375 \nQ 23.390625 74.21875 37.203125 74.21875 \nQ 40.921875 74.21875 44.703125 73.484375 \nQ 48.484375 72.75 52.59375 71.296875 \nz\n\" id=\"DejaVuSans-54\"/>\n       </defs>\n       <use xlink:href=\"#DejaVuSans-54\"/>\n       <use x=\"63.623047\" xlink:href=\"#DejaVuSans-48\"/>\n      </g>\n     </g>\n    </g>\n    <g id=\"xtick_5\">\n     <g id=\"line2d_5\">\n      <g>\n       <use style=\"stroke:#000000;stroke-width:0.8;\" x=\"339.805524\" xlink:href=\"#m0152ba8bb0\" y=\"228.65215\"/>\n      </g>\n     </g>\n     <g id=\"text_5\">\n      <!-- 80 -->\n      <g transform=\"translate(329.625524 247.80965)scale(0.16 -0.16)\">\n       <defs>\n        <path d=\"M 31.78125 34.625 \nQ 24.75 34.625 20.71875 30.859375 \nQ 16.703125 27.09375 16.703125 20.515625 \nQ 16.703125 13.921875 20.71875 10.15625 \nQ 24.75 6.390625 31.78125 6.390625 \nQ 38.8125 6.390625 42.859375 10.171875 \nQ 46.921875 13.96875 46.921875 20.515625 \nQ 46.921875 27.09375 42.890625 30.859375 \nQ 38.875 34.625 31.78125 34.625 \nz\nM 21.921875 38.8125 \nQ 15.578125 40.375 12.03125 44.71875 \nQ 8.5 49.078125 8.5 55.328125 \nQ 8.5 64.0625 14.71875 69.140625 \nQ 20.953125 74.21875 31.78125 74.21875 \nQ 42.671875 74.21875 48.875 69.140625 \nQ 55.078125 64.0625 55.078125 55.328125 \nQ 55.078125 49.078125 51.53125 44.71875 \nQ 48 40.375 41.703125 38.8125 \nQ 48.828125 37.15625 52.796875 32.3125 \nQ 56.78125 27.484375 56.78125 20.515625 \nQ 56.78125 9.90625 50.3125 4.234375 \nQ 43.84375 -1.421875 31.78125 -1.421875 \nQ 19.734375 -1.421875 13.25 4.234375 \nQ 6.78125 9.90625 6.78125 20.515625 \nQ 6.78125 27.484375 10.78125 32.3125 \nQ 14.796875 37.15625 21.921875 38.8125 \nz\nM 18.3125 54.390625 \nQ 18.3125 48.734375 21.84375 45.5625 \nQ 25.390625 42.390625 31.78125 42.390625 \nQ 38.140625 42.390625 41.71875 45.5625 \nQ 45.3125 48.734375 45.3125 54.390625 \nQ 45.3125 60.0625 41.71875 63.234375 \nQ 38.140625 66.40625 31.78125 66.40625 \nQ 25.390625 66.40625 21.84375 63.234375 \nQ 18.3125 60.0625 18.3125 54.390625 \nz\n\" id=\"DejaVuSans-56\"/>\n       </defs>\n       <use xlink:href=\"#DejaVuSans-56\"/>\n       <use x=\"63.623047\" xlink:href=\"#DejaVuSans-48\"/>\n      </g>\n     </g>\n    </g>\n    <g id=\"xtick_6\">\n     <g id=\"line2d_6\">\n      <g>\n       <use style=\"stroke:#000000;stroke-width:0.8;\" x=\"402.577572\" xlink:href=\"#m0152ba8bb0\" y=\"228.65215\"/>\n      </g>\n     </g>\n     <g id=\"text_6\">\n      <!-- 100 -->\n      <g transform=\"translate(387.307572 247.80965)scale(0.16 -0.16)\">\n       <defs>\n        <path d=\"M 12.40625 8.296875 \nL 28.515625 8.296875 \nL 28.515625 63.921875 \nL 10.984375 60.40625 \nL 10.984375 69.390625 \nL 28.421875 72.90625 \nL 38.28125 72.90625 \nL 38.28125 8.296875 \nL 54.390625 8.296875 \nL 54.390625 0 \nL 12.40625 0 \nz\n\" id=\"DejaVuSans-49\"/>\n       </defs>\n       <use xlink:href=\"#DejaVuSans-49\"/>\n       <use x=\"63.623047\" xlink:href=\"#DejaVuSans-48\"/>\n       <use x=\"127.246094\" xlink:href=\"#DejaVuSans-48\"/>\n      </g>\n     </g>\n    </g>\n    <g id=\"text_7\">\n     <!-- Epochs -->\n     <g transform=\"translate(208.246901 270.334025)scale(0.2 -0.2)\">\n      <defs>\n       <path d=\"M 9.8125 72.90625 \nL 55.90625 72.90625 \nL 55.90625 64.59375 \nL 19.671875 64.59375 \nL 19.671875 43.015625 \nL 54.390625 43.015625 \nL 54.390625 34.71875 \nL 19.671875 34.71875 \nL 19.671875 8.296875 \nL 56.78125 8.296875 \nL 56.78125 0 \nL 9.8125 0 \nz\n\" id=\"DejaVuSans-69\"/>\n       <path d=\"M 18.109375 8.203125 \nL 18.109375 -20.796875 \nL 9.078125 -20.796875 \nL 9.078125 54.6875 \nL 18.109375 54.6875 \nL 18.109375 46.390625 \nQ 20.953125 51.265625 25.265625 53.625 \nQ 29.59375 56 35.59375 56 \nQ 45.5625 56 51.78125 48.09375 \nQ 58.015625 40.1875 58.015625 27.296875 \nQ 58.015625 14.40625 51.78125 6.484375 \nQ 45.5625 -1.421875 35.59375 -1.421875 \nQ 29.59375 -1.421875 25.265625 0.953125 \nQ 20.953125 3.328125 18.109375 8.203125 \nz\nM 48.6875 27.296875 \nQ 48.6875 37.203125 44.609375 42.84375 \nQ 40.53125 48.484375 33.40625 48.484375 \nQ 26.265625 48.484375 22.1875 42.84375 \nQ 18.109375 37.203125 18.109375 27.296875 \nQ 18.109375 17.390625 22.1875 11.75 \nQ 26.265625 6.109375 33.40625 6.109375 \nQ 40.53125 6.109375 44.609375 11.75 \nQ 48.6875 17.390625 48.6875 27.296875 \nz\n\" id=\"DejaVuSans-112\"/>\n       <path d=\"M 30.609375 48.390625 \nQ 23.390625 48.390625 19.1875 42.75 \nQ 14.984375 37.109375 14.984375 27.296875 \nQ 14.984375 17.484375 19.15625 11.84375 \nQ 23.34375 6.203125 30.609375 6.203125 \nQ 37.796875 6.203125 41.984375 11.859375 \nQ 46.1875 17.53125 46.1875 27.296875 \nQ 46.1875 37.015625 41.984375 42.703125 \nQ 37.796875 48.390625 30.609375 48.390625 \nz\nM 30.609375 56 \nQ 42.328125 56 49.015625 48.375 \nQ 55.71875 40.765625 55.71875 27.296875 \nQ 55.71875 13.875 49.015625 6.21875 \nQ 42.328125 -1.421875 30.609375 -1.421875 \nQ 18.84375 -1.421875 12.171875 6.21875 \nQ 5.515625 13.875 5.515625 27.296875 \nQ 5.515625 40.765625 12.171875 48.375 \nQ 18.84375 56 30.609375 56 \nz\n\" id=\"DejaVuSans-111\"/>\n       <path d=\"M 48.78125 52.59375 \nL 48.78125 44.1875 \nQ 44.96875 46.296875 41.140625 47.34375 \nQ 37.3125 48.390625 33.40625 48.390625 \nQ 24.65625 48.390625 19.8125 42.84375 \nQ 14.984375 37.3125 14.984375 27.296875 \nQ 14.984375 17.28125 19.8125 11.734375 \nQ 24.65625 6.203125 33.40625 6.203125 \nQ 37.3125 6.203125 41.140625 7.25 \nQ 44.96875 8.296875 48.78125 10.40625 \nL 48.78125 2.09375 \nQ 45.015625 0.34375 40.984375 -0.53125 \nQ 36.96875 -1.421875 32.421875 -1.421875 \nQ 20.0625 -1.421875 12.78125 6.34375 \nQ 5.515625 14.109375 5.515625 27.296875 \nQ 5.515625 40.671875 12.859375 48.328125 \nQ 20.21875 56 33.015625 56 \nQ 37.15625 56 41.109375 55.140625 \nQ 45.0625 54.296875 48.78125 52.59375 \nz\n\" id=\"DejaVuSans-99\"/>\n       <path d=\"M 54.890625 33.015625 \nL 54.890625 0 \nL 45.90625 0 \nL 45.90625 32.71875 \nQ 45.90625 40.484375 42.875 44.328125 \nQ 39.84375 48.1875 33.796875 48.1875 \nQ 26.515625 48.1875 22.3125 43.546875 \nQ 18.109375 38.921875 18.109375 30.90625 \nL 18.109375 0 \nL 9.078125 0 \nL 9.078125 75.984375 \nL 18.109375 75.984375 \nL 18.109375 46.1875 \nQ 21.34375 51.125 25.703125 53.5625 \nQ 30.078125 56 35.796875 56 \nQ 45.21875 56 50.046875 50.171875 \nQ 54.890625 44.34375 54.890625 33.015625 \nz\n\" id=\"DejaVuSans-104\"/>\n       <path d=\"M 44.28125 53.078125 \nL 44.28125 44.578125 \nQ 40.484375 46.53125 36.375 47.5 \nQ 32.28125 48.484375 27.875 48.484375 \nQ 21.1875 48.484375 17.84375 46.4375 \nQ 14.5 44.390625 14.5 40.28125 \nQ 14.5 37.15625 16.890625 35.375 \nQ 19.28125 33.59375 26.515625 31.984375 \nL 29.59375 31.296875 \nQ 39.15625 29.25 43.1875 25.515625 \nQ 47.21875 21.78125 47.21875 15.09375 \nQ 47.21875 7.46875 41.1875 3.015625 \nQ 35.15625 -1.421875 24.609375 -1.421875 \nQ 20.21875 -1.421875 15.453125 -0.5625 \nQ 10.6875 0.296875 5.421875 2 \nL 5.421875 11.28125 \nQ 10.40625 8.6875 15.234375 7.390625 \nQ 20.0625 6.109375 24.8125 6.109375 \nQ 31.15625 6.109375 34.5625 8.28125 \nQ 37.984375 10.453125 37.984375 14.40625 \nQ 37.984375 18.0625 35.515625 20.015625 \nQ 33.0625 21.96875 24.703125 23.78125 \nL 21.578125 24.515625 \nQ 13.234375 26.265625 9.515625 29.90625 \nQ 5.8125 33.546875 5.8125 39.890625 \nQ 5.8125 47.609375 11.28125 51.796875 \nQ 16.75 56 26.8125 56 \nQ 31.78125 56 36.171875 55.265625 \nQ 40.578125 54.546875 44.28125 53.078125 \nz\n\" id=\"DejaVuSans-115\"/>\n      </defs>\n      <use xlink:href=\"#DejaVuSans-69\"/>\n      <use x=\"63.183594\" xlink:href=\"#DejaVuSans-112\"/>\n      <use x=\"126.660156\" xlink:href=\"#DejaVuSans-111\"/>\n      <use x=\"187.841797\" xlink:href=\"#DejaVuSans-99\"/>\n      <use x=\"242.822266\" xlink:href=\"#DejaVuSans-104\"/>\n      <use x=\"306.201172\" xlink:href=\"#DejaVuSans-115\"/>\n     </g>\n    </g>\n   </g>\n   <g id=\"matplotlib.axis_2\">\n    <g id=\"ytick_1\">\n     <g id=\"line2d_7\">\n      <defs>\n       <path d=\"M 0 0 \nL -3.5 0 \n\" id=\"m3c98932105\" style=\"stroke:#000000;stroke-width:0.8;\"/>\n      </defs>\n      <g>\n       <use style=\"stroke:#000000;stroke-width:0.8;\" x=\"73.18125\" xlink:href=\"#m3c98932105\" y=\"197.059192\"/>\n      </g>\n     </g>\n     <g id=\"text_8\">\n      <!-- 0.50 -->\n      <g transform=\"translate(30.55625 203.137942)scale(0.16 -0.16)\">\n       <defs>\n        <path d=\"M 10.6875 12.40625 \nL 21 12.40625 \nL 21 0 \nL 10.6875 0 \nz\n\" id=\"DejaVuSans-46\"/>\n        <path d=\"M 10.796875 72.90625 \nL 49.515625 72.90625 \nL 49.515625 64.59375 \nL 19.828125 64.59375 \nL 19.828125 46.734375 \nQ 21.96875 47.46875 24.109375 47.828125 \nQ 26.265625 48.1875 28.421875 48.1875 \nQ 40.625 48.1875 47.75 41.5 \nQ 54.890625 34.8125 54.890625 23.390625 \nQ 54.890625 11.625 47.5625 5.09375 \nQ 40.234375 -1.421875 26.90625 -1.421875 \nQ 22.3125 -1.421875 17.546875 -0.640625 \nQ 12.796875 0.140625 7.71875 1.703125 \nL 7.71875 11.625 \nQ 12.109375 9.234375 16.796875 8.0625 \nQ 21.484375 6.890625 26.703125 6.890625 \nQ 35.15625 6.890625 40.078125 11.328125 \nQ 45.015625 15.765625 45.015625 23.390625 \nQ 45.015625 31 40.078125 35.4375 \nQ 35.15625 39.890625 26.703125 39.890625 \nQ 22.75 39.890625 18.8125 39.015625 \nQ 14.890625 38.140625 10.796875 36.28125 \nz\n\" id=\"DejaVuSans-53\"/>\n       </defs>\n       <use xlink:href=\"#DejaVuSans-48\"/>\n       <use x=\"63.623047\" xlink:href=\"#DejaVuSans-46\"/>\n       <use x=\"95.410156\" xlink:href=\"#DejaVuSans-53\"/>\n       <use x=\"159.033203\" xlink:href=\"#DejaVuSans-48\"/>\n      </g>\n     </g>\n    </g>\n    <g id=\"ytick_2\">\n     <g id=\"line2d_8\">\n      <g>\n       <use style=\"stroke:#000000;stroke-width:0.8;\" x=\"73.18125\" xlink:href=\"#m3c98932105\" y=\"151.114082\"/>\n      </g>\n     </g>\n     <g id=\"text_9\">\n      <!-- 0.55 -->\n      <g transform=\"translate(30.55625 157.192832)scale(0.16 -0.16)\">\n       <use xlink:href=\"#DejaVuSans-48\"/>\n       <use x=\"63.623047\" xlink:href=\"#DejaVuSans-46\"/>\n       <use x=\"95.410156\" xlink:href=\"#DejaVuSans-53\"/>\n       <use x=\"159.033203\" xlink:href=\"#DejaVuSans-53\"/>\n      </g>\n     </g>\n    </g>\n    <g id=\"ytick_3\">\n     <g id=\"line2d_9\">\n      <g>\n       <use style=\"stroke:#000000;stroke-width:0.8;\" x=\"73.18125\" xlink:href=\"#m3c98932105\" y=\"105.168971\"/>\n      </g>\n     </g>\n     <g id=\"text_10\">\n      <!-- 0.60 -->\n      <g transform=\"translate(30.55625 111.247721)scale(0.16 -0.16)\">\n       <use xlink:href=\"#DejaVuSans-48\"/>\n       <use x=\"63.623047\" xlink:href=\"#DejaVuSans-46\"/>\n       <use x=\"95.410156\" xlink:href=\"#DejaVuSans-54\"/>\n       <use x=\"159.033203\" xlink:href=\"#DejaVuSans-48\"/>\n      </g>\n     </g>\n    </g>\n    <g id=\"ytick_4\">\n     <g id=\"line2d_10\">\n      <g>\n       <use style=\"stroke:#000000;stroke-width:0.8;\" x=\"73.18125\" xlink:href=\"#m3c98932105\" y=\"59.223861\"/>\n      </g>\n     </g>\n     <g id=\"text_11\">\n      <!-- 0.65 -->\n      <g transform=\"translate(30.55625 65.302611)scale(0.16 -0.16)\">\n       <use xlink:href=\"#DejaVuSans-48\"/>\n       <use x=\"63.623047\" xlink:href=\"#DejaVuSans-46\"/>\n       <use x=\"95.410156\" xlink:href=\"#DejaVuSans-54\"/>\n       <use x=\"159.033203\" xlink:href=\"#DejaVuSans-53\"/>\n      </g>\n     </g>\n    </g>\n    <g id=\"ytick_5\">\n     <g id=\"line2d_11\">\n      <g>\n       <use style=\"stroke:#000000;stroke-width:0.8;\" x=\"73.18125\" xlink:href=\"#m3c98932105\" y=\"13.27875\"/>\n      </g>\n     </g>\n     <g id=\"text_12\">\n      <!-- 0.70 -->\n      <g transform=\"translate(30.55625 19.3575)scale(0.16 -0.16)\">\n       <defs>\n        <path d=\"M 8.203125 72.90625 \nL 55.078125 72.90625 \nL 55.078125 68.703125 \nL 28.609375 0 \nL 18.3125 0 \nL 43.21875 64.59375 \nL 8.203125 64.59375 \nz\n\" id=\"DejaVuSans-55\"/>\n       </defs>\n       <use xlink:href=\"#DejaVuSans-48\"/>\n       <use x=\"63.623047\" xlink:href=\"#DejaVuSans-46\"/>\n       <use x=\"95.410156\" xlink:href=\"#DejaVuSans-55\"/>\n       <use x=\"159.033203\" xlink:href=\"#DejaVuSans-48\"/>\n      </g>\n     </g>\n    </g>\n    <g id=\"text_13\">\n     <!-- Objective Value -->\n     <g transform=\"translate(22.396875 197.196915)rotate(-90)scale(0.2 -0.2)\">\n      <defs>\n       <path d=\"M 39.40625 66.21875 \nQ 28.65625 66.21875 22.328125 58.203125 \nQ 16.015625 50.203125 16.015625 36.375 \nQ 16.015625 22.609375 22.328125 14.59375 \nQ 28.65625 6.59375 39.40625 6.59375 \nQ 50.140625 6.59375 56.421875 14.59375 \nQ 62.703125 22.609375 62.703125 36.375 \nQ 62.703125 50.203125 56.421875 58.203125 \nQ 50.140625 66.21875 39.40625 66.21875 \nz\nM 39.40625 74.21875 \nQ 54.734375 74.21875 63.90625 63.9375 \nQ 73.09375 53.65625 73.09375 36.375 \nQ 73.09375 19.140625 63.90625 8.859375 \nQ 54.734375 -1.421875 39.40625 -1.421875 \nQ 24.03125 -1.421875 14.8125 8.828125 \nQ 5.609375 19.09375 5.609375 36.375 \nQ 5.609375 53.65625 14.8125 63.9375 \nQ 24.03125 74.21875 39.40625 74.21875 \nz\n\" id=\"DejaVuSans-79\"/>\n       <path d=\"M 48.6875 27.296875 \nQ 48.6875 37.203125 44.609375 42.84375 \nQ 40.53125 48.484375 33.40625 48.484375 \nQ 26.265625 48.484375 22.1875 42.84375 \nQ 18.109375 37.203125 18.109375 27.296875 \nQ 18.109375 17.390625 22.1875 11.75 \nQ 26.265625 6.109375 33.40625 6.109375 \nQ 40.53125 6.109375 44.609375 11.75 \nQ 48.6875 17.390625 48.6875 27.296875 \nz\nM 18.109375 46.390625 \nQ 20.953125 51.265625 25.265625 53.625 \nQ 29.59375 56 35.59375 56 \nQ 45.5625 56 51.78125 48.09375 \nQ 58.015625 40.1875 58.015625 27.296875 \nQ 58.015625 14.40625 51.78125 6.484375 \nQ 45.5625 -1.421875 35.59375 -1.421875 \nQ 29.59375 -1.421875 25.265625 0.953125 \nQ 20.953125 3.328125 18.109375 8.203125 \nL 18.109375 0 \nL 9.078125 0 \nL 9.078125 75.984375 \nL 18.109375 75.984375 \nz\n\" id=\"DejaVuSans-98\"/>\n       <path d=\"M 9.421875 54.6875 \nL 18.40625 54.6875 \nL 18.40625 -0.984375 \nQ 18.40625 -11.421875 14.421875 -16.109375 \nQ 10.453125 -20.796875 1.609375 -20.796875 \nL -1.8125 -20.796875 \nL -1.8125 -13.1875 \nL 0.59375 -13.1875 \nQ 5.71875 -13.1875 7.5625 -10.8125 \nQ 9.421875 -8.453125 9.421875 -0.984375 \nz\nM 9.421875 75.984375 \nL 18.40625 75.984375 \nL 18.40625 64.59375 \nL 9.421875 64.59375 \nz\n\" id=\"DejaVuSans-106\"/>\n       <path d=\"M 56.203125 29.59375 \nL 56.203125 25.203125 \nL 14.890625 25.203125 \nQ 15.484375 15.921875 20.484375 11.0625 \nQ 25.484375 6.203125 34.421875 6.203125 \nQ 39.59375 6.203125 44.453125 7.46875 \nQ 49.3125 8.734375 54.109375 11.28125 \nL 54.109375 2.78125 \nQ 49.265625 0.734375 44.1875 -0.34375 \nQ 39.109375 -1.421875 33.890625 -1.421875 \nQ 20.796875 -1.421875 13.15625 6.1875 \nQ 5.515625 13.8125 5.515625 26.8125 \nQ 5.515625 40.234375 12.765625 48.109375 \nQ 20.015625 56 32.328125 56 \nQ 43.359375 56 49.78125 48.890625 \nQ 56.203125 41.796875 56.203125 29.59375 \nz\nM 47.21875 32.234375 \nQ 47.125 39.59375 43.09375 43.984375 \nQ 39.0625 48.390625 32.421875 48.390625 \nQ 24.90625 48.390625 20.390625 44.140625 \nQ 15.875 39.890625 15.1875 32.171875 \nz\n\" id=\"DejaVuSans-101\"/>\n       <path d=\"M 18.3125 70.21875 \nL 18.3125 54.6875 \nL 36.8125 54.6875 \nL 36.8125 47.703125 \nL 18.3125 47.703125 \nL 18.3125 18.015625 \nQ 18.3125 11.328125 20.140625 9.421875 \nQ 21.96875 7.515625 27.59375 7.515625 \nL 36.8125 7.515625 \nL 36.8125 0 \nL 27.59375 0 \nQ 17.1875 0 13.234375 3.875 \nQ 9.28125 7.765625 9.28125 18.015625 \nL 9.28125 47.703125 \nL 2.6875 47.703125 \nL 2.6875 54.6875 \nL 9.28125 54.6875 \nL 9.28125 70.21875 \nz\n\" id=\"DejaVuSans-116\"/>\n       <path d=\"M 9.421875 54.6875 \nL 18.40625 54.6875 \nL 18.40625 0 \nL 9.421875 0 \nz\nM 9.421875 75.984375 \nL 18.40625 75.984375 \nL 18.40625 64.59375 \nL 9.421875 64.59375 \nz\n\" id=\"DejaVuSans-105\"/>\n       <path d=\"M 2.984375 54.6875 \nL 12.5 54.6875 \nL 29.59375 8.796875 \nL 46.6875 54.6875 \nL 56.203125 54.6875 \nL 35.6875 0 \nL 23.484375 0 \nz\n\" id=\"DejaVuSans-118\"/>\n       <path id=\"DejaVuSans-32\"/>\n       <path d=\"M 28.609375 0 \nL 0.78125 72.90625 \nL 11.078125 72.90625 \nL 34.1875 11.53125 \nL 57.328125 72.90625 \nL 67.578125 72.90625 \nL 39.796875 0 \nz\n\" id=\"DejaVuSans-86\"/>\n       <path d=\"M 34.28125 27.484375 \nQ 23.390625 27.484375 19.1875 25 \nQ 14.984375 22.515625 14.984375 16.5 \nQ 14.984375 11.71875 18.140625 8.90625 \nQ 21.296875 6.109375 26.703125 6.109375 \nQ 34.1875 6.109375 38.703125 11.40625 \nQ 43.21875 16.703125 43.21875 25.484375 \nL 43.21875 27.484375 \nz\nM 52.203125 31.203125 \nL 52.203125 0 \nL 43.21875 0 \nL 43.21875 8.296875 \nQ 40.140625 3.328125 35.546875 0.953125 \nQ 30.953125 -1.421875 24.3125 -1.421875 \nQ 15.921875 -1.421875 10.953125 3.296875 \nQ 6 8.015625 6 15.921875 \nQ 6 25.140625 12.171875 29.828125 \nQ 18.359375 34.515625 30.609375 34.515625 \nL 43.21875 34.515625 \nL 43.21875 35.40625 \nQ 43.21875 41.609375 39.140625 45 \nQ 35.0625 48.390625 27.6875 48.390625 \nQ 23 48.390625 18.546875 47.265625 \nQ 14.109375 46.140625 10.015625 43.890625 \nL 10.015625 52.203125 \nQ 14.9375 54.109375 19.578125 55.046875 \nQ 24.21875 56 28.609375 56 \nQ 40.484375 56 46.34375 49.84375 \nQ 52.203125 43.703125 52.203125 31.203125 \nz\n\" id=\"DejaVuSans-97\"/>\n       <path d=\"M 9.421875 75.984375 \nL 18.40625 75.984375 \nL 18.40625 0 \nL 9.421875 0 \nz\n\" id=\"DejaVuSans-108\"/>\n       <path d=\"M 8.5 21.578125 \nL 8.5 54.6875 \nL 17.484375 54.6875 \nL 17.484375 21.921875 \nQ 17.484375 14.15625 20.5 10.265625 \nQ 23.53125 6.390625 29.59375 6.390625 \nQ 36.859375 6.390625 41.078125 11.03125 \nQ 45.3125 15.671875 45.3125 23.6875 \nL 45.3125 54.6875 \nL 54.296875 54.6875 \nL 54.296875 0 \nL 45.3125 0 \nL 45.3125 8.40625 \nQ 42.046875 3.421875 37.71875 1 \nQ 33.40625 -1.421875 27.6875 -1.421875 \nQ 18.265625 -1.421875 13.375 4.4375 \nQ 8.5 10.296875 8.5 21.578125 \nz\nM 31.109375 56 \nz\n\" id=\"DejaVuSans-117\"/>\n      </defs>\n      <use xlink:href=\"#DejaVuSans-79\"/>\n      <use x=\"78.710938\" xlink:href=\"#DejaVuSans-98\"/>\n      <use x=\"142.1875\" xlink:href=\"#DejaVuSans-106\"/>\n      <use x=\"169.970703\" xlink:href=\"#DejaVuSans-101\"/>\n      <use x=\"231.494141\" xlink:href=\"#DejaVuSans-99\"/>\n      <use x=\"286.474609\" xlink:href=\"#DejaVuSans-116\"/>\n      <use x=\"325.683594\" xlink:href=\"#DejaVuSans-105\"/>\n      <use x=\"353.466797\" xlink:href=\"#DejaVuSans-118\"/>\n      <use x=\"412.646484\" xlink:href=\"#DejaVuSans-101\"/>\n      <use x=\"474.169922\" xlink:href=\"#DejaVuSans-32\"/>\n      <use x=\"505.957031\" xlink:href=\"#DejaVuSans-86\"/>\n      <use x=\"566.615234\" xlink:href=\"#DejaVuSans-97\"/>\n      <use x=\"627.894531\" xlink:href=\"#DejaVuSans-108\"/>\n      <use x=\"655.677734\" xlink:href=\"#DejaVuSans-117\"/>\n      <use x=\"719.056641\" xlink:href=\"#DejaVuSans-101\"/>\n     </g>\n    </g>\n   </g>\n   <g id=\"line2d_12\">\n    <path clip-path=\"url(#p0e5721bfd8)\" d=\"M 88.717332 19.575821 \nL 91.855934 112.724187 \nL 94.994537 150.39113 \nL 98.133139 170.558491 \nL 101.271742 183.105906 \nL 104.410344 191.586762 \nL 107.548946 197.618229 \nL 110.687549 202.056863 \nL 113.826151 205.404828 \nL 116.964754 207.977967 \nL 120.103356 209.985227 \nL 123.241958 211.570155 \nL 126.380561 212.834301 \nL 129.519163 213.85122 \nL 132.657766 214.67524 \nL 135.796368 215.347153 \nL 138.93497 215.89803 \nL 142.073573 216.351827 \nL 145.212175 216.727217 \nL 148.350778 217.038894 \nL 151.48938 217.29852 \nL 154.627982 217.515415 \nL 157.766585 217.697085 \nL 160.905187 217.849605 \nL 164.04379 217.97792 \nL 167.182392 218.086075 \nL 170.320994 218.177394 \nL 173.459597 218.254617 \nL 176.598199 218.320011 \nL 179.736802 218.37546 \nL 182.875404 218.422531 \nL 186.014006 218.462532 \nL 189.152609 218.496559 \nL 192.291211 218.52553 \nL 195.429814 218.550216 \nL 198.568416 218.571268 \nL 201.707018 218.589233 \nL 204.845621 218.604574 \nL 207.984223 218.617682 \nL 211.122826 218.628888 \nL 214.261428 218.638473 \nL 217.40003 218.646675 \nL 220.538633 218.653698 \nL 223.677235 218.659713 \nL 226.815838 218.664867 \nL 229.95444 218.669284 \nL 233.093042 218.673072 \nL 236.231645 218.676321 \nL 239.370247 218.679109 \nL 242.50885 218.681502 \nL 245.647452 218.683555 \nL 248.786054 218.685319 \nL 251.924657 218.686834 \nL 255.063259 218.688135 \nL 258.201862 218.689254 \nL 261.340464 218.690215 \nL 264.479066 218.691041 \nL 267.617669 218.691751 \nL 270.756271 218.692362 \nL 273.894874 218.692888 \nL 277.033476 218.69334 \nL 280.172078 218.693729 \nL 283.310681 218.694063 \nL 286.449283 218.694351 \nL 289.587886 218.694599 \nL 292.726488 218.694813 \nL 295.86509 218.694997 \nL 299.003693 218.695155 \nL 302.142295 218.695291 \nL 305.280898 218.695409 \nL 308.4195 218.69551 \nL 311.558102 218.695597 \nL 314.696705 218.695672 \nL 317.835307 218.695737 \nL 320.97391 218.695793 \nL 324.112512 218.695841 \nL 327.251114 218.695882 \nL 330.389717 218.695918 \nL 333.528319 218.695949 \nL 336.666922 218.695975 \nL 339.805524 218.695998 \nL 342.944127 218.696018 \nL 346.082729 218.696035 \nL 349.221331 218.69605 \nL 352.359934 218.696063 \nL 355.498536 218.696074 \nL 358.637139 218.696083 \nL 361.775741 218.696091 \nL 364.914343 218.696098 \nL 368.052946 218.696104 \nL 371.191548 218.69611 \nL 374.330151 218.696114 \nL 377.468753 218.696118 \nL 380.607355 218.696122 \nL 383.745958 218.696124 \nL 386.88456 218.696127 \nL 390.023163 218.696129 \nL 393.161765 218.696131 \nL 396.300367 218.696133 \nL 399.43897 218.696134 \n\" style=\"fill:none;stroke:#0000ff;stroke-dasharray:14.8,6.4;stroke-dashoffset:0;stroke-width:4;\"/>\n   </g>\n   <g id=\"line2d_13\">\n    <path clip-path=\"url(#p0e5721bfd8)\" d=\"M 88.717332 162.642199 \nL 91.855934 170.273525 \nL 94.994537 175.120019 \nL 98.133139 193.876625 \nL 101.271742 181.344246 \nL 104.410344 192.145738 \nL 107.548946 197.583664 \nL 110.687549 198.453971 \nL 113.826151 193.494411 \nL 116.964754 201.873497 \nL 120.103356 200.496291 \nL 123.241958 200.740529 \nL 126.380561 208.475542 \nL 129.519163 206.873744 \nL 132.657766 203.499729 \nL 135.796368 207.579263 \nL 138.93497 207.640535 \nL 142.073573 209.458917 \nL 145.212175 210.472707 \nL 148.350778 210.614445 \nL 151.48938 211.555989 \nL 154.627982 212.546996 \nL 157.766585 213.323863 \nL 160.905187 212.942825 \nL 164.04379 214.12706 \nL 167.182392 214.244757 \nL 170.320994 214.524752 \nL 173.459597 215.397496 \nL 176.598199 215.790831 \nL 179.736802 215.727467 \nL 182.875404 215.948288 \nL 186.014006 216.15897 \nL 189.152609 216.673467 \nL 192.291211 216.588575 \nL 195.429814 216.893149 \nL 198.568416 217.030514 \nL 201.707018 217.205709 \nL 204.845621 217.357172 \nL 207.984223 217.478354 \nL 211.122826 217.599 \nL 214.261428 217.686017 \nL 217.40003 217.7881 \nL 220.538633 217.886135 \nL 223.677235 217.960657 \nL 226.815838 218.034188 \nL 229.95444 218.097221 \nL 233.093042 218.158709 \nL 236.231645 218.21187 \nL 239.370247 218.259754 \nL 242.50885 218.304384 \nL 245.647452 218.34326 \nL 248.786054 218.377366 \nL 251.924657 218.409514 \nL 255.063259 218.437783 \nL 258.201862 218.463041 \nL 261.340464 218.487048 \nL 264.479066 218.507812 \nL 267.617669 218.526195 \nL 270.756271 218.543187 \nL 273.894874 218.558461 \nL 277.033476 218.572219 \nL 280.172078 218.584522 \nL 283.310681 218.595817 \nL 286.449283 218.605716 \nL 289.587886 218.614525 \nL 292.726488 218.622661 \nL 295.86509 218.629971 \nL 299.003693 218.636589 \nL 302.142295 218.642522 \nL 305.280898 218.647914 \nL 308.4195 218.652611 \nL 311.558102 218.656973 \nL 314.696705 218.660869 \nL 317.835307 218.664336 \nL 320.97391 218.667513 \nL 324.112512 218.670317 \nL 327.251114 218.672866 \nL 330.389717 218.675164 \nL 333.528319 218.67723 \nL 336.666922 218.679097 \nL 339.805524 218.680771 \nL 342.944127 218.682275 \nL 346.082729 218.683634 \nL 349.221331 218.684855 \nL 352.359934 218.685952 \nL 355.498536 218.686943 \nL 358.637139 218.687836 \nL 361.775741 218.688635 \nL 364.914343 218.689355 \nL 368.052946 218.690004 \nL 371.191548 218.690588 \nL 374.330151 218.691115 \nL 377.468753 218.691588 \nL 380.607355 218.692014 \nL 383.745958 218.692397 \nL 386.88456 218.692742 \nL 390.023163 218.693053 \nL 393.161765 218.693332 \nL 396.300367 218.693584 \nL 399.43897 218.69381 \n\" style=\"fill:none;stroke:#ff0000;stroke-linecap:square;stroke-width:2;\"/>\n   </g>\n   <g id=\"patch_3\">\n    <path d=\"M 73.18125 228.65215 \nL 73.18125 9.619805 \n\" style=\"fill:none;stroke:#000000;stroke-linecap:square;stroke-linejoin:miter;stroke-width:0.8;\"/>\n   </g>\n   <g id=\"patch_4\">\n    <path d=\"M 414.975052 228.65215 \nL 414.975052 9.619805 \n\" style=\"fill:none;stroke:#000000;stroke-linecap:square;stroke-linejoin:miter;stroke-width:0.8;\"/>\n   </g>\n   <g id=\"patch_5\">\n    <path d=\"M 73.18125 228.65215 \nL 414.975052 228.65215 \n\" style=\"fill:none;stroke:#000000;stroke-linecap:square;stroke-linejoin:miter;stroke-width:0.8;\"/>\n   </g>\n   <g id=\"patch_6\">\n    <path d=\"M 73.18125 9.619805 \nL 414.975052 9.619805 \n\" style=\"fill:none;stroke:#000000;stroke-linecap:square;stroke-linejoin:miter;stroke-width:0.8;\"/>\n   </g>\n   <g id=\"legend_1\">\n    <g id=\"patch_7\">\n     <path d=\"M 293.381302 84.332305 \nL 400.975052 84.332305 \nQ 404.975052 84.332305 404.975052 80.332305 \nL 404.975052 23.619805 \nQ 404.975052 19.619805 400.975052 19.619805 \nL 293.381302 19.619805 \nQ 289.381302 19.619805 289.381302 23.619805 \nL 289.381302 80.332305 \nQ 289.381302 84.332305 293.381302 84.332305 \nz\n\" style=\"fill:#ffffff;opacity:0.8;stroke:#cccccc;stroke-linejoin:miter;\"/>\n    </g>\n    <g id=\"line2d_14\">\n     <path d=\"M 297.381302 35.81668 \nL 337.381302 35.81668 \n\" style=\"fill:none;stroke:#0000ff;stroke-dasharray:14.8,6.4;stroke-dashoffset:0;stroke-width:4;\"/>\n    </g>\n    <g id=\"line2d_15\"/>\n    <g id=\"text_14\">\n     <!-- GD -->\n     <g transform=\"translate(353.381302 42.81668)scale(0.2 -0.2)\">\n      <defs>\n       <path d=\"M 59.515625 10.40625 \nL 59.515625 29.984375 \nL 43.40625 29.984375 \nL 43.40625 38.09375 \nL 69.28125 38.09375 \nL 69.28125 6.78125 \nQ 63.578125 2.734375 56.6875 0.65625 \nQ 49.8125 -1.421875 42 -1.421875 \nQ 24.90625 -1.421875 15.25 8.5625 \nQ 5.609375 18.5625 5.609375 36.375 \nQ 5.609375 54.25 15.25 64.234375 \nQ 24.90625 74.21875 42 74.21875 \nQ 49.125 74.21875 55.546875 72.453125 \nQ 61.96875 70.703125 67.390625 67.28125 \nL 67.390625 56.78125 \nQ 61.921875 61.421875 55.765625 63.765625 \nQ 49.609375 66.109375 42.828125 66.109375 \nQ 29.4375 66.109375 22.71875 58.640625 \nQ 16.015625 51.171875 16.015625 36.375 \nQ 16.015625 21.625 22.71875 14.15625 \nQ 29.4375 6.6875 42.828125 6.6875 \nQ 48.046875 6.6875 52.140625 7.59375 \nQ 56.25 8.5 59.515625 10.40625 \nz\n\" id=\"DejaVuSans-71\"/>\n       <path d=\"M 19.671875 64.796875 \nL 19.671875 8.109375 \nL 31.59375 8.109375 \nQ 46.6875 8.109375 53.6875 14.9375 \nQ 60.6875 21.78125 60.6875 36.53125 \nQ 60.6875 51.171875 53.6875 57.984375 \nQ 46.6875 64.796875 31.59375 64.796875 \nz\nM 9.8125 72.90625 \nL 30.078125 72.90625 \nQ 51.265625 72.90625 61.171875 64.09375 \nQ 71.09375 55.28125 71.09375 36.53125 \nQ 71.09375 17.671875 61.125 8.828125 \nQ 51.171875 0 30.078125 0 \nL 9.8125 0 \nz\n\" id=\"DejaVuSans-68\"/>\n      </defs>\n      <use xlink:href=\"#DejaVuSans-71\"/>\n      <use x=\"77.490234\" xlink:href=\"#DejaVuSans-68\"/>\n     </g>\n    </g>\n    <g id=\"line2d_16\">\n     <path d=\"M 297.381302 65.17293 \nL 337.381302 65.17293 \n\" style=\"fill:none;stroke:#ff0000;stroke-linecap:square;stroke-width:2;\"/>\n    </g>\n    <g id=\"line2d_17\"/>\n    <g id=\"text_15\">\n     <!-- SGD -->\n     <g transform=\"translate(353.381302 72.17293)scale(0.2 -0.2)\">\n      <defs>\n       <path d=\"M 53.515625 70.515625 \nL 53.515625 60.890625 \nQ 47.90625 63.578125 42.921875 64.890625 \nQ 37.9375 66.21875 33.296875 66.21875 \nQ 25.25 66.21875 20.875 63.09375 \nQ 16.5 59.96875 16.5 54.203125 \nQ 16.5 49.359375 19.40625 46.890625 \nQ 22.3125 44.4375 30.421875 42.921875 \nL 36.375 41.703125 \nQ 47.40625 39.59375 52.65625 34.296875 \nQ 57.90625 29 57.90625 20.125 \nQ 57.90625 9.515625 50.796875 4.046875 \nQ 43.703125 -1.421875 29.984375 -1.421875 \nQ 24.8125 -1.421875 18.96875 -0.25 \nQ 13.140625 0.921875 6.890625 3.21875 \nL 6.890625 13.375 \nQ 12.890625 10.015625 18.65625 8.296875 \nQ 24.421875 6.59375 29.984375 6.59375 \nQ 38.421875 6.59375 43.015625 9.90625 \nQ 47.609375 13.234375 47.609375 19.390625 \nQ 47.609375 24.75 44.3125 27.78125 \nQ 41.015625 30.8125 33.5 32.328125 \nL 27.484375 33.5 \nQ 16.453125 35.6875 11.515625 40.375 \nQ 6.59375 45.0625 6.59375 53.421875 \nQ 6.59375 63.09375 13.40625 68.65625 \nQ 20.21875 74.21875 32.171875 74.21875 \nQ 37.3125 74.21875 42.625 73.28125 \nQ 47.953125 72.359375 53.515625 70.515625 \nz\n\" id=\"DejaVuSans-83\"/>\n      </defs>\n      <use xlink:href=\"#DejaVuSans-83\"/>\n      <use x=\"63.476562\" xlink:href=\"#DejaVuSans-71\"/>\n      <use x=\"140.966797\" xlink:href=\"#DejaVuSans-68\"/>\n     </g>\n    </g>\n   </g>\n  </g>\n </g>\n <defs>\n  <clipPath id=\"p0e5721bfd8\">\n   <rect height=\"219.032345\" width=\"341.793802\" x=\"73.18125\" y=\"9.619805\"/>\n  </clipPath>\n </defs>\n</svg>\n",
      "image/png": "[encoded data removed]"
     },
     "metadata": {
      "needs_background": "light"
     }
    }
   ],
   "source": [
    "import matplotlib.pyplot as plt\n",
    "%matplotlib inline\n",
    "\n",
    "fig = plt.figure(figsize=(6, 4))\n",
    "\n",
    "epochs_gd = range(len(objvals_gd))\n",
    "epochs_sgd = range(len(objvals_sgd))\n",
    "\n",
    "# By changing 'FontSize'->'fontsize' and 'LineWidth'->'linewidth' all the warnings are avoided.\n",
    "# I'm sorry if you wanted the warnings to stay, but they were quite ugly.\n",
    "line0, = plt.plot(epochs_gd, objvals_gd, '--b', linewidth=4)\n",
    "line1, = plt.plot(epochs_sgd, objvals_sgd, '-r', linewidth=2)\n",
    "plt.xlabel('Epochs', fontsize=20)\n",
    "plt.ylabel('Objective Value', fontsize=20)\n",
    "plt.xticks(fontsize=16)\n",
    "plt.yticks(fontsize=16)\n",
    "plt.legend([line0, line1], ['GD', 'SGD'], fontsize=20)\n",
    "plt.tight_layout()\n",
    "plt.show()\n",
    "fig.savefig('compare_gd_sgd.pdf', format='pdf', dpi=1200)"
   ]
  },
  {
   "cell_type": "markdown",
   "metadata": {},
   "source": [
    "# 5. Prediction"
   ]
  },
  {
   "cell_type": "code",
   "execution_count": 14,
   "metadata": {},
   "outputs": [],
   "source": [
    "# Predict class label\n",
    "# Inputs:\n",
    "#     w: d-by-1 matrix\n",
    "#     X: m-by-d matrix\n",
    "# Return:\n",
    "#     f: m-by-1 matrix, the predictions\n",
    "def predict(w, X):\n",
    "    xw = numpy.dot(X, w)\n",
    "    f = numpy.sign(xw)\n",
    "    return f"
   ]
  },
  {
   "cell_type": "code",
   "execution_count": 15,
   "metadata": {},
   "outputs": [
    {
     "output_type": "stream",
     "name": "stdout",
     "text": [
      "Training classification error is 0.2265625\n"
     ]
    }
   ],
   "source": [
    "# evaluate training error\n",
    "f_train = predict(w, x_train)\n",
    "diff = numpy.abs(f_train - y_train) / 2\n",
    "error_train = numpy.mean(diff)\n",
    "print('Training classification error is ' + str(error_train))"
   ]
  },
  {
   "cell_type": "code",
   "execution_count": 16,
   "metadata": {},
   "outputs": [
    {
     "output_type": "stream",
     "name": "stdout",
     "text": [
      "Test classification error is 0.1953125\n"
     ]
    }
   ],
   "source": [
    "# evaluate test error\n",
    "f_test = predict(w, x_test)\n",
    "diff = numpy.abs(f_test - y_test) / 2\n",
    "error_test = numpy.mean(diff)\n",
    "print('Test classification error is ' + str(error_test))"
   ]
  },
  {
   "cell_type": "markdown",
   "metadata": {},
   "source": [
    "# 6. Mini-batch SGD (fill the code)\n",
    "\n"
   ]
  },
  {
   "cell_type": "markdown",
   "metadata": {},
   "source": [
    "## 6.1. Compute the objective $Q_I$ and its gradient using a batch of samples\n",
    "\n",
    "Define $Q_I (w) = \\frac{1}{b} \\sum_{i \\in I} \\log \\Big( 1 + \\exp \\big( - y_i x_i^T w \\big) \\Big) + \\frac{\\lambda}{2} \\| w \\|_2^2 $, where $I$ is a set containing $b$ indices randomly drawn from $\\{ 1, \\cdots , n \\}$ without replacement.\n",
    "\n",
    "The stochastic gradient at $w$ is $g_I = \\frac{\\partial Q_I }{ \\partial w} = \\frac{1}{b} \\sum_{i \\in I} \\frac{- y_i x_i }{1 + \\exp ( y_i x_i^T w)} + \\lambda w$."
   ]
  },
  {
   "cell_type": "code",
   "execution_count": 17,
   "metadata": {},
   "outputs": [],
   "source": [
    "# Calculate the objective Q_I and the gradient of Q_I\n",
    "# Inputs:\n",
    "#     w: d-by-1 matrix\n",
    "#     xi: b-by-d matrix\n",
    "#     yi: b-by-1 matrix\n",
    "#     lam: scalar, the regularization parameter\n",
    "#     b: integer, the batch size\n",
    "# Return:\n",
    "#     obj: scalar, the objective Q_i\n",
    "#     g: d-by-1 matrix, gradient of Q_i\n",
    "def mb_stochastic_objective_gradient(w, xi, yi, lam, b):\n",
    "    # Fill the function\n",
    "    # Follow the implementation of stochastic_objective_gradient\n",
    "    # Use matrix-vector multiplication; do not use FOR LOOP of vector-vector multiplications\n",
    "    yx = numpy.multiply(yi, xi)    # b-by-d matrix\n",
    "    yxw = numpy.dot(yx, w) # b-by-1 matrix\n",
    "    vec1 = numpy.exp(-yxw) # b-by-1 matrix\n",
    "    vec2 = numpy.log(1 + vec1) # b-by-1 matrix\n",
    "    loss = numpy.mean(vec2) # scalar\n",
    "\n",
    "    # Compute the objective function\n",
    "    reg = lam / 2 * numpy.sum(w * w) # scalar\n",
    "    obj = loss + reg # scalar\n",
    "\n",
    "    # Compute the gradient\n",
    "    g_vec1 = numpy.exp(yxw) # b-by-1 matrix\n",
    "    g_vec2 = numpy.divide(-yx, 1+g_vec1) # b-by-d matrix\n",
    "    g_vec3 = numpy.mean(g_vec2, axis=0).T # d-by-1 matrix\n",
    "    g = g_vec3 + lam*w # d-by-1 matrix\n",
    "\n",
    "    # Return\n",
    "    return obj, g"
   ]
  },
  {
   "cell_type": "markdown",
   "metadata": {},
   "source": [
    "## 6.2. Implement mini-batch SGD\n",
    "\n",
    "Hints:\n",
    "1. In every epoch, randomly permute the $n$ samples (just like SGD).\n",
    "2. Each epoch has $\\frac{n}{b}$ iterations. In every iteration, use $b$ samples, and compute the gradient and objective using the ``mb_stochastic_objective_gradient`` function. In the next iteration, use the next $b$ samples, and so on.\n"
   ]
  },
  {
   "cell_type": "code",
   "execution_count": 18,
   "metadata": {},
   "outputs": [],
   "source": [
    "# Mini-Batch SGD for solving logistic regression\n",
    "# Inputs:\n",
    "#     x: n-by-d matrix\n",
    "#     y: n-by-1 matrix\n",
    "#     lam: scalar, the regularization parameter\n",
    "#     b: integer, the batch size\n",
    "#     stepsize: scalar\n",
    "#     max_epoch: integer, the maximal epochs\n",
    "#     w: d-by-1 matrix, initialization of w\n",
    "# Return:\n",
    "#     w: the solution\n",
    "#     objvals: record of each iteration's objective value\n",
    "def mb_sgd(x, y, lam, b, stepsize, max_epoch=100, w=None):\n",
    "    # Fill the function\n",
    "    # Follow the implementation of sgd\n",
    "    # Record one objective value per epoch (not per iteration!)\n",
    "    n, d = x.shape\n",
    "    print( \"Shape of our data is {}\".format( x.shape ) )\n",
    "    objvals = numpy.zeros(max_epoch) # store the objective values\n",
    "    if w is None:\n",
    "        w = numpy.zeros((d, 1)) # zero initialization\n",
    "    \n",
    "    for t in range(max_epoch):\n",
    "        # randomly shuffle the samples\n",
    "        rand_indices = numpy.random.permutation(n)\n",
    "        x_rand = x[rand_indices, :]\n",
    "        y_rand = y[rand_indices, :]\n",
    "\n",
    "        objval = 0\n",
    "        start_index = 0\n",
    "        end_index = b\n",
    "        # Calculate and run the exact number of iterations\n",
    "        for i in range( (n//b) ):\n",
    "            xi = x_rand[ (b*i):(b*(i+1)), : ]\n",
    "            yi = y_rand[ (b*i):(b*(i+1)), : ]\n",
    "            # Call our objective/gradient function\n",
    "            obj, g = mb_stochastic_objective_gradient(w, xi, yi, lam, b)\n",
    "            objval += obj\n",
    "            w -= stepsize * g\n",
    "        # Decrease the stepsize\n",
    "        stepsize *= 0.9\n",
    "        # Average the objval\n",
    "        objval /= (n//b)\n",
    "        # Record the value of the objective function\n",
    "        objvals[t] = objval\n",
    "        print( \"Objective value at epoch t={} is {}.\".format(t, objval))\n",
    "\n",
    "        \n",
    "\n",
    "    return w, objvals"
   ]
  },
  {
   "cell_type": "markdown",
   "metadata": {},
   "source": [
    "## 6.3. Run MB-SGD"
   ]
  },
  {
   "cell_type": "code",
   "execution_count": 25,
   "metadata": {
    "tags": []
   },
   "outputs": [
    {
     "output_type": "stream",
     "name": "stdout",
     "text": [
      "Shape of our data is (640, 9)\n",
      "Objective value at epoch t=0 is 0.6108585306654876.\n",
      "Objective value at epoch t=1 is 0.5357671885099208.\n",
      "Objective value at epoch t=2 is 0.5111633111857418.\n",
      "Objective value at epoch t=3 is 0.49986753307923.\n",
      "Objective value at epoch t=4 is 0.49343212488891436.\n",
      "Objective value at epoch t=5 is 0.4893579746272419.\n",
      "Objective value at epoch t=6 is 0.48671678403285307.\n",
      "Objective value at epoch t=7 is 0.48486262904851846.\n",
      "Objective value at epoch t=8 is 0.4835442424072619.\n",
      "Objective value at epoch t=9 is 0.4824986614341076.\n",
      "Objective value at epoch t=10 is 0.4817238256441706.\n",
      "Objective value at epoch t=11 is 0.4810558784642295.\n",
      "Objective value at epoch t=12 is 0.4805881471824932.\n",
      "Objective value at epoch t=13 is 0.48013630903821036.\n",
      "Objective value at epoch t=14 is 0.47988684843489054.\n",
      "Objective value at epoch t=15 is 0.4795814014905838.\n",
      "Objective value at epoch t=16 is 0.4793170552777303.\n",
      "Objective value at epoch t=17 is 0.47920352393276744.\n",
      "Objective value at epoch t=18 is 0.47895587922732596.\n",
      "Objective value at epoch t=19 is 0.4787986646992926.\n",
      "Objective value at epoch t=20 is 0.47869318847901726.\n",
      "Objective value at epoch t=21 is 0.4785955849125593.\n",
      "Objective value at epoch t=22 is 0.47846224110857866.\n",
      "Objective value at epoch t=23 is 0.4783895394130416.\n",
      "Objective value at epoch t=24 is 0.47831216782396613.\n",
      "Objective value at epoch t=25 is 0.47822267353048115.\n",
      "Objective value at epoch t=26 is 0.4782007626398251.\n",
      "Objective value at epoch t=27 is 0.47814307800770156.\n",
      "Objective value at epoch t=28 is 0.478105145850686.\n",
      "Objective value at epoch t=29 is 0.4780714740280173.\n",
      "Objective value at epoch t=30 is 0.47801544755351477.\n",
      "Objective value at epoch t=31 is 0.4779759720559932.\n",
      "Objective value at epoch t=32 is 0.47794497261044394.\n",
      "Objective value at epoch t=33 is 0.4779333258192434.\n",
      "Objective value at epoch t=34 is 0.4779112394941607.\n",
      "Objective value at epoch t=35 is 0.4778874364890891.\n",
      "Objective value at epoch t=36 is 0.4778711552454415.\n",
      "Objective value at epoch t=37 is 0.47786168303039.\n",
      "Objective value at epoch t=38 is 0.4778433832755239.\n",
      "Objective value at epoch t=39 is 0.4778296223024693.\n",
      "Objective value at epoch t=40 is 0.4778165418792145.\n",
      "Objective value at epoch t=41 is 0.4778067325242967.\n",
      "Objective value at epoch t=42 is 0.4777971329841968.\n",
      "Objective value at epoch t=43 is 0.47778716481033523.\n",
      "Objective value at epoch t=44 is 0.47777862900748636.\n",
      "Objective value at epoch t=45 is 0.47777345872596066.\n",
      "Objective value at epoch t=46 is 0.47776779540376213.\n",
      "Objective value at epoch t=47 is 0.47776072393623237.\n",
      "Objective value at epoch t=48 is 0.4777574367738315.\n",
      "Objective value at epoch t=49 is 0.477753061047434.\n",
      "Objective value at epoch t=50 is 0.477747341490869.\n",
      "Objective value at epoch t=51 is 0.4777445678583752.\n",
      "Objective value at epoch t=52 is 0.4777410712173662.\n",
      "Objective value at epoch t=53 is 0.4777386348428901.\n",
      "Objective value at epoch t=54 is 0.4777363822595295.\n",
      "Objective value at epoch t=55 is 0.47773425962361166.\n",
      "Objective value at epoch t=56 is 0.47773174048405387.\n",
      "Objective value at epoch t=57 is 0.4777293600622289.\n",
      "Objective value at epoch t=58 is 0.4777275529285241.\n",
      "Objective value at epoch t=59 is 0.4777266702091093.\n",
      "Objective value at epoch t=60 is 0.4777251405147641.\n",
      "Objective value at epoch t=61 is 0.4777236472944401.\n",
      "Objective value at epoch t=62 is 0.4777226698521691.\n",
      "Objective value at epoch t=63 is 0.4777216406798289.\n",
      "Objective value at epoch t=64 is 0.4777209643260621.\n",
      "Objective value at epoch t=65 is 0.4777196753106834.\n",
      "Objective value at epoch t=66 is 0.47771918147939.\n",
      "Objective value at epoch t=67 is 0.47771834536991553.\n",
      "Objective value at epoch t=68 is 0.4777178387946826.\n",
      "Objective value at epoch t=69 is 0.4777172222529444.\n",
      "Objective value at epoch t=70 is 0.4777169660041138.\n",
      "Objective value at epoch t=71 is 0.47771636631272046.\n",
      "Objective value at epoch t=72 is 0.4777159329149486.\n",
      "Objective value at epoch t=73 is 0.47771556796761383.\n",
      "Objective value at epoch t=74 is 0.4777152980487912.\n",
      "Objective value at epoch t=75 is 0.4777149604581866.\n",
      "Objective value at epoch t=76 is 0.4777146640300806.\n",
      "Objective value at epoch t=77 is 0.4777145547293096.\n",
      "Objective value at epoch t=78 is 0.4777142954905944.\n",
      "Objective value at epoch t=79 is 0.4777141685641658.\n",
      "Objective value at epoch t=80 is 0.47771393857879285.\n",
      "Objective value at epoch t=81 is 0.4777137970169866.\n",
      "Objective value at epoch t=82 is 0.47771363837131425.\n",
      "Objective value at epoch t=83 is 0.4777135330686694.\n",
      "Objective value at epoch t=84 is 0.47771341849303406.\n",
      "Objective value at epoch t=85 is 0.47771333261239074.\n",
      "Objective value at epoch t=86 is 0.47771323287753004.\n",
      "Objective value at epoch t=87 is 0.4777131636667239.\n",
      "Objective value at epoch t=88 is 0.47771307461496004.\n",
      "Objective value at epoch t=89 is 0.4777130317865196.\n",
      "Objective value at epoch t=90 is 0.47771296441138533.\n",
      "Objective value at epoch t=91 is 0.47771292241322244.\n",
      "Objective value at epoch t=92 is 0.4777128649851255.\n",
      "Objective value at epoch t=93 is 0.47771282404265253.\n",
      "Objective value at epoch t=94 is 0.47771278548573726.\n",
      "Objective value at epoch t=95 is 0.47771272789075336.\n",
      "Objective value at epoch t=96 is 0.4777127181635345.\n",
      "Objective value at epoch t=97 is 0.4777126831755818.\n",
      "Objective value at epoch t=98 is 0.47771265923242223.\n",
      "Objective value at epoch t=99 is 0.4777126483322479.\n"
     ]
    }
   ],
   "source": [
    "# MB-SGD with batch size b=8\n",
    "lam = 1E-6 # do not change\n",
    "b = 8 # do not change\n",
    "stepsize = 0.028 # you must tune this parameter\n",
    "\n",
    "w, objvals_mbsgd8 = mb_sgd(x_train, y_train, lam, b, stepsize)"
   ]
  },
  {
   "cell_type": "code",
   "execution_count": 34,
   "metadata": {
    "tags": []
   },
   "outputs": [
    {
     "output_type": "stream",
     "name": "stdout",
     "text": [
      "Shape of our data is (640, 9)\nObjective value at epoch t=0 is 0.6095149489302413.\nObjective value at epoch t=1 is 0.5314893083476516.\nObjective value at epoch t=2 is 0.5079379954972721.\nObjective value at epoch t=3 is 0.49750376879752223.\nObjective value at epoch t=4 is 0.491703427587021.\nObjective value at epoch t=5 is 0.4875647402981375.\nObjective value at epoch t=6 is 0.48519695514720595.\nObjective value at epoch t=7 is 0.48323517386180426.\nObjective value at epoch t=8 is 0.48236469910140684.\nObjective value at epoch t=9 is 0.481526408978526.\nObjective value at epoch t=10 is 0.4812446392315507.\nObjective value at epoch t=11 is 0.4802458052310964.\nObjective value at epoch t=12 is 0.4797672606673262.\nObjective value at epoch t=13 is 0.47944500350011154.\nObjective value at epoch t=14 is 0.47936125455274503.\nObjective value at epoch t=15 is 0.47888506559631727.\nObjective value at epoch t=16 is 0.4787418753220005.\nObjective value at epoch t=17 is 0.47852328329999116.\nObjective value at epoch t=18 is 0.4784548152024577.\nObjective value at epoch t=19 is 0.4783628397210255.\nObjective value at epoch t=20 is 0.47823393051120816.\nObjective value at epoch t=21 is 0.47822227826779484.\nObjective value at epoch t=22 is 0.47801860484532915.\nObjective value at epoch t=23 is 0.4779531520092141.\nObjective value at epoch t=24 is 0.47788682944908095.\nObjective value at epoch t=25 is 0.477823477074134.\nObjective value at epoch t=26 is 0.4778762000804487.\nObjective value at epoch t=27 is 0.47775085274373874.\nObjective value at epoch t=28 is 0.47768311791436124.\nObjective value at epoch t=29 is 0.47768987891644904.\nObjective value at epoch t=30 is 0.47762432948746136.\nObjective value at epoch t=31 is 0.4775978586349597.\nObjective value at epoch t=32 is 0.4776022013723741.\nObjective value at epoch t=33 is 0.4775561755169364.\nObjective value at epoch t=34 is 0.47756993008584175.\nObjective value at epoch t=35 is 0.47753494260616247.\nObjective value at epoch t=36 is 0.4775164223979239.\nObjective value at epoch t=37 is 0.4775177022128698.\nObjective value at epoch t=38 is 0.47749072025268.\nObjective value at epoch t=39 is 0.47748450594710823.\nObjective value at epoch t=40 is 0.477487446849853.\nObjective value at epoch t=41 is 0.47746127911136477.\nObjective value at epoch t=42 is 0.47745926685176965.\nObjective value at epoch t=43 is 0.4774519428859085.\nObjective value at epoch t=44 is 0.4774472553039327.\nObjective value at epoch t=45 is 0.47744644259998203.\nObjective value at epoch t=46 is 0.4774362106522584.\nObjective value at epoch t=47 is 0.47742993536541806.\nObjective value at epoch t=48 is 0.47742701115845687.\nObjective value at epoch t=49 is 0.4774202850849215.\nObjective value at epoch t=50 is 0.47742155136010594.\nObjective value at epoch t=51 is 0.4774197487065789.\nObjective value at epoch t=52 is 0.47741378150934743.\nObjective value at epoch t=53 is 0.47741084533810085.\nObjective value at epoch t=54 is 0.47741369086107693.\nObjective value at epoch t=55 is 0.4774104504261486.\nObjective value at epoch t=56 is 0.4774072116783124.\nObjective value at epoch t=57 is 0.4774028591837688.\nObjective value at epoch t=58 is 0.47740154978015975.\nObjective value at epoch t=59 is 0.4774022701246947.\nObjective value at epoch t=60 is 0.4774013587779831.\nObjective value at epoch t=61 is 0.477399497397441.\nObjective value at epoch t=62 is 0.47739848086133.\nObjective value at epoch t=63 is 0.47739848982278044.\nObjective value at epoch t=64 is 0.47739653001296906.\nObjective value at epoch t=65 is 0.47739601114236435.\nObjective value at epoch t=66 is 0.47739442163610263.\nObjective value at epoch t=67 is 0.4773945901712386.\nObjective value at epoch t=68 is 0.47739405893853853.\nObjective value at epoch t=69 is 0.4773937724137351.\nObjective value at epoch t=70 is 0.4773934112863946.\nObjective value at epoch t=71 is 0.4773929255828405.\nObjective value at epoch t=72 is 0.47739241656329545.\nObjective value at epoch t=73 is 0.477392510421924.\nObjective value at epoch t=74 is 0.47739163777281357.\nObjective value at epoch t=75 is 0.47739164509595267.\nObjective value at epoch t=76 is 0.47739141268953683.\nObjective value at epoch t=77 is 0.4773915179837734.\nObjective value at epoch t=78 is 0.47739120276283015.\nObjective value at epoch t=79 is 0.4773911247783256.\nObjective value at epoch t=80 is 0.4773911280127886.\nObjective value at epoch t=81 is 0.4773909846556439.\nObjective value at epoch t=82 is 0.4773906661853565.\nObjective value at epoch t=83 is 0.4773905307709943.\nObjective value at epoch t=84 is 0.47739040998000054.\nObjective value at epoch t=85 is 0.47739040618227346.\nObjective value at epoch t=86 is 0.477390251304629.\nObjective value at epoch t=87 is 0.47739022914076995.\nObjective value at epoch t=88 is 0.47739018811092454.\nObjective value at epoch t=89 is 0.4773901755122066.\nObjective value at epoch t=90 is 0.477390023195894.\nObjective value at epoch t=91 is 0.4773899629304041.\nObjective value at epoch t=92 is 0.477389960080262.\nObjective value at epoch t=93 is 0.4773898662916344.\nObjective value at epoch t=94 is 0.4773899092705453.\nObjective value at epoch t=95 is 0.4773899073670721.\nObjective value at epoch t=96 is 0.4773898307151775.\nObjective value at epoch t=97 is 0.4773897857629727.\nObjective value at epoch t=98 is 0.47738976987772264.\nObjective value at epoch t=99 is 0.4773897593097865.\n"
     ]
    }
   ],
   "source": [
    "# MB-SGD with batch size b=64\n",
    "lam = 1E-6 # do not change\n",
    "b = 64 # do not change\n",
    "stepsize = 0.24 # you must tune this parameter\n",
    "\n",
    "w, objvals_mbsgd64 = mb_sgd(x_train, y_train, lam, b, stepsize)"
   ]
  },
  {
   "cell_type": "markdown",
   "metadata": {},
   "source": [
    "# 7. Plot and compare GD, SGD, and MB-SGD"
   ]
  },
  {
   "cell_type": "markdown",
   "metadata": {},
   "source": [
    "You are required to compare the following algorithms:\n",
    "\n",
    "- Gradient descent (GD)\n",
    "\n",
    "- SGD\n",
    "\n",
    "- MB-SGD with b=8\n",
    "\n",
    "- MB-SGD with b=64\n",
    "\n",
    "Follow the code in Section 4 to plot ```objective function value``` against ```epochs```. There should be four curves in the plot; each curve corresponds to one algorithm."
   ]
  },
  {
   "cell_type": "markdown",
   "metadata": {},
   "source": [
    "Hint: Logistic regression with $\\ell_2$-norm regularization is a strongly convex optimization problem. All the algorithms will converge to the same solution. **In the end, the ``objective function value`` of the 4 algorithms will be the same. If not the same, your implementation must be wrong. Do NOT submit wrong code and wrong result!**"
   ]
  },
  {
   "cell_type": "code",
   "execution_count": 36,
   "metadata": {},
   "outputs": [
    {
     "output_type": "display_data",
     "data": {
      "text/plain": "<Figure size 432x288 with 1 Axes>",
      "image/svg+xml": "<?xml version=\"1.0\" encoding=\"utf-8\" standalone=\"no\"?>\n<!DOCTYPE svg PUBLIC \"-//W3C//DTD SVG 1.1//EN\"\n  \"http://www.w3.org/Graphics/SVG/1.1/DTD/svg11.dtd\">\n<!-- Created with matplotlib (https://matplotlib.org/) -->\n<svg height=\"281.6934pt\" version=\"1.1\" viewBox=\"0 0 425.047572 281.6934\" width=\"425.047572pt\" xmlns=\"http://www.w3.org/2000/svg\" xmlns:xlink=\"http://www.w3.org/1999/xlink\">\n <metadata>\n  <rdf:RDF xmlns:cc=\"http://creativecommons.org/ns#\" xmlns:dc=\"http://purl.org/dc/elements/1.1/\" xmlns:rdf=\"http://www.w3.org/1999/02/22-rdf-syntax-ns#\">\n   <cc:Work>\n    <dc:type rdf:resource=\"http://purl.org/dc/dcmitype/StillImage\"/>\n    <dc:date>2021-03-07T09:31:42.077542</dc:date>\n    <dc:format>image/svg+xml</dc:format>\n    <dc:creator>\n     <cc:Agent>\n      <dc:title>Matplotlib v3.3.4, https://matplotlib.org/</dc:title>\n     </cc:Agent>\n    </dc:creator>\n   </cc:Work>\n  </rdf:RDF>\n </metadata>\n <defs>\n  <style type=\"text/css\">*{stroke-linecap:butt;stroke-linejoin:round;}</style>\n </defs>\n <g id=\"figure_1\">\n  <g id=\"patch_1\">\n   <path d=\"M 0 281.6934 \nL 425.047572 281.6934 \nL 425.047572 0 \nL 0 0 \nz\n\" style=\"fill:none;\"/>\n  </g>\n  <g id=\"axes_1\">\n   <g id=\"patch_2\">\n    <path d=\"M 73.18125 228.65215 \nL 414.975052 228.65215 \nL 414.975052 9.619805 \nL 73.18125 9.619805 \nz\n\" style=\"fill:#ffffff;\"/>\n   </g>\n   <g id=\"matplotlib.axis_1\">\n    <g id=\"xtick_1\">\n     <g id=\"line2d_1\">\n      <defs>\n       <path d=\"M 0 0 \nL 0 3.5 \n\" id=\"mf5b7c9e5e3\" style=\"stroke:#000000;stroke-width:0.8;\"/>\n      </defs>\n      <g>\n       <use style=\"stroke:#000000;stroke-width:0.8;\" x=\"88.717332\" xlink:href=\"#mf5b7c9e5e3\" y=\"228.65215\"/>\n      </g>\n     </g>\n     <g id=\"text_1\">\n      <!-- 0 -->\n      <g transform=\"translate(83.627332 247.80965)scale(0.16 -0.16)\">\n       <defs>\n        <path d=\"M 31.78125 66.40625 \nQ 24.171875 66.40625 20.328125 58.90625 \nQ 16.5 51.421875 16.5 36.375 \nQ 16.5 21.390625 20.328125 13.890625 \nQ 24.171875 6.390625 31.78125 6.390625 \nQ 39.453125 6.390625 43.28125 13.890625 \nQ 47.125 21.390625 47.125 36.375 \nQ 47.125 51.421875 43.28125 58.90625 \nQ 39.453125 66.40625 31.78125 66.40625 \nz\nM 31.78125 74.21875 \nQ 44.046875 74.21875 50.515625 64.515625 \nQ 56.984375 54.828125 56.984375 36.375 \nQ 56.984375 17.96875 50.515625 8.265625 \nQ 44.046875 -1.421875 31.78125 -1.421875 \nQ 19.53125 -1.421875 13.0625 8.265625 \nQ 6.59375 17.96875 6.59375 36.375 \nQ 6.59375 54.828125 13.0625 64.515625 \nQ 19.53125 74.21875 31.78125 74.21875 \nz\n\" id=\"DejaVuSans-48\"/>\n       </defs>\n       <use xlink:href=\"#DejaVuSans-48\"/>\n      </g>\n     </g>\n    </g>\n    <g id=\"xtick_2\">\n     <g id=\"line2d_2\">\n      <g>\n       <use style=\"stroke:#000000;stroke-width:0.8;\" x=\"151.48938\" xlink:href=\"#mf5b7c9e5e3\" y=\"228.65215\"/>\n      </g>\n     </g>\n     <g id=\"text_2\">\n      <!-- 20 -->\n      <g transform=\"translate(141.30938 247.80965)scale(0.16 -0.16)\">\n       <defs>\n        <path d=\"M 19.1875 8.296875 \nL 53.609375 8.296875 \nL 53.609375 0 \nL 7.328125 0 \nL 7.328125 8.296875 \nQ 12.9375 14.109375 22.625 23.890625 \nQ 32.328125 33.6875 34.8125 36.53125 \nQ 39.546875 41.84375 41.421875 45.53125 \nQ 43.3125 49.21875 43.3125 52.78125 \nQ 43.3125 58.59375 39.234375 62.25 \nQ 35.15625 65.921875 28.609375 65.921875 \nQ 23.96875 65.921875 18.8125 64.3125 \nQ 13.671875 62.703125 7.8125 59.421875 \nL 7.8125 69.390625 \nQ 13.765625 71.78125 18.9375 73 \nQ 24.125 74.21875 28.421875 74.21875 \nQ 39.75 74.21875 46.484375 68.546875 \nQ 53.21875 62.890625 53.21875 53.421875 \nQ 53.21875 48.921875 51.53125 44.890625 \nQ 49.859375 40.875 45.40625 35.40625 \nQ 44.1875 33.984375 37.640625 27.21875 \nQ 31.109375 20.453125 19.1875 8.296875 \nz\n\" id=\"DejaVuSans-50\"/>\n       </defs>\n       <use xlink:href=\"#DejaVuSans-50\"/>\n       <use x=\"63.623047\" xlink:href=\"#DejaVuSans-48\"/>\n      </g>\n     </g>\n    </g>\n    <g id=\"xtick_3\">\n     <g id=\"line2d_3\">\n      <g>\n       <use style=\"stroke:#000000;stroke-width:0.8;\" x=\"214.261428\" xlink:href=\"#mf5b7c9e5e3\" y=\"228.65215\"/>\n      </g>\n     </g>\n     <g id=\"text_3\">\n      <!-- 40 -->\n      <g transform=\"translate(204.081428 247.80965)scale(0.16 -0.16)\">\n       <defs>\n        <path d=\"M 37.796875 64.3125 \nL 12.890625 25.390625 \nL 37.796875 25.390625 \nz\nM 35.203125 72.90625 \nL 47.609375 72.90625 \nL 47.609375 25.390625 \nL 58.015625 25.390625 \nL 58.015625 17.1875 \nL 47.609375 17.1875 \nL 47.609375 0 \nL 37.796875 0 \nL 37.796875 17.1875 \nL 4.890625 17.1875 \nL 4.890625 26.703125 \nz\n\" id=\"DejaVuSans-52\"/>\n       </defs>\n       <use xlink:href=\"#DejaVuSans-52\"/>\n       <use x=\"63.623047\" xlink:href=\"#DejaVuSans-48\"/>\n      </g>\n     </g>\n    </g>\n    <g id=\"xtick_4\">\n     <g id=\"line2d_4\">\n      <g>\n       <use style=\"stroke:#000000;stroke-width:0.8;\" x=\"277.033476\" xlink:href=\"#mf5b7c9e5e3\" y=\"228.65215\"/>\n      </g>\n     </g>\n     <g id=\"text_4\">\n      <!-- 60 -->\n      <g transform=\"translate(266.853476 247.80965)scale(0.16 -0.16)\">\n       <defs>\n        <path d=\"M 33.015625 40.375 \nQ 26.375 40.375 22.484375 35.828125 \nQ 18.609375 31.296875 18.609375 23.390625 \nQ 18.609375 15.53125 22.484375 10.953125 \nQ 26.375 6.390625 33.015625 6.390625 \nQ 39.65625 6.390625 43.53125 10.953125 \nQ 47.40625 15.53125 47.40625 23.390625 \nQ 47.40625 31.296875 43.53125 35.828125 \nQ 39.65625 40.375 33.015625 40.375 \nz\nM 52.59375 71.296875 \nL 52.59375 62.3125 \nQ 48.875 64.0625 45.09375 64.984375 \nQ 41.3125 65.921875 37.59375 65.921875 \nQ 27.828125 65.921875 22.671875 59.328125 \nQ 17.53125 52.734375 16.796875 39.40625 \nQ 19.671875 43.65625 24.015625 45.921875 \nQ 28.375 48.1875 33.59375 48.1875 \nQ 44.578125 48.1875 50.953125 41.515625 \nQ 57.328125 34.859375 57.328125 23.390625 \nQ 57.328125 12.15625 50.6875 5.359375 \nQ 44.046875 -1.421875 33.015625 -1.421875 \nQ 20.359375 -1.421875 13.671875 8.265625 \nQ 6.984375 17.96875 6.984375 36.375 \nQ 6.984375 53.65625 15.1875 63.9375 \nQ 23.390625 74.21875 37.203125 74.21875 \nQ 40.921875 74.21875 44.703125 73.484375 \nQ 48.484375 72.75 52.59375 71.296875 \nz\n\" id=\"DejaVuSans-54\"/>\n       </defs>\n       <use xlink:href=\"#DejaVuSans-54\"/>\n       <use x=\"63.623047\" xlink:href=\"#DejaVuSans-48\"/>\n      </g>\n     </g>\n    </g>\n    <g id=\"xtick_5\">\n     <g id=\"line2d_5\">\n      <g>\n       <use style=\"stroke:#000000;stroke-width:0.8;\" x=\"339.805524\" xlink:href=\"#mf5b7c9e5e3\" y=\"228.65215\"/>\n      </g>\n     </g>\n     <g id=\"text_5\">\n      <!-- 80 -->\n      <g transform=\"translate(329.625524 247.80965)scale(0.16 -0.16)\">\n       <defs>\n        <path d=\"M 31.78125 34.625 \nQ 24.75 34.625 20.71875 30.859375 \nQ 16.703125 27.09375 16.703125 20.515625 \nQ 16.703125 13.921875 20.71875 10.15625 \nQ 24.75 6.390625 31.78125 6.390625 \nQ 38.8125 6.390625 42.859375 10.171875 \nQ 46.921875 13.96875 46.921875 20.515625 \nQ 46.921875 27.09375 42.890625 30.859375 \nQ 38.875 34.625 31.78125 34.625 \nz\nM 21.921875 38.8125 \nQ 15.578125 40.375 12.03125 44.71875 \nQ 8.5 49.078125 8.5 55.328125 \nQ 8.5 64.0625 14.71875 69.140625 \nQ 20.953125 74.21875 31.78125 74.21875 \nQ 42.671875 74.21875 48.875 69.140625 \nQ 55.078125 64.0625 55.078125 55.328125 \nQ 55.078125 49.078125 51.53125 44.71875 \nQ 48 40.375 41.703125 38.8125 \nQ 48.828125 37.15625 52.796875 32.3125 \nQ 56.78125 27.484375 56.78125 20.515625 \nQ 56.78125 9.90625 50.3125 4.234375 \nQ 43.84375 -1.421875 31.78125 -1.421875 \nQ 19.734375 -1.421875 13.25 4.234375 \nQ 6.78125 9.90625 6.78125 20.515625 \nQ 6.78125 27.484375 10.78125 32.3125 \nQ 14.796875 37.15625 21.921875 38.8125 \nz\nM 18.3125 54.390625 \nQ 18.3125 48.734375 21.84375 45.5625 \nQ 25.390625 42.390625 31.78125 42.390625 \nQ 38.140625 42.390625 41.71875 45.5625 \nQ 45.3125 48.734375 45.3125 54.390625 \nQ 45.3125 60.0625 41.71875 63.234375 \nQ 38.140625 66.40625 31.78125 66.40625 \nQ 25.390625 66.40625 21.84375 63.234375 \nQ 18.3125 60.0625 18.3125 54.390625 \nz\n\" id=\"DejaVuSans-56\"/>\n       </defs>\n       <use xlink:href=\"#DejaVuSans-56\"/>\n       <use x=\"63.623047\" xlink:href=\"#DejaVuSans-48\"/>\n      </g>\n     </g>\n    </g>\n    <g id=\"xtick_6\">\n     <g id=\"line2d_6\">\n      <g>\n       <use style=\"stroke:#000000;stroke-width:0.8;\" x=\"402.577572\" xlink:href=\"#mf5b7c9e5e3\" y=\"228.65215\"/>\n      </g>\n     </g>\n     <g id=\"text_6\">\n      <!-- 100 -->\n      <g transform=\"translate(387.307572 247.80965)scale(0.16 -0.16)\">\n       <defs>\n        <path d=\"M 12.40625 8.296875 \nL 28.515625 8.296875 \nL 28.515625 63.921875 \nL 10.984375 60.40625 \nL 10.984375 69.390625 \nL 28.421875 72.90625 \nL 38.28125 72.90625 \nL 38.28125 8.296875 \nL 54.390625 8.296875 \nL 54.390625 0 \nL 12.40625 0 \nz\n\" id=\"DejaVuSans-49\"/>\n       </defs>\n       <use xlink:href=\"#DejaVuSans-49\"/>\n       <use x=\"63.623047\" xlink:href=\"#DejaVuSans-48\"/>\n       <use x=\"127.246094\" xlink:href=\"#DejaVuSans-48\"/>\n      </g>\n     </g>\n    </g>\n    <g id=\"text_7\">\n     <!-- Epochs -->\n     <g transform=\"translate(208.246901 270.334025)scale(0.2 -0.2)\">\n      <defs>\n       <path d=\"M 9.8125 72.90625 \nL 55.90625 72.90625 \nL 55.90625 64.59375 \nL 19.671875 64.59375 \nL 19.671875 43.015625 \nL 54.390625 43.015625 \nL 54.390625 34.71875 \nL 19.671875 34.71875 \nL 19.671875 8.296875 \nL 56.78125 8.296875 \nL 56.78125 0 \nL 9.8125 0 \nz\n\" id=\"DejaVuSans-69\"/>\n       <path d=\"M 18.109375 8.203125 \nL 18.109375 -20.796875 \nL 9.078125 -20.796875 \nL 9.078125 54.6875 \nL 18.109375 54.6875 \nL 18.109375 46.390625 \nQ 20.953125 51.265625 25.265625 53.625 \nQ 29.59375 56 35.59375 56 \nQ 45.5625 56 51.78125 48.09375 \nQ 58.015625 40.1875 58.015625 27.296875 \nQ 58.015625 14.40625 51.78125 6.484375 \nQ 45.5625 -1.421875 35.59375 -1.421875 \nQ 29.59375 -1.421875 25.265625 0.953125 \nQ 20.953125 3.328125 18.109375 8.203125 \nz\nM 48.6875 27.296875 \nQ 48.6875 37.203125 44.609375 42.84375 \nQ 40.53125 48.484375 33.40625 48.484375 \nQ 26.265625 48.484375 22.1875 42.84375 \nQ 18.109375 37.203125 18.109375 27.296875 \nQ 18.109375 17.390625 22.1875 11.75 \nQ 26.265625 6.109375 33.40625 6.109375 \nQ 40.53125 6.109375 44.609375 11.75 \nQ 48.6875 17.390625 48.6875 27.296875 \nz\n\" id=\"DejaVuSans-112\"/>\n       <path d=\"M 30.609375 48.390625 \nQ 23.390625 48.390625 19.1875 42.75 \nQ 14.984375 37.109375 14.984375 27.296875 \nQ 14.984375 17.484375 19.15625 11.84375 \nQ 23.34375 6.203125 30.609375 6.203125 \nQ 37.796875 6.203125 41.984375 11.859375 \nQ 46.1875 17.53125 46.1875 27.296875 \nQ 46.1875 37.015625 41.984375 42.703125 \nQ 37.796875 48.390625 30.609375 48.390625 \nz\nM 30.609375 56 \nQ 42.328125 56 49.015625 48.375 \nQ 55.71875 40.765625 55.71875 27.296875 \nQ 55.71875 13.875 49.015625 6.21875 \nQ 42.328125 -1.421875 30.609375 -1.421875 \nQ 18.84375 -1.421875 12.171875 6.21875 \nQ 5.515625 13.875 5.515625 27.296875 \nQ 5.515625 40.765625 12.171875 48.375 \nQ 18.84375 56 30.609375 56 \nz\n\" id=\"DejaVuSans-111\"/>\n       <path d=\"M 48.78125 52.59375 \nL 48.78125 44.1875 \nQ 44.96875 46.296875 41.140625 47.34375 \nQ 37.3125 48.390625 33.40625 48.390625 \nQ 24.65625 48.390625 19.8125 42.84375 \nQ 14.984375 37.3125 14.984375 27.296875 \nQ 14.984375 17.28125 19.8125 11.734375 \nQ 24.65625 6.203125 33.40625 6.203125 \nQ 37.3125 6.203125 41.140625 7.25 \nQ 44.96875 8.296875 48.78125 10.40625 \nL 48.78125 2.09375 \nQ 45.015625 0.34375 40.984375 -0.53125 \nQ 36.96875 -1.421875 32.421875 -1.421875 \nQ 20.0625 -1.421875 12.78125 6.34375 \nQ 5.515625 14.109375 5.515625 27.296875 \nQ 5.515625 40.671875 12.859375 48.328125 \nQ 20.21875 56 33.015625 56 \nQ 37.15625 56 41.109375 55.140625 \nQ 45.0625 54.296875 48.78125 52.59375 \nz\n\" id=\"DejaVuSans-99\"/>\n       <path d=\"M 54.890625 33.015625 \nL 54.890625 0 \nL 45.90625 0 \nL 45.90625 32.71875 \nQ 45.90625 40.484375 42.875 44.328125 \nQ 39.84375 48.1875 33.796875 48.1875 \nQ 26.515625 48.1875 22.3125 43.546875 \nQ 18.109375 38.921875 18.109375 30.90625 \nL 18.109375 0 \nL 9.078125 0 \nL 9.078125 75.984375 \nL 18.109375 75.984375 \nL 18.109375 46.1875 \nQ 21.34375 51.125 25.703125 53.5625 \nQ 30.078125 56 35.796875 56 \nQ 45.21875 56 50.046875 50.171875 \nQ 54.890625 44.34375 54.890625 33.015625 \nz\n\" id=\"DejaVuSans-104\"/>\n       <path d=\"M 44.28125 53.078125 \nL 44.28125 44.578125 \nQ 40.484375 46.53125 36.375 47.5 \nQ 32.28125 48.484375 27.875 48.484375 \nQ 21.1875 48.484375 17.84375 46.4375 \nQ 14.5 44.390625 14.5 40.28125 \nQ 14.5 37.15625 16.890625 35.375 \nQ 19.28125 33.59375 26.515625 31.984375 \nL 29.59375 31.296875 \nQ 39.15625 29.25 43.1875 25.515625 \nQ 47.21875 21.78125 47.21875 15.09375 \nQ 47.21875 7.46875 41.1875 3.015625 \nQ 35.15625 -1.421875 24.609375 -1.421875 \nQ 20.21875 -1.421875 15.453125 -0.5625 \nQ 10.6875 0.296875 5.421875 2 \nL 5.421875 11.28125 \nQ 10.40625 8.6875 15.234375 7.390625 \nQ 20.0625 6.109375 24.8125 6.109375 \nQ 31.15625 6.109375 34.5625 8.28125 \nQ 37.984375 10.453125 37.984375 14.40625 \nQ 37.984375 18.0625 35.515625 20.015625 \nQ 33.0625 21.96875 24.703125 23.78125 \nL 21.578125 24.515625 \nQ 13.234375 26.265625 9.515625 29.90625 \nQ 5.8125 33.546875 5.8125 39.890625 \nQ 5.8125 47.609375 11.28125 51.796875 \nQ 16.75 56 26.8125 56 \nQ 31.78125 56 36.171875 55.265625 \nQ 40.578125 54.546875 44.28125 53.078125 \nz\n\" id=\"DejaVuSans-115\"/>\n      </defs>\n      <use xlink:href=\"#DejaVuSans-69\"/>\n      <use x=\"63.183594\" xlink:href=\"#DejaVuSans-112\"/>\n      <use x=\"126.660156\" xlink:href=\"#DejaVuSans-111\"/>\n      <use x=\"187.841797\" xlink:href=\"#DejaVuSans-99\"/>\n      <use x=\"242.822266\" xlink:href=\"#DejaVuSans-104\"/>\n      <use x=\"306.201172\" xlink:href=\"#DejaVuSans-115\"/>\n     </g>\n    </g>\n   </g>\n   <g id=\"matplotlib.axis_2\">\n    <g id=\"ytick_1\">\n     <g id=\"line2d_7\">\n      <defs>\n       <path d=\"M 0 0 \nL -3.5 0 \n\" id=\"m96f17eed30\" style=\"stroke:#000000;stroke-width:0.8;\"/>\n      </defs>\n      <g>\n       <use style=\"stroke:#000000;stroke-width:0.8;\" x=\"73.18125\" xlink:href=\"#m96f17eed30\" y=\"197.059192\"/>\n      </g>\n     </g>\n     <g id=\"text_8\">\n      <!-- 0.50 -->\n      <g transform=\"translate(30.55625 203.137942)scale(0.16 -0.16)\">\n       <defs>\n        <path d=\"M 10.6875 12.40625 \nL 21 12.40625 \nL 21 0 \nL 10.6875 0 \nz\n\" id=\"DejaVuSans-46\"/>\n        <path d=\"M 10.796875 72.90625 \nL 49.515625 72.90625 \nL 49.515625 64.59375 \nL 19.828125 64.59375 \nL 19.828125 46.734375 \nQ 21.96875 47.46875 24.109375 47.828125 \nQ 26.265625 48.1875 28.421875 48.1875 \nQ 40.625 48.1875 47.75 41.5 \nQ 54.890625 34.8125 54.890625 23.390625 \nQ 54.890625 11.625 47.5625 5.09375 \nQ 40.234375 -1.421875 26.90625 -1.421875 \nQ 22.3125 -1.421875 17.546875 -0.640625 \nQ 12.796875 0.140625 7.71875 1.703125 \nL 7.71875 11.625 \nQ 12.109375 9.234375 16.796875 8.0625 \nQ 21.484375 6.890625 26.703125 6.890625 \nQ 35.15625 6.890625 40.078125 11.328125 \nQ 45.015625 15.765625 45.015625 23.390625 \nQ 45.015625 31 40.078125 35.4375 \nQ 35.15625 39.890625 26.703125 39.890625 \nQ 22.75 39.890625 18.8125 39.015625 \nQ 14.890625 38.140625 10.796875 36.28125 \nz\n\" id=\"DejaVuSans-53\"/>\n       </defs>\n       <use xlink:href=\"#DejaVuSans-48\"/>\n       <use x=\"63.623047\" xlink:href=\"#DejaVuSans-46\"/>\n       <use x=\"95.410156\" xlink:href=\"#DejaVuSans-53\"/>\n       <use x=\"159.033203\" xlink:href=\"#DejaVuSans-48\"/>\n      </g>\n     </g>\n    </g>\n    <g id=\"ytick_2\">\n     <g id=\"line2d_8\">\n      <g>\n       <use style=\"stroke:#000000;stroke-width:0.8;\" x=\"73.18125\" xlink:href=\"#m96f17eed30\" y=\"151.114082\"/>\n      </g>\n     </g>\n     <g id=\"text_9\">\n      <!-- 0.55 -->\n      <g transform=\"translate(30.55625 157.192832)scale(0.16 -0.16)\">\n       <use xlink:href=\"#DejaVuSans-48\"/>\n       <use x=\"63.623047\" xlink:href=\"#DejaVuSans-46\"/>\n       <use x=\"95.410156\" xlink:href=\"#DejaVuSans-53\"/>\n       <use x=\"159.033203\" xlink:href=\"#DejaVuSans-53\"/>\n      </g>\n     </g>\n    </g>\n    <g id=\"ytick_3\">\n     <g id=\"line2d_9\">\n      <g>\n       <use style=\"stroke:#000000;stroke-width:0.8;\" x=\"73.18125\" xlink:href=\"#m96f17eed30\" y=\"105.168971\"/>\n      </g>\n     </g>\n     <g id=\"text_10\">\n      <!-- 0.60 -->\n      <g transform=\"translate(30.55625 111.247721)scale(0.16 -0.16)\">\n       <use xlink:href=\"#DejaVuSans-48\"/>\n       <use x=\"63.623047\" xlink:href=\"#DejaVuSans-46\"/>\n       <use x=\"95.410156\" xlink:href=\"#DejaVuSans-54\"/>\n       <use x=\"159.033203\" xlink:href=\"#DejaVuSans-48\"/>\n      </g>\n     </g>\n    </g>\n    <g id=\"ytick_4\">\n     <g id=\"line2d_10\">\n      <g>\n       <use style=\"stroke:#000000;stroke-width:0.8;\" x=\"73.18125\" xlink:href=\"#m96f17eed30\" y=\"59.223861\"/>\n      </g>\n     </g>\n     <g id=\"text_11\">\n      <!-- 0.65 -->\n      <g transform=\"translate(30.55625 65.302611)scale(0.16 -0.16)\">\n       <use xlink:href=\"#DejaVuSans-48\"/>\n       <use x=\"63.623047\" xlink:href=\"#DejaVuSans-46\"/>\n       <use x=\"95.410156\" xlink:href=\"#DejaVuSans-54\"/>\n       <use x=\"159.033203\" xlink:href=\"#DejaVuSans-53\"/>\n      </g>\n     </g>\n    </g>\n    <g id=\"ytick_5\">\n     <g id=\"line2d_11\">\n      <g>\n       <use style=\"stroke:#000000;stroke-width:0.8;\" x=\"73.18125\" xlink:href=\"#m96f17eed30\" y=\"13.27875\"/>\n      </g>\n     </g>\n     <g id=\"text_12\">\n      <!-- 0.70 -->\n      <g transform=\"translate(30.55625 19.3575)scale(0.16 -0.16)\">\n       <defs>\n        <path d=\"M 8.203125 72.90625 \nL 55.078125 72.90625 \nL 55.078125 68.703125 \nL 28.609375 0 \nL 18.3125 0 \nL 43.21875 64.59375 \nL 8.203125 64.59375 \nz\n\" id=\"DejaVuSans-55\"/>\n       </defs>\n       <use xlink:href=\"#DejaVuSans-48\"/>\n       <use x=\"63.623047\" xlink:href=\"#DejaVuSans-46\"/>\n       <use x=\"95.410156\" xlink:href=\"#DejaVuSans-55\"/>\n       <use x=\"159.033203\" xlink:href=\"#DejaVuSans-48\"/>\n      </g>\n     </g>\n    </g>\n    <g id=\"text_13\">\n     <!-- Objective Value -->\n     <g transform=\"translate(22.396875 197.196915)rotate(-90)scale(0.2 -0.2)\">\n      <defs>\n       <path d=\"M 39.40625 66.21875 \nQ 28.65625 66.21875 22.328125 58.203125 \nQ 16.015625 50.203125 16.015625 36.375 \nQ 16.015625 22.609375 22.328125 14.59375 \nQ 28.65625 6.59375 39.40625 6.59375 \nQ 50.140625 6.59375 56.421875 14.59375 \nQ 62.703125 22.609375 62.703125 36.375 \nQ 62.703125 50.203125 56.421875 58.203125 \nQ 50.140625 66.21875 39.40625 66.21875 \nz\nM 39.40625 74.21875 \nQ 54.734375 74.21875 63.90625 63.9375 \nQ 73.09375 53.65625 73.09375 36.375 \nQ 73.09375 19.140625 63.90625 8.859375 \nQ 54.734375 -1.421875 39.40625 -1.421875 \nQ 24.03125 -1.421875 14.8125 8.828125 \nQ 5.609375 19.09375 5.609375 36.375 \nQ 5.609375 53.65625 14.8125 63.9375 \nQ 24.03125 74.21875 39.40625 74.21875 \nz\n\" id=\"DejaVuSans-79\"/>\n       <path d=\"M 48.6875 27.296875 \nQ 48.6875 37.203125 44.609375 42.84375 \nQ 40.53125 48.484375 33.40625 48.484375 \nQ 26.265625 48.484375 22.1875 42.84375 \nQ 18.109375 37.203125 18.109375 27.296875 \nQ 18.109375 17.390625 22.1875 11.75 \nQ 26.265625 6.109375 33.40625 6.109375 \nQ 40.53125 6.109375 44.609375 11.75 \nQ 48.6875 17.390625 48.6875 27.296875 \nz\nM 18.109375 46.390625 \nQ 20.953125 51.265625 25.265625 53.625 \nQ 29.59375 56 35.59375 56 \nQ 45.5625 56 51.78125 48.09375 \nQ 58.015625 40.1875 58.015625 27.296875 \nQ 58.015625 14.40625 51.78125 6.484375 \nQ 45.5625 -1.421875 35.59375 -1.421875 \nQ 29.59375 -1.421875 25.265625 0.953125 \nQ 20.953125 3.328125 18.109375 8.203125 \nL 18.109375 0 \nL 9.078125 0 \nL 9.078125 75.984375 \nL 18.109375 75.984375 \nz\n\" id=\"DejaVuSans-98\"/>\n       <path d=\"M 9.421875 54.6875 \nL 18.40625 54.6875 \nL 18.40625 -0.984375 \nQ 18.40625 -11.421875 14.421875 -16.109375 \nQ 10.453125 -20.796875 1.609375 -20.796875 \nL -1.8125 -20.796875 \nL -1.8125 -13.1875 \nL 0.59375 -13.1875 \nQ 5.71875 -13.1875 7.5625 -10.8125 \nQ 9.421875 -8.453125 9.421875 -0.984375 \nz\nM 9.421875 75.984375 \nL 18.40625 75.984375 \nL 18.40625 64.59375 \nL 9.421875 64.59375 \nz\n\" id=\"DejaVuSans-106\"/>\n       <path d=\"M 56.203125 29.59375 \nL 56.203125 25.203125 \nL 14.890625 25.203125 \nQ 15.484375 15.921875 20.484375 11.0625 \nQ 25.484375 6.203125 34.421875 6.203125 \nQ 39.59375 6.203125 44.453125 7.46875 \nQ 49.3125 8.734375 54.109375 11.28125 \nL 54.109375 2.78125 \nQ 49.265625 0.734375 44.1875 -0.34375 \nQ 39.109375 -1.421875 33.890625 -1.421875 \nQ 20.796875 -1.421875 13.15625 6.1875 \nQ 5.515625 13.8125 5.515625 26.8125 \nQ 5.515625 40.234375 12.765625 48.109375 \nQ 20.015625 56 32.328125 56 \nQ 43.359375 56 49.78125 48.890625 \nQ 56.203125 41.796875 56.203125 29.59375 \nz\nM 47.21875 32.234375 \nQ 47.125 39.59375 43.09375 43.984375 \nQ 39.0625 48.390625 32.421875 48.390625 \nQ 24.90625 48.390625 20.390625 44.140625 \nQ 15.875 39.890625 15.1875 32.171875 \nz\n\" id=\"DejaVuSans-101\"/>\n       <path d=\"M 18.3125 70.21875 \nL 18.3125 54.6875 \nL 36.8125 54.6875 \nL 36.8125 47.703125 \nL 18.3125 47.703125 \nL 18.3125 18.015625 \nQ 18.3125 11.328125 20.140625 9.421875 \nQ 21.96875 7.515625 27.59375 7.515625 \nL 36.8125 7.515625 \nL 36.8125 0 \nL 27.59375 0 \nQ 17.1875 0 13.234375 3.875 \nQ 9.28125 7.765625 9.28125 18.015625 \nL 9.28125 47.703125 \nL 2.6875 47.703125 \nL 2.6875 54.6875 \nL 9.28125 54.6875 \nL 9.28125 70.21875 \nz\n\" id=\"DejaVuSans-116\"/>\n       <path d=\"M 9.421875 54.6875 \nL 18.40625 54.6875 \nL 18.40625 0 \nL 9.421875 0 \nz\nM 9.421875 75.984375 \nL 18.40625 75.984375 \nL 18.40625 64.59375 \nL 9.421875 64.59375 \nz\n\" id=\"DejaVuSans-105\"/>\n       <path d=\"M 2.984375 54.6875 \nL 12.5 54.6875 \nL 29.59375 8.796875 \nL 46.6875 54.6875 \nL 56.203125 54.6875 \nL 35.6875 0 \nL 23.484375 0 \nz\n\" id=\"DejaVuSans-118\"/>\n       <path id=\"DejaVuSans-32\"/>\n       <path d=\"M 28.609375 0 \nL 0.78125 72.90625 \nL 11.078125 72.90625 \nL 34.1875 11.53125 \nL 57.328125 72.90625 \nL 67.578125 72.90625 \nL 39.796875 0 \nz\n\" id=\"DejaVuSans-86\"/>\n       <path d=\"M 34.28125 27.484375 \nQ 23.390625 27.484375 19.1875 25 \nQ 14.984375 22.515625 14.984375 16.5 \nQ 14.984375 11.71875 18.140625 8.90625 \nQ 21.296875 6.109375 26.703125 6.109375 \nQ 34.1875 6.109375 38.703125 11.40625 \nQ 43.21875 16.703125 43.21875 25.484375 \nL 43.21875 27.484375 \nz\nM 52.203125 31.203125 \nL 52.203125 0 \nL 43.21875 0 \nL 43.21875 8.296875 \nQ 40.140625 3.328125 35.546875 0.953125 \nQ 30.953125 -1.421875 24.3125 -1.421875 \nQ 15.921875 -1.421875 10.953125 3.296875 \nQ 6 8.015625 6 15.921875 \nQ 6 25.140625 12.171875 29.828125 \nQ 18.359375 34.515625 30.609375 34.515625 \nL 43.21875 34.515625 \nL 43.21875 35.40625 \nQ 43.21875 41.609375 39.140625 45 \nQ 35.0625 48.390625 27.6875 48.390625 \nQ 23 48.390625 18.546875 47.265625 \nQ 14.109375 46.140625 10.015625 43.890625 \nL 10.015625 52.203125 \nQ 14.9375 54.109375 19.578125 55.046875 \nQ 24.21875 56 28.609375 56 \nQ 40.484375 56 46.34375 49.84375 \nQ 52.203125 43.703125 52.203125 31.203125 \nz\n\" id=\"DejaVuSans-97\"/>\n       <path d=\"M 9.421875 75.984375 \nL 18.40625 75.984375 \nL 18.40625 0 \nL 9.421875 0 \nz\n\" id=\"DejaVuSans-108\"/>\n       <path d=\"M 8.5 21.578125 \nL 8.5 54.6875 \nL 17.484375 54.6875 \nL 17.484375 21.921875 \nQ 17.484375 14.15625 20.5 10.265625 \nQ 23.53125 6.390625 29.59375 6.390625 \nQ 36.859375 6.390625 41.078125 11.03125 \nQ 45.3125 15.671875 45.3125 23.6875 \nL 45.3125 54.6875 \nL 54.296875 54.6875 \nL 54.296875 0 \nL 45.3125 0 \nL 45.3125 8.40625 \nQ 42.046875 3.421875 37.71875 1 \nQ 33.40625 -1.421875 27.6875 -1.421875 \nQ 18.265625 -1.421875 13.375 4.4375 \nQ 8.5 10.296875 8.5 21.578125 \nz\nM 31.109375 56 \nz\n\" id=\"DejaVuSans-117\"/>\n      </defs>\n      <use xlink:href=\"#DejaVuSans-79\"/>\n      <use x=\"78.710938\" xlink:href=\"#DejaVuSans-98\"/>\n      <use x=\"142.1875\" xlink:href=\"#DejaVuSans-106\"/>\n      <use x=\"169.970703\" xlink:href=\"#DejaVuSans-101\"/>\n      <use x=\"231.494141\" xlink:href=\"#DejaVuSans-99\"/>\n      <use x=\"286.474609\" xlink:href=\"#DejaVuSans-116\"/>\n      <use x=\"325.683594\" xlink:href=\"#DejaVuSans-105\"/>\n      <use x=\"353.466797\" xlink:href=\"#DejaVuSans-118\"/>\n      <use x=\"412.646484\" xlink:href=\"#DejaVuSans-101\"/>\n      <use x=\"474.169922\" xlink:href=\"#DejaVuSans-32\"/>\n      <use x=\"505.957031\" xlink:href=\"#DejaVuSans-86\"/>\n      <use x=\"566.615234\" xlink:href=\"#DejaVuSans-97\"/>\n      <use x=\"627.894531\" xlink:href=\"#DejaVuSans-108\"/>\n      <use x=\"655.677734\" xlink:href=\"#DejaVuSans-117\"/>\n      <use x=\"719.056641\" xlink:href=\"#DejaVuSans-101\"/>\n     </g>\n    </g>\n   </g>\n   <g id=\"line2d_12\">\n    <path clip-path=\"url(#p1aef70d634)\" d=\"M 88.717332 19.575821 \nL 91.855934 112.724187 \nL 94.994537 150.39113 \nL 98.133139 170.558491 \nL 101.271742 183.105906 \nL 104.410344 191.586762 \nL 107.548946 197.618229 \nL 110.687549 202.056863 \nL 113.826151 205.404828 \nL 116.964754 207.977967 \nL 120.103356 209.985227 \nL 123.241958 211.570155 \nL 126.380561 212.834301 \nL 129.519163 213.85122 \nL 132.657766 214.67524 \nL 135.796368 215.347153 \nL 138.93497 215.89803 \nL 142.073573 216.351827 \nL 145.212175 216.727217 \nL 148.350778 217.038894 \nL 151.48938 217.29852 \nL 154.627982 217.515415 \nL 157.766585 217.697085 \nL 160.905187 217.849605 \nL 164.04379 217.97792 \nL 167.182392 218.086075 \nL 170.320994 218.177394 \nL 173.459597 218.254617 \nL 176.598199 218.320011 \nL 179.736802 218.37546 \nL 182.875404 218.422531 \nL 186.014006 218.462532 \nL 189.152609 218.496559 \nL 192.291211 218.52553 \nL 195.429814 218.550216 \nL 198.568416 218.571268 \nL 201.707018 218.589233 \nL 204.845621 218.604574 \nL 207.984223 218.617682 \nL 211.122826 218.628888 \nL 214.261428 218.638473 \nL 217.40003 218.646675 \nL 220.538633 218.653698 \nL 223.677235 218.659713 \nL 226.815838 218.664867 \nL 229.95444 218.669284 \nL 233.093042 218.673072 \nL 236.231645 218.676321 \nL 239.370247 218.679109 \nL 242.50885 218.681502 \nL 245.647452 218.683555 \nL 248.786054 218.685319 \nL 251.924657 218.686834 \nL 255.063259 218.688135 \nL 258.201862 218.689254 \nL 261.340464 218.690215 \nL 264.479066 218.691041 \nL 267.617669 218.691751 \nL 270.756271 218.692362 \nL 273.894874 218.692888 \nL 277.033476 218.69334 \nL 280.172078 218.693729 \nL 283.310681 218.694063 \nL 286.449283 218.694351 \nL 289.587886 218.694599 \nL 292.726488 218.694813 \nL 295.86509 218.694997 \nL 299.003693 218.695155 \nL 302.142295 218.695291 \nL 305.280898 218.695409 \nL 308.4195 218.69551 \nL 311.558102 218.695597 \nL 314.696705 218.695672 \nL 317.835307 218.695737 \nL 320.97391 218.695793 \nL 324.112512 218.695841 \nL 327.251114 218.695882 \nL 330.389717 218.695918 \nL 333.528319 218.695949 \nL 336.666922 218.695975 \nL 339.805524 218.695998 \nL 342.944127 218.696018 \nL 346.082729 218.696035 \nL 349.221331 218.69605 \nL 352.359934 218.696063 \nL 355.498536 218.696074 \nL 358.637139 218.696083 \nL 361.775741 218.696091 \nL 364.914343 218.696098 \nL 368.052946 218.696104 \nL 371.191548 218.69611 \nL 374.330151 218.696114 \nL 377.468753 218.696118 \nL 380.607355 218.696122 \nL 383.745958 218.696124 \nL 386.88456 218.696127 \nL 390.023163 218.696129 \nL 393.161765 218.696131 \nL 396.300367 218.696133 \nL 399.43897 218.696134 \n\" style=\"fill:none;stroke:#0000ff;stroke-dasharray:11.1,4.8;stroke-dashoffset:0;stroke-width:3;\"/>\n   </g>\n   <g id=\"line2d_13\">\n    <path clip-path=\"url(#p1aef70d634)\" d=\"M 88.717332 162.642199 \nL 91.855934 170.273525 \nL 94.994537 175.120019 \nL 98.133139 193.876625 \nL 101.271742 181.344246 \nL 104.410344 192.145738 \nL 107.548946 197.583664 \nL 110.687549 198.453971 \nL 113.826151 193.494411 \nL 116.964754 201.873497 \nL 120.103356 200.496291 \nL 123.241958 200.740529 \nL 126.380561 208.475542 \nL 129.519163 206.873744 \nL 132.657766 203.499729 \nL 135.796368 207.579263 \nL 138.93497 207.640535 \nL 142.073573 209.458917 \nL 145.212175 210.472707 \nL 148.350778 210.614445 \nL 151.48938 211.555989 \nL 154.627982 212.546996 \nL 157.766585 213.323863 \nL 160.905187 212.942825 \nL 164.04379 214.12706 \nL 167.182392 214.244757 \nL 170.320994 214.524752 \nL 173.459597 215.397496 \nL 176.598199 215.790831 \nL 179.736802 215.727467 \nL 182.875404 215.948288 \nL 186.014006 216.15897 \nL 189.152609 216.673467 \nL 192.291211 216.588575 \nL 195.429814 216.893149 \nL 198.568416 217.030514 \nL 201.707018 217.205709 \nL 204.845621 217.357172 \nL 207.984223 217.478354 \nL 211.122826 217.599 \nL 214.261428 217.686017 \nL 217.40003 217.7881 \nL 220.538633 217.886135 \nL 223.677235 217.960657 \nL 226.815838 218.034188 \nL 229.95444 218.097221 \nL 233.093042 218.158709 \nL 236.231645 218.21187 \nL 239.370247 218.259754 \nL 242.50885 218.304384 \nL 245.647452 218.34326 \nL 248.786054 218.377366 \nL 251.924657 218.409514 \nL 255.063259 218.437783 \nL 258.201862 218.463041 \nL 261.340464 218.487048 \nL 264.479066 218.507812 \nL 267.617669 218.526195 \nL 270.756271 218.543187 \nL 273.894874 218.558461 \nL 277.033476 218.572219 \nL 280.172078 218.584522 \nL 283.310681 218.595817 \nL 286.449283 218.605716 \nL 289.587886 218.614525 \nL 292.726488 218.622661 \nL 295.86509 218.629971 \nL 299.003693 218.636589 \nL 302.142295 218.642522 \nL 305.280898 218.647914 \nL 308.4195 218.652611 \nL 311.558102 218.656973 \nL 314.696705 218.660869 \nL 317.835307 218.664336 \nL 320.97391 218.667513 \nL 324.112512 218.670317 \nL 327.251114 218.672866 \nL 330.389717 218.675164 \nL 333.528319 218.67723 \nL 336.666922 218.679097 \nL 339.805524 218.680771 \nL 342.944127 218.682275 \nL 346.082729 218.683634 \nL 349.221331 218.684855 \nL 352.359934 218.685952 \nL 355.498536 218.686943 \nL 358.637139 218.687836 \nL 361.775741 218.688635 \nL 364.914343 218.689355 \nL 368.052946 218.690004 \nL 371.191548 218.690588 \nL 374.330151 218.691115 \nL 377.468753 218.691588 \nL 380.607355 218.692014 \nL 383.745958 218.692397 \nL 386.88456 218.692742 \nL 390.023163 218.693053 \nL 393.161765 218.693332 \nL 396.300367 218.693584 \nL 399.43897 218.69381 \n\" style=\"fill:none;stroke:#ff0000;stroke-linecap:square;stroke-width:2;\"/>\n   </g>\n   <g id=\"line2d_14\">\n    <path clip-path=\"url(#p1aef70d634)\" d=\"M 88.717332 96.425664 \nL 91.855934 168.123597 \nL 94.994537 189.764951 \nL 98.133139 199.352985 \nL 101.271742 204.682931 \nL 104.410344 208.48598 \nL 107.548946 210.661743 \nL 110.687549 212.464428 \nL 113.826151 213.264309 \nL 116.964754 214.034616 \nL 120.103356 214.293535 \nL 123.241958 215.211366 \nL 126.380561 215.651101 \nL 129.519163 215.947224 \nL 132.657766 216.024181 \nL 135.796368 216.461752 \nL 138.93497 216.59333 \nL 142.073573 216.794195 \nL 145.212175 216.85711 \nL 148.350778 216.941627 \nL 151.48938 217.060082 \nL 154.627982 217.070789 \nL 157.766585 217.257945 \nL 160.905187 217.31809 \nL 164.04379 217.379034 \nL 167.182392 217.437248 \nL 170.320994 217.388801 \nL 173.459597 217.503983 \nL 176.598199 217.566225 \nL 179.736802 217.560012 \nL 182.875404 217.620245 \nL 186.014006 217.64457 \nL 189.152609 217.640579 \nL 192.291211 217.682872 \nL 195.429814 217.670233 \nL 198.568416 217.702383 \nL 201.707018 217.719401 \nL 204.845621 217.718225 \nL 207.984223 217.743019 \nL 211.122826 217.74873 \nL 214.261428 217.746027 \nL 217.40003 217.770073 \nL 220.538633 217.771922 \nL 223.677235 217.778652 \nL 226.815838 217.782959 \nL 229.95444 217.783706 \nL 233.093042 217.793108 \nL 236.231645 217.798875 \nL 239.370247 217.801562 \nL 242.50885 217.807742 \nL 245.647452 217.806579 \nL 248.786054 217.808235 \nL 251.924657 217.813718 \nL 255.063259 217.816416 \nL 258.201862 217.813802 \nL 261.340464 217.816779 \nL 264.479066 217.819755 \nL 267.617669 217.823755 \nL 270.756271 217.824958 \nL 273.894874 217.824296 \nL 277.033476 217.825134 \nL 280.172078 217.826844 \nL 283.310681 217.827778 \nL 286.449283 217.82777 \nL 289.587886 217.829571 \nL 292.726488 217.830048 \nL 295.86509 217.831508 \nL 299.003693 217.831353 \nL 302.142295 217.831842 \nL 305.280898 217.832105 \nL 308.4195 217.832437 \nL 311.558102 217.832883 \nL 314.696705 217.833351 \nL 317.835307 217.833264 \nL 320.97391 217.834066 \nL 324.112512 217.83406 \nL 327.251114 217.834273 \nL 330.389717 217.834176 \nL 333.528319 217.834466 \nL 336.666922 217.834538 \nL 339.805524 217.834535 \nL 342.944127 217.834666 \nL 346.082729 217.834959 \nL 349.221331 217.835084 \nL 352.359934 217.835195 \nL 355.498536 217.835198 \nL 358.637139 217.83534 \nL 361.775741 217.835361 \nL 364.914343 217.835398 \nL 368.052946 217.83541 \nL 371.191548 217.83555 \nL 374.330151 217.835605 \nL 377.468753 217.835608 \nL 380.607355 217.835694 \nL 383.745958 217.835655 \nL 386.88456 217.835656 \nL 390.023163 217.835727 \nL 393.161765 217.835768 \nL 396.300367 217.835783 \nL 399.43897 217.835792 \n\" style=\"fill:none;stroke:#008000;stroke-dasharray:19.2,4.8,3,4.8;stroke-dashoffset:0;stroke-width:3;\"/>\n   </g>\n   <g id=\"line2d_15\">\n    <path clip-path=\"url(#p1aef70d634)\" d=\"M 88.717332 95.191043 \nL 91.855934 164.192644 \nL 94.994537 186.801201 \nL 98.133139 197.180916 \nL 101.271742 203.094427 \nL 104.410344 206.838173 \nL 107.548946 209.265169 \nL 110.687549 210.968956 \nL 113.826151 212.180424 \nL 116.964754 213.141211 \nL 120.103356 213.853209 \nL 123.241958 214.466987 \nL 126.380561 214.896787 \nL 129.519163 215.311982 \nL 132.657766 215.541212 \nL 135.796368 215.821888 \nL 138.93497 216.064796 \nL 142.073573 216.16912 \nL 145.212175 216.396681 \nL 148.350778 216.541146 \nL 151.48938 216.638069 \nL 154.627982 216.727757 \nL 157.766585 216.850287 \nL 160.905187 216.917092 \nL 164.04379 216.988189 \nL 167.182392 217.070426 \nL 170.320994 217.09056 \nL 173.459597 217.143566 \nL 176.598199 217.178422 \nL 179.736802 217.209363 \nL 182.875404 217.260846 \nL 186.014006 217.29712 \nL 189.152609 217.325606 \nL 192.291211 217.336308 \nL 195.429814 217.356603 \nL 198.568416 217.378476 \nL 201.707018 217.393437 \nL 204.845621 217.402141 \nL 207.984223 217.418956 \nL 211.122826 217.431601 \nL 214.261428 217.443621 \nL 217.40003 217.452635 \nL 220.538633 217.461456 \nL 223.677235 217.470616 \nL 226.815838 217.478459 \nL 229.95444 217.48321 \nL 233.093042 217.488414 \nL 236.231645 217.494912 \nL 239.370247 217.497933 \nL 242.50885 217.501954 \nL 245.647452 217.507209 \nL 248.786054 217.509758 \nL 251.924657 217.512971 \nL 255.063259 217.51521 \nL 258.201862 217.51728 \nL 261.340464 217.51923 \nL 264.479066 217.521545 \nL 267.617669 217.523733 \nL 270.756271 217.525393 \nL 273.894874 217.526204 \nL 277.033476 217.52761 \nL 280.172078 217.528982 \nL 283.310681 217.52988 \nL 286.449283 217.530826 \nL 289.587886 217.531447 \nL 292.726488 217.532632 \nL 295.86509 217.533086 \nL 299.003693 217.533854 \nL 302.142295 217.534319 \nL 305.280898 217.534886 \nL 308.4195 217.535122 \nL 311.558102 217.535673 \nL 314.696705 217.536071 \nL 317.835307 217.536406 \nL 320.97391 217.536654 \nL 324.112512 217.536964 \nL 327.251114 217.537237 \nL 330.389717 217.537337 \nL 333.528319 217.537575 \nL 336.666922 217.537692 \nL 339.805524 217.537903 \nL 342.944127 217.538033 \nL 346.082729 217.538179 \nL 349.221331 217.538276 \nL 352.359934 217.538381 \nL 355.498536 217.53846 \nL 358.637139 217.538552 \nL 361.775741 217.538615 \nL 364.914343 217.538697 \nL 368.052946 217.538737 \nL 371.191548 217.538799 \nL 374.330151 217.538837 \nL 377.468753 217.53889 \nL 380.607355 217.538928 \nL 383.745958 217.538963 \nL 386.88456 217.539016 \nL 390.023163 217.539025 \nL 393.161765 217.539057 \nL 396.300367 217.539079 \nL 399.43897 217.539089 \n\" style=\"fill:none;stroke:#bfbf00;stroke-dasharray:4,6.6;stroke-dashoffset:0;stroke-width:4;\"/>\n   </g>\n   <g id=\"patch_3\">\n    <path d=\"M 73.18125 228.65215 \nL 73.18125 9.619805 \n\" style=\"fill:none;stroke:#000000;stroke-linecap:square;stroke-linejoin:miter;stroke-width:0.8;\"/>\n   </g>\n   <g id=\"patch_4\">\n    <path d=\"M 414.975052 228.65215 \nL 414.975052 9.619805 \n\" style=\"fill:none;stroke:#000000;stroke-linecap:square;stroke-linejoin:miter;stroke-width:0.8;\"/>\n   </g>\n   <g id=\"patch_5\">\n    <path d=\"M 73.18125 228.65215 \nL 414.975052 228.65215 \n\" style=\"fill:none;stroke:#000000;stroke-linecap:square;stroke-linejoin:miter;stroke-width:0.8;\"/>\n   </g>\n   <g id=\"patch_6\">\n    <path d=\"M 73.18125 9.619805 \nL 414.975052 9.619805 \n\" style=\"fill:none;stroke:#000000;stroke-linecap:square;stroke-linejoin:miter;stroke-width:0.8;\"/>\n   </g>\n   <g id=\"legend_1\">\n    <g id=\"patch_7\">\n     <path d=\"M 237.303177 143.044805 \nL 400.975052 143.044805 \nQ 404.975052 143.044805 404.975052 139.044805 \nL 404.975052 23.619805 \nQ 404.975052 19.619805 400.975052 19.619805 \nL 237.303177 19.619805 \nQ 233.303177 19.619805 233.303177 23.619805 \nL 233.303177 139.044805 \nQ 233.303177 143.044805 237.303177 143.044805 \nz\n\" style=\"fill:#ffffff;opacity:0.8;stroke:#cccccc;stroke-linejoin:miter;\"/>\n    </g>\n    <g id=\"line2d_16\">\n     <path d=\"M 241.303177 35.81668 \nL 281.303177 35.81668 \n\" style=\"fill:none;stroke:#0000ff;stroke-dasharray:11.1,4.8;stroke-dashoffset:0;stroke-width:3;\"/>\n    </g>\n    <g id=\"line2d_17\"/>\n    <g id=\"text_14\">\n     <!-- GD -->\n     <g transform=\"translate(297.303177 42.81668)scale(0.2 -0.2)\">\n      <defs>\n       <path d=\"M 59.515625 10.40625 \nL 59.515625 29.984375 \nL 43.40625 29.984375 \nL 43.40625 38.09375 \nL 69.28125 38.09375 \nL 69.28125 6.78125 \nQ 63.578125 2.734375 56.6875 0.65625 \nQ 49.8125 -1.421875 42 -1.421875 \nQ 24.90625 -1.421875 15.25 8.5625 \nQ 5.609375 18.5625 5.609375 36.375 \nQ 5.609375 54.25 15.25 64.234375 \nQ 24.90625 74.21875 42 74.21875 \nQ 49.125 74.21875 55.546875 72.453125 \nQ 61.96875 70.703125 67.390625 67.28125 \nL 67.390625 56.78125 \nQ 61.921875 61.421875 55.765625 63.765625 \nQ 49.609375 66.109375 42.828125 66.109375 \nQ 29.4375 66.109375 22.71875 58.640625 \nQ 16.015625 51.171875 16.015625 36.375 \nQ 16.015625 21.625 22.71875 14.15625 \nQ 29.4375 6.6875 42.828125 6.6875 \nQ 48.046875 6.6875 52.140625 7.59375 \nQ 56.25 8.5 59.515625 10.40625 \nz\n\" id=\"DejaVuSans-71\"/>\n       <path d=\"M 19.671875 64.796875 \nL 19.671875 8.109375 \nL 31.59375 8.109375 \nQ 46.6875 8.109375 53.6875 14.9375 \nQ 60.6875 21.78125 60.6875 36.53125 \nQ 60.6875 51.171875 53.6875 57.984375 \nQ 46.6875 64.796875 31.59375 64.796875 \nz\nM 9.8125 72.90625 \nL 30.078125 72.90625 \nQ 51.265625 72.90625 61.171875 64.09375 \nQ 71.09375 55.28125 71.09375 36.53125 \nQ 71.09375 17.671875 61.125 8.828125 \nQ 51.171875 0 30.078125 0 \nL 9.8125 0 \nz\n\" id=\"DejaVuSans-68\"/>\n      </defs>\n      <use xlink:href=\"#DejaVuSans-71\"/>\n      <use x=\"77.490234\" xlink:href=\"#DejaVuSans-68\"/>\n     </g>\n    </g>\n    <g id=\"line2d_18\">\n     <path d=\"M 241.303177 65.17293 \nL 281.303177 65.17293 \n\" style=\"fill:none;stroke:#ff0000;stroke-linecap:square;stroke-width:2;\"/>\n    </g>\n    <g id=\"line2d_19\"/>\n    <g id=\"text_15\">\n     <!-- SGD -->\n     <g transform=\"translate(297.303177 72.17293)scale(0.2 -0.2)\">\n      <defs>\n       <path d=\"M 53.515625 70.515625 \nL 53.515625 60.890625 \nQ 47.90625 63.578125 42.921875 64.890625 \nQ 37.9375 66.21875 33.296875 66.21875 \nQ 25.25 66.21875 20.875 63.09375 \nQ 16.5 59.96875 16.5 54.203125 \nQ 16.5 49.359375 19.40625 46.890625 \nQ 22.3125 44.4375 30.421875 42.921875 \nL 36.375 41.703125 \nQ 47.40625 39.59375 52.65625 34.296875 \nQ 57.90625 29 57.90625 20.125 \nQ 57.90625 9.515625 50.796875 4.046875 \nQ 43.703125 -1.421875 29.984375 -1.421875 \nQ 24.8125 -1.421875 18.96875 -0.25 \nQ 13.140625 0.921875 6.890625 3.21875 \nL 6.890625 13.375 \nQ 12.890625 10.015625 18.65625 8.296875 \nQ 24.421875 6.59375 29.984375 6.59375 \nQ 38.421875 6.59375 43.015625 9.90625 \nQ 47.609375 13.234375 47.609375 19.390625 \nQ 47.609375 24.75 44.3125 27.78125 \nQ 41.015625 30.8125 33.5 32.328125 \nL 27.484375 33.5 \nQ 16.453125 35.6875 11.515625 40.375 \nQ 6.59375 45.0625 6.59375 53.421875 \nQ 6.59375 63.09375 13.40625 68.65625 \nQ 20.21875 74.21875 32.171875 74.21875 \nQ 37.3125 74.21875 42.625 73.28125 \nQ 47.953125 72.359375 53.515625 70.515625 \nz\n\" id=\"DejaVuSans-83\"/>\n      </defs>\n      <use xlink:href=\"#DejaVuSans-83\"/>\n      <use x=\"63.476562\" xlink:href=\"#DejaVuSans-71\"/>\n      <use x=\"140.966797\" xlink:href=\"#DejaVuSans-68\"/>\n     </g>\n    </g>\n    <g id=\"line2d_20\">\n     <path d=\"M 241.303177 94.52918 \nL 281.303177 94.52918 \n\" style=\"fill:none;stroke:#bfbf00;stroke-dasharray:4,6.6;stroke-dashoffset:0;stroke-width:4;\"/>\n    </g>\n    <g id=\"line2d_21\"/>\n    <g id=\"text_16\">\n     <!-- MBSGD8 -->\n     <g transform=\"translate(297.303177 101.52918)scale(0.2 -0.2)\">\n      <defs>\n       <path d=\"M 9.8125 72.90625 \nL 24.515625 72.90625 \nL 43.109375 23.296875 \nL 61.8125 72.90625 \nL 76.515625 72.90625 \nL 76.515625 0 \nL 66.890625 0 \nL 66.890625 64.015625 \nL 48.09375 14.015625 \nL 38.1875 14.015625 \nL 19.390625 64.015625 \nL 19.390625 0 \nL 9.8125 0 \nz\n\" id=\"DejaVuSans-77\"/>\n       <path d=\"M 19.671875 34.8125 \nL 19.671875 8.109375 \nL 35.5 8.109375 \nQ 43.453125 8.109375 47.28125 11.40625 \nQ 51.125 14.703125 51.125 21.484375 \nQ 51.125 28.328125 47.28125 31.5625 \nQ 43.453125 34.8125 35.5 34.8125 \nz\nM 19.671875 64.796875 \nL 19.671875 42.828125 \nL 34.28125 42.828125 \nQ 41.5 42.828125 45.03125 45.53125 \nQ 48.578125 48.25 48.578125 53.8125 \nQ 48.578125 59.328125 45.03125 62.0625 \nQ 41.5 64.796875 34.28125 64.796875 \nz\nM 9.8125 72.90625 \nL 35.015625 72.90625 \nQ 46.296875 72.90625 52.390625 68.21875 \nQ 58.5 63.53125 58.5 54.890625 \nQ 58.5 48.1875 55.375 44.234375 \nQ 52.25 40.28125 46.1875 39.3125 \nQ 53.46875 37.75 57.5 32.78125 \nQ 61.53125 27.828125 61.53125 20.40625 \nQ 61.53125 10.640625 54.890625 5.3125 \nQ 48.25 0 35.984375 0 \nL 9.8125 0 \nz\n\" id=\"DejaVuSans-66\"/>\n      </defs>\n      <use xlink:href=\"#DejaVuSans-77\"/>\n      <use x=\"86.279297\" xlink:href=\"#DejaVuSans-66\"/>\n      <use x=\"153.132812\" xlink:href=\"#DejaVuSans-83\"/>\n      <use x=\"216.609375\" xlink:href=\"#DejaVuSans-71\"/>\n      <use x=\"294.099609\" xlink:href=\"#DejaVuSans-68\"/>\n      <use x=\"371.101562\" xlink:href=\"#DejaVuSans-56\"/>\n     </g>\n    </g>\n    <g id=\"line2d_22\">\n     <path d=\"M 241.303177 123.88543 \nL 281.303177 123.88543 \n\" style=\"fill:none;stroke:#008000;stroke-dasharray:19.2,4.8,3,4.8;stroke-dashoffset:0;stroke-width:3;\"/>\n    </g>\n    <g id=\"line2d_23\"/>\n    <g id=\"text_17\">\n     <!-- MBSGD64 -->\n     <g transform=\"translate(297.303177 130.88543)scale(0.2 -0.2)\">\n      <use xlink:href=\"#DejaVuSans-77\"/>\n      <use x=\"86.279297\" xlink:href=\"#DejaVuSans-66\"/>\n      <use x=\"153.132812\" xlink:href=\"#DejaVuSans-83\"/>\n      <use x=\"216.609375\" xlink:href=\"#DejaVuSans-71\"/>\n      <use x=\"294.099609\" xlink:href=\"#DejaVuSans-68\"/>\n      <use x=\"371.101562\" xlink:href=\"#DejaVuSans-54\"/>\n      <use x=\"434.724609\" xlink:href=\"#DejaVuSans-52\"/>\n     </g>\n    </g>\n   </g>\n  </g>\n </g>\n <defs>\n  <clipPath id=\"p1aef70d634\">\n   <rect height=\"219.032345\" width=\"341.793802\" x=\"73.18125\" y=\"9.619805\"/>\n  </clipPath>\n </defs>\n</svg>\n",
      "image/png": "[encoded data removed]"
     },
     "metadata": {
      "needs_background": "light"
     }
    }
   ],
   "source": [
    "# plot the 4 curves:\n",
    "fig = plt.figure(figsize=(6, 4))\n",
    "\n",
    "epochs_gd = range(len(objvals_gd))\n",
    "epochs_sgd = range(len(objvals_sgd))\n",
    "epochs_mbsgd8 = range(len(objvals_mbsgd8))\n",
    "epochs_mbsgd64 = range(len(objvals_mbsgd64))\n",
    "\n",
    "line0, = plt.plot(epochs_gd, objvals_gd, '--b', linewidth=3)\n",
    "line1, = plt.plot(epochs_sgd, objvals_sgd, '-r', linewidth=2)\n",
    "line3, = plt.plot(epochs_mbsgd64, objvals_mbsgd64, '-g', linewidth=3, linestyle='dashdot')\n",
    "line2, = plt.plot(epochs_mbsgd8, objvals_mbsgd8, '-y', linewidth=4, linestyle='dotted')\n",
    "plt.xlabel('Epochs', fontsize=20)\n",
    "plt.ylabel('Objective Value', fontsize=20)\n",
    "plt.xticks(fontsize=16)\n",
    "plt.yticks(fontsize=16)\n",
    "plt.legend([line0, line1, line2, line3], ['GD', 'SGD', 'MBSGD8', 'MBSGD64'], fontsize=20)\n",
    "plt.tight_layout()\n",
    "plt.show()\n",
    "fig.savefig('compare_gd_sgd_mbsgd.pdf', format='pdf', dpi=1200)"
   ]
  },
  {
   "cell_type": "markdown",
   "metadata": {},
   "source": []
  }
 ],
 "metadata": {
  "kernelspec": {
   "name": "python3",
   "display_name": "Python 3.9.1 64-bit",
   "metadata": {
    "interpreter": {
     "hash": "e7370f93d1d0cde622a1f8e1c04877d8463912d04d973331ad4851f04de6915a"
    }
   }
  },
  "language_info": {
   "codemirror_mode": {
    "name": "ipython",
    "version": 3
   },
   "file_extension": ".py",
   "mimetype": "text/x-python",
   "name": "python",
   "nbconvert_exporter": "python",
   "pygments_lexer": "ipython3",
   "version": "3.9.1-final"
  }
 },
 "nbformat": 4,
 "nbformat_minor": 2
}