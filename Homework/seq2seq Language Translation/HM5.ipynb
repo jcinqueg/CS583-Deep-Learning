{
  "nbformat": 4,
  "nbformat_minor": 0,
  "metadata": {
    "kernelspec": {
      "name": "python393jvsc74a57bd0e7370f93d1d0cde622a1f8e1c04877d8463912d04d973331ad4851f04de6915a",
      "display_name": "Python 3.9.3 64-bit"
    },
    "language_info": {
      "codemirror_mode": {
        "name": "ipython",
        "version": 3
      },
      "file_extension": ".py",
      "mimetype": "text/x-python",
      "name": "python",
      "nbconvert_exporter": "python",
      "pygments_lexer": "ipython3",
      "version": "3.9.3"
    },
    "metadata": {
      "interpreter": {
        "hash": "e7370f93d1d0cde622a1f8e1c04877d8463912d04d973331ad4851f04de6915a"
      }
    },
    "colab": {
      "name": "HM5.ipynb",
      "provenance": [],
      "collapsed_sections": []
    },
    "accelerator": "GPU"
  },
  "cells": [
    {
      "cell_type": "markdown",
      "metadata": {
        "id": "S0HdcrfxsZeo"
      },
      "source": [
        "# Home 5: Build a seq2seq model for machine translation.\n",
        "\n",
        "### Name: John Cinquegrana\n",
        "\n",
        "### Task: Translate English to Italian"
      ]
    },
    {
      "cell_type": "markdown",
      "metadata": {
        "id": "yi2jVT_WsZex"
      },
      "source": [
        "## 0. You will do the following:\n",
        "\n",
        "1. Read and run my code.\n",
        "2. Complete the code in Section 1.1 and Section 4.2.\n",
        "\n",
        "    * Translation **English** to **German** is not acceptable!!! Try another pair of languages.\n",
        "    \n",
        "3. **Make improvements.** Directly modify the code in Section 3. Do at least one of the two. By doing both correctly, you will get up to 1 bonus score to the total.\n",
        "\n",
        "    * Bi-LSTM instead of LSTM.\n",
        "        \n",
        "    * Attention. (You are allowed to use existing code.)\n",
        "    \n",
        "4. Evaluate the translation using the BLEU score. \n",
        "\n",
        "    * Optional. Up to 1 bonus scores to the total.\n",
        "    \n",
        "5. Convert the notebook to .HTML file. \n",
        "\n",
        "    * The HTML file must contain the code and the output after execution.\n",
        "\n",
        "6. Put the .HTML file in your Google Drive, Dropbox, or Github repo.  (If you submit the file to Google Drive or Dropbox, you must make the file \"open-access\". The delay caused by \"deny of access\" may result in late penalty.)\n",
        "\n",
        "7. Submit the link to the HTML file to Canvas.    \n"
      ]
    },
    {
      "cell_type": "markdown",
      "metadata": {
        "id": "tYfR4htnsZey"
      },
      "source": [
        "### Hint: \n",
        "\n",
        "To implement ```Bi-LSTM```, you will need the following code to build the encoder. Do NOT use Bi-LSTM for the decoder.\n",
        "\n",
        "The code is now in the encoder section."
      ]
    },
    {
      "cell_type": "markdown",
      "metadata": {
        "id": "8LmieZJZsZe0"
      },
      "source": [
        "## 1. Data preparation\n",
        "\n",
        "1. Download data (e.g., \"deu-eng.zip\") from http://www.manythings.org/anki/\n",
        "2. Unzip the .ZIP file.\n",
        "3. Put the .TXT file (e.g., \"deu.txt\") in the directory \"./Data/\"."
      ]
    },
    {
      "cell_type": "markdown",
      "metadata": {
        "id": "BrQj3mC2sZe1"
      },
      "source": [
        "### 1.1. Load and clean text\n"
      ]
    },
    {
      "cell_type": "code",
      "metadata": {
        "id": "aB-LpmrisZe2"
      },
      "source": [
        "import re\n",
        "import string\n",
        "from unicodedata import normalize\n",
        "import numpy\n",
        "\n",
        "# load doc into memory\n",
        "def load_doc(filename):\n",
        "    # open the file as read only\n",
        "    file = open(filename, mode='rt', encoding='utf-8')\n",
        "    # read all text\n",
        "    text = file.read()\n",
        "    # close the file\n",
        "    file.close()\n",
        "    return text\n",
        "\n",
        "\n",
        "# split a loaded document into sentences\n",
        "def to_pairs(doc):\n",
        "    lines = doc.strip().split('\\n')\n",
        "    pairs = [line.split('\\t') for line in  lines]\n",
        "    return pairs\n",
        "\n",
        "def clean_data(lines):\n",
        "    cleaned = list()\n",
        "    # prepare regex for char filtering\n",
        "    re_print = re.compile('[^%s]' % re.escape(string.printable))\n",
        "    # prepare translation table for removing punctuation\n",
        "    table = str.maketrans('', '', string.punctuation)\n",
        "    for pair in lines:\n",
        "        clean_pair = list()\n",
        "        for line in pair:\n",
        "            # normalize unicode characters\n",
        "            line = normalize('NFD', line).encode('ascii', 'ignore')\n",
        "            line = line.decode('UTF-8')\n",
        "            # tokenize on white space\n",
        "            line = line.split()\n",
        "            # convert to lowercase\n",
        "            line = [word.lower() for word in line]\n",
        "            # remove punctuation from each token\n",
        "            line = [word.translate(table) for word in line]\n",
        "            # remove non-printable chars form each token\n",
        "            line = [re_print.sub('', w) for w in line]\n",
        "            # remove tokens with numbers in them\n",
        "            line = [word for word in line if word.isalpha()]\n",
        "            # store as string\n",
        "            clean_pair.append(' '.join(line))\n",
        "        cleaned.append(clean_pair)\n",
        "    return numpy.array(cleaned)"
      ],
      "execution_count": null,
      "outputs": []
    },
    {
      "cell_type": "markdown",
      "metadata": {
        "id": "5NR5G5bnsZe3"
      },
      "source": [
        "#### Fill the following blanks:"
      ]
    },
    {
      "cell_type": "code",
      "metadata": {
        "id": "o4L8yd1WsZe3"
      },
      "source": [
        "# e.g., filename = 'Data/deu.txt'\n",
        "filename = 'ita.txt'\n",
        "\n",
        "# we have 345244 total pairs\n",
        "# Save 100000 pairs for testing\n",
        "\n",
        "n_train = 100000\n",
        "top = n_train + 8000\n"
      ],
      "execution_count": null,
      "outputs": []
    },
    {
      "cell_type": "markdown",
      "metadata": {
        "id": "9F4-h7KkYU7j"
      },
      "source": [
        "## Load in data\n",
        "\n",
        "The data is saved in a file in the same directory, load it into RAM in a python-usable format"
      ]
    },
    {
      "cell_type": "code",
      "metadata": {
        "colab": {
          "base_uri": "https://localhost:8080/"
        },
        "id": "aGr-gyh8sZe4",
        "outputId": "10244e04-adc4-40e9-ecdb-1ff612c6ea97"
      },
      "source": [
        "# load dataset\n",
        "doc = load_doc(filename)\n",
        "\n",
        "# split into Language1-Language2 pairs\n",
        "pairs = to_pairs(doc)[:top]\n",
        "numpy.random.shuffle( pairs ) # Add Randomize the training, validation and testing\n",
        "\n",
        "print( \"There are {} total pairs.\".format(len(pairs)) )\n",
        "\n",
        "# clean sentences\n",
        "cleaned_data = clean_data(pairs)\n",
        "clean_pairs = cleaned_data[0:n_train, :]\n",
        "total_data_size = len( pairs )\n",
        "\n",
        "print( \"We are using {} pairs for training.\".format(len(clean_pairs)) )"
      ],
      "execution_count": null,
      "outputs": [
        {
          "output_type": "stream",
          "text": [
            "There are 108000 total pairs.\n",
            "We are using 100000 pairs for training.\n"
          ],
          "name": "stdout"
        }
      ]
    },
    {
      "cell_type": "code",
      "metadata": {
        "colab": {
          "base_uri": "https://localhost:8080/"
        },
        "id": "4NkqIz_AsZe6",
        "outputId": "87a3a975-aaa0-40ab-8355-edf0761b2cc4"
      },
      "source": [
        "for i in range(3000, 3010):\n",
        "    print('[' + clean_pairs[i, 0] + '] => [' + clean_pairs[i, 1] + ']')"
      ],
      "execution_count": null,
      "outputs": [
        {
          "output_type": "stream",
          "text": [
            "[youre wise] => [e saggia]\n",
            "[how do you know] => [come lo sa]\n",
            "[are you all cold] => [voi avete tutte freddo]\n",
            "[take precautions] => [prendi delle precauzioni]\n",
            "[i need you to do this] => [ho bisogno che tu faccia questo]\n",
            "[i bought a basketball] => [ho comprato una palla da basket]\n",
            "[they exchanged gifts] => [si sono scambiati dei regali]\n",
            "[ill stay with you] => [staro con lei]\n",
            "[shes fashionable] => [e alla moda]\n",
            "[i didnt look at it] => [non lho guardata]\n"
          ],
          "name": "stdout"
        }
      ]
    },
    {
      "cell_type": "code",
      "metadata": {
        "colab": {
          "base_uri": "https://localhost:8080/"
        },
        "id": "2g_w_lp1sZe8",
        "outputId": "597ecc30-e7fe-4734-adbd-71af3b8700ba"
      },
      "source": [
        "input_texts = clean_pairs[:, 0]\n",
        "target_texts = ['\\t' + text + '\\n' for text in clean_pairs[:, 1]]\n",
        "\n",
        "\n",
        "\n",
        "print('Length of input_texts:  ' + str(input_texts.shape))\n",
        "print('Length of target_texts: ' + str(input_texts.shape))"
      ],
      "execution_count": null,
      "outputs": [
        {
          "output_type": "stream",
          "text": [
            "Length of input_texts:  (100000,)\n",
            "Length of target_texts: (100000,)\n"
          ],
          "name": "stdout"
        }
      ]
    },
    {
      "cell_type": "code",
      "metadata": {
        "colab": {
          "base_uri": "https://localhost:8080/"
        },
        "id": "KqDlkpfXsZe9",
        "outputId": "8b7b639c-e4d1-4608-bd34-d94e3007ce3e"
      },
      "source": [
        "max_encoder_seq_length = max(len(line) for line in input_texts)\n",
        "max_decoder_seq_length = max(len(line) for line in target_texts)\n",
        "\n",
        "print('max length of input  sentences: %d' % (max_encoder_seq_length))\n",
        "print('max length of target sentences: %d' % (max_decoder_seq_length))"
      ],
      "execution_count": null,
      "outputs": [
        {
          "output_type": "stream",
          "text": [
            "max length of input  sentences: 21\n",
            "max length of target sentences: 102\n"
          ],
          "name": "stdout"
        }
      ]
    },
    {
      "cell_type": "markdown",
      "metadata": {
        "id": "hYw_CPXFsZe-"
      },
      "source": [
        "**Remark:** To this end, you have two lists of sentences: input_texts and target_texts"
      ]
    },
    {
      "cell_type": "markdown",
      "metadata": {
        "id": "ifhQa5vrsZe-"
      },
      "source": [
        "## 2. Text processing\n",
        "\n",
        "### 2.1. Convert texts to sequences\n",
        "\n",
        "- Input: A list of $n$ sentences (with max length $t$).\n",
        "- It is represented by a $n\\times t$ matrix after the tokenization and zero-padding."
      ]
    },
    {
      "cell_type": "code",
      "metadata": {
        "colab": {
          "base_uri": "https://localhost:8080/"
        },
        "id": "ruFjlfZksZe_",
        "outputId": "7736294e-7ae4-47de-d99a-cb540b7ddb6b"
      },
      "source": [
        "from keras.preprocessing.text import Tokenizer\n",
        "from keras.preprocessing.sequence import pad_sequences\n",
        "\n",
        "# encode and pad sequences\n",
        "def text2sequences(max_len, lines):\n",
        "    tokenizer = Tokenizer(char_level=True, filters='')\n",
        "    tokenizer.fit_on_texts(lines)\n",
        "    seqs = tokenizer.texts_to_sequences(lines)\n",
        "    seqs_pad = pad_sequences(seqs, maxlen=max_len, padding='post')\n",
        "    return seqs_pad, tokenizer.word_index\n",
        "\n",
        "\n",
        "encoder_input_seq, input_token_index = text2sequences(max_encoder_seq_length, \n",
        "                                                      input_texts)\n",
        "decoder_input_seq, target_token_index = text2sequences(max_decoder_seq_length, \n",
        "                                                       target_texts)\n",
        "\n",
        "print('shape of encoder_input_seq: ' + str(encoder_input_seq.shape))\n",
        "print('shape of input_token_index: ' + str(len(input_token_index)))\n",
        "print('shape of decoder_input_seq: ' + str(decoder_input_seq.shape))\n",
        "print('shape of target_token_index: ' + str(len(target_token_index)))"
      ],
      "execution_count": null,
      "outputs": [
        {
          "output_type": "stream",
          "text": [
            "shape of encoder_input_seq: (100000, 21)\n",
            "shape of input_token_index: 27\n",
            "shape of decoder_input_seq: (100000, 102)\n",
            "shape of target_token_index: 29\n"
          ],
          "name": "stdout"
        }
      ]
    },
    {
      "cell_type": "code",
      "metadata": {
        "colab": {
          "base_uri": "https://localhost:8080/"
        },
        "id": "zL3QlIHjsZe_",
        "outputId": "cdadc337-708f-45aa-c83c-d32b66a281f8"
      },
      "source": [
        "num_encoder_tokens = len(input_token_index) + 1\n",
        "num_decoder_tokens = len(target_token_index) + 1\n",
        "\n",
        "print('num_encoder_tokens: ' + str(num_encoder_tokens))\n",
        "print('num_decoder_tokens: ' + str(num_decoder_tokens))"
      ],
      "execution_count": null,
      "outputs": [
        {
          "output_type": "stream",
          "text": [
            "num_encoder_tokens: 28\n",
            "num_decoder_tokens: 30\n"
          ],
          "name": "stdout"
        }
      ]
    },
    {
      "cell_type": "markdown",
      "metadata": {
        "id": "HUIGfRTfsZfK"
      },
      "source": [
        "**Remark:** To this end, the input language and target language texts are converted to 2 matrices. \n",
        "\n",
        "- Their number of rows are both n_train.\n",
        "- Their number of columns are respective max_encoder_seq_length and max_decoder_seq_length."
      ]
    },
    {
      "cell_type": "markdown",
      "metadata": {
        "id": "_24f_4P4sZfL"
      },
      "source": [
        "The followings print a sentence and its representation as a sequence."
      ]
    },
    {
      "cell_type": "code",
      "metadata": {
        "colab": {
          "base_uri": "https://localhost:8080/",
          "height": 38
        },
        "id": "jwSTyiitsZfM",
        "outputId": "3255c119-c33a-4d51-f928-97aebc7deb9d"
      },
      "source": [
        "target_texts[100]"
      ],
      "execution_count": null,
      "outputs": [
        {
          "output_type": "execute_result",
          "data": {
            "application/vnd.google.colaboratory.intrinsic+json": {
              "type": "string"
            },
            "text/plain": [
              "'\\tglielo lasci fare\\n'"
            ]
          },
          "metadata": {
            "tags": []
          },
          "execution_count": 9
        }
      ]
    },
    {
      "cell_type": "code",
      "metadata": {
        "colab": {
          "base_uri": "https://localhost:8080/"
        },
        "id": "fHIg_CSEsZfM",
        "outputId": "8a0d74a0-6d46-4a0f-a9f8-1af496f3faab"
      },
      "source": [
        "decoder_input_seq[100, :]"
      ],
      "execution_count": null,
      "outputs": [
        {
          "output_type": "execute_result",
          "data": {
            "text/plain": [
              "array([ 8, 19, 12,  5,  4, 12,  2,  1, 12,  3, 10, 14,  5,  1, 22,  3, 11,\n",
              "        4,  9,  0,  0,  0,  0,  0,  0,  0,  0,  0,  0,  0,  0,  0,  0,  0,\n",
              "        0,  0,  0,  0,  0,  0,  0,  0,  0,  0,  0,  0,  0,  0,  0,  0,  0,\n",
              "        0,  0,  0,  0,  0,  0,  0,  0,  0,  0,  0,  0,  0,  0,  0,  0,  0,\n",
              "        0,  0,  0,  0,  0,  0,  0,  0,  0,  0,  0,  0,  0,  0,  0,  0,  0,\n",
              "        0,  0,  0,  0,  0,  0,  0,  0,  0,  0,  0,  0,  0,  0,  0,  0,  0],\n",
              "      dtype=int32)"
            ]
          },
          "metadata": {
            "tags": []
          },
          "execution_count": 10
        }
      ]
    },
    {
      "cell_type": "markdown",
      "metadata": {
        "id": "wvJHfvLKsZfN"
      },
      "source": [
        "## 2.2. One-hot encode\n",
        "\n",
        "- Input: A list of $n$ sentences (with max length $t$).\n",
        "- It is represented by a $n\\times t$ matrix after the tokenization and zero-padding.\n",
        "- It is represented by a $n\\times t \\times v$ tensor ($t$ is the number of unique chars) after the one-hot encoding."
      ]
    },
    {
      "cell_type": "code",
      "metadata": {
        "colab": {
          "base_uri": "https://localhost:8080/"
        },
        "id": "NWTb5uQMsZfN",
        "outputId": "81f15095-d8c1-40f9-8820-401edf613b48"
      },
      "source": [
        "from tensorflow.keras.utils import to_categorical\n",
        "\n",
        "# one hot encode target sequence\n",
        "def onehot_encode(sequences, max_len, vocab_size):\n",
        "    n = len(sequences)\n",
        "    data = numpy.zeros((n, max_len, vocab_size))\n",
        "    for i in range(n):\n",
        "        data[i, :, :] = to_categorical(sequences[i], num_classes=vocab_size)\n",
        "    return data\n",
        "\n",
        "encoder_input_data = onehot_encode(encoder_input_seq, max_encoder_seq_length, num_encoder_tokens)\n",
        "decoder_input_data = onehot_encode(decoder_input_seq, max_decoder_seq_length, num_decoder_tokens)\n",
        "\n",
        "decoder_target_seq = numpy.zeros(decoder_input_seq.shape)\n",
        "decoder_target_seq[:, 0:-1] = decoder_input_seq[:, 1:]\n",
        "decoder_target_data = onehot_encode(decoder_target_seq, \n",
        "                                    max_decoder_seq_length, \n",
        "                                    num_decoder_tokens)\n",
        "\n",
        "print(encoder_input_data.shape)\n",
        "print(decoder_input_data.shape)"
      ],
      "execution_count": null,
      "outputs": [
        {
          "output_type": "stream",
          "text": [
            "(100000, 21, 28)\n",
            "(100000, 102, 30)\n"
          ],
          "name": "stdout"
        }
      ]
    },
    {
      "cell_type": "markdown",
      "metadata": {
        "id": "9r6k3xQBsZfN"
      },
      "source": [
        "## 3. Build the networks (for training)\n",
        "\n",
        "- Build encoder, decoder, and connect the two modules to get \"model\". \n",
        "\n",
        "- Fit the model on the bilingual data to train the parameters in the encoder and decoder."
      ]
    },
    {
      "cell_type": "markdown",
      "metadata": {
        "id": "_lDGQnoRsZfN"
      },
      "source": [
        "### 3.1. Encoder network\n",
        "\n",
        "- Input:  one-hot encode of the input language\n",
        "\n",
        "- Return: \n",
        "\n",
        "    -- output (all the hidden states   $h_1, \\cdots , h_t$) are always discarded\n",
        "    \n",
        "    -- the final hidden state  $h_t$\n",
        "    \n",
        "    -- the final conveyor belt $c_t$"
      ]
    },
    {
      "cell_type": "code",
      "metadata": {
        "id": "FlpL-dkdsZfN"
      },
      "source": [
        "from keras.layers import Input, LSTM, Bidirectional, Concatenate\n",
        "from keras.models import Model\n",
        "\n",
        "latent_dim = 256\n",
        "\n",
        "# inputs of the encoder network\n",
        "encoder_inputs = Input(shape=(None, num_encoder_tokens), name='encoder_inputs')\n",
        "\n",
        "# set the bi-LSTM layer\n",
        "encoder_lstm = Bidirectional(LSTM(latent_dim, return_state=True, dropout=0.5, name='encoder_lstm'))\n",
        "\n",
        "_, forward_h, forward_c, backward_h, backward_c = encoder_lstm(encoder_inputs)\n",
        "\n",
        "state_h = Concatenate()([forward_h, backward_h])\n",
        "state_c = Concatenate()([forward_c, backward_c])\n",
        "\n",
        "# build the encoder network model\n",
        "encoder_model = Model(inputs=encoder_inputs, \n",
        "                      outputs=[state_h, state_c],\n",
        "                      name='encoder')"
      ],
      "execution_count": null,
      "outputs": []
    },
    {
      "cell_type": "markdown",
      "metadata": {
        "id": "92Yx_D-vsZfN"
      },
      "source": [
        "Print a summary and save the encoder network structure to \"./encoder.pdf\""
      ]
    },
    {
      "cell_type": "code",
      "metadata": {
        "colab": {
          "base_uri": "https://localhost:8080/"
        },
        "id": "i6VqrKfAsZfN",
        "outputId": "4eea00d6-0029-4fce-9c79-6e514d0e94f6"
      },
      "source": [
        "from IPython.display import SVG\n",
        "from keras.utils.vis_utils import model_to_dot, plot_model\n",
        "\n",
        "SVG(model_to_dot(encoder_model, show_shapes=False).create(prog='dot', format='svg'))\n",
        "\n",
        "plot_model(\n",
        "    model=encoder_model, show_shapes=False,\n",
        "    to_file='encoder.pdf'\n",
        ")\n",
        "\n",
        "encoder_model.summary()"
      ],
      "execution_count": null,
      "outputs": [
        {
          "output_type": "stream",
          "text": [
            "Model: \"encoder\"\n",
            "__________________________________________________________________________________________________\n",
            "Layer (type)                    Output Shape         Param #     Connected to                     \n",
            "==================================================================================================\n",
            "encoder_inputs (InputLayer)     [(None, None, 28)]   0                                            \n",
            "__________________________________________________________________________________________________\n",
            "bidirectional (Bidirectional)   [(None, 512), (None, 583680      encoder_inputs[0][0]             \n",
            "__________________________________________________________________________________________________\n",
            "concatenate (Concatenate)       (None, 512)          0           bidirectional[0][1]              \n",
            "                                                                 bidirectional[0][3]              \n",
            "__________________________________________________________________________________________________\n",
            "concatenate_1 (Concatenate)     (None, 512)          0           bidirectional[0][2]              \n",
            "                                                                 bidirectional[0][4]              \n",
            "==================================================================================================\n",
            "Total params: 583,680\n",
            "Trainable params: 583,680\n",
            "Non-trainable params: 0\n",
            "__________________________________________________________________________________________________\n"
          ],
          "name": "stdout"
        }
      ]
    },
    {
      "cell_type": "markdown",
      "metadata": {
        "id": "OiHb_0s_sZfO"
      },
      "source": [
        "### 3.2. Decoder network\n",
        "\n",
        "- Inputs:  \n",
        "\n",
        "    -- one-hot encode of the target language\n",
        "    \n",
        "    -- The initial hidden state $h_t$ \n",
        "    \n",
        "    -- The initial conveyor belt $c_t$ \n",
        "\n",
        "- Return: \n",
        "\n",
        "    -- output (all the hidden states) $h_1, \\cdots , h_t$\n",
        "\n",
        "    -- the final hidden state  $h_t$ (discarded in the training and used in the prediction)\n",
        "    \n",
        "    -- the final conveyor belt $c_t$ (discarded in the training and used in the prediction)"
      ]
    },
    {
      "cell_type": "code",
      "metadata": {
        "id": "Mt409pm3sZfP"
      },
      "source": [
        "from keras.layers import Input, LSTM, Dense\n",
        "from keras.models import Model\n",
        "\n",
        "# inputs of the decoder network\n",
        "decoder_input_h = Input(shape=(latent_dim*2,), name='decoder_input_h')\n",
        "decoder_input_c = Input(shape=(latent_dim*2,), name='decoder_input_c')\n",
        "decoder_input_x = Input(shape=(None, num_decoder_tokens), name='decoder_input_x')\n",
        "\n",
        "# set the LSTM layer\n",
        "decoder_lstm = LSTM(latent_dim*2, return_sequences=True, \n",
        "                    return_state=True, dropout=0.5, name='decoder_lstm')\n",
        "decoder_lstm_outputs, state_h, state_c = decoder_lstm(decoder_input_x, \n",
        "                                                      initial_state=[decoder_input_h, decoder_input_c])\n",
        "\n",
        "# set the dense layer\n",
        "decoder_dense = Dense(num_decoder_tokens, activation='softmax', name='decoder_dense')\n",
        "decoder_outputs = decoder_dense(decoder_lstm_outputs)\n",
        "\n",
        "# build the decoder network model\n",
        "decoder_model = Model(inputs=[decoder_input_x, decoder_input_h, decoder_input_c],\n",
        "                      outputs=[decoder_outputs, state_h, state_c],\n",
        "                      name='decoder')"
      ],
      "execution_count": null,
      "outputs": []
    },
    {
      "cell_type": "markdown",
      "metadata": {
        "id": "1F2DEOmpsZfP"
      },
      "source": [
        "Print a summary and save the encoder network structure to \"./decoder.pdf\""
      ]
    },
    {
      "cell_type": "code",
      "metadata": {
        "colab": {
          "base_uri": "https://localhost:8080/"
        },
        "id": "LSUCnkFmsZfP",
        "outputId": "38f92b72-f74b-401d-f4ae-6018a55ff1e1"
      },
      "source": [
        "from IPython.display import SVG\n",
        "from keras.utils.vis_utils import model_to_dot, plot_model\n",
        "\n",
        "SVG(model_to_dot(decoder_model, show_shapes=False).create(prog='dot', format='svg'))\n",
        "\n",
        "plot_model(\n",
        "    model=decoder_model, show_shapes=False,\n",
        "    to_file='decoder.pdf'\n",
        ")\n",
        "\n",
        "decoder_model.summary()"
      ],
      "execution_count": null,
      "outputs": [
        {
          "output_type": "stream",
          "text": [
            "Model: \"decoder\"\n",
            "__________________________________________________________________________________________________\n",
            "Layer (type)                    Output Shape         Param #     Connected to                     \n",
            "==================================================================================================\n",
            "decoder_input_x (InputLayer)    [(None, None, 30)]   0                                            \n",
            "__________________________________________________________________________________________________\n",
            "decoder_input_h (InputLayer)    [(None, 512)]        0                                            \n",
            "__________________________________________________________________________________________________\n",
            "decoder_input_c (InputLayer)    [(None, 512)]        0                                            \n",
            "__________________________________________________________________________________________________\n",
            "decoder_lstm (LSTM)             [(None, None, 512),  1112064     decoder_input_x[0][0]            \n",
            "                                                                 decoder_input_h[0][0]            \n",
            "                                                                 decoder_input_c[0][0]            \n",
            "__________________________________________________________________________________________________\n",
            "decoder_dense (Dense)           (None, None, 30)     15390       decoder_lstm[0][0]               \n",
            "==================================================================================================\n",
            "Total params: 1,127,454\n",
            "Trainable params: 1,127,454\n",
            "Non-trainable params: 0\n",
            "__________________________________________________________________________________________________\n"
          ],
          "name": "stdout"
        }
      ]
    },
    {
      "cell_type": "markdown",
      "metadata": {
        "id": "7P-pUnLmsZfP"
      },
      "source": [
        "### 3.3. Connect the encoder and decoder"
      ]
    },
    {
      "cell_type": "code",
      "metadata": {
        "id": "S32QsDgHsZfP"
      },
      "source": [
        "# input layers\n",
        "encoder_input_x = Input(shape=(None, num_encoder_tokens), name='encoder_input_x')\n",
        "decoder_input_x = Input(shape=(None, num_decoder_tokens), name='decoder_input_x')\n",
        "\n",
        "# connect encoder to decoder\n",
        "encoder_final_states = encoder_model([encoder_input_x])\n",
        "decoder_lstm_output, _, _ = decoder_lstm(decoder_input_x, initial_state=encoder_final_states)\n",
        "decoder_pred = decoder_dense(decoder_lstm_output)\n",
        "\n",
        "model = Model(inputs=[encoder_input_x, decoder_input_x], \n",
        "              outputs=decoder_pred, \n",
        "              name='model_training')"
      ],
      "execution_count": null,
      "outputs": []
    },
    {
      "cell_type": "code",
      "metadata": {
        "colab": {
          "base_uri": "https://localhost:8080/"
        },
        "id": "cDMABfN8sZfP",
        "outputId": "28fd0a80-245f-4f7f-dbd7-87667c51de37"
      },
      "source": [
        "print(state_h)\n",
        "print(decoder_input_h)"
      ],
      "execution_count": null,
      "outputs": [
        {
          "output_type": "stream",
          "text": [
            "KerasTensor(type_spec=TensorSpec(shape=(None, 512), dtype=tf.float32, name=None), name='decoder_lstm/PartitionedCall:2', description=\"created by layer 'decoder_lstm'\")\n",
            "KerasTensor(type_spec=TensorSpec(shape=(None, 512), dtype=tf.float32, name='decoder_input_h'), name='decoder_input_h', description=\"created by layer 'decoder_input_h'\")\n"
          ],
          "name": "stdout"
        }
      ]
    },
    {
      "cell_type": "code",
      "metadata": {
        "colab": {
          "base_uri": "https://localhost:8080/"
        },
        "id": "2GOFFlj3sZfQ",
        "outputId": "f4de7b6b-42e4-42aa-84ff-cdcd29f53c27"
      },
      "source": [
        "from IPython.display import SVG\n",
        "from keras.utils.vis_utils import model_to_dot, plot_model\n",
        "\n",
        "SVG(model_to_dot(model, show_shapes=False).create(prog='dot', format='svg'))\n",
        "\n",
        "plot_model(\n",
        "    model=model, show_shapes=False,\n",
        "    to_file='model_training.pdf'\n",
        ")\n",
        "\n",
        "model.summary()"
      ],
      "execution_count": null,
      "outputs": [
        {
          "output_type": "stream",
          "text": [
            "Model: \"model_training\"\n",
            "__________________________________________________________________________________________________\n",
            "Layer (type)                    Output Shape         Param #     Connected to                     \n",
            "==================================================================================================\n",
            "encoder_input_x (InputLayer)    [(None, None, 28)]   0                                            \n",
            "__________________________________________________________________________________________________\n",
            "decoder_input_x (InputLayer)    [(None, None, 30)]   0                                            \n",
            "__________________________________________________________________________________________________\n",
            "encoder (Functional)            [(None, 512), (None, 583680      encoder_input_x[0][0]            \n",
            "__________________________________________________________________________________________________\n",
            "decoder_lstm (LSTM)             [(None, None, 512),  1112064     decoder_input_x[0][0]            \n",
            "                                                                 encoder[0][0]                    \n",
            "                                                                 encoder[0][1]                    \n",
            "__________________________________________________________________________________________________\n",
            "decoder_dense (Dense)           (None, None, 30)     15390       decoder_lstm[1][0]               \n",
            "==================================================================================================\n",
            "Total params: 1,711,134\n",
            "Trainable params: 1,711,134\n",
            "Non-trainable params: 0\n",
            "__________________________________________________________________________________________________\n"
          ],
          "name": "stdout"
        }
      ]
    },
    {
      "cell_type": "markdown",
      "metadata": {
        "id": "98-Tt2SqsZfQ"
      },
      "source": [
        "### 3.5. Fit the model on the bilingual dataset\n",
        "\n",
        "- encoder_input_data: one-hot encode of the input language\n",
        "\n",
        "- decoder_input_data: one-hot encode of the input language\n",
        "\n",
        "- decoder_target_data: labels (left shift of decoder_input_data)\n",
        "\n",
        "- tune the hyper-parameters\n",
        "\n",
        "- stop when the validation loss stop decreasing."
      ]
    },
    {
      "cell_type": "code",
      "metadata": {
        "colab": {
          "base_uri": "https://localhost:8080/"
        },
        "id": "cCtxgcuqsZfQ",
        "outputId": "d24ca67d-c0a9-4566-f208-b0dae854b6a3"
      },
      "source": [
        "print('shape of encoder_input_data' + str(encoder_input_data.shape))\n",
        "print('shape of decoder_input_data' + str(decoder_input_data.shape))\n",
        "print('shape of decoder_target_data' + str(decoder_target_data.shape))"
      ],
      "execution_count": null,
      "outputs": [
        {
          "output_type": "stream",
          "text": [
            "shape of encoder_input_data(100000, 21, 28)\n",
            "shape of decoder_input_data(100000, 102, 30)\n",
            "shape of decoder_target_data(100000, 102, 30)\n"
          ],
          "name": "stdout"
        }
      ]
    },
    {
      "cell_type": "code",
      "metadata": {
        "colab": {
          "base_uri": "https://localhost:8080/"
        },
        "id": "G6dbRR2OsZfQ",
        "outputId": "761c0f27-cd1e-4681-91a2-fb97e8e15a56"
      },
      "source": [
        "model.compile(optimizer='rmsprop', loss='categorical_crossentropy')\n",
        "\n",
        "my_epochs = 50 # 50 was the given number\n",
        "\n",
        "model.fit([encoder_input_data, decoder_input_data],  # training data\n",
        "          decoder_target_data,                       # labels (left shift of the target sequences)\n",
        "          batch_size=64, epochs=my_epochs, validation_split=0.2)\n",
        "\n",
        "model.save('seq2seq.h5')"
      ],
      "execution_count": null,
      "outputs": [
        {
          "output_type": "stream",
          "text": [
            "Epoch 1/50\n",
            "1250/1250 [==============================] - 52s 33ms/step - loss: 0.5955 - val_loss: 0.3251\n",
            "Epoch 2/50\n",
            "1250/1250 [==============================] - 38s 30ms/step - loss: 0.3947 - val_loss: 0.2726\n",
            "Epoch 3/50\n",
            "1250/1250 [==============================] - 38s 31ms/step - loss: 0.3586 - val_loss: 0.2408\n",
            "Epoch 4/50\n",
            "1250/1250 [==============================] - 38s 30ms/step - loss: 0.3368 - val_loss: 0.2229\n",
            "Epoch 5/50\n",
            "1250/1250 [==============================] - 38s 30ms/step - loss: 0.3202 - val_loss: 0.2096\n",
            "Epoch 6/50\n",
            "1250/1250 [==============================] - 38s 30ms/step - loss: 0.3076 - val_loss: 0.1985\n",
            "Epoch 7/50\n",
            "1250/1250 [==============================] - 38s 30ms/step - loss: 0.2992 - val_loss: 0.1898\n",
            "Epoch 8/50\n",
            "1250/1250 [==============================] - 38s 31ms/step - loss: 0.2900 - val_loss: 0.1841\n",
            "Epoch 9/50\n",
            "1250/1250 [==============================] - 39s 31ms/step - loss: 0.2840 - val_loss: 0.1781\n",
            "Epoch 10/50\n",
            "1250/1250 [==============================] - 38s 31ms/step - loss: 0.2777 - val_loss: 0.1729\n",
            "Epoch 11/50\n",
            "1250/1250 [==============================] - 38s 31ms/step - loss: 0.2725 - val_loss: 0.1684\n",
            "Epoch 12/50\n",
            "1250/1250 [==============================] - 39s 31ms/step - loss: 0.2658 - val_loss: 0.1648\n",
            "Epoch 13/50\n",
            "1250/1250 [==============================] - 38s 31ms/step - loss: 0.2629 - val_loss: 0.1615\n",
            "Epoch 14/50\n",
            "1250/1250 [==============================] - 39s 31ms/step - loss: 0.2596 - val_loss: 0.1581\n",
            "Epoch 15/50\n",
            "1250/1250 [==============================] - 38s 31ms/step - loss: 0.2558 - val_loss: 0.1555\n",
            "Epoch 16/50\n",
            "1250/1250 [==============================] - 38s 31ms/step - loss: 0.2531 - val_loss: 0.1523\n",
            "Epoch 17/50\n",
            "1250/1250 [==============================] - 38s 31ms/step - loss: 0.2498 - val_loss: 0.1499\n",
            "Epoch 18/50\n",
            "1250/1250 [==============================] - 38s 30ms/step - loss: 0.2471 - val_loss: 0.1482\n",
            "Epoch 19/50\n",
            "1250/1250 [==============================] - 38s 30ms/step - loss: 0.2449 - val_loss: 0.1460\n",
            "Epoch 20/50\n",
            "1250/1250 [==============================] - 38s 30ms/step - loss: 0.2418 - val_loss: 0.1441\n",
            "Epoch 21/50\n",
            "1250/1250 [==============================] - 38s 30ms/step - loss: 0.2386 - val_loss: 0.1422\n",
            "Epoch 22/50\n",
            "1250/1250 [==============================] - 38s 30ms/step - loss: 0.2378 - val_loss: 0.1410\n",
            "Epoch 23/50\n",
            "1250/1250 [==============================] - 38s 30ms/step - loss: 0.2350 - val_loss: 0.1383\n",
            "Epoch 24/50\n",
            "1250/1250 [==============================] - 38s 30ms/step - loss: 0.2328 - val_loss: 0.1378\n",
            "Epoch 25/50\n",
            "1250/1250 [==============================] - 39s 31ms/step - loss: 0.2296 - val_loss: 0.1361\n",
            "Epoch 26/50\n",
            "1250/1250 [==============================] - 38s 31ms/step - loss: 0.2289 - val_loss: 0.1348\n",
            "Epoch 27/50\n",
            "1250/1250 [==============================] - 38s 31ms/step - loss: 0.2275 - val_loss: 0.1335\n",
            "Epoch 28/50\n",
            "1250/1250 [==============================] - 38s 30ms/step - loss: 0.2260 - val_loss: 0.1324\n",
            "Epoch 29/50\n",
            "1250/1250 [==============================] - 39s 31ms/step - loss: 0.2244 - val_loss: 0.1311\n",
            "Epoch 30/50\n",
            "1250/1250 [==============================] - 38s 31ms/step - loss: 0.2225 - val_loss: 0.1304\n",
            "Epoch 31/50\n",
            "1250/1250 [==============================] - 38s 30ms/step - loss: 0.2209 - val_loss: 0.1290\n",
            "Epoch 32/50\n",
            "1250/1250 [==============================] - 38s 31ms/step - loss: 0.2193 - val_loss: 0.1283\n",
            "Epoch 33/50\n",
            "1250/1250 [==============================] - 38s 31ms/step - loss: 0.2185 - val_loss: 0.1267\n",
            "Epoch 34/50\n",
            "1250/1250 [==============================] - 38s 31ms/step - loss: 0.2183 - val_loss: 0.1269\n",
            "Epoch 35/50\n",
            "1250/1250 [==============================] - 38s 30ms/step - loss: 0.2151 - val_loss: 0.1252\n",
            "Epoch 36/50\n",
            "1250/1250 [==============================] - 38s 31ms/step - loss: 0.2144 - val_loss: 0.1300\n",
            "Epoch 37/50\n",
            "1250/1250 [==============================] - 38s 31ms/step - loss: 0.2142 - val_loss: 0.1236\n",
            "Epoch 38/50\n",
            "1250/1250 [==============================] - 38s 31ms/step - loss: 0.2132 - val_loss: 0.1231\n",
            "Epoch 39/50\n",
            "1250/1250 [==============================] - 38s 31ms/step - loss: 0.2117 - val_loss: 0.1217\n",
            "Epoch 40/50\n",
            "1250/1250 [==============================] - 38s 30ms/step - loss: 0.2102 - val_loss: 0.1207\n",
            "Epoch 41/50\n",
            "1250/1250 [==============================] - 38s 30ms/step - loss: 0.2098 - val_loss: 0.1202\n",
            "Epoch 42/50\n",
            "1250/1250 [==============================] - 38s 31ms/step - loss: 0.2081 - val_loss: 0.1209\n",
            "Epoch 43/50\n",
            "1250/1250 [==============================] - 38s 31ms/step - loss: 0.2069 - val_loss: 0.1190\n",
            "Epoch 44/50\n",
            "1250/1250 [==============================] - 38s 31ms/step - loss: 0.2067 - val_loss: 0.1191\n",
            "Epoch 45/50\n",
            "1250/1250 [==============================] - 39s 31ms/step - loss: 0.2056 - val_loss: 0.1184\n",
            "Epoch 46/50\n",
            "1250/1250 [==============================] - 38s 31ms/step - loss: 0.2044 - val_loss: 0.1175\n",
            "Epoch 47/50\n",
            "1250/1250 [==============================] - 38s 31ms/step - loss: 0.2032 - val_loss: 0.1170\n",
            "Epoch 48/50\n",
            "1250/1250 [==============================] - 38s 31ms/step - loss: 0.2029 - val_loss: 0.1164\n",
            "Epoch 49/50\n",
            "1250/1250 [==============================] - 38s 31ms/step - loss: 0.2020 - val_loss: 0.1160\n",
            "Epoch 50/50\n",
            "1250/1250 [==============================] - 38s 31ms/step - loss: 0.2009 - val_loss: 0.1149\n"
          ],
          "name": "stdout"
        }
      ]
    },
    {
      "cell_type": "markdown",
      "metadata": {
        "id": "gK7o5bHmsZfQ"
      },
      "source": [
        "## 4. Make predictions\n",
        "\n",
        "\n",
        "### 4.1. Translate English to Italian\n",
        "\n",
        "1. Encoder read a sentence (source language) and output its final states, $h_t$ and $c_t$.\n",
        "2. Take the [star] sign \"\\t\" and the final state $h_t$ and $c_t$ as input and run the decoder.\n",
        "3. Get the new states and predicted probability distribution.\n",
        "4. sample a char from the predicted probability distribution\n",
        "5. take the sampled char and the new states as input and repeat the process (stop if reach the [stop] sign \"\\n\")."
      ]
    },
    {
      "cell_type": "code",
      "metadata": {
        "id": "Nu0Cey12sZfR"
      },
      "source": [
        "# Reverse-lookup token index to decode sequences back to something readable.\n",
        "reverse_input_char_index = dict((i, char) for char, i in input_token_index.items())\n",
        "reverse_target_char_index = dict((i, char) for char, i in target_token_index.items())"
      ],
      "execution_count": null,
      "outputs": []
    },
    {
      "cell_type": "code",
      "metadata": {
        "id": "V_YcUpJBsZfR"
      },
      "source": [
        "def decode_sequence(input_seq):\n",
        "    states_value = encoder_model.predict(input_seq)\n",
        "\n",
        "    target_seq = numpy.zeros((1, 1, num_decoder_tokens))\n",
        "    target_seq[0, 0, target_token_index['\\t']] = 1.\n",
        "\n",
        "    stop_condition = False\n",
        "    decoded_sentence = ''\n",
        "    while not stop_condition:\n",
        "        output_tokens, h, c = decoder_model.predict([target_seq] + states_value)\n",
        "\n",
        "        # this line of code is greedy selection\n",
        "        # try to use multinomial sampling instead (with temperature)\n",
        "        sampled_token_index = numpy.argmax(output_tokens[0, -1, :])\n",
        "        \n",
        "        sampled_char = reverse_target_char_index[sampled_token_index]\n",
        "        decoded_sentence += sampled_char\n",
        "\n",
        "        if (sampled_char == '\\n' or\n",
        "           len(decoded_sentence) > max_decoder_seq_length):\n",
        "            stop_condition = True\n",
        "\n",
        "        target_seq = numpy.zeros((1, 1, num_decoder_tokens))\n",
        "        target_seq[0, 0, sampled_token_index] = 1.\n",
        "\n",
        "        states_value = [h, c]\n",
        "\n",
        "    return decoded_sentence\n"
      ],
      "execution_count": null,
      "outputs": []
    },
    {
      "cell_type": "code",
      "metadata": {
        "colab": {
          "base_uri": "https://localhost:8080/"
        },
        "id": "79CvN_fdsZfR",
        "outputId": "b9f2ee33-58e0-4586-acd8-10ff592dc473"
      },
      "source": [
        "for seq_index in range(2100, 2120):\n",
        "    # Take one sequence (part of the training set)\n",
        "    # for trying out decoding.\n",
        "    input_seq = encoder_input_data[seq_index: seq_index + 1]\n",
        "    decoded_sentence = decode_sequence(input_seq)\n",
        "    print('-')\n",
        "    print('English:       ', input_texts[seq_index])\n",
        "    print('Italian (true): ', target_texts[seq_index][1:-1])\n",
        "    print('Italian (pred): ', decoded_sentence[0:-1])\n"
      ],
      "execution_count": null,
      "outputs": [
        {
          "output_type": "stream",
          "text": [
            "-\n",
            "English:        you cant swim\n",
            "Italian (true):  voi non potete nuotare\n",
            "Italian (pred):  non puoi nuotare\n",
            "-\n",
            "English:        its very hot today\n",
            "Italian (true):  oggi ce molto caldo\n",
            "Italian (pred):  e molto difficile\n",
            "-\n",
            "English:        he kept on singing\n",
            "Italian (true):  lui continuo a cantare\n",
            "Italian (pred):  lui continuo a cantare\n",
            "-\n",
            "English:        we all suffered\n",
            "Italian (true):  abbiamo sofferto tutte\n",
            "Italian (pred):  combiamo tutti dei capi\n",
            "-\n",
            "English:        its not important\n",
            "Italian (true):  non importa\n",
            "Italian (pred):  non e importante\n",
            "-\n",
            "English:        theyre twins\n",
            "Italian (true):  loro sono gemelle\n",
            "Italian (pred):  sono vinti\n",
            "-\n",
            "English:        tom was very proud\n",
            "Italian (true):  tom era molto fiero\n",
            "Italian (pred):  tom era molto fiera\n",
            "-\n",
            "English:        i will never see him\n",
            "Italian (true):  io non lo vedro mai\n",
            "Italian (pred):  io non ve lascero mai\n",
            "-\n",
            "English:        youre badly hurt\n",
            "Italian (true):  siete gravemente ferite\n",
            "Italian (pred):  sei davvero fortunata\n",
            "-\n",
            "English:        youre ridiculous\n",
            "Italian (true):  siete ridicole\n",
            "Italian (pred):  e diversa dalle altri\n",
            "-\n",
            "English:        tom arrived late\n",
            "Italian (true):  tom arrivo in ritardo\n",
            "Italian (pred):  tom arrivo in ritardo\n",
            "-\n",
            "English:        the pond is frozen\n",
            "Italian (true):  lo stagno e ghiacciato\n",
            "Italian (pred):  il piano e prenarato\n",
            "-\n",
            "English:        how about friday\n",
            "Italian (true):  che ne dici di venerdi\n",
            "Italian (pred):  che ne dice di un cane\n",
            "-\n",
            "English:        he sat on the bed\n",
            "Italian (true):  era seduto sul letto\n",
            "Italian (pred):  lui e andato la borsa\n",
            "-\n",
            "English:        ill wait up for you\n",
            "Italian (true):  vi aspettero\n",
            "Italian (pred):  io aspettero\n",
            "-\n",
            "English:        youre not needed\n",
            "Italian (true):  non siete richieste\n",
            "Italian (pred):  non sei sidonzata\n",
            "-\n",
            "English:        i think youre ready\n",
            "Italian (true):  io penso che siate pronte\n",
            "Italian (pred):  penso che voi siate pronte\n",
            "-\n",
            "English:        do you like studying\n",
            "Italian (true):  vi piace studiare\n",
            "Italian (pred):  a te piace studiare\n",
            "-\n",
            "English:        i miss you\n",
            "Italian (true):  a me manchi\n",
            "Italian (pred):  mi manchi\n",
            "-\n",
            "English:        you have until\n",
            "Italian (true):  voi avete fino alle due e mezza\n",
            "Italian (pred):  hai dei bigli\n"
          ],
          "name": "stdout"
        }
      ]
    },
    {
      "cell_type": "markdown",
      "metadata": {
        "id": "xDq4QWNOsZfR"
      },
      "source": [
        "### 4.2. Translate an English sentence to the target language\n",
        "\n",
        "1. Tokenization\n",
        "2. One-hot encode\n",
        "3. Translate"
      ]
    },
    {
      "cell_type": "code",
      "metadata": {
        "colab": {
          "base_uri": "https://localhost:8080/"
        },
        "id": "AdHj1oRhsZfR",
        "outputId": "a1f7ecff-0948-4435-e792-37d21b99835a"
      },
      "source": [
        "input_sentence = 'I love you'\n",
        "\n",
        "input_sequence, input_index = text2sequences( len(input_sentence) , [input_sentence] )\n",
        "\n",
        "input_x = onehot_encode(input_sequence, len(input_sentence), num_encoder_tokens)\n",
        "\n",
        "translated_sentence = decode_sequence(input_x)\n",
        "\n",
        "print('source sentence is: ' + input_sentence)\n",
        "print('translated sentence is: ' + translated_sentence)"
      ],
      "execution_count": null,
      "outputs": [
        {
          "output_type": "stream",
          "text": [
            "source sentence is: I love you\n",
            "translated sentence is: io ho intenziono di un po di lenta\n",
            "\n"
          ],
          "name": "stdout"
        }
      ]
    },
    {
      "cell_type": "markdown",
      "metadata": {
        "id": "AbjOI07FsZfR"
      },
      "source": [
        "## 5. Evaluate the translation using BLEU score\n",
        "\n",
        "Reference: \n",
        "- https://machinelearningmastery.com/calculate-bleu-score-for-text-python/\n",
        "- https://en.wikipedia.org/wiki/BLEU\n",
        "\n",
        "\n",
        "**Hint:** \n",
        "\n",
        "- Randomly partition the dataset to training, validation, and test. \n",
        "\n",
        "- Evaluate the BLEU score using the test set. Report the average.\n",
        "\n",
        "- A reasonable BLEU score should be 0.1 ~ 0.5."
      ]
    },
    {
      "cell_type": "markdown",
      "metadata": {
        "id": "2Mio9D2qYtpg"
      },
      "source": [
        "## Load in testing data\n",
        "We need to convert testing data into the same sequences and format that the training data used."
      ]
    },
    {
      "cell_type": "code",
      "metadata": {
        "colab": {
          "base_uri": "https://localhost:8080/"
        },
        "id": "IcrOavx3sZfS",
        "outputId": "f8de29ae-aee5-41a4-93b9-20d5de48be47"
      },
      "source": [
        "# References hold the correct translations\n",
        "# Candidates hold our estimates\n",
        "testing_begin = n_train\n",
        "\n",
        "# Create the testing data we will be using\n",
        "clean_testing = cleaned_data[testing_begin:, :]\n",
        "test_input = clean_testing[:, 0]\n",
        "test_target = ['\\t' + text + '\\n' for text in clean_testing[:, 1]]\n",
        "\n",
        "test_encoder_seq_length = max(len(line) for line in test_input)\n",
        "\n",
        "test_input_seq, input_token_index = text2sequences(test_encoder_seq_length, test_input)\n",
        "# Use the same number of encoding tokens as the training data\n",
        "test_encoder_input = onehot_encode( test_input_seq, test_encoder_seq_length, num_encoder_tokens )\n",
        "\n",
        "print( \"Our testing data has a max length of {} with an input shape of {}\".format(\n",
        "    test_encoder_seq_length,\n",
        "    test_encoder_input.shape\n",
        "))"
      ],
      "execution_count": null,
      "outputs": [
        {
          "output_type": "stream",
          "text": [
            "Our testing data has a max length of 21 with an input shape of (8000, 21, 28)\n"
          ],
          "name": "stdout"
        }
      ]
    },
    {
      "cell_type": "markdown",
      "metadata": {
        "id": "Ca5bvdJOBUIP"
      },
      "source": [
        "## Run predictions\n",
        "\n",
        "Evaluate the model on each value in the testing set. After that we will evaluate the BLEU score on those predictions.\n",
        "\n",
        "This cell adds in a loading bar since calculating all the predictions was taking a long time. The loading bar was taken from the [tqdm library](https://github.com/tqdm/tqdm#usage)\n"
      ]
    },
    {
      "cell_type": "code",
      "metadata": {
        "colab": {
          "base_uri": "https://localhost:8080/"
        },
        "id": "5Dtb01phFlmh",
        "outputId": "b6d3f9a5-4535-447c-b8bc-93b7cce33cbe"
      },
      "source": [
        "!pip install tqdm"
      ],
      "execution_count": null,
      "outputs": [
        {
          "output_type": "stream",
          "text": [
            "Requirement already satisfied: tqdm in /usr/local/lib/python3.7/dist-packages (4.41.1)\n"
          ],
          "name": "stdout"
        }
      ]
    },
    {
      "cell_type": "code",
      "metadata": {
        "colab": {
          "base_uri": "https://localhost:8080/"
        },
        "id": "Ob3KFBVbsZfS",
        "outputId": "3a64a880-08ab-42df-a6ad-79330c16c876"
      },
      "source": [
        "from tqdm import tqdm\n",
        "\n",
        "total_testing_length = test_encoder_input.shape[0]\n",
        "\n",
        "# Open a progress bar\n",
        "progress_bar = tqdm(total=total_testing_length, position=0, leave=True)\n",
        "    \n",
        "\n",
        "\n",
        "def create_bleu_data(index):\n",
        "    # returns a tuple reference, candidate\n",
        "    input_seq = test_encoder_input[index: index + 1]\n",
        "    decoded_sentence = ''\n",
        "    '''\n",
        "    It is possible that we see a never before seen unicode character\n",
        "    In that case it's easiest to forego a translation, and simply return\n",
        "    an empty sentence.\n",
        "    '''\n",
        "    try:\n",
        "      decoded_sentence = decode_sequence(input_seq)\n",
        "    except KeyError:\n",
        "      pass\n",
        "    progress_bar.update(1)\n",
        "    return test_target[index][1:-1].split(' '), decoded_sentence[0:-1].split(' ')\n",
        "\n",
        "zipped_ref_cand = list( map( create_bleu_data, list(range(0,total_testing_length)) ) )\n",
        "\n",
        "progress_bar.close()"
      ],
      "execution_count": 40,
      "outputs": [
        {
          "output_type": "stream",
          "text": [
            "100%|██████████| 8000/8000 [1:57:42<00:00,  1.18it/s]\n",
            "\u001b[A\n",
            "\n",
            "\u001b[A\u001b[A\n",
            "\n",
            "\n",
            "100%|██████████| 8000/8000 [1:57:43<00:00,  1.13it/s]\n"
          ],
          "name": "stderr"
        }
      ]
    },
    {
      "cell_type": "code",
      "metadata": {
        "id": "xtU0O7mf8x4L",
        "colab": {
          "base_uri": "https://localhost:8080/"
        },
        "outputId": "196a52a9-3766-44fc-bc09-fa188747378a"
      },
      "source": [
        "\n",
        "references, candidates = zip(*zipped_ref_cand)\n",
        " \n",
        "\n",
        "\n",
        "for index in range(0, 5):\n",
        "    print(\"-\\n\\tReference: {}\\n\\tCandidate: {}\\n\".format(references[index], candidates[index]) )"
      ],
      "execution_count": 41,
      "outputs": [
        {
          "output_type": "stream",
          "text": [
            "-\n",
            "\tReference: ['tom', 'non', 'e', 'come', 'noi']\n",
            "\tCandidate: ['tom', 'non', 'e', 'arrabbiato', 'con', 'lei']\n",
            "\n",
            "-\n",
            "\tReference: ['io', 'devo', 'convincere', 'tom']\n",
            "\tCandidate: ['devo', 'continuare', 'tom']\n",
            "\n",
            "-\n",
            "\tReference: ['io', 'lo', 'comprerei']\n",
            "\tCandidate: ['lo', 'comprero']\n",
            "\n",
            "-\n",
            "\tReference: ['voi', 'eravate', 'impegnati']\n",
            "\tCandidate: ['eri', 'impegnata']\n",
            "\n",
            "-\n",
            "\tReference: ['e', 'troppo', 'dolorosa']\n",
            "\tCandidate: ['e', 'troppo', 'difficile']\n",
            "\n"
          ],
          "name": "stdout"
        }
      ]
    },
    {
      "cell_type": "markdown",
      "metadata": {
        "id": "fVPIY_7fZzvm"
      },
      "source": [
        "## BLEU Score\n",
        "\n",
        "Once we have all the predictions we evaluate our BLEU score using the nltk library."
      ]
    },
    {
      "cell_type": "code",
      "metadata": {
        "id": "xwp-NgqKsZfS",
        "colab": {
          "base_uri": "https://localhost:8080/"
        },
        "outputId": "b96b64f6-3a48-40af-b1b3-b0a63fe94197"
      },
      "source": [
        "# Calculate the BLEU score\n",
        "from nltk.translate.bleu_score import corpus_bleu\n",
        "score = corpus_bleu(references, candidates, weights=(1, 0, 0, 0))\n",
        "print( \"Our recieved BLEU score is {}\".format(score))"
      ],
      "execution_count": 42,
      "outputs": [
        {
          "output_type": "stream",
          "text": [
            "Our recieved BLEU score is 0.06184449615862795\n"
          ],
          "name": "stdout"
        },
        {
          "output_type": "stream",
          "text": [
            "/usr/local/lib/python3.7/dist-packages/nltk/translate/bleu_score.py:490: UserWarning: \n",
            "Corpus/Sentence contains 0 counts of 2-gram overlaps.\n",
            "BLEU scores might be undesirable; use SmoothingFunction().\n",
            "  warnings.warn(_msg)\n"
          ],
          "name": "stderr"
        }
      ]
    },
    {
      "source": [
        "# Conclusion\n",
        "\n",
        "The translator has issues with handling the gender of Italian words as well as correct tensing. It often seems to just choose wrong words in entirety.\n",
        "All that given, the BLEU score is definitely lower than I imagined it being.\n",
        "If given a second chance to create this translator, implementing **Attention** would give the greatest increase in accuracy. Additionally the `decode_sequence` is not well optimized to predict outputs for an entire dataset of input, which results in an incredibly slow calculation of the BLEU score. Setting up a new avenue for model.predict to act on a Keras Sequence, as well as implementing Attention, would greatly improve everything about this model.\n"
      ],
      "cell_type": "markdown",
      "metadata": {
        "id": "4pWeJKLVsZfS"
      }
    }
  ]
}